{
 "cells": [
  {
   "cell_type": "markdown",
   "metadata": {},
   "source": [
    "<h1>Speed Dating: Who to Date Long Term</h1>"
   ]
  },
  {
   "cell_type": "markdown",
   "metadata": {},
   "source": [
    "What influences love at first sight? (Or, at least, love in the first four minutes?) This dataset was compiled by Columbia Business School professors Ray Fisman and Sheena Iyengar for their paper Gender Differences in Mate Selection: Evidence From a Speed Dating Experiment.<br>\n",
    "\n",
    "Data was gathered from participants in experimental speed dating events from 2002-2004. During the events, the attendees would have a four minute \"first date\" with every other participant of the opposite sex. At the end of their four minutes, participants were asked if they would like to see their date again. They were also asked to rate their date on six attributes: Attractiveness, Sincerity, Intelligence, Fun, Ambition, and Shared Interests.<br>\n",
    "\n",
    "The dataset also includes questionnaire data gathered from participants at different points in the process. These fields include: demographics, dating habits, self-perception across key attributes, beliefs on what others find valuable in a mate, and lifestyle information. See the Speed Dating Data Key document below for details.<br>\n",
    "\n",
    "For more analysis from Iyengar and Fisman, read Racial Preferences in Dating.<br>\n",
    "\n",
    "Data Exploration Ideas<br>\n",
    "\n",
    "What are the least desirable attributes in a male partner? Does this differ for female partners?<br>\n",
    "How important do people think attractiveness is in potential mate selection vs. its real impact?<br>\n",
    "Are shared interests more important than a shared racial background?<br>\n",
    "Can people accurately predict their own perceived value in the dating market?<br>\n",
    "In terms of getting a second date, is it better to be someone's first speed date of the night or their last?"
   ]
  },
  {
   "cell_type": "code",
   "execution_count": 1,
   "metadata": {
    "collapsed": false
   },
   "outputs": [
    {
     "name": "stdout",
     "output_type": "stream",
     "text": [
      "pandas version is 0.18.0.\n",
      "numpy version is 1.10.4.\n",
      "scikit-learn version is 0.17.1.\n"
     ]
    }
   ],
   "source": [
    "import pandas as pd\n",
    "import numpy as np\n",
    "import sklearn\n",
    "from IPython.display import display\n",
    "%matplotlib inline\n",
    "\n",
    "print('pandas version is {}.'.format(pd.__version__))\n",
    "print('numpy version is {}.'.format(np.__version__))\n",
    "print('scikit-learn version is {}.'.format(sklearn.__version__))"
   ]
  },
  {
   "cell_type": "code",
   "execution_count": 2,
   "metadata": {
    "collapsed": false
   },
   "outputs": [
    {
     "name": "stdout",
     "output_type": "stream",
     "text": [
      "This set has 8378 data points and 195 features.\n"
     ]
    }
   ],
   "source": [
    "data = pd.read_csv(\"Speed Dating Data.csv\")\n",
    "print \"This set has {} data points and {} features.\".format(*data.shape)"
   ]
  },
  {
   "cell_type": "markdown",
   "metadata": {},
   "source": [
    "<h6>Initialize features to explore what Women and Men look for in a partner.</h6>"
   ]
  },
  {
   "cell_type": "code",
   "execution_count": 3,
   "metadata": {
    "collapsed": false
   },
   "outputs": [],
   "source": [
    "features = [\"attr1_\", \"sinc1_\", \"intel1_\", \"fun1_\", \"amb1_\", \"shar1_\"]#general feature set will append number at end\n",
    "of_the_day = [j + str(i) for i in range(1,2) for j in features]#feature set for desired traits at start of event waves 1 - 5 & waves 10 - 21\n",
    "half_way = [j + 's' for j in features]#feature set for desired traits half way through event waves 6 - 9\n",
    "a_day_after = [j + str(i) for i in range(2,3) for j in features]#feature set for desired traits day after the event\n",
    "three_weeks_after = [j + str(i) for i in range(3,4) for j in features]#feature set for desired traits 3 - 4 weeks after the event\n",
    "you_looking_for = ['iid', 'wave', 'gender']#exploratory features\n",
    "listing_of_features = [of_the_day, half_way, a_day_after, three_weeks_after]\n",
    "for i in listing_of_features:\n",
    "    for j in i:\n",
    "        you_looking_for.append(j)"
   ]
  },
  {
   "cell_type": "code",
   "execution_count": 4,
   "metadata": {
    "collapsed": false
   },
   "outputs": [],
   "source": [
    "stuff = pd.DataFrame(data = data, columns = you_looking_for)\n",
    "unique_iid = stuff.copy()\n",
    "unique_iid.drop_duplicates(keep = 'first', inplace = True)\n",
    "self_perception_of_the_day_starting = pd.DataFrame(data = unique_iid, columns = you_looking_for[0:9])"
   ]
  },
  {
   "cell_type": "markdown",
   "metadata": {},
   "source": [
    "<h6>This block looks at what both Women and Men look for in an ideal partner at the beginning of the event. Statistics include both genders.</h6>"
   ]
  },
  {
   "cell_type": "code",
   "execution_count": 5,
   "metadata": {
    "collapsed": false
   },
   "outputs": [],
   "source": [
    "waves_men_women = self_perception_of_the_day_starting.copy()\n",
    "waves_men_women.fillna(value = 0, inplace = True)\n",
    "new_waves_men_women = waves_men_women.drop(['iid', 'wave', 'gender'], axis = 1)\n",
    "#new_waves_men_women.describe()"
   ]
  },
  {
   "cell_type": "markdown",
   "metadata": {},
   "source": [
    "<h6>This block looks at what Women look for in an ideal partner at the beginning of the event.</h6>"
   ]
  },
  {
   "cell_type": "code",
   "execution_count": 6,
   "metadata": {
    "collapsed": false
   },
   "outputs": [],
   "source": [
    "#women_at_start = waves_men_women[waves_men_women['gender'] == 0]\n",
    "women_at_start = waves_men_women.copy()\n",
    "women_at_start = women_at_start[women_at_start['gender'] == 0]\n",
    "women_at_start.drop(['iid', 'wave', 'gender'], axis = 1, inplace = True)\n",
    "#women_at_start.describe()"
   ]
  },
  {
   "cell_type": "markdown",
   "metadata": {},
   "source": [
    "<h6>This block looks at what Men look for in an ideal partner at the beginning of the event.</h6>"
   ]
  },
  {
   "cell_type": "code",
   "execution_count": 7,
   "metadata": {
    "collapsed": false
   },
   "outputs": [],
   "source": [
    "men_at_start = waves_men_women.copy()\n",
    "men_at_start = men_at_start[men_at_start['gender'] == 1]\n",
    "men_at_start.drop(['iid', 'wave', 'gender'], axis = 1, inplace = True)\n",
    "#men_at_start.describe()"
   ]
  },
  {
   "cell_type": "markdown",
   "metadata": {},
   "source": [
    "<h6>This block looks at what Women and Men look for in an ideal partner halfway through the Speed Dating event.</h6>"
   ]
  },
  {
   "cell_type": "code",
   "execution_count": 8,
   "metadata": {
    "collapsed": false
   },
   "outputs": [],
   "source": [
    "waves_6_9 = unique_iid.copy()\n",
    "waves_6_9 = waves_6_9[~((waves_6_9['wave'] < 6 ) | (waves_6_9['wave'] > 17))]\n",
    "waves_6_9 = waves_6_9[(waves_6_9['wave'] < 12) | (waves_6_9['wave'] > 14)]\n",
    "waves_6_9 = waves_6_9[[\"iid\", \"wave\", \"gender\", \"attr1_s\", \"sinc1_s\", \"intel1_s\", \"fun1_s\", \"amb1_s\", \"shar1_s\"]]\n",
    "waves_6_9.fillna(value = 0, inplace = True)\n",
    "waves_6_9_both_genders = waves_6_9.copy()\n",
    "waves_6_9_both_genders.drop(['iid', 'wave', 'gender'], axis = 1, inplace = True)\n",
    "#waves_6_9_both_genders.describe()"
   ]
  },
  {
   "cell_type": "markdown",
   "metadata": {},
   "source": [
    "<h6>This block looks at what Women look for in an ideal partner halfway through the Speed Dating event.</h6>"
   ]
  },
  {
   "cell_type": "code",
   "execution_count": 9,
   "metadata": {
    "collapsed": false
   },
   "outputs": [],
   "source": [
    "waves_6_9_women = waves_6_9.copy()\n",
    "waves_6_9_women = waves_6_9_women[waves_6_9_women['gender'] == 0]\n",
    "waves_6_9_women.drop(['iid', 'wave', 'gender'], axis = 1, inplace = True)\n",
    "#waves_6_9_women.describe()"
   ]
  },
  {
   "cell_type": "markdown",
   "metadata": {},
   "source": [
    "<h6>This block looks at what Men look for in an ideal partner halfway through the Speed Dating event.</h6>"
   ]
  },
  {
   "cell_type": "code",
   "execution_count": 10,
   "metadata": {
    "collapsed": false
   },
   "outputs": [],
   "source": [
    "waves_6_9_men = waves_6_9.copy()\n",
    "waves_6_9_men = waves_6_9_men[waves_6_9_men['gender'] == 1]\n",
    "waves_6_9_men.drop(['iid', 'wave', 'gender'], axis = 1, inplace = True)\n",
    "#waves_6_9_men.describe()"
   ]
  },
  {
   "cell_type": "markdown",
   "metadata": {},
   "source": [
    "<h6>This block looks at what Women and Men look for in an ideal partner one day after the Speed Dating event.</h6>"
   ]
  },
  {
   "cell_type": "code",
   "execution_count": 11,
   "metadata": {
    "collapsed": false
   },
   "outputs": [],
   "source": [
    "waves_men_women_day_after = pd.DataFrame(unique_iid, \n",
    "                                           columns = [\"iid\", \"wave\", \"gender\", \"attr1_2\", \"sinc1_2\", \"intel1_2\", \"fun1_2\", \"amb1_2\", \"shar1_2\"])\n",
    "waves_men_women_day_after.dropna(inplace = True)\n",
    "both_genders_day_after = waves_men_women_day_after.copy()\n",
    "both_genders_day_after.drop([\"iid\", \"wave\", \"gender\"], axis = 1, inplace = True)\n",
    "#both_genders_day_after.describe()"
   ]
  },
  {
   "cell_type": "markdown",
   "metadata": {},
   "source": [
    "<h6>This block looks at what Women look for in an ideal partner one day after the Speed Dating event.</h6>"
   ]
  },
  {
   "cell_type": "code",
   "execution_count": 12,
   "metadata": {
    "collapsed": false
   },
   "outputs": [],
   "source": [
    "women_day_after = waves_men_women_day_after.copy()\n",
    "women_day_after = women_day_after[women_day_after['gender'] == 0]\n",
    "women_day_after.drop([\"iid\", \"wave\", \"gender\"], axis = 1, inplace = True)\n",
    "#women_day_after.describe()"
   ]
  },
  {
   "cell_type": "markdown",
   "metadata": {},
   "source": [
    "<h6>This block looks at what Men look for in an ideal partner one day after the Speed Dating event.</h6>"
   ]
  },
  {
   "cell_type": "code",
   "execution_count": 13,
   "metadata": {
    "collapsed": false
   },
   "outputs": [],
   "source": [
    "men_day_after = waves_men_women_day_after.copy()\n",
    "men_day_after = men_day_after[men_day_after['gender'] == 1]\n",
    "men_day_after\n",
    "men_day_after.drop([\"iid\", \"wave\", \"gender\"], axis = 1, inplace = True)\n",
    "#men_day_after.describe()"
   ]
  },
  {
   "cell_type": "markdown",
   "metadata": {},
   "source": [
    "<h6>This block looks at what Women and Men look for in an ideal partner 3 - 4 weeks after the Speed Dating event.</h6>"
   ]
  },
  {
   "cell_type": "code",
   "execution_count": 14,
   "metadata": {
    "collapsed": false
   },
   "outputs": [],
   "source": [
    "waves_men_women_weeks_after = pd.DataFrame(unique_iid, \n",
    "                                           columns = [\"iid\", \"wave\", \"gender\", \"attr1_3\", \"sinc1_3\", \"intel1_3\", \"fun1_3\", \"amb1_3\", \"shar1_3\"])\n",
    "waves_men_women_weeks_after.dropna(inplace = True)\n",
    "both_genders_weeks_after = pd.DataFrame(waves_men_women_weeks_after, \n",
    "                                       columns = [\"iid\", \"wave\", \"gender\", \"attr1_3\", \"sinc1_3\", \"intel1_3\", \"fun1_3\", \"amb1_3\", \"shar1_3\"])\n",
    "both_genders_weeks_after.drop([\"iid\", \"wave\", \"gender\"], axis = 1, inplace = True)\n",
    "#both_genders_weeks_after.describe()"
   ]
  },
  {
   "cell_type": "markdown",
   "metadata": {},
   "source": [
    "<h6>This block looks at what Women look for in an ideal partner 3 - 4 weeks after the Speed Dating event.</h6>"
   ]
  },
  {
   "cell_type": "code",
   "execution_count": 15,
   "metadata": {
    "collapsed": false
   },
   "outputs": [],
   "source": [
    "women_weeks_after = waves_men_women_weeks_after.copy()\n",
    "women_weeks_after = women_weeks_after[women_weeks_after['gender'] == 0]\n",
    "women_weeks_after.drop([\"iid\", \"wave\", \"gender\"], axis = 1, inplace = True)\n",
    "#women_weeks_after.describe()"
   ]
  },
  {
   "cell_type": "markdown",
   "metadata": {},
   "source": [
    "<h6>This block looks at what Men look for in an ideal partner 3 - 4 weeks after the Speed Dating event.</h6>"
   ]
  },
  {
   "cell_type": "code",
   "execution_count": 16,
   "metadata": {
    "collapsed": false
   },
   "outputs": [],
   "source": [
    "men_weeks_after = waves_men_women_weeks_after.copy()\n",
    "men_weeks_after = men_weeks_after[men_weeks_after['gender'] == 1]\n",
    "men_weeks_after.drop([\"iid\", \"wave\", \"gender\"], axis = 1, inplace = True)\n",
    "#men_weeks_after.describe()"
   ]
  },
  {
   "cell_type": "markdown",
   "metadata": {},
   "source": [
    "<h6>This block looks at how both Women and Men rate themselves, respectively, at the start of the Speed Dating event.</h6>"
   ]
  },
  {
   "cell_type": "code",
   "execution_count": 17,
   "metadata": {
    "collapsed": false
   },
   "outputs": [],
   "source": [
    "self_perceived = [\"iid\", \"gender\", \"wave\", \"attr3_1\", \"sinc3_1\", \"fun3_1\", \"intel3_1\", \"amb3_1\",\n",
    "                  \"attr3_s\", \"sinc3_s\", \"intel3_s\", \"fun3_s\", \"amb3_s\", \n",
    "                  \"attr3_2\", \"sinc3_2\", \"intel3_2\", \"fun3_2\", \"amb3_2\", \n",
    "                  \"attr3_3\", \"sinc3_3\", \"intel3_3\", \"fun3_3\", \"amb3_3\"]\n",
    "self_rating = pd.DataFrame(data = data, columns = self_perceived)\n",
    "self_rating.drop_duplicates(keep = 'first', inplace = True)"
   ]
  },
  {
   "cell_type": "code",
   "execution_count": 18,
   "metadata": {
    "collapsed": false
   },
   "outputs": [],
   "source": [
    "self_rating_on_the_day = self_rating.copy()\n",
    "self_rating_on_the_day.drop(self_rating_on_the_day.columns[8:], axis = 1, inplace = True)\n",
    "self_rating_on_the_day.fillna(value = 1, inplace = True)\n",
    "self_rating_on_the_day_both = self_rating_on_the_day.copy()\n",
    "self_rating_on_the_day_both.drop(['iid', 'wave', 'gender'], axis = 1, inplace = True)\n",
    "#self_rating_on_the_day_both.describe()"
   ]
  },
  {
   "cell_type": "markdown",
   "metadata": {},
   "source": [
    "This block looks at how Women rate themselves at the start of the Speed Dating event."
   ]
  },
  {
   "cell_type": "code",
   "execution_count": 19,
   "metadata": {
    "collapsed": false
   },
   "outputs": [],
   "source": [
    "self_rating_on_the_day_women = self_rating_on_the_day.copy()\n",
    "self_rating_on_the_day_women = self_rating_on_the_day_women[self_rating_on_the_day_women['gender'] == 0]\n",
    "self_rating_on_the_day_women.drop(['iid', 'wave', 'gender'], axis = 1, inplace = True)\n",
    "#self_rating_on_the_day_women.describe()"
   ]
  },
  {
   "cell_type": "markdown",
   "metadata": {},
   "source": [
    "This block looks at how Men rate themselves at the start of the Speed Dating event."
   ]
  },
  {
   "cell_type": "code",
   "execution_count": 20,
   "metadata": {
    "collapsed": false
   },
   "outputs": [],
   "source": [
    "self_rating_on_the_day_men = self_rating_on_the_day.copy()\n",
    "self_rating_on_the_day_men = self_rating_on_the_day_men[self_rating_on_the_day_men['gender'] == 1]\n",
    "self_rating_on_the_day_men.drop(['iid', 'wave', 'gender'], axis = 1, inplace = True)\n",
    "#self_rating_on_the_day_men.describe()"
   ]
  },
  {
   "cell_type": "markdown",
   "metadata": {},
   "source": [
    "<h6>This block looks at how both how Women and Men rate themselves halfway through the Speed Dating event.</h6>"
   ]
  },
  {
   "cell_type": "code",
   "execution_count": 21,
   "metadata": {
    "collapsed": false
   },
   "outputs": [],
   "source": [
    "self_rating_half_way = self_rating.copy()\n",
    "self_rating_half_way.drop(self_rating_half_way.columns[3:8], axis = 1, inplace = True)\n",
    "self_rating_half_way.drop(self_rating_half_way.columns[8:], axis = 1, inplace = True)\n",
    "self_rating_half_way.dropna(inplace = True)"
   ]
  },
  {
   "cell_type": "code",
   "execution_count": 22,
   "metadata": {
    "collapsed": false
   },
   "outputs": [],
   "source": [
    "self_rating_half_way_both = self_rating_half_way.copy()\n",
    "self_rating_half_way_both.drop(['iid', 'wave', 'gender'], axis = 1, inplace = True)\n",
    "#self_rating_half_way_both.describe()"
   ]
  },
  {
   "cell_type": "markdown",
   "metadata": {},
   "source": [
    "<h6>This block looks at how Women rate themselves half through the Speed Dating event.</h6>"
   ]
  },
  {
   "cell_type": "code",
   "execution_count": 23,
   "metadata": {
    "collapsed": false
   },
   "outputs": [],
   "source": [
    "self_rating_half_way_women = self_rating_half_way.copy()\n",
    "self_rating_half_way_women = self_rating_half_way_women[self_rating_half_way_women['gender'] == 0]\n",
    "self_rating_half_way_women.drop(['iid', 'wave', 'gender'], axis = 1, inplace = True)\n",
    "#self_rating_half_way_women.describe()"
   ]
  },
  {
   "cell_type": "markdown",
   "metadata": {},
   "source": [
    "<h6>This block looks at how Men rate themselves half way through the Speed Dating event.</h6>"
   ]
  },
  {
   "cell_type": "code",
   "execution_count": 24,
   "metadata": {
    "collapsed": false
   },
   "outputs": [],
   "source": [
    "self_rating_half_way_men = self_rating_half_way.copy()\n",
    "self_rating_half_way_men = self_rating_half_way_men[self_rating_half_way_men['gender'] == 1]\n",
    "self_rating_half_way_men.drop(['iid', 'wave', 'gender'], axis = 1, inplace = True)\n",
    "#self_rating_half_way_men.describe()"
   ]
  },
  {
   "cell_type": "markdown",
   "metadata": {},
   "source": [
    "<h6>This block looks at how both how Women and Men rate themselves a day after the Speed Dating event.</h6>"
   ]
  },
  {
   "cell_type": "code",
   "execution_count": 25,
   "metadata": {
    "collapsed": false
   },
   "outputs": [],
   "source": [
    "self_rating_day_after = self_rating.copy()\n",
    "self_rating_day_after.drop(self_rating_day_after.columns[3:13], axis = 1, inplace = True)\n",
    "self_rating_day_after.drop(self_rating_day_after.columns[8:], axis = 1, inplace = True)\n",
    "self_rating_day_after.dropna(inplace = True)"
   ]
  },
  {
   "cell_type": "code",
   "execution_count": 26,
   "metadata": {
    "collapsed": false
   },
   "outputs": [],
   "source": [
    "self_rating_day_after_both = self_rating_day_after.copy()\n",
    "self_rating_day_after_both.drop(['iid', 'wave', 'gender'], axis = 1, inplace = True)\n",
    "#self_rating_day_after_both.describe()"
   ]
  },
  {
   "cell_type": "markdown",
   "metadata": {},
   "source": [
    "<h6>This block looks at how Women rate themselves a day after the Speed Dating event.</h6>"
   ]
  },
  {
   "cell_type": "code",
   "execution_count": 27,
   "metadata": {
    "collapsed": false
   },
   "outputs": [],
   "source": [
    "self_rating_day_after_women = self_rating_day_after.copy()\n",
    "self_rating_day_after_women = self_rating_day_after_women[self_rating_day_after_women['gender'] == 0]\n",
    "self_rating_day_after_women.drop(['iid', 'wave', 'gender'], axis = 1, inplace = True)\n",
    "#self_rating_day_after_women.describe()"
   ]
  },
  {
   "cell_type": "markdown",
   "metadata": {},
   "source": [
    "<h6>This block looks at how Men rate themselves a day after the Speed Dating event.</h6>"
   ]
  },
  {
   "cell_type": "code",
   "execution_count": 28,
   "metadata": {
    "collapsed": false
   },
   "outputs": [],
   "source": [
    "self_rating_day_after_men = self_rating_day_after.copy()\n",
    "self_rating_day_after_men = self_rating_day_after_men[self_rating_day_after_men['gender'] == 1]\n",
    "self_rating_day_after_men.drop(['iid', 'wave', 'gender'], axis = 1, inplace = True)\n",
    "#self_rating_day_after_men.describe()"
   ]
  },
  {
   "cell_type": "markdown",
   "metadata": {},
   "source": [
    "<h6>This block looks at how Women and Men rate themselves 3 - 4 weeks after the Speed Dating event.</h6>"
   ]
  },
  {
   "cell_type": "code",
   "execution_count": 29,
   "metadata": {
    "collapsed": false
   },
   "outputs": [],
   "source": [
    "self_rating_weeks_after = self_rating.copy()\n",
    "self_rating_weeks_after.drop(self_rating_weeks_after.columns[3:18], axis = 1, inplace = True)\n",
    "self_rating_weeks_after.dropna(inplace = True)"
   ]
  },
  {
   "cell_type": "code",
   "execution_count": 30,
   "metadata": {
    "collapsed": false
   },
   "outputs": [
    {
     "name": "stderr",
     "output_type": "stream",
     "text": [
      "C:\\Users\\Henry\\Anaconda2\\lib\\site-packages\\pandas\\core\\generic.py:3299: UserWarning: the \"axis\" argument is deprecated and will be removed inv0.13; this argument has no effect\n",
      "  warn('the \"axis\" argument is deprecated and will be removed in'\n"
     ]
    }
   ],
   "source": [
    "self_rating_weeks_after_both = self_rating_weeks_after.copy()\n",
    "self_rating_weeks_after_both.drop(['iid', 'wave', 'gender'], axis = 1, inplace = True)\n",
    "self_rating_weeks_after_both.replace(to_replace = 12, value = 10, inplace = True, axis = 1)\n",
    "#self_rating_weeks_after_both.describe()"
   ]
  },
  {
   "cell_type": "markdown",
   "metadata": {},
   "source": [
    "<h6>This block looks at how Women rate themselves 3 - 4 weeks after the Speed Dating event.</h6>"
   ]
  },
  {
   "cell_type": "code",
   "execution_count": 31,
   "metadata": {
    "collapsed": false
   },
   "outputs": [],
   "source": [
    "self_rating_weeks_after_women = self_rating_weeks_after.copy()\n",
    "self_rating_weeks_after_women = self_rating_weeks_after_women[self_rating_weeks_after_women['gender'] == 0]\n",
    "self_rating_weeks_after_women.drop(['iid', 'wave', 'gender'], axis = 1, inplace = True)\n",
    "self_rating_weeks_after_women.replace(to_replace = 12, value = 10, inplace = True, axis = 1)\n",
    "#self_rating_weeks_after_women.describe()"
   ]
  },
  {
   "cell_type": "markdown",
   "metadata": {},
   "source": [
    "<h6>This block looks at how Men rate themselves 3 - 4 weeks after the Speed Dating event.</h6>"
   ]
  },
  {
   "cell_type": "code",
   "execution_count": 32,
   "metadata": {
    "collapsed": false
   },
   "outputs": [],
   "source": [
    "self_rating_weeks_after_men = self_rating_weeks_after.copy()\n",
    "self_rating_weeks_after_men = self_rating_weeks_after_men[self_rating_weeks_after_men['gender'] == 1]\n",
    "self_rating_weeks_after_men.drop(['iid', 'wave', 'gender'], axis = 1, inplace = True)\n",
    "self_rating_weeks_after_men.replace(to_replace = 12, value = 10, inplace = True, axis = 1)\n",
    "#self_rating_weeks_after_men.describe()"
   ]
  },
  {
   "cell_type": "markdown",
   "metadata": {},
   "source": [
    "<h1>Data Exploration</h1>"
   ]
  },
  {
   "cell_type": "code",
   "execution_count": 55,
   "metadata": {
    "collapsed": false
   },
   "outputs": [
    {
     "data": {
      "text/html": [
       "<div>\n",
       "<table border=\"1\" class=\"dataframe\">\n",
       "  <thead>\n",
       "    <tr style=\"text-align: right;\">\n",
       "      <th></th>\n",
       "      <th>attr3_1</th>\n",
       "      <th>attr3_s</th>\n",
       "      <th>attr3_2</th>\n",
       "      <th>attr3_3</th>\n",
       "    </tr>\n",
       "  </thead>\n",
       "  <tbody>\n",
       "    <tr>\n",
       "      <th>count</th>\n",
       "      <td>274.000000</td>\n",
       "      <td>131.000000</td>\n",
       "      <td>238.000000</td>\n",
       "      <td>146.000000</td>\n",
       "    </tr>\n",
       "    <tr>\n",
       "      <th>mean</th>\n",
       "      <td>7.105839</td>\n",
       "      <td>7.442748</td>\n",
       "      <td>7.260504</td>\n",
       "      <td>7.321918</td>\n",
       "    </tr>\n",
       "    <tr>\n",
       "      <th>std</th>\n",
       "      <td>1.605771</td>\n",
       "      <td>1.253673</td>\n",
       "      <td>1.318241</td>\n",
       "      <td>1.438078</td>\n",
       "    </tr>\n",
       "    <tr>\n",
       "      <th>min</th>\n",
       "      <td>1.000000</td>\n",
       "      <td>3.000000</td>\n",
       "      <td>2.000000</td>\n",
       "      <td>2.000000</td>\n",
       "    </tr>\n",
       "    <tr>\n",
       "      <th>25%</th>\n",
       "      <td>7.000000</td>\n",
       "      <td>7.000000</td>\n",
       "      <td>7.000000</td>\n",
       "      <td>7.000000</td>\n",
       "    </tr>\n",
       "    <tr>\n",
       "      <th>50%</th>\n",
       "      <td>7.000000</td>\n",
       "      <td>8.000000</td>\n",
       "      <td>7.000000</td>\n",
       "      <td>7.000000</td>\n",
       "    </tr>\n",
       "    <tr>\n",
       "      <th>75%</th>\n",
       "      <td>8.000000</td>\n",
       "      <td>8.000000</td>\n",
       "      <td>8.000000</td>\n",
       "      <td>8.000000</td>\n",
       "    </tr>\n",
       "    <tr>\n",
       "      <th>max</th>\n",
       "      <td>10.000000</td>\n",
       "      <td>10.000000</td>\n",
       "      <td>10.000000</td>\n",
       "      <td>10.000000</td>\n",
       "    </tr>\n",
       "  </tbody>\n",
       "</table>\n",
       "</div>"
      ],
      "text/plain": [
       "          attr3_1     attr3_s     attr3_2     attr3_3\n",
       "count  274.000000  131.000000  238.000000  146.000000\n",
       "mean     7.105839    7.442748    7.260504    7.321918\n",
       "std      1.605771    1.253673    1.318241    1.438078\n",
       "min      1.000000    3.000000    2.000000    2.000000\n",
       "25%      7.000000    7.000000    7.000000    7.000000\n",
       "50%      7.000000    8.000000    7.000000    7.000000\n",
       "75%      8.000000    8.000000    8.000000    8.000000\n",
       "max     10.000000   10.000000   10.000000   10.000000"
      ]
     },
     "execution_count": 55,
     "metadata": {},
     "output_type": "execute_result"
    },
    {
     "data": {
      "image/png": "[encoded data removed]",
      "text/plain": [
       "<matplotlib.figure.Figure at 0xe2db2b0>"
      ]
     },
     "metadata": {},
     "output_type": "display_data"
    },
    {
     "data": {
      "image/png": "[encoded data removed]",
      "text/plain": [
       "<matplotlib.figure.Figure at 0xfc5d668>"
      ]
     },
     "metadata": {},
     "output_type": "display_data"
    }
   ],
   "source": [
    "attr_for_hist = ['attr3_1', 'attr3_s', 'attr3_2', 'attr3_3']\n",
    "stuff_for_attr_hist = pd.DataFrame(data = {'attr3_1': self_rating_on_the_day_women['attr3_1'], 'attr3_s' : self_rating_half_way_women['attr3_s'], \n",
    "                                           'attr3_2': self_rating_day_after_women['attr3_2'],\n",
    "                                          'attr3_3': self_rating_weeks_after_women['attr3_3']}, columns = attr_for_hist)\n",
    "#stuff_for_attr_hist.plot.hist(stacked = False, bins = 10, figsize = (15, 5), alpha = .25)\n",
    "#stuff_for_attr_hist.hist(stacked = True, bins = 10, figsize = (15, 5))\n",
    "#stuff_for_attr_hist.describe()"
   ]
  },
  {
   "cell_type": "code",
   "execution_count": 34,
   "metadata": {
    "collapsed": false
   },
   "outputs": [
    {
     "data": {
      "text/html": [
       "<div>\n",
       "<table border=\"1\" class=\"dataframe\">\n",
       "  <thead>\n",
       "    <tr style=\"text-align: right;\">\n",
       "      <th></th>\n",
       "      <th>attr3_1</th>\n",
       "      <th>attr3_s</th>\n",
       "      <th>attr3_2</th>\n",
       "      <th>attr3_3</th>\n",
       "    </tr>\n",
       "  </thead>\n",
       "  <tbody>\n",
       "    <tr>\n",
       "      <th>count</th>\n",
       "      <td>274.000000</td>\n",
       "      <td>131.000000</td>\n",
       "      <td>238.000000</td>\n",
       "      <td>146.000000</td>\n",
       "    </tr>\n",
       "    <tr>\n",
       "      <th>mean</th>\n",
       "      <td>7.105839</td>\n",
       "      <td>7.442748</td>\n",
       "      <td>7.260504</td>\n",
       "      <td>7.321918</td>\n",
       "    </tr>\n",
       "    <tr>\n",
       "      <th>std</th>\n",
       "      <td>1.605771</td>\n",
       "      <td>1.253673</td>\n",
       "      <td>1.318241</td>\n",
       "      <td>1.438078</td>\n",
       "    </tr>\n",
       "    <tr>\n",
       "      <th>min</th>\n",
       "      <td>1.000000</td>\n",
       "      <td>3.000000</td>\n",
       "      <td>2.000000</td>\n",
       "      <td>2.000000</td>\n",
       "    </tr>\n",
       "    <tr>\n",
       "      <th>25%</th>\n",
       "      <td>7.000000</td>\n",
       "      <td>7.000000</td>\n",
       "      <td>7.000000</td>\n",
       "      <td>7.000000</td>\n",
       "    </tr>\n",
       "    <tr>\n",
       "      <th>50%</th>\n",
       "      <td>7.000000</td>\n",
       "      <td>8.000000</td>\n",
       "      <td>7.000000</td>\n",
       "      <td>7.000000</td>\n",
       "    </tr>\n",
       "    <tr>\n",
       "      <th>75%</th>\n",
       "      <td>8.000000</td>\n",
       "      <td>8.000000</td>\n",
       "      <td>8.000000</td>\n",
       "      <td>8.000000</td>\n",
       "    </tr>\n",
       "    <tr>\n",
       "      <th>max</th>\n",
       "      <td>10.000000</td>\n",
       "      <td>10.000000</td>\n",
       "      <td>10.000000</td>\n",
       "      <td>10.000000</td>\n",
       "    </tr>\n",
       "  </tbody>\n",
       "</table>\n",
       "</div>"
      ],
      "text/plain": [
       "          attr3_1     attr3_s     attr3_2     attr3_3\n",
       "count  274.000000  131.000000  238.000000  146.000000\n",
       "mean     7.105839    7.442748    7.260504    7.321918\n",
       "std      1.605771    1.253673    1.318241    1.438078\n",
       "min      1.000000    3.000000    2.000000    2.000000\n",
       "25%      7.000000    7.000000    7.000000    7.000000\n",
       "50%      7.000000    8.000000    7.000000    7.000000\n",
       "75%      8.000000    8.000000    8.000000    8.000000\n",
       "max     10.000000   10.000000   10.000000   10.000000"
      ]
     },
     "execution_count": 34,
     "metadata": {},
     "output_type": "execute_result"
    }
   ],
   "source": [
    "stuff_for_attr_hist.describe()"
   ]
  },
  {
   "cell_type": "code",
   "execution_count": 35,
   "metadata": {
    "collapsed": false
   },
   "outputs": [],
   "source": [
    "sinc_for_hist = ['sinc3_1', 'sinc3_s', 'sinc3_2', 'sinc3_3']\n",
    "stuff_for_sinc_hist = pd.DataFrame(data = {'sinc3_1': self_rating_on_the_day_women['sinc3_1'], 'sinc3_s' : self_rating_half_way_women['sinc3_s'], \n",
    "                                           'sinc3_2': self_rating_day_after_women['sinc3_2'],\n",
    "                                          'sinc3_3': self_rating_weeks_after_women['sinc3_3']}, columns = sinc_for_hist)\n",
    "#stuff_for_sinc_hist.plot.hist(stacked = True, bins = 10, figsize = (15, 5))\n",
    "#stuff_for_sinc_hist.hist(stacked = True, bins = 10, figsize = (15, 5))"
   ]
  },
  {
   "cell_type": "code",
   "execution_count": 36,
   "metadata": {
    "collapsed": false
   },
   "outputs": [
    {
     "data": {
      "text/html": [
       "<div>\n",
       "<table border=\"1\" class=\"dataframe\">\n",
       "  <thead>\n",
       "    <tr style=\"text-align: right;\">\n",
       "      <th></th>\n",
       "      <th>sinc3_1</th>\n",
       "      <th>sinc3_s</th>\n",
       "      <th>sinc3_2</th>\n",
       "      <th>sinc3_3</th>\n",
       "    </tr>\n",
       "  </thead>\n",
       "  <tbody>\n",
       "    <tr>\n",
       "      <th>count</th>\n",
       "      <td>274.000000</td>\n",
       "      <td>131.000000</td>\n",
       "      <td>238.000000</td>\n",
       "      <td>146.000000</td>\n",
       "    </tr>\n",
       "    <tr>\n",
       "      <th>mean</th>\n",
       "      <td>8.306569</td>\n",
       "      <td>8.278626</td>\n",
       "      <td>8.163866</td>\n",
       "      <td>8.253425</td>\n",
       "    </tr>\n",
       "    <tr>\n",
       "      <th>std</th>\n",
       "      <td>1.741803</td>\n",
       "      <td>1.373037</td>\n",
       "      <td>1.515892</td>\n",
       "      <td>1.363624</td>\n",
       "    </tr>\n",
       "    <tr>\n",
       "      <th>min</th>\n",
       "      <td>1.000000</td>\n",
       "      <td>3.000000</td>\n",
       "      <td>2.000000</td>\n",
       "      <td>3.000000</td>\n",
       "    </tr>\n",
       "    <tr>\n",
       "      <th>25%</th>\n",
       "      <td>8.000000</td>\n",
       "      <td>8.000000</td>\n",
       "      <td>7.250000</td>\n",
       "      <td>8.000000</td>\n",
       "    </tr>\n",
       "    <tr>\n",
       "      <th>50%</th>\n",
       "      <td>9.000000</td>\n",
       "      <td>8.000000</td>\n",
       "      <td>8.000000</td>\n",
       "      <td>8.000000</td>\n",
       "    </tr>\n",
       "    <tr>\n",
       "      <th>75%</th>\n",
       "      <td>9.000000</td>\n",
       "      <td>9.000000</td>\n",
       "      <td>9.000000</td>\n",
       "      <td>9.000000</td>\n",
       "    </tr>\n",
       "    <tr>\n",
       "      <th>max</th>\n",
       "      <td>10.000000</td>\n",
       "      <td>10.000000</td>\n",
       "      <td>10.000000</td>\n",
       "      <td>10.000000</td>\n",
       "    </tr>\n",
       "  </tbody>\n",
       "</table>\n",
       "</div>"
      ],
      "text/plain": [
       "          sinc3_1     sinc3_s     sinc3_2     sinc3_3\n",
       "count  274.000000  131.000000  238.000000  146.000000\n",
       "mean     8.306569    8.278626    8.163866    8.253425\n",
       "std      1.741803    1.373037    1.515892    1.363624\n",
       "min      1.000000    3.000000    2.000000    3.000000\n",
       "25%      8.000000    8.000000    7.250000    8.000000\n",
       "50%      9.000000    8.000000    8.000000    8.000000\n",
       "75%      9.000000    9.000000    9.000000    9.000000\n",
       "max     10.000000   10.000000   10.000000   10.000000"
      ]
     },
     "execution_count": 36,
     "metadata": {},
     "output_type": "execute_result"
    }
   ],
   "source": [
    "stuff_for_sinc_hist.describe()"
   ]
  },
  {
   "cell_type": "code",
   "execution_count": 65,
   "metadata": {
    "collapsed": false
   },
   "outputs": [],
   "source": [
    "intel_for_hist = ['intel3_1', 'intel3_s', 'intel3_2', 'intel3_3']\n",
    "stuff_for_intel_hist = pd.DataFrame(data = {'intel3_1': self_rating_on_the_day_women['intel3_1'], 'intel3_s' : self_rating_half_way_women['intel3_s'], \n",
    "                                           'intel3_2': self_rating_day_after_women['intel3_2'],\n",
    "                                          'intel3_3': self_rating_weeks_after_women['intel3_3']}, columns = intel_for_hist)\n",
    "#stuff_for_intel_hist.plot.hist(stacked = False, bins = 10, figsize = (15, 5), alpha =.25)\n",
    "#stuff_for_intel_hist.hist(stacked = True, bins = 10, figsize = (15, 5))\n",
    "#stuff_for_intel_hist.describe()"
   ]
  },
  {
   "cell_type": "code",
   "execution_count": 57,
   "metadata": {
    "collapsed": false
   },
   "outputs": [
    {
     "data": {
      "text/html": [
       "<div>\n",
       "<table border=\"1\" class=\"dataframe\">\n",
       "  <thead>\n",
       "    <tr style=\"text-align: right;\">\n",
       "      <th></th>\n",
       "      <th>fun1_1</th>\n",
       "      <th>fun1_s</th>\n",
       "      <th>fun1_2</th>\n",
       "      <th>fun1_3</th>\n",
       "    </tr>\n",
       "  </thead>\n",
       "  <tbody>\n",
       "    <tr>\n",
       "      <th>count</th>\n",
       "      <td>274.000000</td>\n",
       "      <td>115.000000</td>\n",
       "      <td>237.000000</td>\n",
       "      <td>146.000000</td>\n",
       "    </tr>\n",
       "    <tr>\n",
       "      <th>mean</th>\n",
       "      <td>16.983431</td>\n",
       "      <td>15.532522</td>\n",
       "      <td>17.394895</td>\n",
       "      <td>15.851301</td>\n",
       "    </tr>\n",
       "    <tr>\n",
       "      <th>std</th>\n",
       "      <td>6.048468</td>\n",
       "      <td>5.737216</td>\n",
       "      <td>5.946725</td>\n",
       "      <td>5.109891</td>\n",
       "    </tr>\n",
       "    <tr>\n",
       "      <th>min</th>\n",
       "      <td>0.000000</td>\n",
       "      <td>0.000000</td>\n",
       "      <td>0.000000</td>\n",
       "      <td>0.000000</td>\n",
       "    </tr>\n",
       "    <tr>\n",
       "      <th>25%</th>\n",
       "      <td>15.000000</td>\n",
       "      <td>11.605000</td>\n",
       "      <td>15.000000</td>\n",
       "      <td>12.740000</td>\n",
       "    </tr>\n",
       "    <tr>\n",
       "      <th>50%</th>\n",
       "      <td>17.585000</td>\n",
       "      <td>16.670000</td>\n",
       "      <td>17.540000</td>\n",
       "      <td>16.500000</td>\n",
       "    </tr>\n",
       "    <tr>\n",
       "      <th>75%</th>\n",
       "      <td>20.000000</td>\n",
       "      <td>19.590000</td>\n",
       "      <td>20.000000</td>\n",
       "      <td>20.000000</td>\n",
       "    </tr>\n",
       "    <tr>\n",
       "      <th>max</th>\n",
       "      <td>40.000000</td>\n",
       "      <td>40.000000</td>\n",
       "      <td>50.000000</td>\n",
       "      <td>30.000000</td>\n",
       "    </tr>\n",
       "  </tbody>\n",
       "</table>\n",
       "</div>"
      ],
      "text/plain": [
       "           fun1_1      fun1_s      fun1_2      fun1_3\n",
       "count  274.000000  115.000000  237.000000  146.000000\n",
       "mean    16.983431   15.532522   17.394895   15.851301\n",
       "std      6.048468    5.737216    5.946725    5.109891\n",
       "min      0.000000    0.000000    0.000000    0.000000\n",
       "25%     15.000000   11.605000   15.000000   12.740000\n",
       "50%     17.585000   16.670000   17.540000   16.500000\n",
       "75%     20.000000   19.590000   20.000000   20.000000\n",
       "max     40.000000   40.000000   50.000000   30.000000"
      ]
     },
     "execution_count": 57,
     "metadata": {},
     "output_type": "execute_result"
    },
    {
     "data": {
      "image/png": "[encoded data removed]",
      "text/plain": [
       "<matplotlib.figure.Figure at 0xd2a8e80>"
      ]
     },
     "metadata": {},
     "output_type": "display_data"
    },
    {
     "data": {
      "image/png": "[encoded data removed]",
      "text/plain": [
       "<matplotlib.figure.Figure at 0xfb53630>"
      ]
     },
     "metadata": {},
     "output_type": "display_data"
    }
   ],
   "source": [
    "fun_for_hist = ['fun1_1', 'fun1_s', 'fun1_2', 'fun1_3']\n",
    "stuff_for_fun_hist = pd.DataFrame(data = {'fun1_1': women_at_start['fun1_1'], 'fun1_s' : waves_6_9_women['fun1_s'], 'fun1_2': women_day_after['fun1_2'],\n",
    "                                          'fun1_3': women_weeks_after['fun1_3']}, columns = fun_for_hist)\n",
    "#stuff_for_fun_hist.plot.hist(stacked = False, bins = 10, figsize = (15, 5), alpha = .25)\n",
    "#stuff_for_fun_hist.hist(stacked = True, bins = 10, figsize = (15, 5))\n",
    "#stuff_for_fun_hist.describe()"
   ]
  },
  {
   "cell_type": "code",
   "execution_count": 40,
   "metadata": {
    "collapsed": false
   },
   "outputs": [
    {
     "data": {
      "text/html": [
       "<div>\n",
       "<table border=\"1\" class=\"dataframe\">\n",
       "  <thead>\n",
       "    <tr style=\"text-align: right;\">\n",
       "      <th></th>\n",
       "      <th>fun1_1</th>\n",
       "      <th>fun1_s</th>\n",
       "      <th>fun1_2</th>\n",
       "      <th>fun1_3</th>\n",
       "    </tr>\n",
       "  </thead>\n",
       "  <tbody>\n",
       "    <tr>\n",
       "      <th>count</th>\n",
       "      <td>274.000000</td>\n",
       "      <td>115.000000</td>\n",
       "      <td>237.000000</td>\n",
       "      <td>146.000000</td>\n",
       "    </tr>\n",
       "    <tr>\n",
       "      <th>mean</th>\n",
       "      <td>16.983431</td>\n",
       "      <td>15.532522</td>\n",
       "      <td>17.394895</td>\n",
       "      <td>15.851301</td>\n",
       "    </tr>\n",
       "    <tr>\n",
       "      <th>std</th>\n",
       "      <td>6.048468</td>\n",
       "      <td>5.737216</td>\n",
       "      <td>5.946725</td>\n",
       "      <td>5.109891</td>\n",
       "    </tr>\n",
       "    <tr>\n",
       "      <th>min</th>\n",
       "      <td>0.000000</td>\n",
       "      <td>0.000000</td>\n",
       "      <td>0.000000</td>\n",
       "      <td>0.000000</td>\n",
       "    </tr>\n",
       "    <tr>\n",
       "      <th>25%</th>\n",
       "      <td>15.000000</td>\n",
       "      <td>11.605000</td>\n",
       "      <td>15.000000</td>\n",
       "      <td>12.740000</td>\n",
       "    </tr>\n",
       "    <tr>\n",
       "      <th>50%</th>\n",
       "      <td>17.585000</td>\n",
       "      <td>16.670000</td>\n",
       "      <td>17.540000</td>\n",
       "      <td>16.500000</td>\n",
       "    </tr>\n",
       "    <tr>\n",
       "      <th>75%</th>\n",
       "      <td>20.000000</td>\n",
       "      <td>19.590000</td>\n",
       "      <td>20.000000</td>\n",
       "      <td>20.000000</td>\n",
       "    </tr>\n",
       "    <tr>\n",
       "      <th>max</th>\n",
       "      <td>40.000000</td>\n",
       "      <td>40.000000</td>\n",
       "      <td>50.000000</td>\n",
       "      <td>30.000000</td>\n",
       "    </tr>\n",
       "  </tbody>\n",
       "</table>\n",
       "</div>"
      ],
      "text/plain": [
       "           fun1_1      fun1_s      fun1_2      fun1_3\n",
       "count  274.000000  115.000000  237.000000  146.000000\n",
       "mean    16.983431   15.532522   17.394895   15.851301\n",
       "std      6.048468    5.737216    5.946725    5.109891\n",
       "min      0.000000    0.000000    0.000000    0.000000\n",
       "25%     15.000000   11.605000   15.000000   12.740000\n",
       "50%     17.585000   16.670000   17.540000   16.500000\n",
       "75%     20.000000   19.590000   20.000000   20.000000\n",
       "max     40.000000   40.000000   50.000000   30.000000"
      ]
     },
     "execution_count": 40,
     "metadata": {},
     "output_type": "execute_result"
    }
   ],
   "source": [
    "stuff_for_fun_hist.describe()"
   ]
  },
  {
   "cell_type": "code",
   "execution_count": 41,
   "metadata": {
    "collapsed": false
   },
   "outputs": [],
   "source": [
    "amb_for_hist = ['amb1_1', 'amb1_s', 'amb1_2', 'amb1_3']\n",
    "stuff_for_amb_hist = pd.DataFrame(data = {'amb1_1': women_at_start['amb1_1'], 'amb1_s' : waves_6_9_women['amb1_s'], 'amb1_2': women_day_after['amb1_2'],\n",
    "                                          'amb1_3': women_weeks_after['amb1_3']}, columns = amb_for_hist)\n",
    "#stuff_for_amb_hist.plot.hist(stacked = True, bins = 10, figsize = (15, 5))\n",
    "#stuff_for_amb_hist.hist(stacked = True, bins = 10, figsize = (15, 5))"
   ]
  },
  {
   "cell_type": "code",
   "execution_count": 42,
   "metadata": {
    "collapsed": false
   },
   "outputs": [
    {
     "data": {
      "text/html": [
       "<div>\n",
       "<table border=\"1\" class=\"dataframe\">\n",
       "  <thead>\n",
       "    <tr style=\"text-align: right;\">\n",
       "      <th></th>\n",
       "      <th>amb1_1</th>\n",
       "      <th>amb1_s</th>\n",
       "      <th>amb1_2</th>\n",
       "      <th>amb1_3</th>\n",
       "    </tr>\n",
       "  </thead>\n",
       "  <tbody>\n",
       "    <tr>\n",
       "      <th>count</th>\n",
       "      <td>274.000000</td>\n",
       "      <td>115.000000</td>\n",
       "      <td>237.000000</td>\n",
       "      <td>146.000000</td>\n",
       "    </tr>\n",
       "    <tr>\n",
       "      <th>mean</th>\n",
       "      <td>12.584562</td>\n",
       "      <td>12.882261</td>\n",
       "      <td>11.495148</td>\n",
       "      <td>12.294178</td>\n",
       "    </tr>\n",
       "    <tr>\n",
       "      <th>std</th>\n",
       "      <td>5.677342</td>\n",
       "      <td>5.495261</td>\n",
       "      <td>5.207794</td>\n",
       "      <td>5.681105</td>\n",
       "    </tr>\n",
       "    <tr>\n",
       "      <th>min</th>\n",
       "      <td>0.000000</td>\n",
       "      <td>0.000000</td>\n",
       "      <td>0.000000</td>\n",
       "      <td>0.000000</td>\n",
       "    </tr>\n",
       "    <tr>\n",
       "      <th>25%</th>\n",
       "      <td>10.000000</td>\n",
       "      <td>10.000000</td>\n",
       "      <td>10.000000</td>\n",
       "      <td>10.000000</td>\n",
       "    </tr>\n",
       "    <tr>\n",
       "      <th>50%</th>\n",
       "      <td>15.000000</td>\n",
       "      <td>14.890000</td>\n",
       "      <td>10.000000</td>\n",
       "      <td>15.000000</td>\n",
       "    </tr>\n",
       "    <tr>\n",
       "      <th>75%</th>\n",
       "      <td>16.592500</td>\n",
       "      <td>16.670000</td>\n",
       "      <td>15.000000</td>\n",
       "      <td>15.910000</td>\n",
       "    </tr>\n",
       "    <tr>\n",
       "      <th>max</th>\n",
       "      <td>30.000000</td>\n",
       "      <td>21.950000</td>\n",
       "      <td>22.220000</td>\n",
       "      <td>30.000000</td>\n",
       "    </tr>\n",
       "  </tbody>\n",
       "</table>\n",
       "</div>"
      ],
      "text/plain": [
       "           amb1_1      amb1_s      amb1_2      amb1_3\n",
       "count  274.000000  115.000000  237.000000  146.000000\n",
       "mean    12.584562   12.882261   11.495148   12.294178\n",
       "std      5.677342    5.495261    5.207794    5.681105\n",
       "min      0.000000    0.000000    0.000000    0.000000\n",
       "25%     10.000000   10.000000   10.000000   10.000000\n",
       "50%     15.000000   14.890000   10.000000   15.000000\n",
       "75%     16.592500   16.670000   15.000000   15.910000\n",
       "max     30.000000   21.950000   22.220000   30.000000"
      ]
     },
     "execution_count": 42,
     "metadata": {},
     "output_type": "execute_result"
    }
   ],
   "source": [
    "stuff_for_amb_hist.describe()"
   ]
  },
  {
   "cell_type": "code",
   "execution_count": 43,
   "metadata": {
    "collapsed": false
   },
   "outputs": [],
   "source": [
    "shar_for_hist = ['shar1_1', 'shar1_s', 'shar1_2', 'shar1_3']\n",
    "stuff_for_shar_hist = pd.DataFrame(data = {'shar1_1': women_at_start['shar1_1'], 'shar1_s' : waves_6_9_women['shar1_s'], 'shar1_2': women_day_after['shar1_2'],\n",
    "                                          'shar1_3': women_weeks_after['shar1_3']}, columns = shar_for_hist)\n",
    "#stuff_for_shar_hist.plot.hist(stacked = True, bins = 10, figsize = (15, 5))\n",
    "#stuff_for_shar_hist.hist(stacked = True, bins = 10, figsize = (15, 5))"
   ]
  },
  {
   "cell_type": "code",
   "execution_count": 44,
   "metadata": {
    "collapsed": false
   },
   "outputs": [
    {
     "data": {
      "text/html": [
       "<div>\n",
       "<table border=\"1\" class=\"dataframe\">\n",
       "  <thead>\n",
       "    <tr style=\"text-align: right;\">\n",
       "      <th></th>\n",
       "      <th>shar1_1</th>\n",
       "      <th>shar1_s</th>\n",
       "      <th>shar1_2</th>\n",
       "      <th>shar1_3</th>\n",
       "    </tr>\n",
       "  </thead>\n",
       "  <tbody>\n",
       "    <tr>\n",
       "      <th>count</th>\n",
       "      <td>274.000000</td>\n",
       "      <td>115.000000</td>\n",
       "      <td>237.000000</td>\n",
       "      <td>146.000000</td>\n",
       "    </tr>\n",
       "    <tr>\n",
       "      <th>mean</th>\n",
       "      <td>12.419781</td>\n",
       "      <td>13.866261</td>\n",
       "      <td>13.916962</td>\n",
       "      <td>14.129589</td>\n",
       "    </tr>\n",
       "    <tr>\n",
       "      <th>std</th>\n",
       "      <td>6.136102</td>\n",
       "      <td>5.907598</td>\n",
       "      <td>6.643789</td>\n",
       "      <td>6.846931</td>\n",
       "    </tr>\n",
       "    <tr>\n",
       "      <th>min</th>\n",
       "      <td>0.000000</td>\n",
       "      <td>0.000000</td>\n",
       "      <td>0.000000</td>\n",
       "      <td>0.000000</td>\n",
       "    </tr>\n",
       "    <tr>\n",
       "      <th>25%</th>\n",
       "      <td>10.000000</td>\n",
       "      <td>10.000000</td>\n",
       "      <td>10.000000</td>\n",
       "      <td>10.000000</td>\n",
       "    </tr>\n",
       "    <tr>\n",
       "      <th>50%</th>\n",
       "      <td>12.885000</td>\n",
       "      <td>15.000000</td>\n",
       "      <td>15.000000</td>\n",
       "      <td>15.000000</td>\n",
       "    </tr>\n",
       "    <tr>\n",
       "      <th>75%</th>\n",
       "      <td>16.000000</td>\n",
       "      <td>16.670000</td>\n",
       "      <td>17.860000</td>\n",
       "      <td>18.000000</td>\n",
       "    </tr>\n",
       "    <tr>\n",
       "      <th>max</th>\n",
       "      <td>30.000000</td>\n",
       "      <td>30.000000</td>\n",
       "      <td>35.000000</td>\n",
       "      <td>55.000000</td>\n",
       "    </tr>\n",
       "  </tbody>\n",
       "</table>\n",
       "</div>"
      ],
      "text/plain": [
       "          shar1_1     shar1_s     shar1_2     shar1_3\n",
       "count  274.000000  115.000000  237.000000  146.000000\n",
       "mean    12.419781   13.866261   13.916962   14.129589\n",
       "std      6.136102    5.907598    6.643789    6.846931\n",
       "min      0.000000    0.000000    0.000000    0.000000\n",
       "25%     10.000000   10.000000   10.000000   10.000000\n",
       "50%     12.885000   15.000000   15.000000   15.000000\n",
       "75%     16.000000   16.670000   17.860000   18.000000\n",
       "max     30.000000   30.000000   35.000000   55.000000"
      ]
     },
     "execution_count": 44,
     "metadata": {},
     "output_type": "execute_result"
    }
   ],
   "source": [
    "stuff_for_shar_hist.describe()"
   ]
  },
  {
   "cell_type": "code",
   "execution_count": 45,
   "metadata": {
    "collapsed": false
   },
   "outputs": [],
   "source": [
    "#holder"
   ]
  },
  {
   "cell_type": "code",
   "execution_count": 46,
   "metadata": {
    "collapsed": false
   },
   "outputs": [
    {
     "data": {
      "text/plain": [
       "13.19047619047619"
      ]
     },
     "execution_count": 46,
     "metadata": {},
     "output_type": "execute_result"
    }
   ],
   "source": [
    "unique_iid[unique_iid['gender'] == 1].describe()['gender']['count'] / 21"
   ]
  }
 ],
 "metadata": {
  "kernelspec": {
   "display_name": "Python 2",
   "language": "python",
   "name": "python2"
  },
  "language_info": {
   "codemirror_mode": {
    "name": "ipython",
    "version": 2
   },
   "file_extension": ".py",
   "mimetype": "text/x-python",
   "name": "python",
   "nbconvert_exporter": "python",
   "pygments_lexer": "ipython2",
   "version": "2.7.12"
  }
 },
 "nbformat": 4,
 "nbformat_minor": 0
}
