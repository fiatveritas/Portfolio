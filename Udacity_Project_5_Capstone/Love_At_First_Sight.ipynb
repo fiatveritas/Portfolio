{
 "cells": [
  {
   "cell_type": "markdown",
   "metadata": {
    "deletable": true,
    "editable": true
   },
   "source": [
    "<h1>Speed Dating: Who to Date Long Term</h1>"
   ]
  },
  {
   "cell_type": "markdown",
   "metadata": {
    "deletable": true,
    "editable": true
   },
   "source": [
    "What influences love at first sight? (Or, at least, love in the first four minutes?) This dataset was compiled by Columbia Business School professors Ray Fisman and Sheena Iyengar for their paper Gender Differences in Mate Selection: Evidence From a Speed Dating Experiment.<br>\n",
    "\n",
    "Data was gathered from participants in experimental speed dating events from 2002-2004. During the events, the attendees would have a four minute \"first date\" with every other participant of the opposite sex. At the end of their four minutes, participants were asked if they would like to see their date again. They were also asked to rate their date on six attributes: Attractiveness, Sincerity, Intelligence, Fun, Ambition, and Shared Interests.<br>\n",
    "\n",
    "The dataset also includes questionnaire data gathered from participants at different points in the process. These fields include: demographics, dating habits, self-perception across key attributes, beliefs on what others find valuable in a mate, and lifestyle information. See the Speed Dating Data Key document below for details.<br>\n",
    "\n",
    "For more analysis from Iyengar and Fisman, read Racial Preferences in Dating.<br>\n",
    "\n",
    "Data Exploration Ideas<br>\n",
    "\n",
    "What are the least desirable attributes in a male partner? Does this differ for female partners?<br>\n",
    "How important do people think attractiveness is in potential mate selection vs. its real impact?<br>\n",
    "Are shared interests more important than a shared racial background?<br>\n",
    "Can people accurately predict their own perceived value in the dating market?<br>\n",
    "In terms of getting a second date, is it better to be someone's first speed date of the night or their last?"
   ]
  },
  {
   "cell_type": "markdown",
   "metadata": {},
   "source": [
    "<h2>Import Libraries</h2>"
   ]
  },
  {
   "cell_type": "code",
   "execution_count": 1,
   "metadata": {
    "collapsed": false,
    "deletable": true,
    "editable": true
   },
   "outputs": [
    {
     "name": "stdout",
     "output_type": "stream",
     "text": [
      "pandas version is 0.18.0.\n",
      "numpy version is 1.10.4.\n",
      "scikit-learn version is 0.17.1.\n",
      "seaborn version is 0.7.1.\n",
      "matplotlib version is 1.5.1.\n"
     ]
    }
   ],
   "source": [
    "import pandas as pd\n",
    "import numpy as np\n",
    "import sklearn\n",
    "import seaborn as sns\n",
    "import matplotlib\n",
    "import matplotlib.pyplot as plt\n",
    "from IPython.display import display\n",
    "%matplotlib inline\n",
    "pd.set_option('display.max_columns', None)\n",
    "#pd.set_option('display.max_rows', None)\n",
    "\n",
    "print('pandas version is {}.'.format(pd.__version__))\n",
    "print('numpy version is {}.'.format(np.__version__))\n",
    "print('scikit-learn version is {}.'.format(sklearn.__version__))\n",
    "print('seaborn version is {}.'.format(sns.__version__))\n",
    "print('matplotlib version is {}.'.format(matplotlib.__version__))\n"
   ]
  },
  {
   "cell_type": "code",
   "execution_count": 2,
   "metadata": {
    "collapsed": false,
    "deletable": true,
    "editable": true
   },
   "outputs": [
    {
     "name": "stdout",
     "output_type": "stream",
     "text": [
      "This set has 8378 data points and 195 features.\n"
     ]
    }
   ],
   "source": [
    "data = pd.read_csv(\"Speed Dating Data.csv\")\n",
    "print \"This set has {} data points and {} features.\".format(*data.shape)"
   ]
  },
  {
   "cell_type": "markdown",
   "metadata": {
    "deletable": true,
    "editable": true
   },
   "source": [
    "<h1>Data Exploration</h1>"
   ]
  },
  {
   "cell_type": "markdown",
   "metadata": {},
   "source": [
    "<h4>Samples for each Feature</h4>"
   ]
  },
  {
   "cell_type": "code",
   "execution_count": 3,
   "metadata": {
    "collapsed": false
   },
   "outputs": [
    {
     "name": "stdout",
     "output_type": "stream",
     "text": [
      "\tiid 8378 \t\tid 8377 \t\tgender 8378 \t\tidg 8378 \t\tcondtn 8378 \t\twave 8378 \t\tround 8378 \t\tposition 8378 \t\tpositin1 6532 \t\torder 8378 \t\tpartner 8378 \t\tpid 8368 \t\tmatch 8378 \t\tint_corr 8220 \t\tsamerace 8378 \t\tage_o 8274 \t\trace_o 8305 \t\tpf_o_att 8289 \t\tpf_o_sin 8289 \t\tpf_o_int 8289 \t\tpf_o_fun 8280 \t\tpf_o_amb 8271 \t\tpf_o_sha 8249 \t\tdec_o 8378 \t\tattr_o 8166 \t\tsinc_o 8091 \t\tintel_o 8072 \t\tfun_o 8018 \t\tamb_o 7656 \t\tshar_o 7302 \t\tlike_o 8128 \t\tprob_o 8060 \t\tmet_o 7993 \t\tage 8283 \t\tfield 8315 \t\tfield_cd 8296 \t\tundergra 4914 \t\tmn_sat 3133 \t\ttuition 3583 \t\trace 8315 \t\timprace 8299 \t\timprelig 8299 \t\tfrom 8299 \t\tzipcode 7314 \t\tincome 4279 \t\tgoal 8299 \t\tdate 8281 \t\tgo_out 8299 \t\tcareer 8289 \t\tcareer_c 8240 \t\tsports 8299 \t\ttvsports 8299 \t\texercise 8299 \t\tdining 8299 \t\tmuseums 8299 \t\tart 8299 \t\thiking 8299 \t\tgaming 8299 \t\tclubbing 8299 \t\treading 8299 \t\ttv 8299 \t\ttheater 8299 \t\tmovies 8299 \t\tconcerts 8299 \t\tmusic 8299 \t\tshopping 8299 \t\tyoga 8299 \t\texphappy 8277 \t\texpnum 1800 \t\tattr1_1 8299 \t\tsinc1_1 8299 \t\tintel1_1 8299 \t\tfun1_1 8289 \t\tamb1_1 8279 \t\tshar1_1 8257 \t\tattr4_1 6489 \t\tsinc4_1 6489 \t\tintel4_1 6489 \t\tfun4_1 6489 \t\tamb4_1 6489 \t\tshar4_1 6467 \t\tattr2_1 8299 \t\tsinc2_1 8299 \t\tintel2_1 8299 \t\tfun2_1 8299 \t\tamb2_1 8289 \t\tshar2_1 8289 \t\tattr3_1 8273 \t\tsinc3_1 8273 \t\tfun3_1 8273 \t\tintel3_1 8273 \t\tamb3_1 8273 \t\tattr5_1 4906 \t\tsinc5_1 4906 \t\tintel5_1 4906 \t\tfun5_1 4906 \t\tamb5_1 4906 \t\tdec 8378 \t\tattr 8176 \t\tsinc 8101 \t\tintel 8082 \t\tfun 8028 \t\tamb 7666 \t\tshar 7311 \t\tlike 8138 \t\tprob 8069 \t\tmet 8003 \t\tmatch_es 7205 \t\tattr1_s 4096 \t\tsinc1_s 4096 \t\tintel1_s 4096 \t\tfun1_s 4096 \t\tamb1_s 4096 \t\tshar1_s 4096 \t\tattr3_s 4000 \t\tsinc3_s 4000 \t\tintel3_s 4000 \t\tfun3_s 4000 \t\tamb3_s 4000 \t\tsatis_2 7463 \t\tlength 7463 \t\tnumdat_2 7433 \t\tattr7_2 1984 \t\tsinc7_2 1955 \t\tintel7_2 1984 \t\tfun7_2 1984 \t\tamb7_2 1955 \t\tshar7_2 1974 \t\tattr1_2 7445 \t\tsinc1_2 7463 \t\tintel1_2 7463 \t\tfun1_2 7463 \t\tamb1_2 7463 \t\tshar1_2 7463 \t\tattr4_2 5775 \t\tsinc4_2 5775 \t\tintel4_2 5775 \t\tfun4_2 5775 \t\tamb4_2 5775 \t\tshar4_2 5775 \t\tattr2_2 5775 \t\tsinc2_2 5775 \t\tintel2_2 5775 \t\tfun2_2 5775 \t\tamb2_2 5775 \t\tshar2_2 5775 \t\tattr3_2 7463 \t\tsinc3_2 7463 \t\tintel3_2 7463 \t\tfun3_2 7463 \t\tamb3_2 7463 \t\tattr5_2 4377 \t\tsinc5_2 4377 \t\tintel5_2 4377 \t\tfun5_2 4377 \t\tamb5_2 4377 \t\tyou_call 3974 \t\tthem_cal 3974 \t\tdate_3 3974 \t\tnumdat_3 1496 \t\tnum_in_3 668 \t\tattr1_3 3974 \t\tsinc1_3 3974 \t\tintel1_3 3974 \t\tfun1_3 3974 \t\tamb1_3 3974 \t\tshar1_3 3974 \t\tattr7_3 2016 \t\tsinc7_3 2016 \t\tintel7_3 2016 \t\tfun7_3 2016 \t\tamb7_3 2016 \t\tshar7_3 2016 \t\tattr4_3 2959 \t\tsinc4_3 2959 \t\tintel4_3 2959 \t\tfun4_3 2959 \t\tamb4_3 2959 \t\tshar4_3 2959 \t\tattr2_3 2959 \t\tsinc2_3 2959 \t\tintel2_3 2959 \t\tfun2_3 2959 \t\tamb2_3 2959 \t\tshar2_3 2016 \t\tattr3_3 3974 \t\tsinc3_3 3974 \t\tintel3_3 3974 \t\tfun3_3 3974 \t\tamb3_3 3974 \t\tattr5_3 2016 \t\tsinc5_3 2016 \t\tintel5_3 2016 \t\tfun5_3 2016 \t\tamb5_3 2016 \t"
     ]
    }
   ],
   "source": [
    "import features_creator as fc #importing feature names made in file features_creator.py\n",
    "fc.count_samples_in_features(data)#count samples for each feature"
   ]
  },
  {
   "cell_type": "markdown",
   "metadata": {},
   "source": [
    "<h4>Scale Numerical features between 0 & 1</h4>"
   ]
  },
  {
   "cell_type": "code",
   "execution_count": 4,
   "metadata": {
    "collapsed": false,
    "deletable": true,
    "editable": true
   },
   "outputs": [],
   "source": [
    "fc.likert_scale_question_3(data)#likert scale from 0 - 10. Some samples were at rating 12. this function brings rating of 12 down to ratings to 10\n",
    "fc.scale_majority_of_features(data)#this function scales most features between 0 - 1\n",
    "fc.scale_exphappy(data)\n",
    "fc.scale_question_4(data)#different waves were at different scales. all scaled repectively between 0 - 1 in this function call\n",
    "fc.convert_income_to_float(data)#income was imported as string this call converts strings to float\n",
    "fc.convert_tuition_to_float(data)#ditto, tuition was imported as strings and are converted to float\n",
    "fc.zipcode_to_float(data)\n",
    "fc.sat_to_float(data)#this function converts sat scores to float"
   ]
  },
  {
   "cell_type": "markdown",
   "metadata": {},
   "source": [
    "<h4>Correlation Heat Map</h4>"
   ]
  },
  {
   "cell_type": "code",
   "execution_count": 5,
   "metadata": {
    "collapsed": false
   },
   "outputs": [
    {
     "data": {
      "image/png": "[encoded data removed]",
      "text/plain": [
       "<matplotlib.figure.Figure at 0xa0bf7f0>"
      ]
     },
     "metadata": {},
     "output_type": "display_data"
    }
   ],
   "source": [
    "fc.make_corr(data[fc.feature_space])"
   ]
  },
  {
   "cell_type": "markdown",
   "metadata": {},
   "source": [
    "<h2>Unique Profiles</h2>"
   ]
  },
  {
   "cell_type": "code",
   "execution_count": 6,
   "metadata": {
    "collapsed": false,
    "deletable": true,
    "editable": true
   },
   "outputs": [],
   "source": [
    "#unique = data.copy()\n",
    "#unique.drop_duplicates(subset = 'iid', keep = 'first', inplace = True)"
   ]
  },
  {
   "cell_type": "markdown",
   "metadata": {},
   "source": [
    "<h4>Stats and Frequency Charts for Females</h4>"
   ]
  },
  {
   "cell_type": "code",
   "execution_count": 7,
   "metadata": {
    "collapsed": false,
    "deletable": true,
    "editable": true
   },
   "outputs": [],
   "source": [
    "#fc.dating_attributes_vs_time_describe(data = unique, gender = 0)"
   ]
  },
  {
   "cell_type": "code",
   "execution_count": 8,
   "metadata": {
    "collapsed": false
   },
   "outputs": [],
   "source": [
    "#fc.dating_attributes_vs_time_hist(data = unique, gender = 0)"
   ]
  },
  {
   "cell_type": "markdown",
   "metadata": {},
   "source": [
    "<h4>Stats and Frequency Charts for Males</h4>"
   ]
  },
  {
   "cell_type": "code",
   "execution_count": 9,
   "metadata": {
    "collapsed": false
   },
   "outputs": [],
   "source": [
    "#fc.dating_attributes_vs_time_describe(data = unique, gender = 1)"
   ]
  },
  {
   "cell_type": "code",
   "execution_count": 10,
   "metadata": {
    "collapsed": false
   },
   "outputs": [],
   "source": [
    "#fc.dating_attributes_vs_time_hist(data = unique, gender = 1)"
   ]
  },
  {
   "cell_type": "markdown",
   "metadata": {},
   "source": [
    "<h2>Create Matched People DataFrame</h2>"
   ]
  },
  {
   "cell_type": "code",
   "execution_count": 11,
   "metadata": {
    "collapsed": false,
    "deletable": true,
    "editable": true
   },
   "outputs": [],
   "source": [
    "#people_matched = data[data['match'] == 1].copy()\n",
    "#people_matched.drop_duplicates(subset = 'iid', keep = 'first', inplace = True)\n",
    "#display(people_matched)"
   ]
  },
  {
   "cell_type": "markdown",
   "metadata": {},
   "source": [
    "<h2>Exploring Matches</h2>"
   ]
  },
  {
   "cell_type": "code",
   "execution_count": 12,
   "metadata": {
    "collapsed": false
   },
   "outputs": [],
   "source": [
    "#people_matched[['iid', 'gender', 'dec'] + fc.features_of_attraction + fc.preferences_of_attraction + ['dec_o', 'pid', 'goal', 'int_corr', 'match']]"
   ]
  },
  {
   "cell_type": "markdown",
   "metadata": {
    "deletable": true,
    "editable": true
   },
   "source": [
    "<h4>Get Index for 'iid' for non-matches</h4>"
   ]
  },
  {
   "cell_type": "code",
   "execution_count": 13,
   "metadata": {
    "collapsed": false
   },
   "outputs": [],
   "source": [
    "#number = [int(i) for i in people_matched['iid']]\n",
    "#not_ever_matched = [i for i in range(1,553) if i not in number]\n",
    "#print not_ever_matched"
   ]
  },
  {
   "cell_type": "code",
   "execution_count": 14,
   "metadata": {
    "collapsed": false
   },
   "outputs": [],
   "source": [
    "#people_not_matched = data[data['iid'].isin(not_ever_matched)].copy()"
   ]
  },
  {
   "cell_type": "markdown",
   "metadata": {},
   "source": [
    "<h2>Exploring Non-Matches</h2>"
   ]
  },
  {
   "cell_type": "code",
   "execution_count": 15,
   "metadata": {
    "collapsed": false
   },
   "outputs": [],
   "source": [
    "#people_not_matched[['iid', 'gender', 'dec'] + fc.features_of_attraction + fc.preferences_of_attraction + ['dec_o', 'pid', 'goal', 'int_corr', 'match']]"
   ]
  },
  {
   "cell_type": "markdown",
   "metadata": {},
   "source": [
    "<h4>Non-Matched Females: Graphs</h4>"
   ]
  },
  {
   "cell_type": "code",
   "execution_count": 16,
   "metadata": {
    "collapsed": false
   },
   "outputs": [],
   "source": [
    "#fc.dating_attributes_vs_time(data = people_not_matched, gender = 0)"
   ]
  },
  {
   "cell_type": "markdown",
   "metadata": {},
   "source": [
    "<h4>Non-Matched Males: Graphs</h4>"
   ]
  },
  {
   "cell_type": "code",
   "execution_count": 17,
   "metadata": {
    "collapsed": false
   },
   "outputs": [],
   "source": [
    "#fc.dating_attributes_vs_time(data = people_not_matched, gender = 1)"
   ]
  },
  {
   "cell_type": "markdown",
   "metadata": {},
   "source": [
    "<h2>Dating Attributes as a function of Time: Distributing 100pts</h2>"
   ]
  },
  {
   "cell_type": "markdown",
   "metadata": {},
   "source": [
    "<h4>Female Attributes</h4>"
   ]
  },
  {
   "cell_type": "code",
   "execution_count": 18,
   "metadata": {
    "collapsed": false
   },
   "outputs": [],
   "source": [
    "#fc.dating_attributes_vs_time_describe(unique[(unique['wave'] >= 6) & (unique['wave']<= 11)], 0)"
   ]
  },
  {
   "cell_type": "markdown",
   "metadata": {},
   "source": [
    "<h4>Male Attributes</h4>"
   ]
  },
  {
   "cell_type": "code",
   "execution_count": 19,
   "metadata": {
    "collapsed": true
   },
   "outputs": [],
   "source": [
    "#fc.dating_attributes_vs_time_describe(unique[(unique['wave'] >= 6) & (unique['wave']<= 11)], 1)"
   ]
  },
  {
   "cell_type": "markdown",
   "metadata": {},
   "source": [
    "<h2>Dating Attributes as a function of Time: Likert Scale</h2>"
   ]
  },
  {
   "cell_type": "markdown",
   "metadata": {},
   "source": [
    "<h4>Female Attributes</h4>"
   ]
  },
  {
   "cell_type": "code",
   "execution_count": 20,
   "metadata": {
    "collapsed": false
   },
   "outputs": [],
   "source": [
    "#fc.dating_attributes_vs_time_describe(unique[(unique['wave'] >= 15) & (unique['wave']<= 20)], 0)"
   ]
  },
  {
   "cell_type": "markdown",
   "metadata": {},
   "source": [
    "<h4>Male Attributes</h4>"
   ]
  },
  {
   "cell_type": "code",
   "execution_count": 21,
   "metadata": {
    "collapsed": true
   },
   "outputs": [],
   "source": [
    "#fc.dating_attributes_vs_time_describe(unique[(unique['wave'] >= 15) & (unique['wave']<= 20)], 1)"
   ]
  },
  {
   "cell_type": "markdown",
   "metadata": {},
   "source": [
    "<h2>ExtraTreeClassifier: Ensemble Learning</h2>"
   ]
  },
  {
   "cell_type": "code",
   "execution_count": 22,
   "metadata": {
    "collapsed": false
   },
   "outputs": [],
   "source": [
    "women_men = data[fc.all_space].copy()"
   ]
  },
  {
   "cell_type": "code",
   "execution_count": 23,
   "metadata": {
    "collapsed": false
   },
   "outputs": [],
   "source": [
    "women_men.dropna(axis = 0, how = 'any', inplace = True)"
   ]
  },
  {
   "cell_type": "markdown",
   "metadata": {},
   "source": [
    "<h3>Both Genders</h3>"
   ]
  },
  {
   "cell_type": "code",
   "execution_count": 24,
   "metadata": {
    "collapsed": false
   },
   "outputs": [],
   "source": [
    "target_df = women_men['dec'].copy()\n",
    "input_df = women_men[fc.feature_space].copy()"
   ]
  },
  {
   "cell_type": "markdown",
   "metadata": {},
   "source": [
    "<h3>ExtraTreeClassifier: Ensemble Learning</h3>"
   ]
  },
  {
   "cell_type": "code",
   "execution_count": 25,
   "metadata": {
    "collapsed": false
   },
   "outputs": [
    {
     "name": "stdout",
     "output_type": "stream",
     "text": [
      "Old Space is (number of samples, number of features) (4771, 78)\n",
      "New Space is (number of samples, number of features) (4771L, 13L)\n"
     ]
    }
   ],
   "source": [
    "from sklearn.ensemble import ExtraTreesClassifier\n",
    "from sklearn.feature_selection import SelectFromModel\n",
    "clf = ExtraTreesClassifier(random_state = 0)\n",
    "clf = clf.fit(input_df, target_df)\n",
    "model = SelectFromModel(clf, prefit=True)\n",
    "input_df_new = model.transform(input_df)\n",
    "print 'Old Space is (number of samples, number of features)', input_df.shape\n",
    "print 'New Space is (number of samples, number of features)', input_df_new.shape"
   ]
  },
  {
   "cell_type": "markdown",
   "metadata": {},
   "source": [
    "<h4>Pair and rank Features of Important</h4>"
   ]
  },
  {
   "cell_type": "code",
   "execution_count": 26,
   "metadata": {
    "collapsed": false,
    "scrolled": false
   },
   "outputs": [
    {
     "name": "stdout",
     "output_type": "stream",
     "text": [
      "(0.08719934203192059, 'like')\n",
      "(0.073517231710954367, 'attr')\n",
      "(0.060677190393373673, 'shar')\n",
      "(0.046856854339198929, 'fun')\n",
      "(0.02411931703354029, 'prob')\n",
      "(0.018639943286502689, 'prob_o')\n",
      "(0.017201097446884181, 'sinc')\n",
      "(0.014566796487924503, 'amb')\n",
      "(0.014147512706396553, 'intel')\n",
      "(0.013335115209298471, 'pf_o_sha')\n",
      "(0.012938283403008424, 'attr_o')\n",
      "(0.012902498216996561, 'order')\n",
      "(0.012869007070778366, 'pf_o_att')\n",
      "(0.012386790154050432, 'pid')\n",
      "(0.012347604159748973, 'sinc_o')\n",
      "(0.012193901200407257, 'shar_o')\n",
      "(0.011861872727354263, 'int_corr')\n",
      "(0.01152917159852892, 'intel_o')\n",
      "(0.011287245516955893, 'go_out')\n",
      "(0.011242624625603683, 'like_o')\n",
      "(0.011221350273296996, 'age_o')\n",
      "(0.011103299789043859, 'pf_o_amb')\n",
      "(0.011091794702037349, 'pf_o_int')\n",
      "(0.010966972559424699, 'pf_o_sin')\n",
      "(0.010963403747974337, 'amb_o')\n",
      "(0.010904888922498617, 'gender')\n",
      "(0.010830639098182219, 'fun_o')\n",
      "(0.010639848890732799, 'pf_o_fun')\n",
      "(0.010408986176807347, 'exphappy')\n",
      "(0.010383900021382888, 'intel2_1')\n",
      "(0.010352712322308794, 'exercise')\n",
      "(0.010339894203002851, 'race_o')\n",
      "(0.0098198604194802558, 'intel1_1')\n",
      "(0.0097165230987376304, 'amb1_1')\n",
      "(0.0096458519218719074, 'sports')\n",
      "(0.0096085654127748242, 'iid')\n",
      "(0.0094321631124200181, 'imprace')\n",
      "(0.0092853219095758513, 'dec_o')\n",
      "(0.0090890765225775712, 'theater')\n",
      "(0.0090454745532443145, 'gaming')\n",
      "(0.0090414321997167191, 'zipcode')\n",
      "(0.0089466726785371337, 'met')\n",
      "(0.0088930396490365625, 'tv')\n",
      "(0.008892800894484099, 'tvsports')\n",
      "(0.0088917683300559301, 'amb2_1')\n",
      "(0.008735532204108153, 'attr2_1')\n",
      "(0.0087290117264655475, 'shopping')\n",
      "(0.0086798919075934851, 'dining')\n",
      "(0.0086584367059445895, 'museums')\n",
      "(0.0085975422545373631, 'sinc3_1')\n",
      "(0.0085909402441221756, 'shar2_1')\n",
      "(0.0085542702264059661, 'fun3_1')\n",
      "(0.0084596358231806609, 'fun1_1')\n",
      "(0.0084476361995355492, 'field_cd')\n",
      "(0.0084019358015610616, 'sinc2_1')\n",
      "(0.0083499369698615614, 'samerace')\n",
      "(0.0083182907464334783, 'clubbing')\n",
      "(0.0082848055741773906, 'attr3_1')\n",
      "(0.0082240552223222328, 'hiking')\n",
      "(0.0081274112628045726, 'shar1_1')\n",
      "(0.0078657494663309478, 'amb3_1')\n",
      "(0.007767907641880639, 'fun2_1')\n",
      "(0.0077163134760990185, 'career_c')\n",
      "(0.0077058459713416462, 'reading')\n",
      "(0.0076863721665732547, 'yoga')\n",
      "(0.0076812831908577937, 'imprelig')\n",
      "(0.0076477985677187357, 'attr1_1')\n",
      "(0.0075297556134812527, 'movies')\n",
      "(0.0075164997568098243, 'art')\n",
      "(0.0074666526213783974, 'concerts')\n",
      "(0.0074276424972236684, 'goal')\n",
      "(0.0073594295201662953, 'date')\n",
      "(0.0073319575434222222, 'intel3_1')\n",
      "(0.0071691567941712178, 'sinc1_1')\n",
      "(0.0069730021849677319, 'music')\n",
      "(0.0069537380121346536, 'age')\n",
      "(0.0067434541703851655, 'race')\n",
      "(0.0049624672073711983, 'met_o')\n"
     ]
    }
   ],
   "source": [
    "tuple_holder = [(j, i) for i, j in zip(fc.feature_space, clf.feature_importances_)]\n",
    "tuple_holder.sort()\n",
    "tuple_holder.reverse()\n",
    "for i in tuple_holder:\n",
    "    print i"
   ]
  },
  {
   "cell_type": "markdown",
   "metadata": {},
   "source": [
    "<h2>Look at Which Features Have More than 7000 Samples</h2>"
   ]
  },
  {
   "cell_type": "code",
   "execution_count": 27,
   "metadata": {
    "collapsed": false
   },
   "outputs": [
    {
     "name": "stdout",
     "output_type": "stream",
     "text": [
      "\tid 8377 \t\tidg 8378 \t\tcondtn 8378 \t\twave 8378 \t\tround 8378 \t\tposition 8378 \t\tpartner 8378 \t\tfield 8315 \t\tfrom 8299 \t\tcareer 8289 \t\tmatch_es 7205 \t\tsatis_2 7463 \t\tlength 7463 \t\tnumdat_2 7433 \t\tattr1_2 7445 \t\tsinc1_2 7463 \t\tintel1_2 7463 \t\tfun1_2 7463 \t\tamb1_2 7463 \t\tshar1_2 7463 \t\tattr3_2 7463 \t\tsinc3_2 7463 \t\tintel3_2 7463 \t\tfun3_2 7463 \t\tamb3_2 7463 \t"
     ]
    }
   ],
   "source": [
    "for i, j in zip(data.keys(), data.count()):\n",
    "    if j > 7000:\n",
    "        if i not in fc.all_space:\n",
    "            print '\\t', i, j, '\\t',"
   ]
  },
  {
   "cell_type": "code",
   "execution_count": 28,
   "metadata": {
    "collapsed": false
   },
   "outputs": [],
   "source": [
    "#for i, j in fc.data_cleaner.iteritems():\n",
    "#    print i, j, '\\n'\n",
    "#for i, j in fc.master_list.items():\n",
    "#    print i, j, '\\n'\n",
    "#print 'clean_up_1', '\\n', fc.clean_up_1, '\\n'\n",
    "#print 'clean_up_2', '\\n', fc.clean_up_2, '\\n'\n",
    "#print 'clean_up_3', '\\n', fc.clean_up_3, '\\n'\n",
    "#print 'clean_up_4', '\\n', fc.clean_up_4, '\\n'\n",
    "#print 'clean_up_5', '\\n', fc.clean_up_5, '\\n'\n",
    "#print 'features_of_attraction', '\\n', fc.features_of_attraction, '\\n'\n",
    "#print 'actual_decisions', '\\n', fc.actual_decisions, '\\n'\n",
    "#print 'preferences_of_attraction', '\\n', fc.preferences_of_attraction, '\\n'\n",
    "#print 'rating_by_partner_features', '\\n', fc.rating_by_partner_features, '\\n'\n",
    "#print 'halfway_questions', '\\n', fc.halfway_questions, '\\n'\n",
    "#print 'interests', '\\n', fc.interests, '\\n'\n",
    "#print 'list_of_lists', '\\n', fc.list_of_lists, '\\n'\n",
    "#print 'feature_space', '\\n', fc.feature_space, '\\n'\n",
    "#print 'all_space', '\\n', fc.all_space, '\\n'\n",
    "#print 'all columns in dataset', '\\n'\n",
    "#for i in data.keys():\n",
    "#    print i,\n",
    "to_drop = [i for i in data.keys() if i not in fc.all_space]\n",
    "#print '\\n'*2, 'to_drop', '\\n', to_drop, '\\n'"
   ]
  },
  {
   "cell_type": "code",
   "execution_count": 29,
   "metadata": {
    "collapsed": false
   },
   "outputs": [
    {
     "name": "stdout",
     "output_type": "stream",
     "text": [
      "iid gender age zipcode race imprace imprelig like prob goal go_out date field_cd career_c exphappy met attr1_1 sinc1_1 intel1_1 fun1_1 amb1_1 shar1_1 attr2_1 sinc2_1 intel2_1 fun2_1 amb2_1 shar2_1 attr3_1 sinc3_1 intel3_1 fun3_1 amb3_1 attr sinc intel fun amb shar sports tvsports exercise dining museums art hiking gaming clubbing reading tv theater movies concerts music shopping yoga pid order age_o race_o samerace like_o prob_o int_corr dec_o met_o pf_o_att pf_o_sin pf_o_int pf_o_fun pf_o_amb pf_o_sha attr_o sinc_o intel_o fun_o amb_o shar_o\n"
     ]
    }
   ],
   "source": [
    "for i in fc.feature_space:\n",
    "    print i,"
   ]
  }
 ],
 "metadata": {
  "kernelspec": {
   "display_name": "Python 2",
   "language": "python",
   "name": "python2"
  },
  "language_info": {
   "codemirror_mode": {
    "name": "ipython",
    "version": 2
   },
   "file_extension": ".py",
   "mimetype": "text/x-python",
   "name": "python",
   "nbconvert_exporter": "python",
   "pygments_lexer": "ipython2",
   "version": "2.7.12"
  }
 },
 "nbformat": 4,
 "nbformat_minor": 0
}
