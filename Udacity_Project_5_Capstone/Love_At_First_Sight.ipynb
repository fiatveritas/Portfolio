{
 "cells": [
  {
   "cell_type": "markdown",
   "metadata": {
    "deletable": true,
    "editable": true
   },
   "source": [
    "<h1>Speed Dating: Who to Date Long Term</h1>"
   ]
  },
  {
   "cell_type": "markdown",
   "metadata": {
    "deletable": true,
    "editable": true
   },
   "source": [
    "What influences love at first sight? (Or, at least, love in the first four minutes?) This dataset was compiled by Columbia Business School professors Ray Fisman and Sheena Iyengar for their paper Gender Differences in Mate Selection: Evidence From a Speed Dating Experiment.<br>\n",
    "\n",
    "Data was gathered from participants in experimental speed dating events from 2002-2004. During the events, the attendees would have a four minute \"first date\" with every other participant of the opposite sex. At the end of their four minutes, participants were asked if they would like to see their date again. They were also asked to rate their date on six attributes: Attractiveness, Sincerity, Intelligence, Fun, Ambition, and Shared Interests.<br>\n",
    "\n",
    "The dataset also includes questionnaire data gathered from participants at different points in the process. These fields include: demographics, dating habits, self-perception across key attributes, beliefs on what others find valuable in a mate, and lifestyle information. See the Speed Dating Data Key document below for details.<br>\n",
    "\n",
    "For more analysis from Iyengar and Fisman, read Racial Preferences in Dating.<br>\n",
    "\n",
    "Data Exploration Ideas<br>\n",
    "\n",
    "What are the least desirable attributes in a male partner? Does this differ for female partners?<br>\n",
    "How important do people think attractiveness is in potential mate selection vs. its real impact?<br>\n",
    "Are shared interests more important than a shared racial background?<br>\n",
    "Can people accurately predict their own perceived value in the dating market?<br>\n",
    "In terms of getting a second date, is it better to be someone's first speed date of the night or their last?"
   ]
  },
  {
   "cell_type": "markdown",
   "metadata": {},
   "source": [
    "<h2>Import Libraries</h2>"
   ]
  },
  {
   "cell_type": "code",
   "execution_count": 1,
   "metadata": {
    "collapsed": false,
    "deletable": true,
    "editable": true
   },
   "outputs": [
    {
     "name": "stdout",
     "output_type": "stream",
     "text": [
      "pandas version is 0.18.0.\n",
      "numpy version is 1.10.4.\n",
      "scikit-learn version is 0.17.1.\n",
      "seaborn version is 0.7.1.\n",
      "matplotlib version is 1.5.1.\n"
     ]
    }
   ],
   "source": [
    "import pandas as pd\n",
    "import numpy as np\n",
    "import sklearn\n",
    "import seaborn as sns\n",
    "import matplotlib\n",
    "import matplotlib.pyplot as plt\n",
    "from IPython.display import display\n",
    "%matplotlib inline\n",
    "pd.set_option('display.max_columns', None)\n",
    "#pd.set_option('display.max_rows', None)\n",
    "\n",
    "print('pandas version is {}.'.format(pd.__version__))\n",
    "print('numpy version is {}.'.format(np.__version__))\n",
    "print('scikit-learn version is {}.'.format(sklearn.__version__))\n",
    "print('seaborn version is {}.'.format(sns.__version__))\n",
    "print('matplotlib version is {}.'.format(matplotlib.__version__))"
   ]
  },
  {
   "cell_type": "code",
   "execution_count": 2,
   "metadata": {
    "collapsed": false,
    "deletable": true,
    "editable": true
   },
   "outputs": [
    {
     "name": "stdout",
     "output_type": "stream",
     "text": [
      "This set has 8378 data points and 195 features.\n"
     ]
    }
   ],
   "source": [
    "data = pd.read_csv(\"Speed Dating Data.csv\")\n",
    "print \"This set has {} data points and {} features.\".format(*data.shape)"
   ]
  },
  {
   "cell_type": "markdown",
   "metadata": {
    "deletable": true,
    "editable": true
   },
   "source": [
    "<h1>Data Exploration</h1>"
   ]
  },
  {
   "cell_type": "markdown",
   "metadata": {},
   "source": [
    "<h4>Samples for each Feature</h4>"
   ]
  },
  {
   "cell_type": "code",
   "execution_count": 3,
   "metadata": {
    "collapsed": false,
    "scrolled": true
   },
   "outputs": [
    {
     "name": "stdout",
     "output_type": "stream",
     "text": [
      "wave 8378 ||| samerace 8378 ||| round 8378 ||| position 8378 ||| partner 8378 ||| order 8378 ||| match 8378 ||| iid 8378 ||| idg 8378 ||| gender 8378 ||| dec_o 8378 ||| dec 8378 ||| condtn 8378 ||| id 8377 ||| pid 8368 ||| race 8315 ||| field 8315 ||| race_o 8305 ||| yoga 8299 ||| tvsports 8299 ||| tv 8299 ||| theater 8299 ||| sports 8299 ||| sinc2_1 8299 ||| sinc1_1 8299 ||| shopping 8299 ||| reading 8299 ||| music 8299 ||| museums 8299 ||| movies 8299 ||| intel2_1 8299 ||| intel1_1 8299 ||| imprelig 8299 ||| imprace 8299 ||| hiking 8299 ||| goal 8299 ||| go_out 8299 ||| gaming 8299 ||| fun2_1 8299 ||| from 8299 ||| exercise 8299 ||| dining 8299 ||| concerts 8299 ||| clubbing 8299 ||| attr2_1 8299 ||| attr1_1 8299 ||| art 8299 ||| field_cd 8296 ||| shar2_1 8289 ||| pf_o_sin 8289 ||| pf_o_int 8289 ||| pf_o_att 8289 ||| fun1_1 8289 ||| career 8289 ||| amb2_1 8289 ||| age 8283 ||| date 8281 ||| pf_o_fun 8280 ||| amb1_1 8279 ||| exphappy 8277 ||| age_o 8274 ||| sinc3_1 8273 ||| intel3_1 8273 ||| fun3_1 8273 ||| attr3_1 8273 ||| amb3_1 8273 ||| pf_o_amb 8271 ||| shar1_1 8257 ||| pf_o_sha 8249 ||| career_c 8240 ||| int_corr 8220 ||| attr 8176 ||| attr_o 8166 ||| like 8138 ||| like_o 8128 ||| sinc 8101 ||| sinc_o 8091 ||| intel 8082 ||| intel_o 8072 ||| prob 8069 ||| prob_o 8060 ||| fun 8028 ||| fun_o 8018 ||| met 8003 ||| met_o 7993 ||| amb 7666 ||| amb_o 7656 ||| sinc3_2 7463 ||| sinc1_2 7463 ||| shar1_2 7463 ||| satis_2 7463 ||| length 7463 ||| intel3_2 7463 ||| intel1_2 7463 ||| fun3_2 7463 ||| fun1_2 7463 ||| attr3_2 7463 ||| amb3_2 7463 ||| amb1_2 7463 ||| attr1_2 7445 ||| numdat_2 7433 ||| zipcode 7314 ||| shar 7311 ||| shar_o 7302 ||| match_es 7205 ||| positin1 6532 ||| sinc4_1 6489 ||| intel4_1 6489 ||| fun4_1 6489 ||| attr4_1 6489 ||| amb4_1 6489 ||| shar4_1 6467 ||| sinc4_2 5775 ||| sinc2_2 5775 ||| shar4_2 5775 ||| shar2_2 5775 ||| intel4_2 5775 ||| intel2_2 5775 ||| fun4_2 5775 ||| fun2_2 5775 ||| attr4_2 5775 ||| attr2_2 5775 ||| amb4_2 5775 ||| amb2_2 5775 ||| undergra 4914 ||| sinc5_1 4906 ||| intel5_1 4906 ||| fun5_1 4906 ||| attr5_1 4906 ||| amb5_1 4906 ||| sinc5_2 4377 ||| intel5_2 4377 ||| fun5_2 4377 ||| attr5_2 4377 ||| amb5_2 4377 ||| income 4279 ||| sinc1_s 4096 ||| shar1_s 4096 ||| intel1_s 4096 ||| fun1_s 4096 ||| attr1_s 4096 ||| amb1_s 4096 ||| sinc3_s 4000 ||| intel3_s 4000 ||| fun3_s 4000 ||| attr3_s 4000 ||| amb3_s 4000 ||| you_call 3974 ||| them_cal 3974 ||| sinc3_3 3974 ||| sinc1_3 3974 ||| shar1_3 3974 ||| intel3_3 3974 ||| intel1_3 3974 ||| fun3_3 3974 ||| fun1_3 3974 ||| date_3 3974 ||| attr3_3 3974 ||| attr1_3 3974 ||| amb3_3 3974 ||| amb1_3 3974 ||| tuition 3583 ||| mn_sat 3133 ||| sinc4_3 2959 ||| sinc2_3 2959 ||| shar4_3 2959 ||| intel4_3 2959 ||| intel2_3 2959 ||| fun4_3 2959 ||| fun2_3 2959 ||| attr4_3 2959 ||| attr2_3 2959 ||| amb4_3 2959 ||| amb2_3 2959 ||| sinc7_3 2016 ||| sinc5_3 2016 ||| shar7_3 2016 ||| shar2_3 2016 ||| intel7_3 2016 ||| intel5_3 2016 ||| fun7_3 2016 ||| fun5_3 2016 ||| attr7_3 2016 ||| attr5_3 2016 ||| amb7_3 2016 ||| amb5_3 2016 ||| intel7_2 1984 ||| fun7_2 1984 ||| attr7_2 1984 ||| shar7_2 1974 ||| sinc7_2 1955 ||| amb7_2 1955 ||| expnum 1800 ||| numdat_3 1496 ||| num_in_3 668 |||\n"
     ]
    }
   ],
   "source": [
    "import features_creator as fc #importing feature names made in file features_creator.py\n",
    "fc.count_samples_in_features(data)#count samples for each feature"
   ]
  },
  {
   "cell_type": "markdown",
   "metadata": {},
   "source": [
    "<h4>Features Space of interest (with most samples avalaible)</h4>"
   ]
  },
  {
   "cell_type": "code",
   "execution_count": 4,
   "metadata": {
    "collapsed": false
   },
   "outputs": [
    {
     "name": "stdout",
     "output_type": "stream",
     "text": [
      "samerace 8378 ||| order 8378 ||| iid 8378 ||| gender 8378 ||| pid 8368 ||| race 8315 ||| race_o 8305 ||| yoga 8299 ||| tvsports 8299 ||| tv 8299 ||| theater 8299 ||| sports 8299 ||| sinc2_1 8299 ||| sinc1_1 8299 ||| shopping 8299 ||| reading 8299 ||| music 8299 ||| museums 8299 ||| movies 8299 ||| intel2_1 8299 ||| intel1_1 8299 ||| imprelig 8299 ||| imprace 8299 ||| hiking 8299 ||| goal 8299 ||| go_out 8299 ||| gaming 8299 ||| fun2_1 8299 ||| exercise 8299 ||| dining 8299 ||| concerts 8299 ||| clubbing 8299 ||| attr2_1 8299 ||| attr1_1 8299 ||| art 8299 ||| field_cd 8296 ||| shar2_1 8289 ||| pf_o_sin 8289 ||| pf_o_int 8289 ||| pf_o_att 8289 ||| fun1_1 8289 ||| amb2_1 8289 ||| age 8283 ||| date 8281 ||| pf_o_fun 8280 ||| amb1_1 8279 ||| exphappy 8277 ||| age_o 8274 ||| sinc3_1 8273 ||| intel3_1 8273 ||| fun3_1 8273 ||| attr3_1 8273 ||| amb3_1 8273 ||| pf_o_amb 8271 ||| shar1_1 8257 ||| pf_o_sha 8249 ||| career_c 8240 ||| int_corr 8220 ||| attr 8176 ||| attr_o 8166 ||| like 8138 ||| like_o 8128 ||| sinc 8101 ||| sinc_o 8091 ||| intel 8082 ||| intel_o 8072 ||| prob 8069 ||| prob_o 8060 ||| fun 8028 ||| fun_o 8018 ||| met 8003 ||| met_o 7993 ||| amb 7666 ||| amb_o 7656 ||| zipcode 7314 ||| shar 7311 ||| shar_o 7302 |||\n"
     ]
    }
   ],
   "source": [
    "fc.count_samples_in_features(data[fc.feature_space])"
   ]
  },
  {
   "cell_type": "markdown",
   "metadata": {},
   "source": [
    "<h4>Data Clean Up: Making Sure Features are within Range</h4>"
   ]
  },
  {
   "cell_type": "code",
   "execution_count": 5,
   "metadata": {
    "collapsed": false
   },
   "outputs": [],
   "source": [
    "fc.likert_scale_question_3(data)#Scale from 0 - 10. Bring fix rating of 12 to 10\n",
    "fc.scale_question_3(data)#change to scale from 0 - 100, force that features add to 100\n",
    "fc.scale_question_4(data)#change to scale from 0 - 100, force that features add to 100\n",
    "fc.scale_question_5(data)#change to scale from 0 - 100, force that features add to 100\n",
    "fc.scale_question_1(data)#force that features add to 100, if not the case\n",
    "fc.scale_question_2(data)#force that features add to 100, if not the case\n",
    "fc.scale_question_7(data)#force that features add to 100, if not the case\n",
    "fc.scale_rating_received(data)#change to scale from 0 - 100, force that features add to 100\n",
    "fc.scale_rating_given(data)#change to scale from 0 - 100, force that features add to 100\n",
    "fc.scale_half_way(data)#change to scale from 0 - 100, force that features add to 100\n",
    "fc.scale_half_way_2(data)#change to scale from 0 - 100, force that features add to 100\n",
    "fc.scale_age(data)#change to scale from 0 - 1"
   ]
  },
  {
   "cell_type": "markdown",
   "metadata": {},
   "source": [
    "<h4>Type Casting</h4>"
   ]
  },
  {
   "cell_type": "code",
   "execution_count": 6,
   "metadata": {
    "collapsed": false
   },
   "outputs": [],
   "source": [
    "fc.convert_income_to_float(data)#income was imported as string this call converts strings to float\n",
    "fc.convert_tuition_to_float(data)#ditto, tuition was imported as strings and are converted to float\n",
    "fc.zipcode_to_float(data)#zipcode strings converted to float\n",
    "fc.sat_to_float(data)#this function converts sat scores to float"
   ]
  },
  {
   "cell_type": "markdown",
   "metadata": {},
   "source": [
    "<h4>Outlier Detection: Turkey's Method</h4>"
   ]
  },
  {
   "cell_type": "code",
   "execution_count": 7,
   "metadata": {
    "collapsed": false,
    "scrolled": false
   },
   "outputs": [
    {
     "name": "stdout",
     "output_type": "stream",
     "text": [
      "[8203, 8209, 8219, 8359, 312, 313, 314, 315, 316, 317, 318, 319, 320, 321, 322, 323, 324, 325, 326, 327, 8204, 720, 739, 8217, 828, 829, 830, 831, 832, 833, 834, 835, 836, 837, 838, 839, 840, 841, 842, 843, 844, 845, 846, 847, 911, 920, 921, 951, 961, 981, 991, 1001, 8218, 1695, 1715, 1765, 1785, 1795, 1805, 1825, 1835, 1839, 1841, 1866, 1867, 1868, 1869, 1870, 8208, 8271, 8207, 4861, 5004, 5005, 5006, 5007, 5008, 5009, 5010, 5011, 5012, 5013, 5014, 5015, 5016, 5017, 5018, 5019, 5020, 5021, 5022, 5023, 5032, 5035, 5054, 5074, 5076, 5096, 5114, 5115, 5116, 5117, 5118, 5119, 5120, 5121, 5122, 5123, 5124, 5125, 5126, 5127, 5128, 5129, 5130, 5131, 5138, 5139, 5176, 5246, 5247, 5284, 5295, 5296, 5299, 5302, 5303, 5305, 5306, 5310, 5311, 5320, 5334, 5352, 5355, 5375, 5378, 5388, 5419, 5439, 5481, 5482, 5499, 5510, 5516, 5530, 5536, 5542, 5544, 5552, 5558, 5559, 5560, 5579, 5583, 5604, 5619, 5625, 5639, 5643, 5666, 5689, 5706, 5719, 5739, 5746, 5765, 5784, 5822, 5936, 6031, 6069, 8235, 6122, 6123, 6124, 6126, 6132, 6137, 6139, 6392, 6393, 6394, 6395, 6396, 6397, 6398, 6399, 6400, 6401, 6402, 6403, 6404, 6405, 6406, 6407, 6408, 6409, 8220, 7420, 7422, 7438, 7446, 7468, 7483, 7485, 7493, 7497, 7508, 7534, 7556, 7578, 7588, 7591, 7594, 7597, 7599, 7642, 7650, 7667, 7754, 8344, 7776, 7798, 7820, 7834, 7835, 7946, 8012, 8027, 8051, 8067, 8078, 8095, 8114, 8118, 8144, 8158, 8188]\n"
     ]
    }
   ],
   "source": [
    "index_to_be_removed = fc.outlier_detection(data[fc.feature_space[10:72]]) \n",
    "#these indices span at least 15  features as outliers\n",
    "print index_to_be_removed\n",
    "data.drop(data.index[index_to_be_removed], inplace = True)"
   ]
  },
  {
   "cell_type": "markdown",
   "metadata": {},
   "source": [
    "<h4>Basic Stats for Unique Females</h4>"
   ]
  },
  {
   "cell_type": "code",
   "execution_count": 8,
   "metadata": {
    "collapsed": false,
    "scrolled": true
   },
   "outputs": [],
   "source": [
    "#fc.dating_attributes_vs_time_describe(data = data, gender = 0)"
   ]
  },
  {
   "cell_type": "markdown",
   "metadata": {},
   "source": [
    "<h4>Frequency Charts for Females</h4>"
   ]
  },
  {
   "cell_type": "code",
   "execution_count": 9,
   "metadata": {
    "collapsed": false
   },
   "outputs": [],
   "source": [
    "#fc.dating_attributes_vs_time_hist(data = data, gender = 0)"
   ]
  },
  {
   "cell_type": "markdown",
   "metadata": {},
   "source": [
    "<h4>Basic Stats for Unique Males</h4>"
   ]
  },
  {
   "cell_type": "code",
   "execution_count": 10,
   "metadata": {
    "collapsed": false,
    "scrolled": true
   },
   "outputs": [],
   "source": [
    "#fc.dating_attributes_vs_time_describe(data = data, gender = 1)"
   ]
  },
  {
   "cell_type": "markdown",
   "metadata": {},
   "source": [
    "<h4>Frequency Charts for Males</h4>"
   ]
  },
  {
   "cell_type": "code",
   "execution_count": 11,
   "metadata": {
    "collapsed": false
   },
   "outputs": [],
   "source": [
    "#fc.dating_attributes_vs_time_hist(data = data, gender = 1)"
   ]
  },
  {
   "cell_type": "markdown",
   "metadata": {},
   "source": [
    "<h4>Scale Numerical features between 0 & 1</h4>"
   ]
  },
  {
   "cell_type": "code",
   "execution_count": 12,
   "metadata": {
    "collapsed": false,
    "deletable": true,
    "editable": true
   },
   "outputs": [],
   "source": [
    "fc.scale_majority_of_features(data)#this function scales most features between 0 - 1\n",
    "fc.scale_exphappy(data)"
   ]
  },
  {
   "cell_type": "markdown",
   "metadata": {},
   "source": [
    "<h4>Correlation Heat Map</h4>"
   ]
  },
  {
   "cell_type": "code",
   "execution_count": 13,
   "metadata": {
    "collapsed": false,
    "scrolled": true
   },
   "outputs": [],
   "source": [
    "#fc.make_corr(data[fc.feature_space])"
   ]
  },
  {
   "cell_type": "markdown",
   "metadata": {},
   "source": [
    "<h2>Forest Feature Selection: ExtraTreesClassifier & RandomForestClassifier</h2>"
   ]
  },
  {
   "cell_type": "code",
   "execution_count": 14,
   "metadata": {
    "collapsed": false
   },
   "outputs": [],
   "source": [
    "women_men = data[fc.all_space].copy()"
   ]
  },
  {
   "cell_type": "code",
   "execution_count": 15,
   "metadata": {
    "collapsed": false
   },
   "outputs": [],
   "source": [
    "women_men.dropna(axis = 0, how = 'any', inplace = True)"
   ]
  },
  {
   "cell_type": "markdown",
   "metadata": {},
   "source": [
    "<h4>Both Genders</h4>"
   ]
  },
  {
   "cell_type": "code",
   "execution_count": 16,
   "metadata": {
    "collapsed": false
   },
   "outputs": [],
   "source": [
    "target_df = women_men['dec'].copy()\n",
    "input_df = women_men[fc.feature_space].copy()"
   ]
  },
  {
   "cell_type": "code",
   "execution_count": 17,
   "metadata": {
    "collapsed": false,
    "scrolled": true
   },
   "outputs": [],
   "source": [
    "#fc.forests(input_df, target_df)"
   ]
  },
  {
   "cell_type": "markdown",
   "metadata": {},
   "source": [
    "<h4>Feature Selection: SelectKBest, F-Classifier</h4>"
   ]
  },
  {
   "cell_type": "code",
   "execution_count": 18,
   "metadata": {
    "collapsed": false,
    "scrolled": true
   },
   "outputs": [],
   "source": [
    "#fc.f_classifier_selection(input_df, target_df)"
   ]
  },
  {
   "cell_type": "markdown",
   "metadata": {},
   "source": [
    "<h4>Create Array of Selected Features</h4>"
   ]
  },
  {
   "cell_type": "code",
   "execution_count": 19,
   "metadata": {
    "collapsed": false
   },
   "outputs": [
    {
     "name": "stdout",
     "output_type": "stream",
     "text": [
      "['like', 'attr', 'intel', 'shar', 'sinc', 'amb', 'fun', 'prob']\n"
     ]
    }
   ],
   "source": [
    "features_selected = ['like', 'attr', 'intel', 'shar', 'sinc', 'amb', 'fun', 'prob']\n",
    "print features_selected"
   ]
  },
  {
   "cell_type": "markdown",
   "metadata": {},
   "source": [
    "<h4>Feature Selection: Chi2</h4>"
   ]
  },
  {
   "cell_type": "code",
   "execution_count": 20,
   "metadata": {
    "collapsed": false,
    "scrolled": true
   },
   "outputs": [],
   "source": [
    "from sklearn import preprocessing\n",
    "new_input_df = input_df.copy()\n",
    "new_input_df['int_corr'] = (new_input_df - new_input_df.min()) / (new_input_df.max() - new_input_df.min())\n",
    "new_input_df.drop(labels = ['iid', 'gender', 'race', 'field_cd','career_c', 'goal', 'date', 'zipcode', 'imprelig', 'imprace', 'prob_o', 'met', 'go_out', \n",
    "                            'race_o', 'samerace','pid','order', 'met_o'], axis = 1, inplace = True)"
   ]
  },
  {
   "cell_type": "code",
   "execution_count": 21,
   "metadata": {
    "collapsed": false
   },
   "outputs": [
    {
     "data": {
      "text/plain": [
       "Index([u'age', u'like', u'prob', u'exphappy', u'attr1_1', u'sinc1_1',\n",
       "       u'intel1_1', u'fun1_1', u'amb1_1', u'shar1_1', u'attr2_1', u'sinc2_1',\n",
       "       u'intel2_1', u'fun2_1', u'amb2_1', u'shar2_1', u'attr3_1', u'sinc3_1',\n",
       "       u'intel3_1', u'fun3_1', u'amb3_1', u'attr', u'sinc', u'intel', u'fun',\n",
       "       u'amb', u'shar', u'sports', u'tvsports', u'exercise', u'dining',\n",
       "       u'museums', u'art', u'hiking', u'gaming', u'clubbing', u'reading',\n",
       "       u'tv', u'theater', u'movies', u'concerts', u'music', u'shopping',\n",
       "       u'yoga', u'pf_o_att', u'pf_o_sin', u'pf_o_int', u'pf_o_fun',\n",
       "       u'pf_o_amb', u'pf_o_sha', u'attr_o', u'sinc_o', u'intel_o', u'fun_o',\n",
       "       u'amb_o', u'shar_o', u'age_o', u'like_o', u'int_corr'],\n",
       "      dtype='object')"
      ]
     },
     "execution_count": 21,
     "metadata": {},
     "output_type": "execute_result"
    }
   ],
   "source": [
    "new_input_df.keys()"
   ]
  },
  {
   "cell_type": "code",
   "execution_count": 22,
   "metadata": {
    "collapsed": false,
    "scrolled": true
   },
   "outputs": [
    {
     "name": "stdout",
     "output_type": "stream",
     "text": [
      "SelectKBest: chi2\n",
      "1 (71.117134892722831, 'like', 3.366337620280611e-17)\n",
      "2 (37.868288667453555, 'prob', 7.5685530960271798e-10)\n",
      "3 (6.5459480736830731, 'shar', 0.01051232942905355)\n",
      "4 (4.7803623583560064, 'gaming', 0.028786062783445275)\n",
      "5 (4.4521295523080484, 'exercise', 0.034857752685700343)\n",
      "6 (4.0224080264210738, 'intel2_1', 0.044899563053307154)\n",
      "7 (3.9782926298478793, 'exphappy', 0.04609025950759886)\n",
      "8 (3.6454160393661388, 'age_o', 0.056223755166536583)\n",
      "9 (3.5782819370516812, 'intel', 0.058539665739721317)\n",
      "10 (3.232909761549116, 'attr2_1', 0.072172347205671061)\n",
      "11 (3.0890042390271346, 'attr', 0.078823030013944848)\n",
      "12 (2.9797908857416049, 'pf_o_sha', 0.084310164641340779)\n",
      "13 (2.8633577507496, 'amb', 0.090618158428824314)\n",
      "14 (2.1239708035582225, 'fun', 0.14501015751009974)\n",
      "15 (2.039775387274358, 'sinc2_1', 0.15323227104885317)\n",
      "16 (1.8546492611745458, 'sinc', 0.17324362458184872)\n",
      "17 (1.7090648801637869, 'yoga', 0.191106742475602)\n",
      "18 (1.301336320284211, 'pf_o_sin', 0.25396927355790067)\n",
      "19 (1.0150119060511873, 'sports', 0.31370512814158791)\n",
      "20 (0.97508278061167131, 'amb1_1', 0.32341581108387518)\n",
      "21 (0.95430572862589291, 'shopping', 0.32862572740451002)\n",
      "22 (0.86903466536848628, 'attr_o', 0.35122269273580098)\n",
      "23 (0.74993700128365748, 'shar1_1', 0.38649617726952512)\n",
      "24 (0.74801860143246057, 'pf_o_amb', 0.38710427924173374)\n",
      "25 (0.61972278588212437, 'dining', 0.43115031909907142)\n",
      "26 (0.59317027188945048, 'amb2_1', 0.44119580609266307)\n",
      "27 (0.58747246389434737, 'intel3_1', 0.44339816896358053)\n",
      "28 (0.43286199844504908, 'tv', 0.51058794048255141)\n",
      "29 (0.42389488091195149, 'pf_o_att', 0.51499994489994116)\n",
      "30 (0.39834357354481109, 'sinc1_1', 0.52794594659642846)\n",
      "31 (0.37097825753486613, 'pf_o_fun', 0.54247151629256485)\n",
      "32 (0.36010274203589532, 'movies', 0.54844918074601245)\n",
      "33 (0.35975995092395158, 'attr3_1', 0.54863958283111458)\n",
      "34 (0.34625346985874417, 'concerts', 0.55624165062443631)\n",
      "35 (0.20491897920990865, 'clubbing', 0.65077934478255983)\n",
      "36 (0.19808736501230972, 'attr1_1', 0.65626911927557963)\n",
      "37 (0.18405450987868588, 'hiking', 0.66791176610992631)\n",
      "38 (0.1605339088826635, 'theater', 0.68866543495439614)\n",
      "39 (0.13305194575835416, 'art', 0.71528842932976444)\n",
      "40 (0.13282481895926845, 'like_o', 0.71552096313134239)\n",
      "41 (0.12891738073839892, 'sinc_o', 0.71955718690308001)\n",
      "42 (0.12779536808850855, 'fun1_1', 0.72072891811169748)\n",
      "43 (0.12108892410419703, 'fun2_1', 0.7278564514021777)\n",
      "44 (0.11328676808453628, 'shar2_1', 0.73643278278199231)\n",
      "45 (0.11184431510040824, 'intel_o', 0.73805410042314645)\n",
      "46 (0.059540146108872621, 'shar_o', 0.80722423993398096)\n",
      "47 (0.058836857500152079, 'amb_o', 0.80834386947728942)\n",
      "48 (0.049551896387056579, 'int_corr', 0.8238448496735713)\n",
      "49 (0.048251053892296683, 'sinc3_1', 0.82613500482817326)\n",
      "50 (0.044607453953161347, 'intel1_1', 0.83272749048301131)\n",
      "51 (0.037784132855789042, 'tvsports', 0.84587724436933165)\n",
      "52 (0.016767284909329633, 'reading', 0.89697108344981069)\n",
      "53 (0.015387948719806557, 'fun3_1', 0.90127713466233483)\n",
      "54 (0.014217330587120502, 'fun_o', 0.90508803110272151)\n",
      "55 (0.0094160692374395047, 'age', 0.92269746198500135)\n",
      "56 (0.0067338226505312924, 'pf_o_int', 0.93459910268547342)\n",
      "57 (0.0061827796303088531, 'music', 0.93732640524880828)\n",
      "58 (0.0034618539191011372, 'museums', 0.95308152249531641)\n",
      "59 (0.00083710191418446536, 'amb3_1', 0.97691825488546424)\n"
     ]
    },
    {
     "data": {
      "text/plain": [
       "\"from sklearn.feature_selection import chi2\\nfrom sklearn.feature_selection import SelectKBest\\nkBest = SelectKBest(chi2, k = 'all')\\nkBest.fit_transform(new_input_df, target_df)\\nk_Best_features = [(j, i, k) for i, j, k in zip(new_input_df, kBest.scores_, kBest.pvalues_)]\\nk_Best_features.sort()\\nk_Best_features.reverse()\\ncounter = 0\\nprint 'SelectKBest: chi2'\\nfor i in k_Best_features:\\n    counter += 1\\n    print counter, i\""
      ]
     },
     "execution_count": 22,
     "metadata": {},
     "output_type": "execute_result"
    }
   ],
   "source": [
    "fc.chi_feature_selection(new_input_df, target_df)"
   ]
  },
  {
   "cell_type": "markdown",
   "metadata": {},
   "source": [
    "<h4>Normalization features: PCA</h4>"
   ]
  },
  {
   "cell_type": "code",
   "execution_count": 23,
   "metadata": {
    "collapsed": false,
    "scrolled": true
   },
   "outputs": [
    {
     "data": {
      "image/png": "[encoded data removed]",
      "text/plain": [
       "<matplotlib.figure.Figure at 0x3d8ed68>"
      ]
     },
     "metadata": {},
     "output_type": "display_data"
    },
    {
     "name": "stdout",
     "output_type": "stream",
     "text": [
      "n =  1 ,  0.417567667827\n",
      "n =  2 ,  0.703744229551\n",
      "n =  3 ,  0.81292151032\n",
      "n =  4 ,  0.880288631793\n",
      "n =  5 ,  0.935343994497\n",
      "n =  6 ,  0.964226230288\n",
      "n =  7 ,  0.985606242545\n",
      "n =  8 ,  1.0\n"
     ]
    }
   ],
   "source": [
    "new_input_df = input_df.copy()\n",
    "new_input_df = preprocessing.normalize(new_input_df[features_selected].copy())\n",
    "from sklearn.decomposition import PCA\n",
    "total_ratio = []\n",
    "for i in range(1, 9):\n",
    "    pca = PCA(n_components = i)\n",
    "    pca.fit(new_input_df)\n",
    "    #print 'n = ', str(i), ', ', 'Total Ratio: ', pca.explained_variance_ratio_.sum()\n",
    "    #print 'Components:', pca.components_\n",
    "    #print 'Explained Variance:', pca.explained_variance_ \n",
    "    #print 'Explained Ratio: ', pca.explained_variance_ratio_\n",
    "    total_ratio.append(pca.explained_variance_ratio_.sum())\n",
    " \n",
    "plt.bar(range(1,9), total_ratio, align='center', alpha = 1)\n",
    "plt.xlabel('Projections')\n",
    "plt.ylabel('Total Explained Ratio')\n",
    "plt.title('Total Explained Ratio vs. Projections')\n",
    " \n",
    "plt.show()\n",
    "counter = 1\n",
    "for i in total_ratio:\n",
    "    print 'n = ', counter, ', ', i\n",
    "    counter += 1"
   ]
  },
  {
   "cell_type": "markdown",
   "metadata": {},
   "source": [
    "<h4>PCA: Projections to 3 dimensions</h4>"
   ]
  },
  {
   "cell_type": "code",
   "execution_count": 24,
   "metadata": {
    "collapsed": false,
    "scrolled": true
   },
   "outputs": [],
   "source": [
    "from mpl_toolkits.mplot3d import Axes3D\n",
    "\n",
    "pca = PCA(n_components = 3)\n",
    "pca.fit(X = new_input_df, y = target_df)\n",
    "transformed_new_input_df = pca.fit_transform(X = new_input_df, y = target_df)\n",
    "transformed_pca = pd.DataFrame(transformed_new_input_df, columns = ['x_s', 'y_s', 'z_s'])"
   ]
  },
  {
   "cell_type": "markdown",
   "metadata": {},
   "source": [
    "<h4>Plotting Chosen Features on PCA</h4>"
   ]
  },
  {
   "cell_type": "code",
   "execution_count": 25,
   "metadata": {
    "collapsed": false,
    "scrolled": true
   },
   "outputs": [
    {
     "data": {
      "image/png": "[encoded data removed]",
      "text/plain": [
       "<matplotlib.figure.Figure at 0xcb6f828>"
      ]
     },
     "metadata": {},
     "output_type": "display_data"
    },
    {
     "data": {
      "image/png": "[encoded data removed]",
      "text/plain": [
       "<matplotlib.figure.Figure at 0xddc8a20>"
      ]
     },
     "metadata": {},
     "output_type": "display_data"
    },
    {
     "data": {
      "image/png": "[encoded data removed]",
      "text/plain": [
       "<matplotlib.figure.Figure at 0xd1ab358>"
      ]
     },
     "metadata": {},
     "output_type": "display_data"
    },
    {
     "data": {
      "image/png": "[encoded data removed]",
      "text/plain": [
       "<matplotlib.figure.Figure at 0xe1d31d0>"
      ]
     },
     "metadata": {},
     "output_type": "display_data"
    }
   ],
   "source": [
    "fc.pca_plotter(transformed_pca, target_df)"
   ]
  },
  {
   "cell_type": "markdown",
   "metadata": {},
   "source": [
    "<h4>Nearest Neighboor Alogorithm: Gridsearch for first 100 neighboors (Both Genders)</h4>"
   ]
  },
  {
   "cell_type": "code",
   "execution_count": 26,
   "metadata": {
    "collapsed": false,
    "scrolled": true
   },
   "outputs": [
    {
     "name": "stdout",
     "output_type": "stream",
     "text": [
      "Training set size:  3575 Test set size:  1192\n",
      "Best f1_score:  0.714430129462\n",
      "With neighboors at:  {'n_neighbors': 63}\n",
      "Best Estimator:  KNeighborsClassifier(algorithm='auto', leaf_size=30, metric='minkowski',\n",
      "           metric_params=None, n_jobs=1, n_neighbors=63, p=2,\n",
      "           weights='uniform')\n",
      "Test Size:  1192\n",
      "Accuracy: 0.751677852349\n",
      "             precision    recall  f1-score   support\n",
      "\n",
      "          0       0.79      0.75      0.77       664\n",
      "          1       0.71      0.75      0.73       528\n",
      "\n",
      "avg / total       0.75      0.75      0.75      1192\n",
      "\n"
     ]
    }
   ],
   "source": [
    "new_input_df = input_df.copy()\n",
    "new_input_df = preprocessing.normalize(new_input_df[features_selected].copy())\n",
    "fc.apply_nearest_neighbor(transformed_pca, target_df)"
   ]
  },
  {
   "cell_type": "markdown",
   "metadata": {},
   "source": [
    "<h4>Linear Classifier: Both Genders (three features to compare with benchmark)</h4>"
   ]
  },
  {
   "cell_type": "code",
   "execution_count": 27,
   "metadata": {
    "collapsed": false
   },
   "outputs": [
    {
     "name": "stdout",
     "output_type": "stream",
     "text": [
      "[{'C': array([  1.00000000e-02,   2.78255940e-02,   7.74263683e-02,\n",
      "         2.15443469e-01,   5.99484250e-01,   1.66810054e+00,\n",
      "         4.64158883e+00,   1.29154967e+01,   3.59381366e+01,\n",
      "         1.00000000e+02])}]\n"
     ]
    },
    {
     "name": "stderr",
     "output_type": "stream",
     "text": [
      "C:\\Users\\Henry\\Anaconda2\\lib\\site-packages\\sklearn\\metrics\\classification.py:1074: UndefinedMetricWarning: F-score is ill-defined and being set to 0.0 due to no predicted samples.\n",
      "  'precision', 'predicted', average, warn_for)\n"
     ]
    },
    {
     "name": "stdout",
     "output_type": "stream",
     "text": [
      "Best f1_score:  0.628237647132\n",
      "Best C:  {'C': 35.938136638046259}\n",
      "Best Estimator:  SVC(C=35.938136638046259, cache_size=200, class_weight=None, coef0=0.0,\n",
      "  decision_function_shape=None, degree=3, gamma='auto', kernel='linear',\n",
      "  max_iter=-1, probability=False, random_state=0, shrinking=True,\n",
      "  tol=0.001, verbose=False)\n",
      "Retrain on Best C:  35.938136638\n",
      "Coefficients:  [[ 10.99986788  -6.66868821 -17.3551051 ]]\n",
      "Intercept:  [ 4.71620589]\n",
      "Test Size:  1192\n",
      "Accuracy: 0.679530201342\n",
      "             precision    recall  f1-score   support\n",
      "\n",
      "          0       0.72      0.69      0.71       664\n",
      "          1       0.63      0.66      0.65       528\n",
      "\n",
      "avg / total       0.68      0.68      0.68      1192\n",
      "\n"
     ]
    }
   ],
   "source": [
    "fc.linear_classifier(input_df[['attr', 'amb', 'intel']], target_df)"
   ]
  },
  {
   "cell_type": "markdown",
   "metadata": {},
   "source": [
    "<h4>Linear Classifier: Females (three features to compare with benchmark)</h4>"
   ]
  },
  {
   "cell_type": "code",
   "execution_count": 28,
   "metadata": {
    "collapsed": false,
    "scrolled": true
   },
   "outputs": [
    {
     "name": "stdout",
     "output_type": "stream",
     "text": [
      "[{'C': array([  1.00000000e-02,   2.78255940e-02,   7.74263683e-02,\n",
      "         2.15443469e-01,   5.99484250e-01,   1.66810054e+00,\n",
      "         4.64158883e+00,   1.29154967e+01,   3.59381366e+01,\n",
      "         1.00000000e+02])}]\n",
      "Best f1_score:  0.407467800295\n",
      "Best C:  {'C': 100.0}\n",
      "Best Estimator:  SVC(C=100.0, cache_size=200, class_weight=None, coef0=0.0,\n",
      "  decision_function_shape=None, degree=3, gamma='auto', kernel='linear',\n",
      "  max_iter=-1, probability=False, random_state=0, shrinking=True,\n",
      "  tol=0.001, verbose=False)\n",
      "Retrain on Best C:  100.0\n",
      "Coefficients:  [[  4.89413485  -6.18471432 -14.10168211]]\n",
      "Intercept:  [ 4.40328126]\n",
      "Test Size:  619\n",
      "Accuracy: 0.688206785137\n",
      "             precision    recall  f1-score   support\n",
      "\n",
      "          0       0.71      0.86      0.78       393\n",
      "          1       0.62      0.38      0.47       226\n",
      "\n",
      "avg / total       0.68      0.69      0.67       619\n",
      "\n"
     ]
    }
   ],
   "source": [
    "women_input_df = women_men[women_men['gender'] == 0].copy()\n",
    "women_target_df = women_men[women_men['gender'] == 0]['dec'].copy()\n",
    "fc.linear_classifier(women_input_df[['attr', 'amb', 'intel']], women_target_df)"
   ]
  },
  {
   "cell_type": "markdown",
   "metadata": {},
   "source": [
    "<h4>Linear Classifier: Males (three features to compare with benchmark)</h4>"
   ]
  },
  {
   "cell_type": "code",
   "execution_count": 29,
   "metadata": {
    "collapsed": false
   },
   "outputs": [
    {
     "name": "stdout",
     "output_type": "stream",
     "text": [
      "[{'C': array([  1.00000000e-02,   2.78255940e-02,   7.74263683e-02,\n",
      "         2.15443469e-01,   5.99484250e-01,   1.66810054e+00,\n",
      "         4.64158883e+00,   1.29154967e+01,   3.59381366e+01,\n",
      "         1.00000000e+02])}]\n",
      "Best f1_score:  0.725637670526\n",
      "Best C:  {'C': 0.59948425031894093}\n",
      "Best Estimator:  SVC(C=0.59948425031894093, cache_size=200, class_weight=None, coef0=0.0,\n",
      "  decision_function_shape=None, degree=3, gamma='auto', kernel='linear',\n",
      "  max_iter=-1, probability=False, random_state=0, shrinking=True,\n",
      "  tol=0.001, verbose=False)\n",
      "Retrain on Best C:  0.599484250319\n",
      "Coefficients:  [[ 6.91818127 -4.30971268 -8.04742742]]\n",
      "Intercept:  [ 2.45300144]\n",
      "Test Size:  573\n",
      "Accuracy: 0.694589877836\n",
      "             precision    recall  f1-score   support\n",
      "\n",
      "          0       0.82      0.54      0.65       300\n",
      "          1       0.63      0.87      0.73       273\n",
      "\n",
      "avg / total       0.73      0.69      0.69       573\n",
      "\n"
     ]
    }
   ],
   "source": [
    "men_input_df = women_men[women_men['gender'] == 1].copy()\n",
    "men_target_df = women_men[women_men['gender'] == 1]['dec'].copy()\n",
    "fc.linear_classifier(men_input_df[['attr', 'amb', 'intel']], men_target_df)"
   ]
  },
  {
   "cell_type": "markdown",
   "metadata": {},
   "source": [
    "<h2>Create Matched People DataFrame</h2>"
   ]
  },
  {
   "cell_type": "code",
   "execution_count": 30,
   "metadata": {
    "collapsed": false,
    "deletable": true,
    "editable": true
   },
   "outputs": [],
   "source": [
    "#people_matched = data[data['match'] == 1].copy()\n",
    "#people_matched.drop_duplicates(subset = 'iid', keep = 'first', inplace = True)\n",
    "#display(people_matched)"
   ]
  },
  {
   "cell_type": "markdown",
   "metadata": {},
   "source": [
    "<h2>Exploring Matches</h2>"
   ]
  },
  {
   "cell_type": "code",
   "execution_count": 31,
   "metadata": {
    "collapsed": false
   },
   "outputs": [],
   "source": [
    "#people_matched[['iid', 'gender', 'dec'] + fc.features_of_attraction + fc.preferences_of_attraction + ['dec_o', 'pid', 'goal', 'int_corr', 'match']]"
   ]
  },
  {
   "cell_type": "markdown",
   "metadata": {
    "deletable": true,
    "editable": true
   },
   "source": [
    "<h4>Get Index for 'iid' for non-matches</h4>"
   ]
  },
  {
   "cell_type": "code",
   "execution_count": 32,
   "metadata": {
    "collapsed": false
   },
   "outputs": [],
   "source": [
    "#number = [int(i) for i in people_matched['iid']]\n",
    "#not_ever_matched = [i for i in range(1,553) if i not in number]\n",
    "#print not_ever_matched"
   ]
  },
  {
   "cell_type": "code",
   "execution_count": 33,
   "metadata": {
    "collapsed": false
   },
   "outputs": [],
   "source": [
    "#people_not_matched = data[data['iid'].isin(not_ever_matched)].copy()"
   ]
  },
  {
   "cell_type": "markdown",
   "metadata": {},
   "source": [
    "<h2>Exploring Non-Matches</h2>"
   ]
  },
  {
   "cell_type": "code",
   "execution_count": 34,
   "metadata": {
    "collapsed": false
   },
   "outputs": [],
   "source": [
    "#people_not_matched[['iid', 'gender', 'dec'] + fc.features_of_attraction + fc.preferences_of_attraction + ['dec_o', 'pid', 'goal', 'int_corr', 'match']]"
   ]
  },
  {
   "cell_type": "markdown",
   "metadata": {},
   "source": [
    "<h4>Non-Matched Females: Graphs</h4>"
   ]
  },
  {
   "cell_type": "code",
   "execution_count": 35,
   "metadata": {
    "collapsed": false
   },
   "outputs": [],
   "source": [
    "#fc.dating_attributes_vs_time(data = people_not_matched, gender = 0)"
   ]
  },
  {
   "cell_type": "markdown",
   "metadata": {},
   "source": [
    "<h4>Non-Matched Males: Graphs</h4>"
   ]
  },
  {
   "cell_type": "code",
   "execution_count": 36,
   "metadata": {
    "collapsed": false
   },
   "outputs": [],
   "source": [
    "#fc.dating_attributes_vs_time(data = people_not_matched, gender = 1)"
   ]
  },
  {
   "cell_type": "code",
   "execution_count": 37,
   "metadata": {
    "collapsed": false
   },
   "outputs": [],
   "source": [
    "#num_train = int(.75 * transformed_pca.shape[0])\n",
    "#num_test = int(transformed_pca.shape[0] - num_train)\n",
    "\n",
    "#print 'Training set size: ', num_train, 'Test set size: ', num_test\n",
    "\n",
    "#X_train, X_test, y_train, y_test = cross_validation.train_test_split(transformed_pca, target_df, test_size = num_test, random_state = 0)\n"
   ]
  }
 ],
 "metadata": {
  "kernelspec": {
   "display_name": "Python 2",
   "language": "python",
   "name": "python2"
  },
  "language_info": {
   "codemirror_mode": {
    "name": "ipython",
    "version": 2
   },
   "file_extension": ".py",
   "mimetype": "text/x-python",
   "name": "python",
   "nbconvert_exporter": "python",
   "pygments_lexer": "ipython2",
   "version": "2.7.12"
  }
 },
 "nbformat": 4,
 "nbformat_minor": 0
}
