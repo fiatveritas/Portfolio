{
 "cells": [
  {
   "cell_type": "markdown",
   "metadata": {
    "deletable": true,
    "editable": true
   },
   "source": [
    "<h1>Speed Dating: Who to Date Long Term</h1>"
   ]
  },
  {
   "cell_type": "markdown",
   "metadata": {
    "deletable": true,
    "editable": true
   },
   "source": [
    "What influences love at first sight? (Or, at least, love in the first four minutes?) This dataset was compiled by Columbia Business School professors Ray Fisman and Sheena Iyengar for their paper Gender Differences in Mate Selection: Evidence From a Speed Dating Experiment.<br>\n",
    "\n",
    "Data was gathered from participants in experimental speed dating events from 2002-2004. During the events, the attendees would have a four minute \"first date\" with every other participant of the opposite sex. At the end of their four minutes, participants were asked if they would like to see their date again. They were also asked to rate their date on six attributes: Attractiveness, Sincerity, Intelligence, Fun, Ambition, and Shared Interests.<br>\n",
    "\n",
    "The dataset also includes questionnaire data gathered from participants at different points in the process. These fields include: demographics, dating habits, self-perception across key attributes, beliefs on what others find valuable in a mate, and lifestyle information. See the Speed Dating Data Key document below for details.<br>\n",
    "\n",
    "For more analysis from Iyengar and Fisman, read Racial Preferences in Dating.<br>\n",
    "\n",
    "Data Exploration Ideas<br>\n",
    "\n",
    "What are the least desirable attributes in a male partner? Does this differ for female partners?<br>\n",
    "How important do people think attractiveness is in potential mate selection vs. its real impact?<br>\n",
    "Are shared interests more important than a shared racial background?<br>\n",
    "Can people accurately predict their own perceived value in the dating market?<br>\n",
    "In terms of getting a second date, is it better to be someone's first speed date of the night or their last?"
   ]
  },
  {
   "cell_type": "markdown",
   "metadata": {},
   "source": [
    "<h2>Import Libraries</h2>"
   ]
  },
  {
   "cell_type": "code",
   "execution_count": 1,
   "metadata": {
    "collapsed": false,
    "deletable": true,
    "editable": true
   },
   "outputs": [
    {
     "name": "stdout",
     "output_type": "stream",
     "text": [
      "pandas version is 0.18.0.\n",
      "numpy version is 1.10.4.\n",
      "scikit-learn version is 0.17.1.\n",
      "seaborn version is 0.7.1.\n",
      "matplotlib version is 1.5.1.\n"
     ]
    }
   ],
   "source": [
    "import pandas as pd\n",
    "import numpy as np\n",
    "import sklearn\n",
    "import seaborn as sns\n",
    "import matplotlib\n",
    "import matplotlib.pyplot as plt\n",
    "from IPython.display import display\n",
    "%matplotlib inline\n",
    "pd.set_option('display.max_columns', None)\n",
    "#pd.set_option('display.max_rows', None)\n",
    "\n",
    "print('pandas version is {}.'.format(pd.__version__))\n",
    "print('numpy version is {}.'.format(np.__version__))\n",
    "print('scikit-learn version is {}.'.format(sklearn.__version__))\n",
    "print('seaborn version is {}.'.format(sns.__version__))\n",
    "print('matplotlib version is {}.'.format(matplotlib.__version__))"
   ]
  },
  {
   "cell_type": "code",
   "execution_count": 2,
   "metadata": {
    "collapsed": false,
    "deletable": true,
    "editable": true
   },
   "outputs": [
    {
     "name": "stdout",
     "output_type": "stream",
     "text": [
      "This set has 8378 data points and 195 features.\n"
     ]
    }
   ],
   "source": [
    "data = pd.read_csv(\"Speed Dating Data.csv\")\n",
    "print \"This set has {} data points and {} features.\".format(*data.shape)"
   ]
  },
  {
   "cell_type": "markdown",
   "metadata": {
    "deletable": true,
    "editable": true
   },
   "source": [
    "<h1>Data Exploration</h1>"
   ]
  },
  {
   "cell_type": "markdown",
   "metadata": {},
   "source": [
    "<h4>Samples for each Feature</h4>"
   ]
  },
  {
   "cell_type": "code",
   "execution_count": 3,
   "metadata": {
    "collapsed": false
   },
   "outputs": [
    {
     "name": "stdout",
     "output_type": "stream",
     "text": [
      "iid 8378 || id 8377 || gender 8378 || idg 8378 || condtn 8378 || wave 8378 || round 8378 || position 8378 || positin1 6532 || order 8378 || partner 8378 || pid 8368 || match 8378 || int_corr 8220 || samerace 8378 || age_o 8274 || race_o 8305 || pf_o_att 8289 || pf_o_sin 8289 || pf_o_int 8289 || pf_o_fun 8280 || pf_o_amb 8271 || pf_o_sha 8249 || dec_o 8378 || attr_o 8166 || sinc_o 8091 || intel_o 8072 || fun_o 8018 || amb_o 7656 || shar_o 7302 || like_o 8128 || prob_o 8060 || met_o 7993 || age 8283 || field 8315 || field_cd 8296 || undergra 4914 || mn_sat 3133 || tuition 3583 || race 8315 || imprace 8299 || imprelig 8299 || from 8299 || zipcode 7314 || income 4279 || goal 8299 || date 8281 || go_out 8299 || career 8289 || career_c 8240 || sports 8299 || tvsports 8299 || exercise 8299 || dining 8299 || museums 8299 || art 8299 || hiking 8299 || gaming 8299 || clubbing 8299 || reading 8299 || tv 8299 || theater 8299 || movies 8299 || concerts 8299 || music 8299 || shopping 8299 || yoga 8299 || exphappy 8277 || expnum 1800 || attr1_1 8299 || sinc1_1 8299 || intel1_1 8299 || fun1_1 8289 || amb1_1 8279 || shar1_1 8257 || attr4_1 6489 || sinc4_1 6489 || intel4_1 6489 || fun4_1 6489 || amb4_1 6489 || shar4_1 6467 || attr2_1 8299 || sinc2_1 8299 || intel2_1 8299 || fun2_1 8299 || amb2_1 8289 || shar2_1 8289 || attr3_1 8273 || sinc3_1 8273 || fun3_1 8273 || intel3_1 8273 || amb3_1 8273 || attr5_1 4906 || sinc5_1 4906 || intel5_1 4906 || fun5_1 4906 || amb5_1 4906 || dec 8378 || attr 8176 || sinc 8101 || intel 8082 || fun 8028 || amb 7666 || shar 7311 || like 8138 || prob 8069 || met 8003 || match_es 7205 || attr1_s 4096 || sinc1_s 4096 || intel1_s 4096 || fun1_s 4096 || amb1_s 4096 || shar1_s 4096 || attr3_s 4000 || sinc3_s 4000 || intel3_s 4000 || fun3_s 4000 || amb3_s 4000 || satis_2 7463 || length 7463 || numdat_2 7433 || attr7_2 1984 || sinc7_2 1955 || intel7_2 1984 || fun7_2 1984 || amb7_2 1955 || shar7_2 1974 || attr1_2 7445 || sinc1_2 7463 || intel1_2 7463 || fun1_2 7463 || amb1_2 7463 || shar1_2 7463 || attr4_2 5775 || sinc4_2 5775 || intel4_2 5775 || fun4_2 5775 || amb4_2 5775 || shar4_2 5775 || attr2_2 5775 || sinc2_2 5775 || intel2_2 5775 || fun2_2 5775 || amb2_2 5775 || shar2_2 5775 || attr3_2 7463 || sinc3_2 7463 || intel3_2 7463 || fun3_2 7463 || amb3_2 7463 || attr5_2 4377 || sinc5_2 4377 || intel5_2 4377 || fun5_2 4377 || amb5_2 4377 || you_call 3974 || them_cal 3974 || date_3 3974 || numdat_3 1496 || num_in_3 668 || attr1_3 3974 || sinc1_3 3974 || intel1_3 3974 || fun1_3 3974 || amb1_3 3974 || shar1_3 3974 || attr7_3 2016 || sinc7_3 2016 || intel7_3 2016 || fun7_3 2016 || amb7_3 2016 || shar7_3 2016 || attr4_3 2959 || sinc4_3 2959 || intel4_3 2959 || fun4_3 2959 || amb4_3 2959 || shar4_3 2959 || attr2_3 2959 || sinc2_3 2959 || intel2_3 2959 || fun2_3 2959 || amb2_3 2959 || shar2_3 2016 || attr3_3 3974 || sinc3_3 3974 || intel3_3 3974 || fun3_3 3974 || amb3_3 3974 || attr5_3 2016 || sinc5_3 2016 || intel5_3 2016 || fun5_3 2016 || amb5_3 2016 ||\n"
     ]
    }
   ],
   "source": [
    "import features_creator as fc #importing feature names made in file features_creator.py\n",
    "fc.count_samples_in_features(data)#count samples for each feature"
   ]
  },
  {
   "cell_type": "markdown",
   "metadata": {},
   "source": [
    "<h4>Features Space of interest (with most samples avalaible)</h4>"
   ]
  },
  {
   "cell_type": "code",
   "execution_count": 4,
   "metadata": {
    "collapsed": false
   },
   "outputs": [
    {
     "name": "stdout",
     "output_type": "stream",
     "text": [
      "iid 8378 || gender 8378 || race 8315 || field_cd 8296 || career_c 8240 || zipcode 7314 || goal 8299 || met 8003 || go_out 8299 || date 8281 || age 8283 || imprace 8299 || imprelig 8299 || like 8138 || prob 8069 || exphappy 8277 || attr1_1 8299 || sinc1_1 8299 || intel1_1 8299 || fun1_1 8289 || amb1_1 8279 || shar1_1 8257 || attr2_1 8299 || sinc2_1 8299 || intel2_1 8299 || fun2_1 8299 || amb2_1 8289 || shar2_1 8289 || attr3_1 8273 || sinc3_1 8273 || intel3_1 8273 || fun3_1 8273 || amb3_1 8273 || attr 8176 || sinc 8101 || intel 8082 || fun 8028 || amb 7666 || shar 7311 || sports 8299 || tvsports 8299 || exercise 8299 || dining 8299 || museums 8299 || art 8299 || hiking 8299 || gaming 8299 || clubbing 8299 || reading 8299 || tv 8299 || theater 8299 || movies 8299 || concerts 8299 || music 8299 || shopping 8299 || yoga 8299 || pf_o_att 8289 || pf_o_sin 8289 || pf_o_int 8289 || pf_o_fun 8280 || pf_o_amb 8271 || pf_o_sha 8249 || attr_o 8166 || sinc_o 8091 || intel_o 8072 || fun_o 8018 || amb_o 7656 || shar_o 7302 || age_o 8274 || like_o 8128 || prob_o 8060 || int_corr 8220 || race_o 8305 || samerace 8378 || pid 8368 || order 8378 || met_o 7993 ||\n"
     ]
    }
   ],
   "source": [
    "fc.count_samples_in_features(data[fc.feature_space])"
   ]
  },
  {
   "cell_type": "markdown",
   "metadata": {},
   "source": [
    "<h4>Data Clean Up: Making Sure Features are within Range</h4>"
   ]
  },
  {
   "cell_type": "code",
   "execution_count": 5,
   "metadata": {
    "collapsed": false
   },
   "outputs": [],
   "source": [
    "fc.likert_scale_question_3(data)#likert scale from 0 - 10. Some samples were at rating 12. this function brings rating of 12 down to ratings to 10\n",
    "fc.scale_question_3(data)#change scale from 0 - 10 to scale from 0 - 100\n",
    "fc.scale_question_4(data)#change scale from 0 - 10 to scale from 0 - 100\n",
    "fc.scale_question_5(data)#change scale from 0 - 10 to scale from 0 - 100\n",
    "fc.scale_rating_received(data)#change scale from 0 - 10 to scale from 0 - 100\n",
    "fc.scale_rating_given(data)#change scale from 0 - 10 to scale from 0 - 100\n",
    "fc.scale_half_way(data)#change scale from 0 - 10 to scale from 0 - 100\n",
    "#fc.scale_question_3(data)\n",
    "#fc.scale_question_4(data)#different waves were at different scales. all scaled repectively between 0 - 100 in this function call\n",
    "#fc.scale_question_5(data)#different waves were at different scales. all scaled repectively between 0 - 100 in this function call"
   ]
  },
  {
   "cell_type": "markdown",
   "metadata": {},
   "source": [
    "<h4>Type Casting</h4>"
   ]
  },
  {
   "cell_type": "code",
   "execution_count": 6,
   "metadata": {
    "collapsed": false
   },
   "outputs": [],
   "source": [
    "fc.convert_income_to_float(data)#income was imported as string this call converts strings to float\n",
    "fc.convert_tuition_to_float(data)#ditto, tuition was imported as strings and are converted to float\n",
    "fc.zipcode_to_float(data)#zipcode strings converted to float\n",
    "fc.sat_to_float(data)#this function converts sat scores to float\n",
    "#data.to_csv('out_1.csv')"
   ]
  },
  {
   "cell_type": "markdown",
   "metadata": {},
   "source": [
    "<h4>Basic Stats for Unique Females</h4>"
   ]
  },
  {
   "cell_type": "code",
   "execution_count": 7,
   "metadata": {
    "collapsed": false
   },
   "outputs": [],
   "source": [
    "#fc.dating_attributes_vs_time_describe(data = data, gender = 0)"
   ]
  },
  {
   "cell_type": "markdown",
   "metadata": {},
   "source": [
    "<h4>Basic Stats for Unique Males</h4>"
   ]
  },
  {
   "cell_type": "code",
   "execution_count": 8,
   "metadata": {
    "collapsed": false
   },
   "outputs": [],
   "source": [
    "#fc.dating_attributes_vs_time_describe(data = data, gender = 1)"
   ]
  },
  {
   "cell_type": "markdown",
   "metadata": {},
   "source": [
    "<h4>Scale Numerical features between 0 & 1</h4>"
   ]
  },
  {
   "cell_type": "code",
   "execution_count": 9,
   "metadata": {
    "collapsed": false,
    "deletable": true,
    "editable": true
   },
   "outputs": [],
   "source": [
    "fc.scale_majority_of_features(data)#this function scales most features between 0 - 1\n",
    "fc.scale_exphappy(data)"
   ]
  },
  {
   "cell_type": "markdown",
   "metadata": {},
   "source": [
    "<h4>Outlier Detection: Turkey's Method</h4>"
   ]
  },
  {
   "cell_type": "code",
   "execution_count": 10,
   "metadata": {
    "collapsed": false,
    "scrolled": false
   },
   "outputs": [
    {
     "name": "stdout",
     "output_type": "stream",
     "text": [
      "[8203, 8209, 8359, 312, 313, 314, 315, 316, 317, 318, 319, 320, 321, 322, 323, 324, 325, 326, 327, 8204, 720, 739, 8217, 828, 829, 830, 831, 832, 833, 834, 835, 836, 837, 838, 839, 840, 841, 842, 843, 844, 845, 846, 847, 911, 920, 921, 951, 961, 981, 991, 1001, 8218, 1695, 1715, 1765, 1785, 1795, 1805, 1825, 1835, 1839, 1841, 1866, 1867, 1868, 1869, 1870, 8208, 8271, 8207, 4861, 5004, 5005, 5006, 5007, 5008, 5009, 5010, 5011, 5012, 5013, 5014, 5015, 5016, 5017, 5018, 5019, 5020, 5021, 5022, 5023, 5032, 5035, 5054, 5074, 5076, 5096, 5114, 5115, 5116, 5117, 5118, 5119, 5120, 5121, 5122, 5123, 5124, 5125, 5126, 5127, 5128, 5129, 5130, 5131, 5138, 5139, 5176, 5246, 5247, 5284, 5295, 5296, 5299, 5302, 5303, 5305, 5306, 5310, 5311, 5320, 5334, 5352, 5355, 8219, 5375, 5378, 5388, 5419, 5439, 5481, 5482, 5499, 5510, 5516, 5530, 5536, 5542, 5544, 5552, 5558, 5559, 5560, 5579, 5583, 5604, 5619, 5625, 5639, 5643, 5666, 5689, 5706, 5719, 5739, 5746, 5765, 5784, 5822, 5936, 6031, 6069, 8235, 6122, 6123, 6124, 6126, 6132, 6137, 6139, 6392, 6393, 6394, 6395, 6396, 6397, 6398, 6399, 6400, 6401, 6402, 6403, 6404, 6405, 6406, 6407, 6408, 6409, 8220, 7420, 7422, 7438, 7446, 7468, 7483, 7485, 7493, 7497, 7508, 7534, 7556, 7578, 7588, 7591, 7594, 7597, 7599, 7642, 7650, 7667, 7754, 8344, 7776, 7798, 7820, 7834, 7835, 7946, 8012, 8027, 8051, 8067, 8078, 8095, 8114, 8118, 8144, 8158, 8188]\n"
     ]
    }
   ],
   "source": [
    "index_to_be_removed = fc.outlier_detection(data[fc.feature_space[10:72]]) #these indices span at least 15  features as outliers\n",
    "print index_to_be_removed\n",
    "data.drop(data.index[index_to_be_removed], inplace = True)"
   ]
  },
  {
   "cell_type": "markdown",
   "metadata": {},
   "source": [
    "<h4>Correlation Heat Map</h4>"
   ]
  },
  {
   "cell_type": "code",
   "execution_count": 11,
   "metadata": {
    "collapsed": false,
    "scrolled": false
   },
   "outputs": [
    {
     "data": {
      "image/png": "[encoded data removed]",
      "text/plain": [
       "<matplotlib.figure.Figure at 0xa0ea7f0>"
      ]
     },
     "metadata": {},
     "output_type": "display_data"
    }
   ],
   "source": [
    "fc.make_corr(data[fc.feature_space])"
   ]
  },
  {
   "cell_type": "markdown",
   "metadata": {},
   "source": [
    "<h2>Forest Feature Selection: ExtraTreesClassifier & RandomForestClassifier</h2>"
   ]
  },
  {
   "cell_type": "code",
   "execution_count": 12,
   "metadata": {
    "collapsed": false
   },
   "outputs": [],
   "source": [
    "#women_men = data[fc.all_space].copy()"
   ]
  },
  {
   "cell_type": "code",
   "execution_count": 13,
   "metadata": {
    "collapsed": false
   },
   "outputs": [],
   "source": [
    "#women_men.dropna(axis = 0, how = 'any', inplace = True)"
   ]
  },
  {
   "cell_type": "markdown",
   "metadata": {},
   "source": [
    "<h4>Both Genders</h4>"
   ]
  },
  {
   "cell_type": "code",
   "execution_count": 14,
   "metadata": {
    "collapsed": false
   },
   "outputs": [],
   "source": [
    "#target_df = women_men['dec'].copy()\n",
    "#input_df = women_men[fc.feature_space].copy()"
   ]
  },
  {
   "cell_type": "code",
   "execution_count": 15,
   "metadata": {
    "collapsed": false,
    "scrolled": true
   },
   "outputs": [],
   "source": [
    "#fc.forests(input_df, target_df)"
   ]
  },
  {
   "cell_type": "markdown",
   "metadata": {},
   "source": [
    "<h4>Frequency Charts for Females</h4>"
   ]
  },
  {
   "cell_type": "code",
   "execution_count": 16,
   "metadata": {
    "collapsed": false
   },
   "outputs": [],
   "source": [
    "#fc.dating_attributes_vs_time_hist(data = data, gender = 0)"
   ]
  },
  {
   "cell_type": "markdown",
   "metadata": {},
   "source": [
    "<h4>Frequency Charts for Males</h4>"
   ]
  },
  {
   "cell_type": "code",
   "execution_count": 17,
   "metadata": {
    "collapsed": false
   },
   "outputs": [],
   "source": [
    "#fc.dating_attributes_vs_time_hist(data = data, gender = 1)"
   ]
  },
  {
   "cell_type": "markdown",
   "metadata": {},
   "source": [
    "<h2>Create Matched People DataFrame</h2>"
   ]
  },
  {
   "cell_type": "code",
   "execution_count": 18,
   "metadata": {
    "collapsed": false,
    "deletable": true,
    "editable": true
   },
   "outputs": [],
   "source": [
    "#people_matched = data[data['match'] == 1].copy()\n",
    "#people_matched.drop_duplicates(subset = 'iid', keep = 'first', inplace = True)\n",
    "#display(people_matched)"
   ]
  },
  {
   "cell_type": "markdown",
   "metadata": {},
   "source": [
    "<h2>Exploring Matches</h2>"
   ]
  },
  {
   "cell_type": "code",
   "execution_count": 19,
   "metadata": {
    "collapsed": false
   },
   "outputs": [],
   "source": [
    "#people_matched[['iid', 'gender', 'dec'] + fc.features_of_attraction + fc.preferences_of_attraction + ['dec_o', 'pid', 'goal', 'int_corr', 'match']]"
   ]
  },
  {
   "cell_type": "markdown",
   "metadata": {
    "deletable": true,
    "editable": true
   },
   "source": [
    "<h4>Get Index for 'iid' for non-matches</h4>"
   ]
  },
  {
   "cell_type": "code",
   "execution_count": 20,
   "metadata": {
    "collapsed": false
   },
   "outputs": [],
   "source": [
    "#number = [int(i) for i in people_matched['iid']]\n",
    "#not_ever_matched = [i for i in range(1,553) if i not in number]\n",
    "#print not_ever_matched"
   ]
  },
  {
   "cell_type": "code",
   "execution_count": 21,
   "metadata": {
    "collapsed": false
   },
   "outputs": [],
   "source": [
    "#people_not_matched = data[data['iid'].isin(not_ever_matched)].copy()"
   ]
  },
  {
   "cell_type": "markdown",
   "metadata": {},
   "source": [
    "<h2>Exploring Non-Matches</h2>"
   ]
  },
  {
   "cell_type": "code",
   "execution_count": 22,
   "metadata": {
    "collapsed": false
   },
   "outputs": [],
   "source": [
    "#people_not_matched[['iid', 'gender', 'dec'] + fc.features_of_attraction + fc.preferences_of_attraction + ['dec_o', 'pid', 'goal', 'int_corr', 'match']]"
   ]
  },
  {
   "cell_type": "markdown",
   "metadata": {},
   "source": [
    "<h4>Non-Matched Females: Graphs</h4>"
   ]
  },
  {
   "cell_type": "code",
   "execution_count": 23,
   "metadata": {
    "collapsed": false
   },
   "outputs": [],
   "source": [
    "#fc.dating_attributes_vs_time(data = people_not_matched, gender = 0)"
   ]
  },
  {
   "cell_type": "markdown",
   "metadata": {},
   "source": [
    "<h4>Non-Matched Males: Graphs</h4>"
   ]
  },
  {
   "cell_type": "code",
   "execution_count": 24,
   "metadata": {
    "collapsed": false
   },
   "outputs": [],
   "source": [
    "#fc.dating_attributes_vs_time(data = people_not_matched, gender = 1)"
   ]
  },
  {
   "cell_type": "markdown",
   "metadata": {},
   "source": [
    "<h2>Dating Attributes as a function of Time: Distributing 100pts</h2>"
   ]
  },
  {
   "cell_type": "markdown",
   "metadata": {},
   "source": [
    "<h4>Female Attributes</h4>"
   ]
  },
  {
   "cell_type": "code",
   "execution_count": 25,
   "metadata": {
    "collapsed": false
   },
   "outputs": [],
   "source": [
    "#fc.dating_attributes_vs_time_describe(unique[(unique['wave'] >= 6) & (unique['wave']<= 11)], 0)"
   ]
  },
  {
   "cell_type": "markdown",
   "metadata": {},
   "source": [
    "<h4>Male Attributes</h4>"
   ]
  },
  {
   "cell_type": "code",
   "execution_count": 26,
   "metadata": {
    "collapsed": true
   },
   "outputs": [],
   "source": [
    "#fc.dating_attributes_vs_time_describe(unique[(unique['wave'] >= 6) & (unique['wave']<= 11)], 1)"
   ]
  },
  {
   "cell_type": "markdown",
   "metadata": {},
   "source": [
    "<h2>Dating Attributes as a function of Time: Likert Scale</h2>"
   ]
  },
  {
   "cell_type": "markdown",
   "metadata": {},
   "source": [
    "<h4>Female Attributes</h4>"
   ]
  },
  {
   "cell_type": "code",
   "execution_count": 27,
   "metadata": {
    "collapsed": false
   },
   "outputs": [],
   "source": [
    "#fc.dating_attributes_vs_time_describe(data[(data['wave'] >= 15) & (data['wave']<= 20)], 0)"
   ]
  },
  {
   "cell_type": "markdown",
   "metadata": {},
   "source": [
    "<h4>Male Attributes</h4>"
   ]
  },
  {
   "cell_type": "code",
   "execution_count": 28,
   "metadata": {
    "collapsed": true
   },
   "outputs": [],
   "source": [
    "#fc.dating_attributes_vs_time_describe(unique[(unique['wave'] >= 15) & (unique['wave']<= 20)], 1)"
   ]
  },
  {
   "cell_type": "code",
   "execution_count": 29,
   "metadata": {
    "collapsed": true
   },
   "outputs": [],
   "source": [
    "#for i, j in fc.data_cleaner.iteritems():\n",
    "#    print i, j, '\\n'\n",
    "#for i, j in fc.master_list.items():\n",
    "#    print i, j, '\\n'\n",
    "#print 'clean_up_1', '\\n', fc.clean_up_1, '\\n'\n",
    "#print 'clean_up_2', '\\n', fc.clean_up_2, '\\n'\n",
    "#print 'clean_up_3', '\\n', fc.clean_up_3, '\\n'\n",
    "#print 'clean_up_4', '\\n', fc.clean_up_4, '\\n'\n",
    "#print 'clean_up_5', '\\n', fc.clean_up_5, '\\n'\n",
    "#print 'features_of_attraction', '\\n', fc.features_of_attraction, '\\n'\n",
    "#print 'actual_decisions', '\\n', fc.actual_decisions, '\\n'\n",
    "#print 'preferences_of_attraction', '\\n', fc.preferences_of_attraction, '\\n'\n",
    "#print 'rating_by_partner_features', '\\n', fc.rating_by_partner_features, '\\n'\n",
    "#print 'halfway_questions', '\\n', fc.halfway_questions, '\\n'\n",
    "#print 'interests', '\\n', fc.interests, '\\n'\n",
    "#print 'list_of_lists', '\\n', fc.list_of_lists, '\\n'\n",
    "#print 'feature_space', '\\n', fc.feature_space, '\\n'\n",
    "#print 'all_space', '\\n', fc.all_space, '\\n'\n",
    "#print 'all columns in dataset', '\\n'\n",
    "#for i in data.keys():\n",
    "#    print i,\n",
    "to_drop = [i for i in data.keys() if i not in fc.all_space]\n",
    "#print '\\n'*2, 'to_drop', '\\n', to_drop, '\\n'"
   ]
  },
  {
   "cell_type": "code",
   "execution_count": 30,
   "metadata": {
    "collapsed": false,
    "scrolled": true
   },
   "outputs": [],
   "source": [
    "#display(data[fc.to_do_list[0]].head())\n",
    "#fc.scale_question_3(data)\n",
    "#display(data[fc.to_do_list[0]].head())"
   ]
  }
 ],
 "metadata": {
  "kernelspec": {
   "display_name": "Python 2",
   "language": "python",
   "name": "python2"
  },
  "language_info": {
   "codemirror_mode": {
    "name": "ipython",
    "version": 2
   },
   "file_extension": ".py",
   "mimetype": "text/x-python",
   "name": "python",
   "nbconvert_exporter": "python",
   "pygments_lexer": "ipython2",
   "version": "2.7.12"
  }
 },
 "nbformat": 4,
 "nbformat_minor": 0
}
