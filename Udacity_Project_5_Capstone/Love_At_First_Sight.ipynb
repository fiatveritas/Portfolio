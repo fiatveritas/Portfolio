{
 "cells": [
  {
   "cell_type": "markdown",
   "metadata": {
    "deletable": true,
    "editable": true
   },
   "source": [
    "<h1>Speed Dating: Who to Date Long Term</h1>"
   ]
  },
  {
   "cell_type": "markdown",
   "metadata": {
    "deletable": true,
    "editable": true
   },
   "source": [
    "What influences love at first sight? (Or, at least, love in the first four minutes?) This dataset was compiled by Columbia Business School professors Ray Fisman and Sheena Iyengar for their paper Gender Differences in Mate Selection: Evidence From a Speed Dating Experiment.<br>\n",
    "\n",
    "Data was gathered from participants in experimental speed dating events from 2002-2004. During the events, the attendees would have a four minute \"first date\" with every other participant of the opposite sex. At the end of their four minutes, participants were asked if they would like to see their date again. They were also asked to rate their date on six attributes: Attractiveness, Sincerity, Intelligence, Fun, Ambition, and Shared Interests.<br>\n",
    "\n",
    "The dataset also includes questionnaire data gathered from participants at different points in the process. These fields include: demographics, dating habits, self-perception across key attributes, beliefs on what others find valuable in a mate, and lifestyle information. See the Speed Dating Data Key document below for details.<br>\n",
    "\n",
    "For more analysis from Iyengar and Fisman, read Racial Preferences in Dating.<br>\n",
    "\n",
    "Data Exploration Ideas<br>\n",
    "\n",
    "What are the least desirable attributes in a male partner? Does this differ for female partners?<br>\n",
    "How important do people think attractiveness is in potential mate selection vs. its real impact?<br>\n",
    "Are shared interests more important than a shared racial background?<br>\n",
    "Can people accurately predict their own perceived value in the dating market?<br>\n",
    "In terms of getting a second date, is it better to be someone's first speed date of the night or their last?"
   ]
  },
  {
   "cell_type": "markdown",
   "metadata": {},
   "source": [
    "<h2>Import Libraries</h2>"
   ]
  },
  {
   "cell_type": "code",
   "execution_count": null,
   "metadata": {
    "collapsed": false,
    "deletable": true,
    "editable": true
   },
   "outputs": [],
   "source": [
    "import pandas as pd\n",
    "import numpy as np\n",
    "import sklearn\n",
    "import seaborn as sns\n",
    "import matplotlib\n",
    "import matplotlib.pyplot as plt\n",
    "from IPython.display import display\n",
    "%matplotlib inline\n",
    "pd.set_option('display.max_columns', None)\n",
    "#pd.set_option('display.max_rows', None)\n",
    "\n",
    "print('pandas version is {}.'.format(pd.__version__))\n",
    "print('numpy version is {}.'.format(np.__version__))\n",
    "print('scikit-learn version is {}.'.format(sklearn.__version__))\n",
    "print('seaborn version is {}.'.format(sns.__version__))\n",
    "print('matplotlib version is {}.'.format(matplotlib.__version__))"
   ]
  },
  {
   "cell_type": "code",
   "execution_count": null,
   "metadata": {
    "collapsed": false,
    "deletable": true,
    "editable": true
   },
   "outputs": [],
   "source": [
    "data = pd.read_csv(\"Speed Dating Data.csv\")\n",
    "print \"This set has {} data points and {} features.\".format(*data.shape)"
   ]
  },
  {
   "cell_type": "markdown",
   "metadata": {
    "deletable": true,
    "editable": true
   },
   "source": [
    "<h1>Data Exploration</h1>"
   ]
  },
  {
   "cell_type": "markdown",
   "metadata": {},
   "source": [
    "<h4>Samples for each Feature</h4>"
   ]
  },
  {
   "cell_type": "code",
   "execution_count": null,
   "metadata": {
    "collapsed": false,
    "scrolled": true
   },
   "outputs": [],
   "source": [
    "import features_creator as fc #importing feature names made in file features_creator.py\n",
    "fc.count_samples_in_features(data)#count samples for each feature"
   ]
  },
  {
   "cell_type": "markdown",
   "metadata": {},
   "source": [
    "<h4>Features Space of interest (with most samples avalaible)</h4>"
   ]
  },
  {
   "cell_type": "code",
   "execution_count": null,
   "metadata": {
    "collapsed": false
   },
   "outputs": [],
   "source": [
    "fc.count_samples_in_features(data[fc.feature_space])"
   ]
  },
  {
   "cell_type": "markdown",
   "metadata": {},
   "source": [
    "<h4>Data Clean Up: Making Sure Features are within Range</h4>"
   ]
  },
  {
   "cell_type": "code",
   "execution_count": null,
   "metadata": {
    "collapsed": false
   },
   "outputs": [],
   "source": [
    "fc.likert_scale_question_3(data)#likert scale from 0 - 10. Some samples were at rating 12. this function brings rating of 12 down to ratings to 10\n",
    "fc.scale_question_3(data)#change scale from 0 - 10 to scale from 0 - 100, also forces that features add to 100\n",
    "fc.scale_question_4(data)#change scale from 0 - 10 to scale from 0 - 100, also forces that features add to 100\n",
    "fc.scale_question_5(data)#change scale from 0 - 10 to scale from 0 - 100, also forces that features add to 100\n",
    "fc.scale_question_1(data)#forces that features add to 100, if not the case\n",
    "fc.scale_question_2(data)#forces that features add to 100, if not the case\n",
    "fc.scale_question_7(data)#forces that features add to 100, if not the case\n",
    "fc.scale_rating_received(data)#change scale from 0 - 10 to scale from 0 - 100, also forces that features add to 100\n",
    "fc.scale_rating_given(data)#change scale from 0 - 10 to scale from 0 - 100, also forces that features add to 100\n",
    "fc.scale_half_way(data)#change feature 7_2 scale from 0 - 10 to scale from 0 - 100, also forces that features add to 100\n",
    "fc.scale_half_way_2(data)#change feature 7_3 scale from 0 - 10 to scale from 0 - 100, also forces that features add to 100\n",
    "fc.scale_age(data)#features scale age to 0 - 1"
   ]
  },
  {
   "cell_type": "markdown",
   "metadata": {},
   "source": [
    "<h4>Type Casting</h4>"
   ]
  },
  {
   "cell_type": "code",
   "execution_count": null,
   "metadata": {
    "collapsed": false
   },
   "outputs": [],
   "source": [
    "fc.convert_income_to_float(data)#income was imported as string this call converts strings to float\n",
    "fc.convert_tuition_to_float(data)#ditto, tuition was imported as strings and are converted to float\n",
    "fc.zipcode_to_float(data)#zipcode strings converted to float\n",
    "fc.sat_to_float(data)#this function converts sat scores to float"
   ]
  },
  {
   "cell_type": "markdown",
   "metadata": {},
   "source": [
    "<h4>Outlier Detection: Turkey's Method</h4>"
   ]
  },
  {
   "cell_type": "code",
   "execution_count": null,
   "metadata": {
    "collapsed": false,
    "scrolled": false
   },
   "outputs": [],
   "source": [
    "index_to_be_removed = fc.outlier_detection(data[fc.feature_space[10:72]]) #these indices span at least 15  features as outliers\n",
    "print index_to_be_removed\n",
    "data.drop(data.index[index_to_be_removed], inplace = True)"
   ]
  },
  {
   "cell_type": "markdown",
   "metadata": {},
   "source": [
    "<h4>Basic Stats for Unique Females</h4>"
   ]
  },
  {
   "cell_type": "code",
   "execution_count": null,
   "metadata": {
    "collapsed": false,
    "scrolled": true
   },
   "outputs": [],
   "source": [
    "#fc.dating_attributes_vs_time_describe(data = data, gender = 0)"
   ]
  },
  {
   "cell_type": "markdown",
   "metadata": {},
   "source": [
    "<h4>Frequency Charts for Females</h4>"
   ]
  },
  {
   "cell_type": "code",
   "execution_count": null,
   "metadata": {
    "collapsed": false
   },
   "outputs": [],
   "source": [
    "#fc.dating_attributes_vs_time_hist(data = data, gender = 0)"
   ]
  },
  {
   "cell_type": "markdown",
   "metadata": {},
   "source": [
    "<h4>Basic Stats for Unique Males</h4>"
   ]
  },
  {
   "cell_type": "code",
   "execution_count": null,
   "metadata": {
    "collapsed": false,
    "scrolled": true
   },
   "outputs": [],
   "source": [
    "#fc.dating_attributes_vs_time_describe(data = data, gender = 1)"
   ]
  },
  {
   "cell_type": "markdown",
   "metadata": {},
   "source": [
    "<h4>Frequency Charts for Males</h4>"
   ]
  },
  {
   "cell_type": "code",
   "execution_count": null,
   "metadata": {
    "collapsed": false
   },
   "outputs": [],
   "source": [
    "#fc.dating_attributes_vs_time_hist(data = data, gender = 1)"
   ]
  },
  {
   "cell_type": "markdown",
   "metadata": {},
   "source": [
    "<h4>Scale Numerical features between 0 & 1</h4>"
   ]
  },
  {
   "cell_type": "code",
   "execution_count": null,
   "metadata": {
    "collapsed": false,
    "deletable": true,
    "editable": true
   },
   "outputs": [],
   "source": [
    "fc.scale_majority_of_features(data)#this function scales most features between 0 - 1\n",
    "fc.scale_exphappy(data)"
   ]
  },
  {
   "cell_type": "markdown",
   "metadata": {},
   "source": [
    "<h4>Correlation Heat Map</h4>"
   ]
  },
  {
   "cell_type": "code",
   "execution_count": null,
   "metadata": {
    "collapsed": false,
    "scrolled": false
   },
   "outputs": [],
   "source": [
    "#fc.make_corr(data[fc.feature_space])"
   ]
  },
  {
   "cell_type": "markdown",
   "metadata": {},
   "source": [
    "<h2>Forest Feature Selection: ExtraTreesClassifier & RandomForestClassifier</h2>"
   ]
  },
  {
   "cell_type": "code",
   "execution_count": null,
   "metadata": {
    "collapsed": false
   },
   "outputs": [],
   "source": [
    "women_men = data[fc.all_space].copy()"
   ]
  },
  {
   "cell_type": "code",
   "execution_count": null,
   "metadata": {
    "collapsed": false
   },
   "outputs": [],
   "source": [
    "women_men.dropna(axis = 0, how = 'any', inplace = True)"
   ]
  },
  {
   "cell_type": "markdown",
   "metadata": {},
   "source": [
    "<h4>Both Genders</h4>"
   ]
  },
  {
   "cell_type": "code",
   "execution_count": null,
   "metadata": {
    "collapsed": false
   },
   "outputs": [],
   "source": [
    "target_df = women_men['dec'].copy()\n",
    "input_df = women_men[fc.feature_space].copy()"
   ]
  },
  {
   "cell_type": "code",
   "execution_count": null,
   "metadata": {
    "collapsed": false,
    "scrolled": true
   },
   "outputs": [],
   "source": [
    "fc.forests(input_df, target_df)"
   ]
  },
  {
   "cell_type": "markdown",
   "metadata": {},
   "source": [
    "<h4>Feature Selection: SelectKBest, F-Classifier</h4>"
   ]
  },
  {
   "cell_type": "code",
   "execution_count": null,
   "metadata": {
    "collapsed": false,
    "scrolled": true
   },
   "outputs": [],
   "source": [
    "from sklearn.feature_selection import SelectKBest\n",
    "from sklearn.feature_selection import f_classif\n",
    "kBest = SelectKBest(f_classif, k = 'all')\n",
    "kBest.fit_transform(input_df, target_df)\n",
    "k_Best_features = [(j, i, k) for i, j, k in zip(input_df.keys(), kBest.scores_, kBest.pvalues_)]\n",
    "k_Best_features.sort()\n",
    "k_Best_features.reverse()\n",
    "counter = 0\n",
    "print 'SelectKBest: f_classif'\n",
    "for i in k_Best_features:\n",
    "    counter += 1\n",
    "    print counter, i"
   ]
  },
  {
   "cell_type": "markdown",
   "metadata": {},
   "source": [
    "<h4>Create Array of Selected Features</h4>"
   ]
  },
  {
   "cell_type": "code",
   "execution_count": null,
   "metadata": {
    "collapsed": false
   },
   "outputs": [],
   "source": [
    "features_selected = ['like', 'attr', 'intel', 'shar', 'sinc', 'amb', 'fun', 'prob']\n",
    "print features_selected"
   ]
  },
  {
   "cell_type": "markdown",
   "metadata": {},
   "source": [
    "<h4>Feature Selection: Chi2</h4>"
   ]
  },
  {
   "cell_type": "code",
   "execution_count": null,
   "metadata": {
    "collapsed": false,
    "scrolled": true
   },
   "outputs": [],
   "source": [
    "from sklearn import preprocessing\n",
    "new_input_df = input_df.copy()\n",
    "new_input_df['int_corr'] = (new_input_df - new_input_df.min()) / (new_input_df.max() - new_input_df.min())\n",
    "new_input_df.drop(labels = ['iid', 'gender', 'race', 'field_cd','career_c', 'goal', 'date', 'zipcode', 'imprelig', 'imprace', 'prob_o', 'met', 'go_out', \n",
    "                            'race_o', 'samerace','pid','order', 'met_o'], axis = 1, inplace = True)"
   ]
  },
  {
   "cell_type": "code",
   "execution_count": null,
   "metadata": {
    "collapsed": false
   },
   "outputs": [],
   "source": [
    "new_input_df.keys()"
   ]
  },
  {
   "cell_type": "code",
   "execution_count": null,
   "metadata": {
    "collapsed": false
   },
   "outputs": [],
   "source": [
    "from sklearn.feature_selection import chi2\n",
    "kBest = SelectKBest(chi2, k = 'all')\n",
    "kBest.fit_transform(new_input_df, target_df)\n",
    "k_Best_features = [(j, i, k) for i, j, k in zip(new_input_df, kBest.scores_, kBest.pvalues_)]\n",
    "k_Best_features.sort()\n",
    "k_Best_features.reverse()\n",
    "counter = 0\n",
    "print 'SelectKBest: chi2'\n",
    "for i in k_Best_features:\n",
    "    counter += 1\n",
    "    print counter, i"
   ]
  },
  {
   "cell_type": "markdown",
   "metadata": {},
   "source": [
    "<h4>Normalization features: PCA</h4>"
   ]
  },
  {
   "cell_type": "code",
   "execution_count": null,
   "metadata": {
    "collapsed": false,
    "scrolled": true
   },
   "outputs": [],
   "source": [
    "new_input_df = input_df.copy()\n",
    "new_input_df = preprocessing.normalize(new_input_df[features_selected].copy())\n",
    "from sklearn.decomposition import PCA\n",
    "for i in range(1, 9):\n",
    "    pca = PCA(n_components = i)\n",
    "    pca.fit(new_input_df)\n",
    "    print 'n = ', str(i),': ' , \n",
    "    print 'Components:', pca.components_\n",
    "    print 'Explained Variance:', pca.explained_variance_ \n",
    "    print 'Explained Ratio: ', pca.explained_variance_ratio_, '\\n'*2"
   ]
  },
  {
   "cell_type": "markdown",
   "metadata": {},
   "source": [
    "<h4>PCA: Projections to 3 dimensions</h4>"
   ]
  },
  {
   "cell_type": "code",
   "execution_count": null,
   "metadata": {
    "collapsed": false
   },
   "outputs": [],
   "source": [
    "pca = PCA(n_components = 3)\n",
    "pca.fit(new_input_df)\n",
    "display(new_input_df)"
   ]
  },
  {
   "cell_type": "markdown",
   "metadata": {},
   "source": [
    "<h2>Create Matched People DataFrame</h2>"
   ]
  },
  {
   "cell_type": "code",
   "execution_count": null,
   "metadata": {
    "collapsed": false,
    "deletable": true,
    "editable": true
   },
   "outputs": [],
   "source": [
    "#people_matched = data[data['match'] == 1].copy()\n",
    "#people_matched.drop_duplicates(subset = 'iid', keep = 'first', inplace = True)\n",
    "#display(people_matched)"
   ]
  },
  {
   "cell_type": "markdown",
   "metadata": {},
   "source": [
    "<h2>Exploring Matches</h2>"
   ]
  },
  {
   "cell_type": "code",
   "execution_count": null,
   "metadata": {
    "collapsed": false
   },
   "outputs": [],
   "source": [
    "#people_matched[['iid', 'gender', 'dec'] + fc.features_of_attraction + fc.preferences_of_attraction + ['dec_o', 'pid', 'goal', 'int_corr', 'match']]"
   ]
  },
  {
   "cell_type": "markdown",
   "metadata": {
    "deletable": true,
    "editable": true
   },
   "source": [
    "<h4>Get Index for 'iid' for non-matches</h4>"
   ]
  },
  {
   "cell_type": "code",
   "execution_count": null,
   "metadata": {
    "collapsed": false
   },
   "outputs": [],
   "source": [
    "#number = [int(i) for i in people_matched['iid']]\n",
    "#not_ever_matched = [i for i in range(1,553) if i not in number]\n",
    "#print not_ever_matched"
   ]
  },
  {
   "cell_type": "code",
   "execution_count": null,
   "metadata": {
    "collapsed": false
   },
   "outputs": [],
   "source": [
    "#people_not_matched = data[data['iid'].isin(not_ever_matched)].copy()"
   ]
  },
  {
   "cell_type": "markdown",
   "metadata": {},
   "source": [
    "<h2>Exploring Non-Matches</h2>"
   ]
  },
  {
   "cell_type": "code",
   "execution_count": null,
   "metadata": {
    "collapsed": false
   },
   "outputs": [],
   "source": [
    "#people_not_matched[['iid', 'gender', 'dec'] + fc.features_of_attraction + fc.preferences_of_attraction + ['dec_o', 'pid', 'goal', 'int_corr', 'match']]"
   ]
  },
  {
   "cell_type": "markdown",
   "metadata": {},
   "source": [
    "<h4>Non-Matched Females: Graphs</h4>"
   ]
  },
  {
   "cell_type": "code",
   "execution_count": null,
   "metadata": {
    "collapsed": false
   },
   "outputs": [],
   "source": [
    "#fc.dating_attributes_vs_time(data = people_not_matched, gender = 0)"
   ]
  },
  {
   "cell_type": "markdown",
   "metadata": {},
   "source": [
    "<h4>Non-Matched Males: Graphs</h4>"
   ]
  },
  {
   "cell_type": "code",
   "execution_count": null,
   "metadata": {
    "collapsed": false
   },
   "outputs": [],
   "source": [
    "#fc.dating_attributes_vs_time(data = people_not_matched, gender = 1)"
   ]
  }
 ],
 "metadata": {
  "kernelspec": {
   "display_name": "Python 2",
   "language": "python",
   "name": "python2"
  },
  "language_info": {
   "codemirror_mode": {
    "name": "ipython",
    "version": 2
   },
   "file_extension": ".py",
   "mimetype": "text/x-python",
   "name": "python",
   "nbconvert_exporter": "python",
   "pygments_lexer": "ipython2",
   "version": "2.7.12"
  }
 },
 "nbformat": 4,
 "nbformat_minor": 0
}
