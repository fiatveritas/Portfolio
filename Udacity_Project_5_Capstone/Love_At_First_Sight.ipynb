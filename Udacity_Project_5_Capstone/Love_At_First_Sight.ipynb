{
 "cells": [
  {
   "cell_type": "markdown",
   "metadata": {
    "deletable": true,
    "editable": true
   },
   "source": [
    "<h1>Speed Dating: Who to Date Long Term</h1>"
   ]
  },
  {
   "cell_type": "markdown",
   "metadata": {
    "deletable": true,
    "editable": true
   },
   "source": [
    "What influences love at first sight? (Or, at least, love in the first four minutes?) This dataset was compiled by Columbia Business School professors Ray Fisman and Sheena Iyengar for their paper Gender Differences in Mate Selection: Evidence From a Speed Dating Experiment.<br>\n",
    "\n",
    "Data was gathered from participants in experimental speed dating events from 2002-2004. During the events, the attendees would have a four minute \"first date\" with every other participant of the opposite sex. At the end of their four minutes, participants were asked if they would like to see their date again. They were also asked to rate their date on six attributes: Attractiveness, Sincerity, Intelligence, Fun, Ambition, and Shared Interests.<br>\n",
    "\n",
    "The dataset also includes questionnaire data gathered from participants at different points in the process. These fields include: demographics, dating habits, self-perception across key attributes, beliefs on what others find valuable in a mate, and lifestyle information. See the Speed Dating Data Key document below for details.<br>\n",
    "\n",
    "For more analysis from Iyengar and Fisman, read Racial Preferences in Dating.<br>\n",
    "\n",
    "Data Exploration Ideas<br>\n",
    "\n",
    "What are the least desirable attributes in a male partner? Does this differ for female partners?<br>\n",
    "How important do people think attractiveness is in potential mate selection vs. its real impact?<br>\n",
    "Are shared interests more important than a shared racial background?<br>\n",
    "Can people accurately predict their own perceived value in the dating market?<br>\n",
    "In terms of getting a second date, is it better to be someone's first speed date of the night or their last?"
   ]
  },
  {
   "cell_type": "markdown",
   "metadata": {},
   "source": [
    "<h2>Import Libraries</h2>"
   ]
  },
  {
   "cell_type": "code",
   "execution_count": 1,
   "metadata": {
    "collapsed": false,
    "deletable": true,
    "editable": true
   },
   "outputs": [
    {
     "name": "stdout",
     "output_type": "stream",
     "text": [
      "pandas version is 0.18.0.\n",
      "numpy version is 1.10.4.\n",
      "scikit-learn version is 0.17.1.\n",
      "seaborn version is 0.7.1.\n",
      "matplotlib version is 1.5.1.\n"
     ]
    }
   ],
   "source": [
    "import pandas as pd\n",
    "import numpy as np\n",
    "import sklearn\n",
    "import seaborn as sns\n",
    "import matplotlib\n",
    "import matplotlib.pyplot as plt\n",
    "from IPython.display import display\n",
    "%matplotlib inline\n",
    "pd.set_option('display.max_columns', None)\n",
    "#pd.set_option('display.max_rows', None)\n",
    "\n",
    "print('pandas version is {}.'.format(pd.__version__))\n",
    "print('numpy version is {}.'.format(np.__version__))\n",
    "print('scikit-learn version is {}.'.format(sklearn.__version__))\n",
    "print('seaborn version is {}.'.format(sns.__version__))\n",
    "print('matplotlib version is {}.'.format(matplotlib.__version__))"
   ]
  },
  {
   "cell_type": "code",
   "execution_count": 2,
   "metadata": {
    "collapsed": false,
    "deletable": true,
    "editable": true
   },
   "outputs": [
    {
     "name": "stdout",
     "output_type": "stream",
     "text": [
      "This set has 8378 data points and 195 features.\n"
     ]
    }
   ],
   "source": [
    "data = pd.read_csv(\"Speed Dating Data.csv\")\n",
    "print \"This set has {} data points and {} features.\".format(*data.shape)"
   ]
  },
  {
   "cell_type": "markdown",
   "metadata": {
    "deletable": true,
    "editable": true
   },
   "source": [
    "<h1>Data Exploration</h1>"
   ]
  },
  {
   "cell_type": "markdown",
   "metadata": {},
   "source": [
    "<h4>Samples for each Feature</h4>"
   ]
  },
  {
   "cell_type": "code",
   "execution_count": 3,
   "metadata": {
    "collapsed": false,
    "scrolled": true
   },
   "outputs": [
    {
     "name": "stdout",
     "output_type": "stream",
     "text": [
      "wave 8378 ||| samerace 8378 ||| round 8378 ||| position 8378 ||| partner 8378 ||| order 8378 ||| match 8378 ||| iid 8378 ||| idg 8378 ||| gender 8378 ||| dec_o 8378 ||| dec 8378 ||| condtn 8378 ||| id 8377 ||| pid 8368 ||| race 8315 ||| field 8315 ||| race_o 8305 ||| yoga 8299 ||| tvsports 8299 ||| tv 8299 ||| theater 8299 ||| sports 8299 ||| sinc2_1 8299 ||| sinc1_1 8299 ||| shopping 8299 ||| reading 8299 ||| music 8299 ||| museums 8299 ||| movies 8299 ||| intel2_1 8299 ||| intel1_1 8299 ||| imprelig 8299 ||| imprace 8299 ||| hiking 8299 ||| goal 8299 ||| go_out 8299 ||| gaming 8299 ||| fun2_1 8299 ||| from 8299 ||| exercise 8299 ||| dining 8299 ||| concerts 8299 ||| clubbing 8299 ||| attr2_1 8299 ||| attr1_1 8299 ||| art 8299 ||| field_cd 8296 ||| shar2_1 8289 ||| pf_o_sin 8289 ||| pf_o_int 8289 ||| pf_o_att 8289 ||| fun1_1 8289 ||| career 8289 ||| amb2_1 8289 ||| age 8283 ||| date 8281 ||| pf_o_fun 8280 ||| amb1_1 8279 ||| exphappy 8277 ||| age_o 8274 ||| sinc3_1 8273 ||| intel3_1 8273 ||| fun3_1 8273 ||| attr3_1 8273 ||| amb3_1 8273 ||| pf_o_amb 8271 ||| shar1_1 8257 ||| pf_o_sha 8249 ||| career_c 8240 ||| int_corr 8220 ||| attr 8176 ||| attr_o 8166 ||| like 8138 ||| like_o 8128 ||| sinc 8101 ||| sinc_o 8091 ||| intel 8082 ||| intel_o 8072 ||| prob 8069 ||| prob_o 8060 ||| fun 8028 ||| fun_o 8018 ||| met 8003 ||| met_o 7993 ||| amb 7666 ||| amb_o 7656 ||| sinc3_2 7463 ||| sinc1_2 7463 ||| shar1_2 7463 ||| satis_2 7463 ||| length 7463 ||| intel3_2 7463 ||| intel1_2 7463 ||| fun3_2 7463 ||| fun1_2 7463 ||| attr3_2 7463 ||| amb3_2 7463 ||| amb1_2 7463 ||| attr1_2 7445 ||| numdat_2 7433 ||| zipcode 7314 ||| shar 7311 ||| shar_o 7302 ||| match_es 7205 ||| positin1 6532 ||| sinc4_1 6489 ||| intel4_1 6489 ||| fun4_1 6489 ||| attr4_1 6489 ||| amb4_1 6489 ||| shar4_1 6467 ||| sinc4_2 5775 ||| sinc2_2 5775 ||| shar4_2 5775 ||| shar2_2 5775 ||| intel4_2 5775 ||| intel2_2 5775 ||| fun4_2 5775 ||| fun2_2 5775 ||| attr4_2 5775 ||| attr2_2 5775 ||| amb4_2 5775 ||| amb2_2 5775 ||| undergra 4914 ||| sinc5_1 4906 ||| intel5_1 4906 ||| fun5_1 4906 ||| attr5_1 4906 ||| amb5_1 4906 ||| sinc5_2 4377 ||| intel5_2 4377 ||| fun5_2 4377 ||| attr5_2 4377 ||| amb5_2 4377 ||| income 4279 ||| sinc1_s 4096 ||| shar1_s 4096 ||| intel1_s 4096 ||| fun1_s 4096 ||| attr1_s 4096 ||| amb1_s 4096 ||| sinc3_s 4000 ||| intel3_s 4000 ||| fun3_s 4000 ||| attr3_s 4000 ||| amb3_s 4000 ||| you_call 3974 ||| them_cal 3974 ||| sinc3_3 3974 ||| sinc1_3 3974 ||| shar1_3 3974 ||| intel3_3 3974 ||| intel1_3 3974 ||| fun3_3 3974 ||| fun1_3 3974 ||| date_3 3974 ||| attr3_3 3974 ||| attr1_3 3974 ||| amb3_3 3974 ||| amb1_3 3974 ||| tuition 3583 ||| mn_sat 3133 ||| sinc4_3 2959 ||| sinc2_3 2959 ||| shar4_3 2959 ||| intel4_3 2959 ||| intel2_3 2959 ||| fun4_3 2959 ||| fun2_3 2959 ||| attr4_3 2959 ||| attr2_3 2959 ||| amb4_3 2959 ||| amb2_3 2959 ||| sinc7_3 2016 ||| sinc5_3 2016 ||| shar7_3 2016 ||| shar2_3 2016 ||| intel7_3 2016 ||| intel5_3 2016 ||| fun7_3 2016 ||| fun5_3 2016 ||| attr7_3 2016 ||| attr5_3 2016 ||| amb7_3 2016 ||| amb5_3 2016 ||| intel7_2 1984 ||| fun7_2 1984 ||| attr7_2 1984 ||| shar7_2 1974 ||| sinc7_2 1955 ||| amb7_2 1955 ||| expnum 1800 ||| numdat_3 1496 ||| num_in_3 668 |||\n"
     ]
    }
   ],
   "source": [
    "import features_creator as fc #importing feature names made in file features_creator.py\n",
    "fc.count_samples_in_features(data)#count samples for each feature"
   ]
  },
  {
   "cell_type": "markdown",
   "metadata": {},
   "source": [
    "<h4>Features Space of interest (with most samples avalaible)</h4>"
   ]
  },
  {
   "cell_type": "code",
   "execution_count": 4,
   "metadata": {
    "collapsed": false
   },
   "outputs": [
    {
     "name": "stdout",
     "output_type": "stream",
     "text": [
      "samerace 8378 ||| order 8378 ||| iid 8378 ||| gender 8378 ||| pid 8368 ||| race 8315 ||| race_o 8305 ||| yoga 8299 ||| tvsports 8299 ||| tv 8299 ||| theater 8299 ||| sports 8299 ||| sinc2_1 8299 ||| sinc1_1 8299 ||| shopping 8299 ||| reading 8299 ||| music 8299 ||| museums 8299 ||| movies 8299 ||| intel2_1 8299 ||| intel1_1 8299 ||| imprelig 8299 ||| imprace 8299 ||| hiking 8299 ||| goal 8299 ||| go_out 8299 ||| gaming 8299 ||| fun2_1 8299 ||| exercise 8299 ||| dining 8299 ||| concerts 8299 ||| clubbing 8299 ||| attr2_1 8299 ||| attr1_1 8299 ||| art 8299 ||| field_cd 8296 ||| shar2_1 8289 ||| pf_o_sin 8289 ||| pf_o_int 8289 ||| pf_o_att 8289 ||| fun1_1 8289 ||| amb2_1 8289 ||| age 8283 ||| date 8281 ||| pf_o_fun 8280 ||| amb1_1 8279 ||| exphappy 8277 ||| age_o 8274 ||| sinc3_1 8273 ||| intel3_1 8273 ||| fun3_1 8273 ||| attr3_1 8273 ||| amb3_1 8273 ||| pf_o_amb 8271 ||| shar1_1 8257 ||| pf_o_sha 8249 ||| career_c 8240 ||| int_corr 8220 ||| attr 8176 ||| attr_o 8166 ||| like 8138 ||| like_o 8128 ||| sinc 8101 ||| sinc_o 8091 ||| intel 8082 ||| intel_o 8072 ||| prob 8069 ||| prob_o 8060 ||| fun 8028 ||| fun_o 8018 ||| met 8003 ||| met_o 7993 ||| amb 7666 ||| amb_o 7656 ||| zipcode 7314 ||| shar 7311 ||| shar_o 7302 |||\n"
     ]
    }
   ],
   "source": [
    "fc.count_samples_in_features(data[fc.feature_space])"
   ]
  },
  {
   "cell_type": "markdown",
   "metadata": {},
   "source": [
    "<h4>Data Clean Up: Making Sure Features are within Range</h4>"
   ]
  },
  {
   "cell_type": "code",
   "execution_count": 5,
   "metadata": {
    "collapsed": false
   },
   "outputs": [],
   "source": [
    "fc.likert_scale_question_3(data)#Scale from 0 - 10. Bring fix rating of 12 to 10\n",
    "fc.scale_question_3(data)#change to scale from 0 - 100, force that features add to 100\n",
    "fc.scale_question_4(data)#change to scale from 0 - 100, force that features add to 100\n",
    "fc.scale_question_5(data)#change to scale from 0 - 100, force that features add to 100\n",
    "fc.scale_question_1(data)#force that features add to 100, if not the case\n",
    "fc.scale_question_2(data)#force that features add to 100, if not the case\n",
    "fc.scale_question_7(data)#force that features add to 100, if not the case\n",
    "fc.scale_rating_received(data)#change to scale from 0 - 100, force that features add to 100\n",
    "fc.scale_rating_given(data)#change to scale from 0 - 100, force that features add to 100\n",
    "fc.scale_half_way(data)#change to scale from 0 - 100, force that features add to 100\n",
    "fc.scale_half_way_2(data)#change to scale from 0 - 100, force that features add to 100\n",
    "fc.scale_age(data)#change to scale from 0 - 1"
   ]
  },
  {
   "cell_type": "markdown",
   "metadata": {},
   "source": [
    "<h4>Type Casting</h4>"
   ]
  },
  {
   "cell_type": "code",
   "execution_count": 6,
   "metadata": {
    "collapsed": false
   },
   "outputs": [],
   "source": [
    "fc.convert_income_to_float(data)#income was imported as string this call converts strings to float\n",
    "fc.convert_tuition_to_float(data)#ditto, tuition was imported as strings and are converted to float\n",
    "fc.zipcode_to_float(data)#zipcode strings converted to float\n",
    "fc.sat_to_float(data)#this function converts sat scores to float"
   ]
  },
  {
   "cell_type": "markdown",
   "metadata": {},
   "source": [
    "<h4>Outlier Detection: Turkey's Method</h4>"
   ]
  },
  {
   "cell_type": "code",
   "execution_count": 7,
   "metadata": {
    "collapsed": false,
    "scrolled": false
   },
   "outputs": [
    {
     "name": "stdout",
     "output_type": "stream",
     "text": [
      "[8203, 8209, 8219, 8359, 312, 313, 314, 315, 316, 317, 318, 319, 320, 321, 322, 323, 324, 325, 326, 327, 8204, 720, 739, 8217, 828, 829, 830, 831, 832, 833, 834, 835, 836, 837, 838, 839, 840, 841, 842, 843, 844, 845, 846, 847, 911, 920, 921, 951, 961, 981, 991, 1001, 8218, 1695, 1715, 1765, 1785, 1795, 1805, 1825, 1835, 1839, 1841, 1866, 1867, 1868, 1869, 1870, 8208, 8271, 8207, 4861, 5004, 5005, 5006, 5007, 5008, 5009, 5010, 5011, 5012, 5013, 5014, 5015, 5016, 5017, 5018, 5019, 5020, 5021, 5022, 5023, 5032, 5035, 5054, 5074, 5076, 5096, 5114, 5115, 5116, 5117, 5118, 5119, 5120, 5121, 5122, 5123, 5124, 5125, 5126, 5127, 5128, 5129, 5130, 5131, 5138, 5139, 5176, 5246, 5247, 5284, 5295, 5296, 5299, 5302, 5303, 5305, 5306, 5310, 5311, 5320, 5334, 5352, 5355, 5375, 5378, 5388, 5419, 5439, 5481, 5482, 5499, 5510, 5516, 5530, 5536, 5542, 5544, 5552, 5558, 5559, 5560, 5579, 5583, 5604, 5619, 5625, 5639, 5643, 5666, 5689, 5706, 5719, 5739, 5746, 5765, 5784, 5822, 5936, 6031, 6069, 8235, 6122, 6123, 6124, 6126, 6132, 6137, 6139, 6392, 6393, 6394, 6395, 6396, 6397, 6398, 6399, 6400, 6401, 6402, 6403, 6404, 6405, 6406, 6407, 6408, 6409, 8220, 7420, 7422, 7438, 7446, 7468, 7483, 7485, 7493, 7497, 7508, 7534, 7556, 7578, 7588, 7591, 7594, 7597, 7599, 7642, 7650, 7667, 7754, 8344, 7776, 7798, 7820, 7834, 7835, 7946, 8012, 8027, 8051, 8067, 8078, 8095, 8114, 8118, 8144, 8158, 8188]\n"
     ]
    }
   ],
   "source": [
    "index_to_be_removed = fc.outlier_detection(data[fc.feature_space[10:72]]) \n",
    "#these indices span at least 15  features as outliers\n",
    "print index_to_be_removed\n",
    "data.drop(data.index[index_to_be_removed], inplace = True)"
   ]
  },
  {
   "cell_type": "markdown",
   "metadata": {},
   "source": [
    "<h4>Basic Stats for Unique Females</h4>"
   ]
  },
  {
   "cell_type": "code",
   "execution_count": 8,
   "metadata": {
    "collapsed": false,
    "scrolled": true
   },
   "outputs": [],
   "source": [
    "#fc.dating_attributes_vs_time_describe(data = data, gender = 0)"
   ]
  },
  {
   "cell_type": "markdown",
   "metadata": {},
   "source": [
    "<h4>Frequency Charts for Females</h4>"
   ]
  },
  {
   "cell_type": "code",
   "execution_count": 9,
   "metadata": {
    "collapsed": false
   },
   "outputs": [],
   "source": [
    "#fc.dating_attributes_vs_time_hist(data = data, gender = 0)"
   ]
  },
  {
   "cell_type": "markdown",
   "metadata": {},
   "source": [
    "<h4>Basic Stats for Unique Males</h4>"
   ]
  },
  {
   "cell_type": "code",
   "execution_count": 10,
   "metadata": {
    "collapsed": false,
    "scrolled": true
   },
   "outputs": [],
   "source": [
    "#fc.dating_attributes_vs_time_describe(data = data, gender = 1)"
   ]
  },
  {
   "cell_type": "markdown",
   "metadata": {},
   "source": [
    "<h4>Frequency Charts for Males</h4>"
   ]
  },
  {
   "cell_type": "code",
   "execution_count": 11,
   "metadata": {
    "collapsed": false
   },
   "outputs": [],
   "source": [
    "#fc.dating_attributes_vs_time_hist(data = data, gender = 1)"
   ]
  },
  {
   "cell_type": "markdown",
   "metadata": {},
   "source": [
    "<h4>Scale Numerical features between 0 & 1</h4>"
   ]
  },
  {
   "cell_type": "code",
   "execution_count": 12,
   "metadata": {
    "collapsed": false,
    "deletable": true,
    "editable": true
   },
   "outputs": [],
   "source": [
    "fc.scale_majority_of_features(data)#this function scales most features between 0 - 1\n",
    "fc.scale_exphappy(data)"
   ]
  },
  {
   "cell_type": "markdown",
   "metadata": {},
   "source": [
    "<h4>Correlation Heat Map</h4>"
   ]
  },
  {
   "cell_type": "code",
   "execution_count": 13,
   "metadata": {
    "collapsed": false,
    "scrolled": true
   },
   "outputs": [],
   "source": [
    "#fc.make_corr(data[fc.feature_space])"
   ]
  },
  {
   "cell_type": "markdown",
   "metadata": {},
   "source": [
    "<h2>Forest Feature Selection: ExtraTreesClassifier & RandomForestClassifier</h2>"
   ]
  },
  {
   "cell_type": "code",
   "execution_count": 14,
   "metadata": {
    "collapsed": false
   },
   "outputs": [],
   "source": [
    "women_men = data[fc.all_space].copy()"
   ]
  },
  {
   "cell_type": "code",
   "execution_count": 15,
   "metadata": {
    "collapsed": false
   },
   "outputs": [],
   "source": [
    "women_men.dropna(axis = 0, how = 'any', inplace = True)"
   ]
  },
  {
   "cell_type": "markdown",
   "metadata": {},
   "source": [
    "<h4>Both Genders</h4>"
   ]
  },
  {
   "cell_type": "code",
   "execution_count": 16,
   "metadata": {
    "collapsed": false
   },
   "outputs": [],
   "source": [
    "target_df = women_men['dec'].copy()\n",
    "input_df = women_men[fc.feature_space].copy()"
   ]
  },
  {
   "cell_type": "code",
   "execution_count": 17,
   "metadata": {
    "collapsed": false,
    "scrolled": true
   },
   "outputs": [
    {
     "name": "stdout",
     "output_type": "stream",
     "text": [
      "ExtraTreesClassifier \t\t\t\tRandomForestClassifier\n",
      "Old Space:  (4767, 77) \t\t\t\tOld Space: (4767, 77)\n",
      "New Space:  (4767L, 22L) \t\t\t\tNew Space: (4767L, 18L)\n",
      "1 | (0.14090287439798246, 'like') \t\t\t1 | (0.15013219843025571, 'like')\n",
      "2 | (0.035426615868321201, 'prob') \t\t\t2 | (0.051806606451013072, 'intel')\n",
      "3 | (0.027959386209353738, 'attr') \t\t\t3 | (0.045203293116446552, 'attr')\n",
      "4 | (0.027322028009490011, 'sinc') \t\t\t4 | (0.035415608819452798, 'amb')\n",
      "5 | (0.02606742401167314, 'intel') \t\t\t5 | (0.029698254984769589, 'sinc')\n",
      "6 | (0.021872618803974505, 'amb') \t\t\t6 | (0.029570636117514759, 'shar')\n",
      "7 | (0.021814982990162327, 'shar') \t\t\t7 | (0.027922849938728889, 'prob')\n",
      "8 | (0.020346643879573321, 'fun') \t\t\t8 | (0.02097332539641323, 'fun')\n",
      "9 | (0.016695645258752688, 'prob_o') \t\t\t9 | (0.019144597390846653, 'pid')\n",
      "10 | (0.016374651751902902, 'attr_o') \t\t\t10 | (0.017523658068946273, 'sinc_o')\n",
      "11 | (0.015502346014165317, 'like_o') \t\t\t11 | (0.017493756190282653, 'attr_o')\n",
      "12 | (0.014744656947368585, 'pf_o_sha') \t\t\t12 | (0.015917707256430175, 'attr3_1')\n",
      "13 | (0.014659067361269897, 'order') \t\t\t13 | (0.015445733452383922, 'amb_o')\n",
      "14 | (0.014313693630007066, 'sinc_o') \t\t\t14 | (0.015373778337322942, 'fun_o')\n",
      "15 | (0.013941708582023898, 'pid') \t\t\t15 | (0.014643077206412846, 'shar_o')\n",
      "16 | (0.013794283371624777, 'int_corr') \t\t\t16 | (0.014533015846706196, 'int_corr')\n",
      "17 | (0.013558477834965004, 'age_o') \t\t\t17 | (0.013754298590609249, 'iid')\n",
      "18 | (0.013454466522728567, 'pf_o_fun') \t\t\t18 | (0.013448714335301069, 'zipcode')\n",
      "19 | (0.013447701625751268, 'pf_o_amb') \t\t\t19 | (0.012924984874582357, 'sinc2_1')\n",
      "20 | (0.013213996891505722, 'shar_o') \t\t\t20 | (0.012884134654260249, 'prob_o')\n",
      "21 | (0.013204155872749498, 'pf_o_sin') \t\t\t21 | (0.012636654351439625, 'pf_o_att')\n",
      "22 | (0.013143869116865469, 'amb_o') \t\t\t22 | (0.012489385133258537, 'intel_o')\n",
      "23 | (0.012800033579163071, 'intel_o') \t\t\t23 | (0.01215101713180463, 'intel2_1')\n",
      "24 | (0.012672223487367277, 'fun_o') \t\t\t24 | (0.01155637892477494, 'order')\n",
      "25 | (0.012256558248562392, 'pf_o_int') \t\t\t25 | (0.011275799660351405, 'intel3_1')\n",
      "26 | (0.012122955230289559, 'pf_o_att') \t\t\t26 | (0.010901543906476878, 'attr2_1')\n",
      "27 | (0.010761871441185945, 'zipcode') \t\t\t27 | (0.010649894828087814, 'pf_o_sha')\n",
      "28 | (0.01039988266553191, 'race_o') \t\t\t28 | (0.010182691732570163, 'pf_o_fun')\n",
      "29 | (0.010188574578396555, 'yoga') \t\t\t29 | (0.010070680768633985, 'imprace')\n",
      "30 | (0.010133456374464393, 'samerace') \t\t\t30 | (0.0099040122581513755, 'age_o')\n",
      "31 | (0.0099106695174886687, 'imprace') \t\t\t31 | (0.0097475264563082857, 'shar1_1')\n",
      "32 | (0.0098748088936322937, 'exercise') \t\t\t32 | (0.0097210776771494943, 'sinc3_1')\n",
      "33 | (0.0098672613243303009, 'sinc2_1') \t\t\t33 | (0.0095874334951902111, 'pf_o_sin')\n",
      "34 | (0.0098161313815753239, 'amb1_1') \t\t\t34 | (0.0093426370391518024, 'amb3_1')\n",
      "35 | (0.009797125987392, 'intel2_1') \t\t\t35 | (0.0093390722918378945, 'yoga')\n",
      "36 | (0.0094579523649866333, 'gender') \t\t\t36 | (0.0088907048591131254, 'amb1_1')\n",
      "37 | (0.0093921793482809376, 'imprelig') \t\t\t37 | (0.0086275848820738452, 'pf_o_amb')\n",
      "38 | (0.0092555729666297226, 'attr2_1') \t\t\t38 | (0.0085854194100572993, 'amb2_1')\n",
      "39 | (0.0092037371895403002, 'tvsports') \t\t\t39 | (0.0081488148296817824, 'intel1_1')\n",
      "40 | (0.0090564640317420501, 'sports') \t\t\t40 | (0.0081150832092684831, 'attr1_1')\n",
      "41 | (0.008896196455967946, 'age') \t\t\t41 | (0.0080754264164306991, 'exphappy')\n",
      "42 | (0.0088683969269770357, 'attr3_1') \t\t\t42 | (0.0079180160057727815, 'fun1_1')\n",
      "43 | (0.0087059430654389466, 'gaming') \t\t\t43 | (0.0077551149379783456, 'music')\n",
      "44 | (0.0086224989991662872, 'fun1_1') \t\t\t44 | (0.0077536771686893321, 'like_o')\n",
      "45 | (0.0084950724193675938, 'movies') \t\t\t45 | (0.0077508487189092753, 'fun3_1')\n",
      "46 | (0.008467709880209881, 'intel3_1') \t\t\t46 | (0.0077452775048051621, 'movies')\n",
      "47 | (0.0084265221516608181, 'career_c') \t\t\t47 | (0.0077054832690137774, 'imprelig')\n",
      "48 | (0.0084189534725673046, 'iid') \t\t\t48 | (0.0076435638434960273, 'pf_o_int')\n",
      "49 | (0.0083259456403597838, 'date') \t\t\t49 | (0.0074382661469838086, 'theater')\n",
      "50 | (0.0082455513925843455, 'concerts') \t\t\t50 | (0.007427452498244785, 'fun2_1')\n",
      "51 | (0.0081824847173367962, 'tv') \t\t\t51 | (0.0073758343365655215, 'exercise')\n",
      "52 | (0.0081221086397589189, 'shar1_1') \t\t\t52 | (0.0072290631616926835, 'sinc1_1')\n",
      "53 | (0.0081077142215065061, 'met') \t\t\t53 | (0.0072090463411402031, 'hiking')\n",
      "54 | (0.0081015123659824214, 'race') \t\t\t54 | (0.0070911437444257739, 'art')\n",
      "55 | (0.0080762058090375448, 'museums') \t\t\t55 | (0.0068519553899417203, 'shopping')\n",
      "56 | (0.0079953901086540664, 'dining') \t\t\t56 | (0.0068294570196782301, 'tvsports')\n",
      "57 | (0.007974210290996266, 'goal') \t\t\t57 | (0.0067395091148914456, 'concerts')\n",
      "58 | (0.0079597846991160733, 'shopping') \t\t\t58 | (0.0066996303817767151, 'shar2_1')\n",
      "59 | (0.0079431806629440514, 'field_cd') \t\t\t59 | (0.006488981721445815, 'career_c')\n",
      "60 | (0.0078938480429849474, 'clubbing') \t\t\t60 | (0.0063352958587597485, 'clubbing')\n",
      "61 | (0.0078588368236706414, 'art') \t\t\t61 | (0.0062677008133490445, 'gaming')\n",
      "62 | (0.0078499417660120967, 'go_out') \t\t\t62 | (0.0062554090452290852, 'age')\n",
      "63 | (0.0078411353736103639, 'amb2_1') \t\t\t63 | (0.0058326240048724737, 'field_cd')\n",
      "64 | (0.0078079260573976818, 'music') \t\t\t64 | (0.0057692276835562221, 'dining')\n",
      "65 | (0.0077744427952510659, 'theater') \t\t\t65 | (0.0055694836467204845, 'sports')\n",
      "66 | (0.0077368413699809759, 'reading') \t\t\t66 | (0.0055693825414623891, 'museums')\n",
      "67 | (0.0077063681195700048, 'fun2_1') \t\t\t67 | (0.0055483934341393802, 'date')\n",
      "68 | (0.0076919104513014907, 'sinc3_1') \t\t\t68 | (0.0053086335685314625, 'tv')\n",
      "69 | (0.0076377669360673996, 'attr1_1') \t\t\t69 | (0.0051775862609379506, 'go_out')\n",
      "70 | (0.0076256081581992357, 'exphappy') \t\t\t70 | (0.0050273129143047716, 'race_o')\n",
      "71 | (0.0075827658018360038, 'shar2_1') \t\t\t71 | (0.0047840473390035549, 'reading')\n",
      "72 | (0.0073358876346979272, 'intel1_1') \t\t\t72 | (0.0039833949912629748, 'race')\n",
      "73 | (0.0072888809882303424, 'hiking') \t\t\t73 | (0.0039307724826415759, 'gender')\n",
      "74 | (0.0070682289114217534, 'sinc1_1') \t\t\t74 | (0.0032966632591713506, 'goal')\n",
      "75 | (0.0070304351118501366, 'fun3_1') \t\t\t75 | (0.0023955121977764435, 'met')\n",
      "76 | (0.006969162912229647, 'amb3_1') \t\t\t76 | (0.0022725697798431149, 'samerace')\n",
      "77 | (0.0046358772632849937, 'met_o') \t\t\t77 | (0.0012146001524950256, 'met_o')\n"
     ]
    }
   ],
   "source": [
    "fc.forests(input_df, target_df)"
   ]
  },
  {
   "cell_type": "markdown",
   "metadata": {},
   "source": [
    "<h4>Feature Selection: SelectKBest, F-Classifier</h4>"
   ]
  },
  {
   "cell_type": "code",
   "execution_count": 18,
   "metadata": {
    "collapsed": false,
    "scrolled": true
   },
   "outputs": [
    {
     "name": "stdout",
     "output_type": "stream",
     "text": [
      "SelectKBest: f_classif\n",
      "1 (1798.0233114108228, 'like', 0.0)\n",
      "2 (494.08763501835841, 'intel', 3.1001980447685445e-104)\n",
      "3 (492.10055596115774, 'prob', 7.6419373453067022e-104)\n",
      "4 (346.79407749817926, 'attr', 9.0106759855585969e-75)\n",
      "5 (271.61105988880803, 'shar', 2.1651863001025901e-59)\n",
      "6 (245.69708452431934, 'sinc', 4.9364782584994002e-54)\n",
      "7 (225.47865730817472, 'amb', 7.844643665280404e-50)\n",
      "8 (179.27438437812117, 'fun', 3.6838462837283036e-40)\n",
      "9 (111.82571973414429, 'prob_o', 7.5299416054991148e-26)\n",
      "10 (94.722460231871921, 'attr_o', 3.5200374326961384e-22)\n",
      "11 (67.54356844348122, 'gender', 2.6306081290131098e-16)\n",
      "12 (66.080081478821128, 'intel2_1', 5.4703140680530944e-16)\n",
      "13 (56.190932639131972, 'imprace', 7.796470873488828e-14)\n",
      "14 (54.190116184694581, 'exphappy', 2.1326311856960049e-13)\n",
      "15 (40.454027065282006, 'imprelig', 2.2015774916634326e-10)\n",
      "16 (39.441404274423775, 'attr2_1', 3.6813473330526517e-10)\n",
      "17 (37.093155757081412, 'gaming', 1.2146837336982053e-09)\n",
      "18 (36.267462970053529, 'exercise', 1.8492917002221045e-09)\n",
      "19 (28.22879504623328, 'sinc2_1', 1.1270032531757295e-07)\n",
      "20 (27.713847861890333, 'pf_o_sin', 1.4683226292503634e-07)\n",
      "21 (26.998965824345067, 'pf_o_sha', 2.120596739432554e-07)\n",
      "22 (22.466974196643307, 'met_o', 2.200154295396411e-06)\n",
      "23 (20.856445137736294, 'intel3_1', 5.075055042764477e-06)\n",
      "24 (19.150906200989706, 'race_o', 1.2336304116431172e-05)\n",
      "25 (16.454275530314728, 'sinc_o', 5.0634426072011321e-05)\n",
      "26 (14.194275176239733, 'intel_o', 0.00016686238829209671)\n",
      "27 (13.19737957075092, 'attr3_1', 0.00028329198645622825)\n",
      "28 (13.1373343504539, 'dining', 0.00029249063957728584)\n",
      "29 (11.174178197788825, 'pf_o_amb', 0.00083583267706991554)\n",
      "30 (10.784334665863025, 'amb1_1', 0.0010310171965748273)\n",
      "31 (9.9759368409299274, 'yoga', 0.0015959070206104239)\n",
      "32 (9.0289452097299456, 'sinc1_1', 0.0026712096353362414)\n",
      "33 (8.8638594849421182, 'samerace', 0.0029233574374630694)\n",
      "34 (8.632369341229273, 'pf_o_fun', 0.0033182541667560036)\n",
      "35 (8.3911768317984432, 'go_out', 0.0037876393796649698)\n",
      "36 (8.1571870516624134, 'age_o', 0.0043076412457020525)\n",
      "37 (7.9854207989747099, 'amb2_1', 0.004735183846163101)\n",
      "38 (7.3936244902436599, 'sports', 0.0065692622699284244)\n",
      "39 (7.0383391900598573, 'shar1_1', 0.0080047632350226574)\n",
      "40 (6.6989721633224848, 'pf_o_att', 0.0096761503114420819)\n",
      "41 (6.2076272350988342, 'field_cd', 0.012753855263457873)\n",
      "42 (5.9605701646488676, 'shopping', 0.014665448551133711)\n",
      "43 (5.9001642593819499, 'movies', 0.015176208763839872)\n",
      "44 (4.3471689719199924, 'amb_o', 0.03712362475628754)\n",
      "45 (4.0332254004835528, 'race', 0.044668900673336454)\n",
      "46 (3.8708336201085478, 'concerts', 0.049190031134316463)\n",
      "47 (3.4906399453922234, 'date', 0.061778044487174714)\n",
      "48 (3.1729216899427479, 'attr1_1', 0.074932084231897414)\n",
      "49 (2.9836227014417487, 'fun1_1', 0.08417561710060667)\n",
      "50 (2.7545043477432585, 'tv', 0.097046671330334192)\n",
      "51 (2.639952627933821, 'fun2_1', 0.10427278778130165)\n",
      "52 (2.4850906676380338, 'like_o', 0.11499610825953643)\n",
      "53 (2.3390745250772813, 'shar_o', 0.12623086726606772)\n",
      "54 (1.9369775632410817, 'sinc3_1', 0.16406204206385949)\n",
      "55 (1.8984336303774803, 'career_c', 0.16831845221467795)\n",
      "56 (1.6873945080433597, 'theater', 0.19400763884387559)\n",
      "57 (1.6717160564448428, 'pid', 0.1960915243619244)\n",
      "58 (1.5162558007870146, 'hiking', 0.21824775179714567)\n",
      "59 (1.4277732542729273, 'clubbing', 0.23218765794276602)\n",
      "60 (1.346563498398567, 'art', 0.24593792501860506)\n",
      "61 (1.1820545414054384, 'shar2_1', 0.27699312013173433)\n",
      "62 (1.1676884160302863, 'fun_o', 0.27993140647852144)\n",
      "63 (0.99849775316053113, 'intel1_1', 0.31772502087195487)\n",
      "64 (0.67736666368632703, 'goal', 0.41053616742164212)\n",
      "65 (0.58892650655496515, 'fun3_1', 0.4428725556941544)\n",
      "66 (0.34045290236221709, 'reading', 0.55959553023941944)\n",
      "67 (0.28101928842908058, 'iid', 0.59605861641746705)\n",
      "68 (0.23412047809081868, 'age', 0.62850748087063057)\n",
      "69 (0.15742317971642344, 'tvsports', 0.69155786700669286)\n",
      "70 (0.15017726579258861, 'pf_o_int', 0.69838332285935234)\n",
      "71 (0.12109992608893058, 'music', 0.7278599511948014)\n",
      "72 (0.089575459354235221, 'met', 0.76473061927450325)\n",
      "73 (0.077882982846589816, 'zipcode', 0.78019920458331582)\n",
      "74 (0.044325609624774776, 'museums', 0.83325798441239385)\n",
      "75 (0.040419684635830351, 'order', 0.84067081593983117)\n",
      "76 (0.033223379744327042, 'int_corr', 0.85537638404048788)\n",
      "77 (0.019222918292189806, 'amb3_1', 0.88973516624090454)\n"
     ]
    }
   ],
   "source": [
    "from sklearn.feature_selection import SelectKBest\n",
    "from sklearn.feature_selection import f_classif\n",
    "kBest = SelectKBest(f_classif, k = 'all')\n",
    "kBest.fit_transform(input_df, target_df)\n",
    "k_Best_features = [(j, i, k) for i, j, k in zip(input_df.keys(), kBest.scores_, kBest.pvalues_)]\n",
    "k_Best_features.sort()\n",
    "k_Best_features.reverse()\n",
    "counter = 0\n",
    "print 'SelectKBest: f_classif'\n",
    "for i in k_Best_features:\n",
    "    counter += 1\n",
    "    print counter, i"
   ]
  },
  {
   "cell_type": "markdown",
   "metadata": {},
   "source": [
    "<h4>Create Array of Selected Features</h4>"
   ]
  },
  {
   "cell_type": "code",
   "execution_count": 19,
   "metadata": {
    "collapsed": false
   },
   "outputs": [
    {
     "name": "stdout",
     "output_type": "stream",
     "text": [
      "['like', 'attr', 'intel', 'shar', 'sinc', 'amb', 'fun', 'prob']\n"
     ]
    }
   ],
   "source": [
    "features_selected = ['like', 'attr', 'intel', 'shar', 'sinc', 'amb', 'fun', 'prob']\n",
    "print features_selected"
   ]
  },
  {
   "cell_type": "markdown",
   "metadata": {},
   "source": [
    "<h4>Feature Selection: Chi2</h4>"
   ]
  },
  {
   "cell_type": "code",
   "execution_count": 20,
   "metadata": {
    "collapsed": false,
    "scrolled": true
   },
   "outputs": [],
   "source": [
    "from sklearn import preprocessing\n",
    "new_input_df = input_df.copy()\n",
    "new_input_df['int_corr'] = (new_input_df - new_input_df.min()) / (new_input_df.max() - new_input_df.min())\n",
    "new_input_df.drop(labels = ['iid', 'gender', 'race', 'field_cd','career_c', 'goal', 'date', 'zipcode', 'imprelig', 'imprace', 'prob_o', 'met', 'go_out', \n",
    "                            'race_o', 'samerace','pid','order', 'met_o'], axis = 1, inplace = True)"
   ]
  },
  {
   "cell_type": "code",
   "execution_count": 21,
   "metadata": {
    "collapsed": false
   },
   "outputs": [
    {
     "data": {
      "text/plain": [
       "Index([u'age', u'like', u'prob', u'exphappy', u'attr1_1', u'sinc1_1',\n",
       "       u'intel1_1', u'fun1_1', u'amb1_1', u'shar1_1', u'attr2_1', u'sinc2_1',\n",
       "       u'intel2_1', u'fun2_1', u'amb2_1', u'shar2_1', u'attr3_1', u'sinc3_1',\n",
       "       u'intel3_1', u'fun3_1', u'amb3_1', u'attr', u'sinc', u'intel', u'fun',\n",
       "       u'amb', u'shar', u'sports', u'tvsports', u'exercise', u'dining',\n",
       "       u'museums', u'art', u'hiking', u'gaming', u'clubbing', u'reading',\n",
       "       u'tv', u'theater', u'movies', u'concerts', u'music', u'shopping',\n",
       "       u'yoga', u'pf_o_att', u'pf_o_sin', u'pf_o_int', u'pf_o_fun',\n",
       "       u'pf_o_amb', u'pf_o_sha', u'attr_o', u'sinc_o', u'intel_o', u'fun_o',\n",
       "       u'amb_o', u'shar_o', u'age_o', u'like_o', u'int_corr'],\n",
       "      dtype='object')"
      ]
     },
     "execution_count": 21,
     "metadata": {},
     "output_type": "execute_result"
    }
   ],
   "source": [
    "new_input_df.keys()"
   ]
  },
  {
   "cell_type": "code",
   "execution_count": 22,
   "metadata": {
    "collapsed": false,
    "scrolled": true
   },
   "outputs": [
    {
     "name": "stdout",
     "output_type": "stream",
     "text": [
      "SelectKBest: chi2\n",
      "1 (71.117134892722831, 'like', 3.366337620280611e-17)\n",
      "2 (37.868288667453555, 'prob', 7.5685530960271798e-10)\n",
      "3 (6.5459480736830731, 'shar', 0.01051232942905355)\n",
      "4 (4.7803623583560064, 'gaming', 0.028786062783445275)\n",
      "5 (4.4521295523080484, 'exercise', 0.034857752685700343)\n",
      "6 (4.0224080264210738, 'intel2_1', 0.044899563053307154)\n",
      "7 (3.9782926298478793, 'exphappy', 0.04609025950759886)\n",
      "8 (3.6454160393661388, 'age_o', 0.056223755166536583)\n",
      "9 (3.5782819370516812, 'intel', 0.058539665739721317)\n",
      "10 (3.232909761549116, 'attr2_1', 0.072172347205671061)\n",
      "11 (3.0890042390271346, 'attr', 0.078823030013944848)\n",
      "12 (2.9797908857416049, 'pf_o_sha', 0.084310164641340779)\n",
      "13 (2.8633577507496, 'amb', 0.090618158428824314)\n",
      "14 (2.1239708035582225, 'fun', 0.14501015751009974)\n",
      "15 (2.039775387274358, 'sinc2_1', 0.15323227104885317)\n",
      "16 (1.8546492611745458, 'sinc', 0.17324362458184872)\n",
      "17 (1.7090648801637869, 'yoga', 0.191106742475602)\n",
      "18 (1.301336320284211, 'pf_o_sin', 0.25396927355790067)\n",
      "19 (1.0150119060511873, 'sports', 0.31370512814158791)\n",
      "20 (0.97508278061167131, 'amb1_1', 0.32341581108387518)\n",
      "21 (0.95430572862589291, 'shopping', 0.32862572740451002)\n",
      "22 (0.86903466536848628, 'attr_o', 0.35122269273580098)\n",
      "23 (0.74993700128365748, 'shar1_1', 0.38649617726952512)\n",
      "24 (0.74801860143246057, 'pf_o_amb', 0.38710427924173374)\n",
      "25 (0.61972278588212437, 'dining', 0.43115031909907142)\n",
      "26 (0.59317027188945048, 'amb2_1', 0.44119580609266307)\n",
      "27 (0.58747246389434737, 'intel3_1', 0.44339816896358053)\n",
      "28 (0.43286199844504908, 'tv', 0.51058794048255141)\n",
      "29 (0.42389488091195149, 'pf_o_att', 0.51499994489994116)\n",
      "30 (0.39834357354481109, 'sinc1_1', 0.52794594659642846)\n",
      "31 (0.37097825753486613, 'pf_o_fun', 0.54247151629256485)\n",
      "32 (0.36010274203589532, 'movies', 0.54844918074601245)\n",
      "33 (0.35975995092395158, 'attr3_1', 0.54863958283111458)\n",
      "34 (0.34625346985874417, 'concerts', 0.55624165062443631)\n",
      "35 (0.20491897920990865, 'clubbing', 0.65077934478255983)\n",
      "36 (0.19808736501230972, 'attr1_1', 0.65626911927557963)\n",
      "37 (0.18405450987868588, 'hiking', 0.66791176610992631)\n",
      "38 (0.1605339088826635, 'theater', 0.68866543495439614)\n",
      "39 (0.13305194575835416, 'art', 0.71528842932976444)\n",
      "40 (0.13282481895926845, 'like_o', 0.71552096313134239)\n",
      "41 (0.12891738073839892, 'sinc_o', 0.71955718690308001)\n",
      "42 (0.12779536808850855, 'fun1_1', 0.72072891811169748)\n",
      "43 (0.12108892410419703, 'fun2_1', 0.7278564514021777)\n",
      "44 (0.11328676808453628, 'shar2_1', 0.73643278278199231)\n",
      "45 (0.11184431510040824, 'intel_o', 0.73805410042314645)\n",
      "46 (0.059540146108872621, 'shar_o', 0.80722423993398096)\n",
      "47 (0.058836857500152079, 'amb_o', 0.80834386947728942)\n",
      "48 (0.049551896387056579, 'int_corr', 0.8238448496735713)\n",
      "49 (0.048251053892296683, 'sinc3_1', 0.82613500482817326)\n",
      "50 (0.044607453953161347, 'intel1_1', 0.83272749048301131)\n",
      "51 (0.037784132855789042, 'tvsports', 0.84587724436933165)\n",
      "52 (0.016767284909329633, 'reading', 0.89697108344981069)\n",
      "53 (0.015387948719806557, 'fun3_1', 0.90127713466233483)\n",
      "54 (0.014217330587120502, 'fun_o', 0.90508803110272151)\n",
      "55 (0.0094160692374395047, 'age', 0.92269746198500135)\n",
      "56 (0.0067338226505312924, 'pf_o_int', 0.93459910268547342)\n",
      "57 (0.0061827796303088531, 'music', 0.93732640524880828)\n",
      "58 (0.0034618539191011372, 'museums', 0.95308152249531641)\n",
      "59 (0.00083710191418446536, 'amb3_1', 0.97691825488546424)\n"
     ]
    }
   ],
   "source": [
    "from sklearn.feature_selection import chi2\n",
    "kBest = SelectKBest(chi2, k = 'all')\n",
    "kBest.fit_transform(new_input_df, target_df)\n",
    "k_Best_features = [(j, i, k) for i, j, k in zip(new_input_df, kBest.scores_, kBest.pvalues_)]\n",
    "k_Best_features.sort()\n",
    "k_Best_features.reverse()\n",
    "counter = 0\n",
    "print 'SelectKBest: chi2'\n",
    "for i in k_Best_features:\n",
    "    counter += 1\n",
    "    print counter, i"
   ]
  },
  {
   "cell_type": "markdown",
   "metadata": {},
   "source": [
    "<h4>Normalization features: PCA</h4>"
   ]
  },
  {
   "cell_type": "code",
   "execution_count": 23,
   "metadata": {
    "collapsed": false,
    "scrolled": true
   },
   "outputs": [
    {
     "name": "stdout",
     "output_type": "stream",
     "text": [
      "n =  1 :  Components: [[ 0.17751972 -0.12917915 -0.36166362 -0.01662745 -0.20848217 -0.36324588\n",
      "  -0.17676793  0.78362183]]\n",
      "Explained Variance: [ 0.02779154]\n",
      "Explained Ratio:  [ 0.41756767] \n",
      "\n",
      "\n",
      "n =  2 :  Components: [[ 0.17751972 -0.12917915 -0.36166362 -0.01662745 -0.20848217 -0.36324588\n",
      "  -0.17676793  0.78362183]\n",
      " [-0.80595895 -0.03034545  0.24090949 -0.07066575  0.14676185  0.26354788\n",
      "  -0.03389121  0.44083234]]\n",
      "Explained Variance: [ 0.02779154  0.0190467 ]\n",
      "Explained Ratio:  [ 0.41756767  0.28617656] \n",
      "\n",
      "\n",
      "n =  3 :  Components: [[ 0.17751972 -0.12917915 -0.36166362 -0.01662745 -0.20848217 -0.36324588\n",
      "  -0.17676793  0.78362183]\n",
      " [-0.80595895 -0.03034545  0.24090949 -0.07066575  0.14676185  0.26354788\n",
      "  -0.03389121  0.44083234]\n",
      " [ 0.23150036 -0.01440094  0.14397491 -0.9186838   0.10411659  0.16229007\n",
      "  -0.20475353  0.0488791 ]]\n",
      "Explained Variance: [ 0.02779154  0.0190467   0.00726638]\n",
      "Explained Ratio:  [ 0.41756767  0.28617656  0.10917728] \n",
      "\n",
      "\n",
      "n =  4 :  Components: [[ 0.17751972 -0.12917915 -0.36166362 -0.01662745 -0.20848217 -0.36324588\n",
      "  -0.17676793  0.78362183]\n",
      " [-0.80595895 -0.03034545  0.24090949 -0.07066575  0.14676185  0.26354788\n",
      "  -0.03389121  0.44083234]\n",
      " [ 0.23150036 -0.01440094  0.14397491 -0.9186838   0.10411659  0.16229007\n",
      "  -0.20475353  0.0488791 ]\n",
      " [-0.11605361  0.2413709  -0.01484388 -0.27307536  0.13944811 -0.45735168\n",
      "   0.78846985  0.05639246]]\n",
      "Explained Variance: [ 0.02779154  0.0190467   0.00726638  0.00448367]\n",
      "Explained Ratio:  [ 0.41756767  0.28617656  0.10917728  0.06736712] \n",
      "\n",
      "\n",
      "n =  5 :  Components: [[ 0.17751972 -0.12917915 -0.36166362 -0.01662745 -0.20848217 -0.36324588\n",
      "  -0.17676793  0.78362183]\n",
      " [-0.80595895 -0.03034545  0.24090949 -0.07066575  0.14676185  0.26354788\n",
      "  -0.03389121  0.44083234]\n",
      " [ 0.23150036 -0.01440094  0.14397491 -0.9186838   0.10411659  0.16229007\n",
      "  -0.20475353  0.0488791 ]\n",
      " [-0.11605361  0.2413709  -0.01484388 -0.27307536  0.13944811 -0.45735168\n",
      "   0.78846985  0.05639246]\n",
      " [ 0.00115595  0.12123644  0.42695632  0.10580537  0.48133051 -0.61175794\n",
      "  -0.42984564 -0.03346358]]\n",
      "Explained Variance: [ 0.02779154  0.0190467   0.00726638  0.00448367  0.00366425]\n",
      "Explained Ratio:  [ 0.41756767  0.28617656  0.10917728  0.06736712  0.05505536] \n",
      "\n",
      "\n",
      "n =  6 :  Components: [[  1.77519718e-01  -1.29179150e-01  -3.61663618e-01  -1.66274538e-02\n",
      "   -2.08482166e-01  -3.63245879e-01  -1.76767928e-01   7.83621828e-01]\n",
      " [ -8.05958949e-01  -3.03454502e-02   2.40909489e-01  -7.06657494e-02\n",
      "    1.46761853e-01   2.63547884e-01  -3.38912128e-02   4.40832340e-01]\n",
      " [  2.31500361e-01  -1.44009407e-02   1.43974914e-01  -9.18683795e-01\n",
      "    1.04116595e-01   1.62290068e-01  -2.04753525e-01   4.88791016e-02]\n",
      " [ -1.16053613e-01   2.41370901e-01  -1.48438782e-02  -2.73075361e-01\n",
      "    1.39448107e-01  -4.57351682e-01   7.88469852e-01   5.63924642e-02]\n",
      " [  1.15595082e-03   1.21236442e-01   4.26956319e-01   1.05805370e-01\n",
      "    4.81330506e-01  -6.11757938e-01  -4.29845638e-01  -3.34635762e-02]\n",
      " [  9.35044760e-02  -8.79178572e-01   3.18966314e-03   3.43008096e-02\n",
      "    4.09246640e-01  -1.36817243e-04   2.22730414e-01  -4.85436629e-03]]\n",
      "Explained Variance: [ 0.02779154  0.0190467   0.00726638  0.00448367  0.00366425  0.00192228]\n",
      "Explained Ratio:  [ 0.41756767  0.28617656  0.10917728  0.06736712  0.05505536  0.02888224] \n",
      "\n",
      "\n",
      "n =  7 :  Components: [[  1.77519718e-01  -1.29179150e-01  -3.61663618e-01  -1.66274538e-02\n",
      "   -2.08482166e-01  -3.63245879e-01  -1.76767928e-01   7.83621828e-01]\n",
      " [ -8.05958949e-01  -3.03454502e-02   2.40909489e-01  -7.06657494e-02\n",
      "    1.46761853e-01   2.63547884e-01  -3.38912128e-02   4.40832340e-01]\n",
      " [  2.31500361e-01  -1.44009407e-02   1.43974914e-01  -9.18683795e-01\n",
      "    1.04116595e-01   1.62290068e-01  -2.04753525e-01   4.88791016e-02]\n",
      " [ -1.16053613e-01   2.41370901e-01  -1.48438782e-02  -2.73075361e-01\n",
      "    1.39448107e-01  -4.57351682e-01   7.88469852e-01   5.63924642e-02]\n",
      " [  1.15595082e-03   1.21236442e-01   4.26956319e-01   1.05805370e-01\n",
      "    4.81330506e-01  -6.11757938e-01  -4.29845638e-01  -3.34635762e-02]\n",
      " [  9.35044760e-02  -8.79178572e-01   3.18966314e-03   3.43008096e-02\n",
      "    4.09246640e-01  -1.36817243e-04   2.22730414e-01  -4.85436629e-03]\n",
      " [  1.55440779e-02   2.98174615e-01  -6.21252780e-01   3.81506585e-02\n",
      "    6.82680806e-01   2.24107549e-01  -8.01601859e-02   2.71451726e-02]]\n",
      "Explained Variance: [ 0.02779154  0.0190467   0.00726638  0.00448367  0.00366425  0.00192228\n",
      "  0.00142296]\n",
      "Explained Ratio:  [ 0.41756767  0.28617656  0.10917728  0.06736712  0.05505536  0.02888224\n",
      "  0.02138001] \n",
      "\n",
      "\n",
      "n =  8 :  Components: [[  1.77519718e-01  -1.29179150e-01  -3.61663618e-01  -1.66274538e-02\n",
      "   -2.08482166e-01  -3.63245879e-01  -1.76767928e-01   7.83621828e-01]\n",
      " [ -8.05958949e-01  -3.03454502e-02   2.40909489e-01  -7.06657494e-02\n",
      "    1.46761853e-01   2.63547884e-01  -3.38912128e-02   4.40832340e-01]\n",
      " [  2.31500361e-01  -1.44009407e-02   1.43974914e-01  -9.18683795e-01\n",
      "    1.04116595e-01   1.62290068e-01  -2.04753525e-01   4.88791016e-02]\n",
      " [ -1.16053613e-01   2.41370901e-01  -1.48438782e-02  -2.73075361e-01\n",
      "    1.39448107e-01  -4.57351682e-01   7.88469852e-01   5.63924642e-02]\n",
      " [  1.15595082e-03   1.21236442e-01   4.26956319e-01   1.05805370e-01\n",
      "    4.81330506e-01  -6.11757938e-01  -4.29845638e-01  -3.34635762e-02]\n",
      " [  9.35044760e-02  -8.79178572e-01   3.18966314e-03   3.43008096e-02\n",
      "    4.09246640e-01  -1.36817243e-04   2.22730414e-01  -4.85436629e-03]\n",
      " [  1.55440779e-02   2.98174615e-01  -6.21252780e-01   3.81506585e-02\n",
      "    6.82680806e-01   2.24107549e-01  -8.01601859e-02   2.71451726e-02]\n",
      " [ -4.92818447e-01  -2.17631030e-01  -4.71122108e-01  -2.49705859e-01\n",
      "   -1.98733878e-01  -3.72309455e-01  -2.51384182e-01  -4.29131874e-01]]\n",
      "Explained Variance: [ 0.02779154  0.0190467   0.00726638  0.00448367  0.00366425  0.00192228\n",
      "  0.00142296  0.00095799]\n",
      "Explained Ratio:  [ 0.41756767  0.28617656  0.10917728  0.06736712  0.05505536  0.02888224\n",
      "  0.02138001  0.01439376] \n",
      "\n",
      "\n"
     ]
    }
   ],
   "source": [
    "new_input_df = input_df.copy()\n",
    "new_input_df = preprocessing.normalize(new_input_df[features_selected].copy())\n",
    "from sklearn.decomposition import PCA\n",
    "for i in range(1, 9):\n",
    "    pca = PCA(n_components = i)\n",
    "    pca.fit(new_input_df)\n",
    "    print 'n = ', str(i),': ' , \n",
    "    print 'Components:', pca.components_\n",
    "    print 'Explained Variance:', pca.explained_variance_ \n",
    "    print 'Explained Ratio: ', pca.explained_variance_ratio_, '\\n'*2"
   ]
  },
  {
   "cell_type": "markdown",
   "metadata": {},
   "source": [
    "<h4>PCA: Projections to 3 dimensions</h4>"
   ]
  },
  {
   "cell_type": "code",
   "execution_count": 24,
   "metadata": {
    "collapsed": false,
    "scrolled": false
   },
   "outputs": [
    {
     "data": {
      "image/png": "[encoded data removed]",
      "text/plain": [
       "<matplotlib.figure.Figure at 0xd32cd68>"
      ]
     },
     "metadata": {},
     "output_type": "display_data"
    },
    {
     "data": {
      "image/png": "[encoded data removed]",
      "text/plain": [
       "<matplotlib.figure.Figure at 0xd5aebe0>"
      ]
     },
     "metadata": {},
     "output_type": "display_data"
    },
    {
     "data": {
      "image/png": "[encoded data removed]",
      "text/plain": [
       "<matplotlib.figure.Figure at 0xd4a9d68>"
      ]
     },
     "metadata": {},
     "output_type": "display_data"
    },
    {
     "data": {
      "image/png": "[encoded data removed]",
      "text/plain": [
       "<matplotlib.figure.Figure at 0xaa0acc0>"
      ]
     },
     "metadata": {},
     "output_type": "display_data"
    }
   ],
   "source": [
    "from mpl_toolkits.mplot3d import Axes3D\n",
    "\n",
    "pca = PCA(n_components = 3)\n",
    "pca.fit(X = new_input_df, y = target_df)\n",
    "\n",
    "transformed_new_input_df = pca.fit_transform(X = new_input_df, y = target_df)\n",
    "transformed_pca = pd.DataFrame(transformed_new_input_df, columns = ['x_s', 'y_s', 'z_s'])\n",
    "transformed_pca = transformed_pca ** 3\n",
    "\n",
    "new_target_df = pd.DataFrame(target_df, columns = ['dec'])\n",
    "new_target_df.reset_index(inplace = True)\n",
    "new_target_df.drop('index', axis = 1, inplace = True)\n",
    "\n",
    "no_decision = new_target_df[new_target_df['dec'] == 0].index\n",
    "yes_decision = new_target_df[new_target_df['dec'] == 1].index\n",
    "\n",
    "fig = plt.figure()\n",
    "ax = fig.add_subplot(111, projection = '3d')\n",
    "\n",
    "ax.scatter(transformed_pca.loc[no_decision]['x_s'], transformed_pca.loc[no_decision]['y_s'], transformed_pca.loc[no_decision]['z_s'], c = 'blue')\n",
    "ax.scatter(transformed_pca.loc[yes_decision]['x_s'], transformed_pca.loc[yes_decision]['y_s'], transformed_pca.loc[yes_decision]['z_s'], c = 'red')\n",
    "ax.set_xlabel('x')\n",
    "ax.set_ylabel('y')\n",
    "ax.set_zlabel('z')\n",
    "plt.show()\n",
    "\n",
    "plt.scatter(transformed_pca.loc[no_decision]['x_s'], transformed_pca.loc[no_decision]['y_s'], color = 'blue')\n",
    "plt.scatter(transformed_pca.loc[yes_decision]['x_s'], transformed_pca.loc[yes_decision]['y_s'], color = 'red')\n",
    "ax.set_xlabel('x')\n",
    "ax.set_ylabel('y')\n",
    "plt.show()\n",
    "\n",
    "plt.scatter(transformed_pca.loc[no_decision]['x_s'], transformed_pca.loc[no_decision]['z_s'], color = 'blue')\n",
    "plt.scatter(transformed_pca.loc[yes_decision]['x_s'], transformed_pca.loc[yes_decision]['z_s'], color = 'red')\n",
    "ax.set_xlabel('x')\n",
    "ax.set_ylabel('z')\n",
    "plt.show()\n",
    "\n",
    "plt.scatter(transformed_pca.loc[no_decision]['y_s'], transformed_pca.loc[no_decision]['z_s'], color = 'blue')\n",
    "plt.scatter(transformed_pca.loc[yes_decision]['y_s'], transformed_pca.loc[yes_decision]['z_s'], color = 'red')\n",
    "ax.set_xlabel('y')\n",
    "ax.set_ylabel('z')\n",
    "\n",
    "plt.show()"
   ]
  },
  {
   "cell_type": "markdown",
   "metadata": {},
   "source": [
    "<h2>Create Matched People DataFrame</h2>"
   ]
  },
  {
   "cell_type": "code",
   "execution_count": 25,
   "metadata": {
    "collapsed": false,
    "deletable": true,
    "editable": true
   },
   "outputs": [],
   "source": [
    "#people_matched = data[data['match'] == 1].copy()\n",
    "#people_matched.drop_duplicates(subset = 'iid', keep = 'first', inplace = True)\n",
    "#display(people_matched)"
   ]
  },
  {
   "cell_type": "markdown",
   "metadata": {},
   "source": [
    "<h2>Exploring Matches</h2>"
   ]
  },
  {
   "cell_type": "code",
   "execution_count": 26,
   "metadata": {
    "collapsed": false
   },
   "outputs": [],
   "source": [
    "#people_matched[['iid', 'gender', 'dec'] + fc.features_of_attraction + fc.preferences_of_attraction + ['dec_o', 'pid', 'goal', 'int_corr', 'match']]"
   ]
  },
  {
   "cell_type": "markdown",
   "metadata": {
    "deletable": true,
    "editable": true
   },
   "source": [
    "<h4>Get Index for 'iid' for non-matches</h4>"
   ]
  },
  {
   "cell_type": "code",
   "execution_count": 27,
   "metadata": {
    "collapsed": false
   },
   "outputs": [],
   "source": [
    "#number = [int(i) for i in people_matched['iid']]\n",
    "#not_ever_matched = [i for i in range(1,553) if i not in number]\n",
    "#print not_ever_matched"
   ]
  },
  {
   "cell_type": "code",
   "execution_count": 28,
   "metadata": {
    "collapsed": false
   },
   "outputs": [],
   "source": [
    "#people_not_matched = data[data['iid'].isin(not_ever_matched)].copy()"
   ]
  },
  {
   "cell_type": "markdown",
   "metadata": {},
   "source": [
    "<h2>Exploring Non-Matches</h2>"
   ]
  },
  {
   "cell_type": "code",
   "execution_count": 29,
   "metadata": {
    "collapsed": false
   },
   "outputs": [],
   "source": [
    "#people_not_matched[['iid', 'gender', 'dec'] + fc.features_of_attraction + fc.preferences_of_attraction + ['dec_o', 'pid', 'goal', 'int_corr', 'match']]"
   ]
  },
  {
   "cell_type": "markdown",
   "metadata": {},
   "source": [
    "<h4>Non-Matched Females: Graphs</h4>"
   ]
  },
  {
   "cell_type": "code",
   "execution_count": 30,
   "metadata": {
    "collapsed": false
   },
   "outputs": [],
   "source": [
    "#fc.dating_attributes_vs_time(data = people_not_matched, gender = 0)"
   ]
  },
  {
   "cell_type": "markdown",
   "metadata": {},
   "source": [
    "<h4>Non-Matched Males: Graphs</h4>"
   ]
  },
  {
   "cell_type": "code",
   "execution_count": 31,
   "metadata": {
    "collapsed": false
   },
   "outputs": [],
   "source": [
    "#fc.dating_attributes_vs_time(data = people_not_matched, gender = 1)"
   ]
  },
  {
   "cell_type": "markdown",
   "metadata": {},
   "source": [
    "<h4>Nearest Neighboor Alogorithm: Gridsearch for first 100 neighboors</h4>"
   ]
  },
  {
   "cell_type": "code",
   "execution_count": 35,
   "metadata": {
    "collapsed": false
   },
   "outputs": [
    {
     "name": "stdout",
     "output_type": "stream",
     "text": [
      "Training set size:  3575 Test set size:  1192\n",
      "Best f1_score:  0.714430129462\n",
      "With neighboors at:  {'n_neighbors': 63}\n",
      "Best Estimator:  KNeighborsClassifier(algorithm='auto', leaf_size=30, metric='minkowski',\n",
      "           metric_params=None, n_jobs=1, n_neighbors=63, p=2,\n",
      "           weights='uniform')\n"
     ]
    }
   ],
   "source": [
    "from sklearn.grid_search import GridSearchCV\n",
    "from sklearn.metrics import make_scorer\n",
    "from sklearn import cross_validation\n",
    "from sklearn.metrics import f1_score\n",
    "from sklearn import neighbors\n",
    "from sklearn.neighbors import KNeighborsClassifier\n",
    "\n",
    "transformed_new_input_df = pca.fit_transform(X = new_input_df, y = target_df)\n",
    "transformed_pca = pd.DataFrame(transformed_new_input_df, columns = ['x_s', 'y_s', 'z_s'])\n",
    "\n",
    "num_train = int(.75 * transformed_pca.shape[0])\n",
    "num_test = int(transformed_pca.shape[0] - num_train)\n",
    "\n",
    "print 'Training set size: ', num_train, 'Test set size: ', num_test\n",
    "\n",
    "X_train, X_test, y_train, y_test = cross_validation.train_test_split(transformed_pca, target_df, test_size = num_test, random_state = 0)\n",
    "\n",
    "f1_scorer = make_scorer(f1_score, pos_label = 1)\n",
    "parameters = [{'n_neighbors' : range(1,101)}]\n",
    "clf = neighbors.KNeighborsClassifier()\n",
    "clf = GridSearchCV(estimator = clf, param_grid = parameters, scoring = f1_scorer, cv = 10)\n",
    "clf.fit(X_train, y_train)\n",
    "print 'Best f1_score: ', clf.best_score_ \n",
    "print 'With neighboors at: ', clf.best_params_\n",
    "print 'Best Estimator: ', clf.best_estimator_"
   ]
  },
  {
   "cell_type": "markdown",
   "metadata": {},
   "source": [
    "<h4>Fit Test Set</h4>"
   ]
  },
  {
   "cell_type": "code",
   "execution_count": 36,
   "metadata": {
    "collapsed": false
   },
   "outputs": [
    {
     "name": "stdout",
     "output_type": "stream",
     "text": [
      "Test Size:  1192\n",
      "Accuracy: 0.751677852349\n",
      "             precision    recall  f1-score   support\n",
      "\n",
      "          0       0.79      0.75      0.77       664\n",
      "          1       0.71      0.75      0.73       528\n",
      "\n",
      "avg / total       0.75      0.75      0.75      1192\n",
      "\n"
     ]
    }
   ],
   "source": [
    "from sklearn.metrics import accuracy_score, classification_report\n",
    "y_pred = clf.predict(X_test)\n",
    "print 'Test Size: ', X_test.shape[0]\n",
    "print 'Accuracy:' , accuracy_score(y_test, y_pred)\n",
    "print classification_report(y_test, y_pred)"
   ]
  },
  {
   "cell_type": "code",
   "execution_count": 34,
   "metadata": {
    "collapsed": false
   },
   "outputs": [],
   "source": [
    "#num_train = int(.75 * transformed_pca.shape[0])\n",
    "#num_test = int(transformed_pca.shape[0] - num_train)\n",
    "\n",
    "#print 'Training set size: ', num_train, 'Test set size: ', num_test\n",
    "\n",
    "#X_train, X_test, y_train, y_test = cross_validation.train_test_split(transformed_pca, target_df, test_size = num_test, random_state = 0)\n"
   ]
  }
 ],
 "metadata": {
  "kernelspec": {
   "display_name": "Python 2",
   "language": "python",
   "name": "python2"
  },
  "language_info": {
   "codemirror_mode": {
    "name": "ipython",
    "version": 2
   },
   "file_extension": ".py",
   "mimetype": "text/x-python",
   "name": "python",
   "nbconvert_exporter": "python",
   "pygments_lexer": "ipython2",
   "version": "2.7.12"
  }
 },
 "nbformat": 4,
 "nbformat_minor": 0
}
