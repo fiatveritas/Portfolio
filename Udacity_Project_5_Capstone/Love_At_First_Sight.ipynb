{
 "cells": [
  {
   "cell_type": "markdown",
   "metadata": {
    "deletable": true,
    "editable": true
   },
   "source": [
    "<h1>Speed Dating: Who to Date Long Term</h1>"
   ]
  },
  {
   "cell_type": "markdown",
   "metadata": {
    "deletable": true,
    "editable": true
   },
   "source": [
    "What influences love at first sight? (Or, at least, love in the first four minutes?) This dataset was compiled by Columbia Business School professors Ray Fisman and Sheena Iyengar for their paper Gender Differences in Mate Selection: Evidence From a Speed Dating Experiment.<br>\n",
    "\n",
    "Data was gathered from participants in experimental speed dating events from 2002-2004. During the events, the attendees would have a four minute \"first date\" with every other participant of the opposite sex. At the end of their four minutes, participants were asked if they would like to see their date again. They were also asked to rate their date on six attributes: Attractiveness, Sincerity, Intelligence, Fun, Ambition, and Shared Interests.<br>\n",
    "\n",
    "The dataset also includes questionnaire data gathered from participants at different points in the process. These fields include: demographics, dating habits, self-perception across key attributes, beliefs on what others find valuable in a mate, and lifestyle information. See the Speed Dating Data Key document below for details.<br>\n",
    "\n",
    "For more analysis from Iyengar and Fisman, read Racial Preferences in Dating.<br>\n",
    "\n",
    "Data Exploration Ideas<br>\n",
    "\n",
    "What are the least desirable attributes in a male partner? Does this differ for female partners?<br>\n",
    "How important do people think attractiveness is in potential mate selection vs. its real impact?<br>\n",
    "Are shared interests more important than a shared racial background?<br>\n",
    "Can people accurately predict their own perceived value in the dating market?<br>\n",
    "In terms of getting a second date, is it better to be someone's first speed date of the night or their last?"
   ]
  },
  {
   "cell_type": "code",
   "execution_count": 1,
   "metadata": {
    "collapsed": false,
    "deletable": true,
    "editable": true
   },
   "outputs": [
    {
     "name": "stdout",
     "output_type": "stream",
     "text": [
      "pandas version is 0.18.0.\n",
      "numpy version is 1.10.4.\n",
      "scikit-learn version is 0.17.1.\n"
     ]
    }
   ],
   "source": [
    "import pandas as pd\n",
    "import numpy as np\n",
    "import sklearn \n",
    "from IPython.display import display\n",
    "%matplotlib inline\n",
    "pd.set_option('display.max_columns', None)\n",
    "pd.set_option('display.max_rows', None)\n",
    "\n",
    "print('pandas version is {}.'.format(pd.__version__))\n",
    "print('numpy version is {}.'.format(np.__version__))\n",
    "print('scikit-learn version is {}.'.format(sklearn.__version__))"
   ]
  },
  {
   "cell_type": "code",
   "execution_count": 2,
   "metadata": {
    "collapsed": false,
    "deletable": true,
    "editable": true
   },
   "outputs": [
    {
     "name": "stdout",
     "output_type": "stream",
     "text": [
      "This set has 8378 data points and 195 features.\n"
     ]
    }
   ],
   "source": [
    "data = pd.read_csv(\"Speed Dating Data.csv\")\n",
    "print \"This set has {} data points and {} features.\".format(*data.shape)"
   ]
  },
  {
   "cell_type": "markdown",
   "metadata": {
    "deletable": true,
    "editable": true
   },
   "source": [
    "<h1>Data Exploration</h1>"
   ]
  },
  {
   "cell_type": "code",
   "execution_count": 3,
   "metadata": {
    "collapsed": false,
    "deletable": true,
    "editable": true
   },
   "outputs": [],
   "source": [
    "import features_creator as fc #importing feature names made in file features_creator.py\n",
    "for i in fc.clean_up_2:\n",
    "    data.replace(to_replace = 12.0, value = 10.0, inplace = True)"
   ]
  },
  {
   "cell_type": "markdown",
   "metadata": {},
   "source": [
    "<h3>Import locale to change Income and Tuition to int from string type</h3>"
   ]
  },
  {
   "cell_type": "markdown",
   "metadata": {},
   "source": [
    "<h2>Unique Profiles</h2>"
   ]
  },
  {
   "cell_type": "code",
   "execution_count": 4,
   "metadata": {
    "collapsed": false,
    "deletable": true,
    "editable": true
   },
   "outputs": [],
   "source": [
    "unique = data.copy()\n",
    "unique.drop_duplicates(subset = 'iid', keep = 'first', inplace = True)\n",
    "for i in fc.list_of_lists:\n",
    "    unique[i] = (unique[i] - unique[i].min()) / (unique[i].max() - unique[i].min())"
   ]
  },
  {
   "cell_type": "markdown",
   "metadata": {},
   "source": [
    "<h3>Stats and Frequency Charts for Females</h3>"
   ]
  },
  {
   "cell_type": "code",
   "execution_count": 5,
   "metadata": {
    "collapsed": false,
    "deletable": true,
    "editable": true
   },
   "outputs": [],
   "source": [
    "#fc.dating_attributes_vs_time(data = unique, gender = 0)"
   ]
  },
  {
   "cell_type": "markdown",
   "metadata": {},
   "source": [
    "<h3>Stats and Frequency Charts for Males</h3>"
   ]
  },
  {
   "cell_type": "code",
   "execution_count": 6,
   "metadata": {
    "collapsed": true
   },
   "outputs": [],
   "source": [
    "#fc.dating_attributes_vs_time(data = unique, gender = 1)"
   ]
  },
  {
   "cell_type": "markdown",
   "metadata": {},
   "source": [
    "<h2>Create Matched People DataFrame</h2>"
   ]
  },
  {
   "cell_type": "code",
   "execution_count": 7,
   "metadata": {
    "collapsed": false,
    "deletable": true,
    "editable": true
   },
   "outputs": [],
   "source": [
    "people_matched = data[data['match'] == 1].copy()\n",
    "people_matched.drop_duplicates(subset = 'iid', keep = 'first', inplace = True)\n",
    "#display(people_matched)"
   ]
  },
  {
   "cell_type": "markdown",
   "metadata": {},
   "source": [
    "<h2>Exploring Matches</h2>"
   ]
  },
  {
   "cell_type": "code",
   "execution_count": 8,
   "metadata": {
    "collapsed": false
   },
   "outputs": [],
   "source": [
    "#people_matched[['iid', 'gender', 'dec'] + fc.features_of_attraction + fc.preferences_of_attraction + ['dec_o', 'pid', 'goal', 'int_corr', 'match']]"
   ]
  },
  {
   "cell_type": "markdown",
   "metadata": {
    "deletable": true,
    "editable": true
   },
   "source": [
    "<h2>Get Index for 'iid' for non-matches</h2>"
   ]
  },
  {
   "cell_type": "code",
   "execution_count": 9,
   "metadata": {
    "collapsed": false
   },
   "outputs": [
    {
     "name": "stdout",
     "output_type": "stream",
     "text": [
      "[3, 11, 12, 21, 24, 25, 26, 32, 33, 40, 41, 42, 54, 59, 65, 68, 72, 73, 88, 96, 101, 111, 118, 121, 123, 124, 131, 133, 139, 143, 145, 158, 170, 177, 182, 189, 198, 203, 204, 209, 216, 222, 234, 236, 247, 249, 254, 255, 257, 262, 267, 272, 278, 286, 287, 295, 298, 302, 314, 318, 320, 321, 327, 329, 331, 334, 347, 405, 418, 425, 427, 430, 440, 443, 444, 451, 454, 455, 457, 459, 461, 463, 465, 466, 477, 479, 483, 487, 497, 498, 502, 503, 506, 514, 517, 519, 520, 525, 527, 528, 543]\n"
     ]
    }
   ],
   "source": [
    "number = [int(i) for i in people_matched['iid']]\n",
    "not_ever_matched = [i for i in range(1,553) if i not in number]\n",
    "print not_ever_matched"
   ]
  },
  {
   "cell_type": "code",
   "execution_count": 10,
   "metadata": {
    "collapsed": false
   },
   "outputs": [],
   "source": [
    "people_not_matched = data[data['iid'].isin(not_ever_matched)].copy()"
   ]
  },
  {
   "cell_type": "markdown",
   "metadata": {},
   "source": [
    "<h2>Exploring Non-Matches</h2>"
   ]
  },
  {
   "cell_type": "code",
   "execution_count": 11,
   "metadata": {
    "collapsed": false
   },
   "outputs": [],
   "source": [
    "#people_not_matched[['iid', 'gender', 'dec'] + fc.features_of_attraction + fc.preferences_of_attraction + ['dec_o', 'pid', 'goal', 'int_corr', 'match']]"
   ]
  },
  {
   "cell_type": "markdown",
   "metadata": {},
   "source": [
    "<h3>Non-Matched Females: Graphs</h3>"
   ]
  },
  {
   "cell_type": "code",
   "execution_count": 12,
   "metadata": {
    "collapsed": false
   },
   "outputs": [],
   "source": [
    "#fc.dating_attributes_vs_time(data = people_not_matched, gender = 0)"
   ]
  },
  {
   "cell_type": "markdown",
   "metadata": {},
   "source": [
    "<h3>Non-Matched Males: Graphs</h3>"
   ]
  },
  {
   "cell_type": "code",
   "execution_count": 13,
   "metadata": {
    "collapsed": false
   },
   "outputs": [],
   "source": [
    "#fc.dating_attributes_vs_time(data = people_not_matched, gender = 1)"
   ]
  },
  {
   "cell_type": "markdown",
   "metadata": {},
   "source": [
    "<h1>Features</h1>"
   ]
  },
  {
   "cell_type": "code",
   "execution_count": 14,
   "metadata": {
    "collapsed": false
   },
   "outputs": [
    {
     "name": "stdout",
     "output_type": "stream",
     "text": [
      "first_round ['attr1_1', 'sinc1_1', 'intel1_1', 'fun1_1', 'amb1_1', 'shar1_1', 'attr2_1', 'sinc2_1', 'intel2_1', 'fun2_1', 'amb2_1', 'shar2_1', 'attr3_1', 'sinc3_1', 'intel3_1', 'fun3_1', 'amb3_1', 'attr4_1', 'sinc4_1', 'intel4_1', 'fun4_1', 'amb4_1', 'shar4_1', 'attr5_1', 'sinc5_1', 'intel5_1', 'fun5_1', 'amb5_1'] \n",
      "\n",
      "second_round ['attr1_2', 'sinc1_2', 'intel1_2', 'fun1_2', 'amb1_2', 'shar1_2', 'attr2_2', 'sinc2_2', 'intel2_2', 'fun2_2', 'amb2_2', 'shar2_2', 'attr3_2', 'sinc3_2', 'intel3_2', 'fun3_2', 'amb3_2', 'attr4_2', 'sinc4_2', 'intel4_2', 'fun4_2', 'amb4_2', 'shar4_2', 'attr5_2', 'sinc5_2', 'intel5_2', 'fun5_2', 'amb5_2'] \n",
      "\n",
      "third_round ['attr1_3', 'sinc1_3', 'intel1_3', 'fun1_3', 'amb1_3', 'shar1_3', 'attr2_3', 'sinc2_3', 'intel2_3', 'fun2_3', 'amb2_3', 'shar2_3', 'attr3_3', 'sinc3_3', 'intel3_3', 'fun3_3', 'amb3_3', 'attr4_3', 'sinc4_3', 'intel4_3', 'fun4_3', 'amb4_3', 'shar4_3', 'attr5_3', 'sinc5_3', 'intel5_3', 'fun5_3', 'amb5_3'] \n",
      "\n",
      "how_you_measure_attr ['attr3_1', 'attr3_2', 'attr3_3'] \n",
      "\n",
      "you_think_most_want_fun ['fun4_1', 'fun4_2', 'fun4_3'] \n",
      "\n",
      "you_think_opposite_wants_attr ['attr2_1', 'attr2_2', 'attr2_3'] \n",
      "\n",
      "you_think_opposite_wants_intel ['intel2_1', 'intel2_2', 'intel2_3'] \n",
      "\n",
      "you_think_most_want_sinc ['sinc4_1', 'sinc4_2', 'sinc4_3'] \n",
      "\n",
      "you_think_opposite_wants_shar ['shar2_1', 'shar2_2', 'shar2_3'] \n",
      "\n",
      "what_you_want_attr ['attr1_1', 'attr1_2', 'attr1_3'] \n",
      "\n",
      "you_think_they_rate_you_amb ['amb5_1', 'amb5_2', 'amb5_3'] \n",
      "\n",
      "how_you_measure_intel ['intel3_1', 'intel3_2', 'intel3_3'] \n",
      "\n",
      "you_think_they_rate_you_sinc ['sinc5_1', 'sinc5_2', 'sinc5_3'] \n",
      "\n",
      "how_you_measure_amb ['amb3_1', 'amb3_2', 'amb3_3'] \n",
      "\n",
      "you_think_they_rate_you_fun ['fun5_1', 'fun5_2', 'fun5_3'] \n",
      "\n",
      "how_you_measure_fun ['fun3_1', 'fun3_2', 'fun3_3'] \n",
      "\n",
      "you_think_opposite_wants_sinc ['sinc2_1', 'sinc2_2', 'sinc2_3'] \n",
      "\n",
      "what_you_want_intel ['intel1_1', 'intel1_2', 'intel1_3'] \n",
      "\n",
      "what_you_want_shar ['shar1_1', 'shar1_2', 'shar1_3'] \n",
      "\n",
      "you_think_most_want_attr ['attr4_1', 'attr4_2', 'attr4_3'] \n",
      "\n",
      "how_you_measure_sinc ['sinc3_1', 'sinc3_2', 'sinc3_3'] \n",
      "\n",
      "what_you_want_amb ['amb1_1', 'amb1_2', 'amb1_3'] \n",
      "\n",
      "you_think_they_rate_you_intel ['intel5_1', 'intel5_2', 'intel5_3'] \n",
      "\n",
      "what_you_want_fun ['fun1_1', 'fun1_2', 'fun1_3'] \n",
      "\n",
      "you_think_most_want_intel ['intel4_1', 'intel4_2', 'intel4_3'] \n",
      "\n",
      "you_think_they_rate_you_attr ['attr5_1', 'attr5_2', 'attr5_3'] \n",
      "\n",
      "you_think_most_want_shar ['shar4_1', 'shar4_2', 'shar4_3'] \n",
      "\n",
      "you_think_opposite_wants_amb ['amb2_1', 'amb2_2', 'amb2_3'] \n",
      "\n",
      "what_you_want_sinc ['sinc1_1', 'sinc1_2', 'sinc1_3'] \n",
      "\n",
      "you_think_opposite_wants_fun ['fun2_1', 'fun2_2', 'fun2_3'] \n",
      "\n",
      "you_think_most_want_amb ['amb4_1', 'amb4_2', 'amb4_3'] \n",
      "\n",
      "clean_up_1 \n",
      "['attr1_1', 'sinc1_1', 'intel1_1', 'fun1_1', 'amb1_1', 'shar1_1', 'attr1_2', 'sinc1_2', 'intel1_2', 'fun1_2', 'amb1_2', 'shar1_2', 'attr1_3', 'sinc1_3', 'intel1_3', 'fun1_3', 'amb1_3', 'shar1_3', 'attr2_1', 'sinc2_1', 'intel2_1', 'fun2_1', 'amb2_1', 'shar2_1'] \n",
      "\n",
      "clean_up_2 \n",
      "['attr3_1', 'sinc3_1', 'intel3_1', 'fun3_1', 'amb3_1', 'attr3_2', 'sinc3_2', 'intel3_2', 'fun3_2', 'amb3_2', 'attr3_3', 'sinc3_3', 'intel3_3', 'fun3_3', 'amb3_3'] \n",
      "\n",
      "clean_up_3 \n",
      "['attr5_1', 'sinc5_1', 'intel5_1', 'fun5_1', 'amb5_1', 'attr5_2', 'sinc5_2', 'intel5_2', 'fun5_2', 'amb5_2', 'attr5_3', 'sinc5_3', 'intel5_3', 'fun5_3', 'amb5_3'] \n",
      "\n",
      "clean_up_4 \n",
      "['attr4_1', 'sinc4_1', 'intel4_1', 'fun4_1', 'amb4_1', 'shar4_1', 'attr4_2', 'sinc4_2', 'intel4_2', 'fun4_2', 'amb4_2', 'shar4_2', 'attr4_3', 'sinc4_3', 'intel4_3', 'fun4_3', 'amb4_3', 'shar4_3', 'attr2_3', 'sinc2_3', 'intel2_3', 'fun2_3', 'amb2_3', 'shar2_3'] \n",
      "\n",
      "clean_up_5 \n",
      "['attr2_2', 'sinc2_2', 'intel2_2', 'fun2_2', 'amb2_2', 'shar2_2'] \n",
      "\n",
      "list_of_lists \n",
      "['attr1_1', 'sinc1_1', 'intel1_1', 'fun1_1', 'amb1_1', 'shar1_1', 'attr1_2', 'sinc1_2', 'intel1_2', 'fun1_2', 'amb1_2', 'shar1_2', 'attr1_3', 'sinc1_3', 'intel1_3', 'fun1_3', 'amb1_3', 'shar1_3', 'attr2_1', 'sinc2_1', 'intel2_1', 'fun2_1', 'amb2_1', 'shar2_1', 'attr3_1', 'sinc3_1', 'intel3_1', 'fun3_1', 'amb3_1', 'attr3_2', 'sinc3_2', 'intel3_2', 'fun3_2', 'amb3_2', 'attr3_3', 'sinc3_3', 'intel3_3', 'fun3_3', 'amb3_3', 'attr5_1', 'sinc5_1', 'intel5_1', 'fun5_1', 'amb5_1', 'attr5_2', 'sinc5_2', 'intel5_2', 'fun5_2', 'amb5_2', 'attr5_3', 'sinc5_3', 'intel5_3', 'fun5_3', 'amb5_3', 'attr4_1', 'sinc4_1', 'intel4_1', 'fun4_1', 'amb4_1', 'shar4_1', 'attr4_2', 'sinc4_2', 'intel4_2', 'fun4_2', 'amb4_2', 'shar4_2', 'attr4_3', 'sinc4_3', 'intel4_3', 'fun4_3', 'amb4_3', 'shar4_3', 'attr2_3', 'sinc2_3', 'intel2_3', 'fun2_3', 'amb2_3', 'shar2_3', 'attr2_2', 'sinc2_2', 'intel2_2', 'fun2_2', 'amb2_2', 'shar2_2', 'attr1_s', 'sinc1_s', 'intel1_s', 'fun1_s', 'amb1_s', 'shar1_s', 'attr3_s', 'sinc3_s', 'intel3_s', 'fun3_s', 'amb3_s', 'attr1_s', 'sinc1_s', 'intel1_s', 'fun1_s', 'amb1_s', 'shar1_s', 'attr3_s', 'sinc3_s', 'intel3_s', 'fun3_s', 'amb3_s', 'attr7_2', 'sinc7_2', 'intel7_2', 'fun7_2', 'amb7_2', 'shar7_2', 'attr7_3', 'sinc7_3', 'intel7_3', 'fun7_3', 'amb7_3', 'shar7_3', 'attr', 'sinc', 'intel', 'fun', 'amb', 'shar', 'attr_o', 'sinc_o', 'intel_o', 'fun_o', 'amb_o', 'shar_o', 'pf_o_att', 'pf_o_sin', 'pf_o_int', 'pf_o_fun', 'pf_o_amb', 'pf_o_sha', 'like_o', 'prob_o', 'imprace', 'imprelig', 'like', 'prob', 'exphappy', 'expnum', 'match_es', 'satis_2', 'you_call', 'them_cal', 'numdat_3', 'num_in_3', 'sports', 'tvsports', 'exercise', 'dining', 'museums', 'art', 'hiking', 'gaming', 'clubbing', 'reading', 'tv', 'theater', 'movies', 'concerts', 'music', 'shopping', 'yoga'] \n",
      "\n",
      "all columns in dataset \n",
      "\n",
      "iid id gender idg condtn wave round position positin1 order partner pid match int_corr samerace age_o race_o pf_o_att pf_o_sin pf_o_int pf_o_fun pf_o_amb pf_o_sha dec_o attr_o sinc_o intel_o fun_o amb_o shar_o like_o prob_o met_o age field field_cd undergra mn_sat tuition race imprace imprelig from zipcode income goal date go_out career career_c sports tvsports exercise dining museums art hiking gaming clubbing reading tv theater movies concerts music shopping yoga exphappy expnum attr1_1 sinc1_1 intel1_1 fun1_1 amb1_1 shar1_1 attr4_1 sinc4_1 intel4_1 fun4_1 amb4_1 shar4_1 attr2_1 sinc2_1 intel2_1 fun2_1 amb2_1 shar2_1 attr3_1 sinc3_1 fun3_1 intel3_1 amb3_1 attr5_1 sinc5_1 intel5_1 fun5_1 amb5_1 dec attr sinc intel fun amb shar like prob met match_es attr1_s sinc1_s intel1_s fun1_s amb1_s shar1_s attr3_s sinc3_s intel3_s fun3_s amb3_s satis_2 length numdat_2 attr7_2 sinc7_2 intel7_2 fun7_2 amb7_2 shar7_2 attr1_2 sinc1_2 intel1_2 fun1_2 amb1_2 shar1_2 attr4_2 sinc4_2 intel4_2 fun4_2 amb4_2 shar4_2 attr2_2 sinc2_2 intel2_2 fun2_2 amb2_2 shar2_2 attr3_2 sinc3_2 intel3_2 fun3_2 amb3_2 attr5_2 sinc5_2 intel5_2 fun5_2 amb5_2 you_call them_cal date_3 numdat_3 num_in_3 attr1_3 sinc1_3 intel1_3 fun1_3 amb1_3 shar1_3 attr7_3 sinc7_3 intel7_3 fun7_3 amb7_3 shar7_3 attr4_3 sinc4_3 intel4_3 fun4_3 amb4_3 shar4_3 attr2_3 sinc2_3 intel2_3 fun2_3 amb2_3 shar2_3 attr3_3 sinc3_3 intel3_3 fun3_3 amb3_3 attr5_3 sinc5_3 intel5_3 fun5_3 amb5_3\n"
     ]
    }
   ],
   "source": [
    "for i, j in fc.data_cleaner.iteritems():\n",
    "    print i, j, '\\n'\n",
    "for i, j in fc.master_list.items():\n",
    "    print i, j, '\\n'\n",
    "print 'clean_up_1', '\\n', fc.clean_up_1, '\\n'\n",
    "print 'clean_up_2', '\\n', fc.clean_up_2, '\\n'\n",
    "print 'clean_up_3', '\\n', fc.clean_up_3, '\\n'\n",
    "print 'clean_up_4', '\\n', fc.clean_up_4, '\\n'\n",
    "print 'clean_up_5', '\\n', fc.clean_up_5, '\\n'\n",
    "print 'list_of_lists', '\\n', fc.list_of_lists, '\\n'\n",
    "print 'all columns in dataset', '\\n'\n",
    "for i in data.keys():\n",
    "    print i,"
   ]
  },
  {
   "cell_type": "code",
   "execution_count": 15,
   "metadata": {
    "collapsed": false
   },
   "outputs": [
    {
     "name": "stderr",
     "output_type": "stream",
     "text": [
      "C:\\Users\\Henry\\Anaconda2\\lib\\site-packages\\ipykernel\\__main__.py:1: SettingWithCopyWarning: \n",
      "A value is trying to be set on a copy of a slice from a DataFrame\n",
      "\n",
      "See the caveats in the documentation: http://pandas.pydata.org/pandas-docs/stable/indexing.html#indexing-view-versus-copy\n",
      "  if __name__ == '__main__':\n"
     ]
    }
   ],
   "source": [
    "unique[fc.list_of_lists].dropna(axis = 0, inplace = True)"
   ]
  },
  {
   "cell_type": "code",
   "execution_count": 16,
   "metadata": {
    "collapsed": false
   },
   "outputs": [
    {
     "data": {
      "text/plain": [
       "attr1_1     543\n",
       "sinc1_1     543\n",
       "intel1_1    543\n",
       "fun1_1      542\n",
       "amb1_1      541\n",
       "shar1_1     540\n",
       "attr1_2     484\n",
       "sinc1_2     485\n",
       "intel1_2    485\n",
       "fun1_2      485\n",
       "amb1_2      485\n",
       "shar1_2     485\n",
       "attr1_3     263\n",
       "sinc1_3     263\n",
       "intel1_3    263\n",
       "fun1_3      263\n",
       "amb1_3      263\n",
       "shar1_3     263\n",
       "attr2_1     543\n",
       "sinc2_1     543\n",
       "intel2_1    543\n",
       "fun2_1      543\n",
       "amb2_1      542\n",
       "shar2_1     542\n",
       "attr3_1     541\n",
       "sinc3_1     541\n",
       "intel3_1    541\n",
       "fun3_1      541\n",
       "amb3_1      541\n",
       "attr3_2     485\n",
       "sinc3_2     485\n",
       "intel3_2    485\n",
       "fun3_2      485\n",
       "amb3_2      485\n",
       "attr3_3     263\n",
       "sinc3_3     263\n",
       "intel3_3    263\n",
       "fun3_3      263\n",
       "amb3_3      263\n",
       "attr5_1     314\n",
       "sinc5_1     314\n",
       "intel5_1    314\n",
       "fun5_1      314\n",
       "amb5_1      314\n",
       "attr5_2     277\n",
       "sinc5_2     277\n",
       "intel5_2    277\n",
       "fun5_2      277\n",
       "amb5_2      277\n",
       "attr5_3     131\n",
       "sinc5_3     131\n",
       "intel5_3    131\n",
       "fun5_3      131\n",
       "amb5_3      131\n",
       "attr4_1     417\n",
       "sinc4_1     417\n",
       "intel4_1    417\n",
       "fun4_1      417\n",
       "amb4_1      417\n",
       "shar4_1     416\n",
       "attr4_2     368\n",
       "sinc4_2     368\n",
       "intel4_2    368\n",
       "fun4_2      368\n",
       "amb4_2      368\n",
       "shar4_2     368\n",
       "attr4_3     193\n",
       "sinc4_3     193\n",
       "intel4_3    193\n",
       "fun4_3      193\n",
       "amb4_3      193\n",
       "shar4_3     193\n",
       "attr2_3     193\n",
       "sinc2_3     193\n",
       "intel2_3    193\n",
       "fun2_3      193\n",
       "amb2_3      193\n",
       "shar2_3     131\n",
       "attr2_2     368\n",
       "sinc2_2     368\n",
       "intel2_2    368\n",
       "fun2_2      368\n",
       "amb2_2      368\n",
       "shar2_2     368\n",
       "attr1_s     281\n",
       "sinc1_s     281\n",
       "intel1_s    281\n",
       "fun1_s      281\n",
       "amb1_s      281\n",
       "shar1_s     281\n",
       "attr3_s     276\n",
       "sinc3_s     276\n",
       "intel3_s    276\n",
       "fun3_s      276\n",
       "amb3_s      276\n",
       "attr1_s     281\n",
       "sinc1_s     281\n",
       "intel1_s    281\n",
       "fun1_s      281\n",
       "amb1_s      281\n",
       "shar1_s     281\n",
       "attr3_s     276\n",
       "sinc3_s     276\n",
       "intel3_s    276\n",
       "fun3_s      276\n",
       "amb3_s      276\n",
       "attr7_2     126\n",
       "sinc7_2     124\n",
       "intel7_2    126\n",
       "fun7_2      126\n",
       "amb7_2      124\n",
       "shar7_2     125\n",
       "attr7_3     131\n",
       "sinc7_3     131\n",
       "intel7_3    131\n",
       "fun7_3      131\n",
       "amb7_3      131\n",
       "shar7_3     131\n",
       "attr        541\n",
       "sinc        536\n",
       "intel       536\n",
       "fun         529\n",
       "amb         510\n",
       "shar        481\n",
       "attr_o      542\n",
       "sinc_o      528\n",
       "intel_o     537\n",
       "fun_o       535\n",
       "amb_o       512\n",
       "shar_o      513\n",
       "pf_o_att    550\n",
       "pf_o_sin    550\n",
       "pf_o_int    550\n",
       "pf_o_fun    550\n",
       "pf_o_amb    550\n",
       "pf_o_sha    550\n",
       "like_o      539\n",
       "prob_o      537\n",
       "imprace     543\n",
       "imprelig    543\n",
       "like        538\n",
       "prob        535\n",
       "exphappy    542\n",
       "expnum      125\n",
       "match_es    478\n",
       "satis_2     485\n",
       "you_call    263\n",
       "them_cal    263\n",
       "numdat_3     93\n",
       "num_in_3     40\n",
       "sports      543\n",
       "tvsports    543\n",
       "exercise    543\n",
       "dining      543\n",
       "museums     543\n",
       "art         543\n",
       "hiking      543\n",
       "gaming      543\n",
       "clubbing    543\n",
       "reading     543\n",
       "tv          543\n",
       "theater     543\n",
       "movies      543\n",
       "concerts    543\n",
       "music       543\n",
       "shopping    543\n",
       "yoga        543\n",
       "dtype: int64"
      ]
     },
     "execution_count": 16,
     "metadata": {},
     "output_type": "execute_result"
    }
   ],
   "source": [
    "unique[fc.list_of_lists].count()"
   ]
  },
  {
   "cell_type": "code",
   "execution_count": 20,
   "metadata": {
    "collapsed": false
   },
   "outputs": [
    {
     "name": "stdout",
     "output_type": "stream",
     "text": [
      "iid id gender idg condtn wave round position positin1 order partner pid match int_corr samerace age_o race_o dec_o met_o age field field_cd undergra mn_sat tuition race from zipcode income goal date go_out career career_c dec met length numdat_2 date_3\n"
     ]
    }
   ],
   "source": [
    "for i in unique.keys():\n",
    "    if i not in fc.list_of_lists:\n",
    "        print i,"
   ]
  }
 ],
 "metadata": {
  "kernelspec": {
   "display_name": "Python 2",
   "language": "python",
   "name": "python2"
  },
  "language_info": {
   "codemirror_mode": {
    "name": "ipython",
    "version": 2
   },
   "file_extension": ".py",
   "mimetype": "text/x-python",
   "name": "python",
   "nbconvert_exporter": "python",
   "pygments_lexer": "ipython2",
   "version": "2.7.12"
  }
 },
 "nbformat": 4,
 "nbformat_minor": 0
}
