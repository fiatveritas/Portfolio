{
 "cells": [
  {
   "cell_type": "markdown",
   "metadata": {
    "deletable": true,
    "editable": true
   },
   "source": [
    "<h1>Speed Dating: Who to Date Long Term</h1>"
   ]
  },
  {
   "cell_type": "markdown",
   "metadata": {
    "deletable": true,
    "editable": true
   },
   "source": [
    "What influences love at first sight? (Or, at least, love in the first four minutes?) This dataset was compiled by Columbia Business School professors Ray Fisman and Sheena Iyengar for their paper Gender Differences in Mate Selection: Evidence From a Speed Dating Experiment.<br>\n",
    "\n",
    "Data was gathered from participants in experimental speed dating events from 2002-2004. During the events, the attendees would have a four minute \"first date\" with every other participant of the opposite sex. At the end of their four minutes, participants were asked if they would like to see their date again. They were also asked to rate their date on six attributes: Attractiveness, Sincerity, Intelligence, Fun, Ambition, and Shared Interests.<br>\n",
    "\n",
    "The dataset also includes questionnaire data gathered from participants at different points in the process. These fields include: demographics, dating habits, self-perception across key attributes, beliefs on what others find valuable in a mate, and lifestyle information. See the Speed Dating Data Key document below for details.<br>\n",
    "\n",
    "For more analysis from Iyengar and Fisman, read Racial Preferences in Dating.<br>\n",
    "\n",
    "Data Exploration Ideas<br>\n",
    "\n",
    "What are the least desirable attributes in a male partner? Does this differ for female partners?<br>\n",
    "How important do people think attractiveness is in potential mate selection vs. its real impact?<br>\n",
    "Are shared interests more important than a shared racial background?<br>\n",
    "Can people accurately predict their own perceived value in the dating market?<br>\n",
    "In terms of getting a second date, is it better to be someone's first speed date of the night or their last?"
   ]
  },
  {
   "cell_type": "markdown",
   "metadata": {},
   "source": [
    "<h2>Import Libraries</h2>"
   ]
  },
  {
   "cell_type": "code",
   "execution_count": 1,
   "metadata": {
    "collapsed": false,
    "deletable": true,
    "editable": true
   },
   "outputs": [
    {
     "name": "stdout",
     "output_type": "stream",
     "text": [
      "pandas version is 0.18.0.\n",
      "numpy version is 1.10.4.\n",
      "scikit-learn version is 0.17.1.\n",
      "seaborn version is 0.7.1.\n",
      "matplotlib version is 1.5.1.\n"
     ]
    }
   ],
   "source": [
    "import pandas as pd\n",
    "import numpy as np\n",
    "import sklearn\n",
    "import seaborn as sns\n",
    "import matplotlib\n",
    "import matplotlib.pyplot as plt\n",
    "from IPython.display import display\n",
    "%matplotlib inline\n",
    "pd.set_option('display.max_columns', None)\n",
    "#pd.set_option('display.max_rows', None)\n",
    "\n",
    "print('pandas version is {}.'.format(pd.__version__))\n",
    "print('numpy version is {}.'.format(np.__version__))\n",
    "print('scikit-learn version is {}.'.format(sklearn.__version__))\n",
    "print('seaborn version is {}.'.format(sns.__version__))\n",
    "print('matplotlib version is {}.'.format(matplotlib.__version__))"
   ]
  },
  {
   "cell_type": "code",
   "execution_count": 2,
   "metadata": {
    "collapsed": false,
    "deletable": true,
    "editable": true
   },
   "outputs": [
    {
     "name": "stdout",
     "output_type": "stream",
     "text": [
      "This set has 8378 data points and 195 features.\n"
     ]
    }
   ],
   "source": [
    "data = pd.read_csv(\"Speed Dating Data.csv\")\n",
    "print \"This set has {} data points and {} features.\".format(*data.shape)"
   ]
  },
  {
   "cell_type": "markdown",
   "metadata": {
    "deletable": true,
    "editable": true
   },
   "source": [
    "<h1>Data Exploration</h1>"
   ]
  },
  {
   "cell_type": "markdown",
   "metadata": {},
   "source": [
    "<h4>Samples for each Feature</h4>"
   ]
  },
  {
   "cell_type": "code",
   "execution_count": 3,
   "metadata": {
    "collapsed": false
   },
   "outputs": [
    {
     "name": "stdout",
     "output_type": "stream",
     "text": [
      "iid 8378 || id 8377 || gender 8378 || idg 8378 || condtn 8378 || wave 8378 || round 8378 || position 8378 || positin1 6532 || order 8378 || partner 8378 || pid 8368 || match 8378 || int_corr 8220 || samerace 8378 || age_o 8274 || race_o 8305 || pf_o_att 8289 || pf_o_sin 8289 || pf_o_int 8289 || pf_o_fun 8280 || pf_o_amb 8271 || pf_o_sha 8249 || dec_o 8378 || attr_o 8166 || sinc_o 8091 || intel_o 8072 || fun_o 8018 || amb_o 7656 || shar_o 7302 || like_o 8128 || prob_o 8060 || met_o 7993 || age 8283 || field 8315 || field_cd 8296 || undergra 4914 || mn_sat 3133 || tuition 3583 || race 8315 || imprace 8299 || imprelig 8299 || from 8299 || zipcode 7314 || income 4279 || goal 8299 || date 8281 || go_out 8299 || career 8289 || career_c 8240 || sports 8299 || tvsports 8299 || exercise 8299 || dining 8299 || museums 8299 || art 8299 || hiking 8299 || gaming 8299 || clubbing 8299 || reading 8299 || tv 8299 || theater 8299 || movies 8299 || concerts 8299 || music 8299 || shopping 8299 || yoga 8299 || exphappy 8277 || expnum 1800 || attr1_1 8299 || sinc1_1 8299 || intel1_1 8299 || fun1_1 8289 || amb1_1 8279 || shar1_1 8257 || attr4_1 6489 || sinc4_1 6489 || intel4_1 6489 || fun4_1 6489 || amb4_1 6489 || shar4_1 6467 || attr2_1 8299 || sinc2_1 8299 || intel2_1 8299 || fun2_1 8299 || amb2_1 8289 || shar2_1 8289 || attr3_1 8273 || sinc3_1 8273 || fun3_1 8273 || intel3_1 8273 || amb3_1 8273 || attr5_1 4906 || sinc5_1 4906 || intel5_1 4906 || fun5_1 4906 || amb5_1 4906 || dec 8378 || attr 8176 || sinc 8101 || intel 8082 || fun 8028 || amb 7666 || shar 7311 || like 8138 || prob 8069 || met 8003 || match_es 7205 || attr1_s 4096 || sinc1_s 4096 || intel1_s 4096 || fun1_s 4096 || amb1_s 4096 || shar1_s 4096 || attr3_s 4000 || sinc3_s 4000 || intel3_s 4000 || fun3_s 4000 || amb3_s 4000 || satis_2 7463 || length 7463 || numdat_2 7433 || attr7_2 1984 || sinc7_2 1955 || intel7_2 1984 || fun7_2 1984 || amb7_2 1955 || shar7_2 1974 || attr1_2 7445 || sinc1_2 7463 || intel1_2 7463 || fun1_2 7463 || amb1_2 7463 || shar1_2 7463 || attr4_2 5775 || sinc4_2 5775 || intel4_2 5775 || fun4_2 5775 || amb4_2 5775 || shar4_2 5775 || attr2_2 5775 || sinc2_2 5775 || intel2_2 5775 || fun2_2 5775 || amb2_2 5775 || shar2_2 5775 || attr3_2 7463 || sinc3_2 7463 || intel3_2 7463 || fun3_2 7463 || amb3_2 7463 || attr5_2 4377 || sinc5_2 4377 || intel5_2 4377 || fun5_2 4377 || amb5_2 4377 || you_call 3974 || them_cal 3974 || date_3 3974 || numdat_3 1496 || num_in_3 668 || attr1_3 3974 || sinc1_3 3974 || intel1_3 3974 || fun1_3 3974 || amb1_3 3974 || shar1_3 3974 || attr7_3 2016 || sinc7_3 2016 || intel7_3 2016 || fun7_3 2016 || amb7_3 2016 || shar7_3 2016 || attr4_3 2959 || sinc4_3 2959 || intel4_3 2959 || fun4_3 2959 || amb4_3 2959 || shar4_3 2959 || attr2_3 2959 || sinc2_3 2959 || intel2_3 2959 || fun2_3 2959 || amb2_3 2959 || shar2_3 2016 || attr3_3 3974 || sinc3_3 3974 || intel3_3 3974 || fun3_3 3974 || amb3_3 3974 || attr5_3 2016 || sinc5_3 2016 || intel5_3 2016 || fun5_3 2016 || amb5_3 2016 ||\n"
     ]
    }
   ],
   "source": [
    "import features_creator as fc #importing feature names made in file features_creator.py\n",
    "fc.count_samples_in_features(data)#count samples for each feature"
   ]
  },
  {
   "cell_type": "markdown",
   "metadata": {},
   "source": [
    "<h4>Features Space of interest (with most samples avalaible)</h4>"
   ]
  },
  {
   "cell_type": "code",
   "execution_count": 4,
   "metadata": {
    "collapsed": false
   },
   "outputs": [
    {
     "name": "stdout",
     "output_type": "stream",
     "text": [
      "iid 8378 || gender 8378 || race 8315 || field_cd 8296 || career_c 8240 || zipcode 7314 || goal 8299 || met 8003 || go_out 8299 || date 8281 || age 8283 || imprace 8299 || imprelig 8299 || like 8138 || prob 8069 || exphappy 8277 || attr1_1 8299 || sinc1_1 8299 || intel1_1 8299 || fun1_1 8289 || amb1_1 8279 || shar1_1 8257 || attr2_1 8299 || sinc2_1 8299 || intel2_1 8299 || fun2_1 8299 || amb2_1 8289 || shar2_1 8289 || attr3_1 8273 || sinc3_1 8273 || intel3_1 8273 || fun3_1 8273 || amb3_1 8273 || attr 8176 || sinc 8101 || intel 8082 || fun 8028 || amb 7666 || shar 7311 || sports 8299 || tvsports 8299 || exercise 8299 || dining 8299 || museums 8299 || art 8299 || hiking 8299 || gaming 8299 || clubbing 8299 || reading 8299 || tv 8299 || theater 8299 || movies 8299 || concerts 8299 || music 8299 || shopping 8299 || yoga 8299 || pf_o_att 8289 || pf_o_sin 8289 || pf_o_int 8289 || pf_o_fun 8280 || pf_o_amb 8271 || pf_o_sha 8249 || attr_o 8166 || sinc_o 8091 || intel_o 8072 || fun_o 8018 || amb_o 7656 || shar_o 7302 || age_o 8274 || like_o 8128 || prob_o 8060 || int_corr 8220 || race_o 8305 || samerace 8378 || pid 8368 || order 8378 || met_o 7993 ||\n"
     ]
    }
   ],
   "source": [
    "fc.count_samples_in_features(data[fc.feature_space])"
   ]
  },
  {
   "cell_type": "markdown",
   "metadata": {},
   "source": [
    "<h4>Data Clean Up: Making Sure Features are within Range</h4>"
   ]
  },
  {
   "cell_type": "code",
   "execution_count": 5,
   "metadata": {
    "collapsed": false
   },
   "outputs": [],
   "source": [
    "fc.likert_scale_question_3(data)#likert scale from 0 - 10. Some samples were at rating 12. this function brings rating of 12 down to ratings to 10\n",
    "fc.scale_question_3(data)#change scale from 0 - 10 to scale from 0 - 100, also forces that features add to 100\n",
    "fc.scale_question_4(data)#change scale from 0 - 10 to scale from 0 - 100, also forces that features add to 100\n",
    "fc.scale_question_5(data)#change scale from 0 - 10 to scale from 0 - 100, also forces that features add to 100\n",
    "fc.scale_question_1(data)#forces that features add to 100, if not the case\n",
    "fc.scale_question_2(data)#forces that features add to 100, if not the case\n",
    "fc.scale_question_7(data)#forces that features add to 100, if not the case\n",
    "fc.scale_rating_received(data)#change scale from 0 - 10 to scale from 0 - 100, also forces that features add to 100\n",
    "fc.scale_rating_given(data)#change scale from 0 - 10 to scale from 0 - 100, also forces that features add to 100\n",
    "fc.scale_half_way(data)#change feature 7_2 scale from 0 - 10 to scale from 0 - 100, also forces that features add to 100\n",
    "fc.scale_half_way_2(data)#change feature 7_3 scale from 0 - 10 to scale from 0 - 100, also forces that features add to 100"
   ]
  },
  {
   "cell_type": "markdown",
   "metadata": {},
   "source": [
    "<h4>Type Casting</h4>"
   ]
  },
  {
   "cell_type": "code",
   "execution_count": 6,
   "metadata": {
    "collapsed": false
   },
   "outputs": [],
   "source": [
    "fc.convert_income_to_float(data)#income was imported as string this call converts strings to float\n",
    "fc.convert_tuition_to_float(data)#ditto, tuition was imported as strings and are converted to float\n",
    "fc.zipcode_to_float(data)#zipcode strings converted to float\n",
    "fc.sat_to_float(data)#this function converts sat scores to float"
   ]
  },
  {
   "cell_type": "markdown",
   "metadata": {},
   "source": [
    "<h4>Outlier Detection: Turkey's Method</h4>"
   ]
  },
  {
   "cell_type": "code",
   "execution_count": 7,
   "metadata": {
    "collapsed": false,
    "scrolled": false
   },
   "outputs": [
    {
     "name": "stdout",
     "output_type": "stream",
     "text": [
      "[8203, 8209, 8219, 8359, 312, 313, 314, 315, 316, 317, 318, 319, 320, 321, 322, 323, 324, 325, 326, 327, 8204, 720, 739, 8217, 828, 829, 830, 831, 832, 833, 834, 835, 836, 837, 838, 839, 840, 841, 842, 843, 844, 845, 846, 847, 911, 920, 921, 951, 961, 981, 991, 1001, 8218, 1695, 1715, 1765, 1785, 1795, 1805, 1825, 1835, 1839, 1841, 1866, 1867, 1868, 1869, 1870, 8208, 8271, 8207, 4861, 5004, 5005, 5006, 5007, 5008, 5009, 5010, 5011, 5012, 5013, 5014, 5015, 5016, 5017, 5018, 5019, 5020, 5021, 5022, 5023, 5032, 5035, 5054, 5074, 5076, 5096, 5114, 5115, 5116, 5117, 5118, 5119, 5120, 5121, 5122, 5123, 5124, 5125, 5126, 5127, 5128, 5129, 5130, 5131, 5138, 5139, 5176, 5246, 5247, 5284, 5295, 5296, 5299, 5302, 5303, 5305, 5306, 5310, 5311, 5320, 5334, 5352, 5355, 5375, 5378, 5388, 5419, 5439, 5481, 5482, 5499, 5510, 5516, 5530, 5536, 5542, 5544, 5552, 5558, 5559, 5560, 5579, 5583, 5604, 5619, 5625, 5639, 5643, 5666, 5689, 5706, 5719, 5739, 5746, 5765, 5784, 5822, 5936, 6031, 6069, 8235, 6122, 6123, 6124, 6126, 6132, 6137, 6139, 6392, 6393, 6394, 6395, 6396, 6397, 6398, 6399, 6400, 6401, 6402, 6403, 6404, 6405, 6406, 6407, 6408, 6409, 8220, 7420, 7422, 7438, 7446, 7468, 7483, 7485, 7493, 7497, 7508, 7534, 7556, 7578, 7588, 7591, 7594, 7597, 7599, 7642, 7650, 7667, 7754, 8344, 7776, 7798, 7820, 7834, 7835, 7946, 8012, 8027, 8051, 8067, 8078, 8095, 8114, 8118, 8144, 8158, 8188]\n"
     ]
    }
   ],
   "source": [
    "index_to_be_removed = fc.outlier_detection(data[fc.feature_space[10:72]]) #these indices span at least 15  features as outliers\n",
    "print index_to_be_removed\n",
    "data.drop(data.index[index_to_be_removed], inplace = True)"
   ]
  },
  {
   "cell_type": "markdown",
   "metadata": {},
   "source": [
    "<h4>Basic Stats for Unique Females</h4>"
   ]
  },
  {
   "cell_type": "code",
   "execution_count": 8,
   "metadata": {
    "collapsed": false,
    "scrolled": true
   },
   "outputs": [],
   "source": [
    "#fc.dating_attributes_vs_time_describe(data = data, gender = 0)"
   ]
  },
  {
   "cell_type": "markdown",
   "metadata": {},
   "source": [
    "<h4>Frequency Charts for Females</h4>"
   ]
  },
  {
   "cell_type": "code",
   "execution_count": 9,
   "metadata": {
    "collapsed": false
   },
   "outputs": [],
   "source": [
    "#fc.dating_attributes_vs_time_hist(data = data, gender = 0)"
   ]
  },
  {
   "cell_type": "markdown",
   "metadata": {},
   "source": [
    "<h4>Basic Stats for Unique Males</h4>"
   ]
  },
  {
   "cell_type": "code",
   "execution_count": 10,
   "metadata": {
    "collapsed": false,
    "scrolled": true
   },
   "outputs": [],
   "source": [
    "#fc.dating_attributes_vs_time_describe(data = data, gender = 1)"
   ]
  },
  {
   "cell_type": "markdown",
   "metadata": {},
   "source": [
    "<h4>Frequency Charts for Males</h4>"
   ]
  },
  {
   "cell_type": "code",
   "execution_count": 11,
   "metadata": {
    "collapsed": false
   },
   "outputs": [],
   "source": [
    "#fc.dating_attributes_vs_time_hist(data = data, gender = 1)"
   ]
  },
  {
   "cell_type": "markdown",
   "metadata": {},
   "source": [
    "<h4>Scale Numerical features between 0 & 1</h4>"
   ]
  },
  {
   "cell_type": "code",
   "execution_count": 12,
   "metadata": {
    "collapsed": false,
    "deletable": true,
    "editable": true
   },
   "outputs": [],
   "source": [
    "fc.scale_majority_of_features(data)#this function scales most features between 0 - 1\n",
    "fc.scale_exphappy(data)\n",
    "data.to_csv('out.csv')"
   ]
  },
  {
   "cell_type": "markdown",
   "metadata": {},
   "source": [
    "<h4>Correlation Heat Map</h4>"
   ]
  },
  {
   "cell_type": "code",
   "execution_count": 13,
   "metadata": {
    "collapsed": false,
    "scrolled": false
   },
   "outputs": [
    {
     "data": {
      "image/png": "[encoded data removed]",
      "text/plain": [
       "<matplotlib.figure.Figure at 0xa12a7f0>"
      ]
     },
     "metadata": {},
     "output_type": "display_data"
    }
   ],
   "source": [
    "fc.make_corr(data[fc.feature_space])"
   ]
  },
  {
   "cell_type": "markdown",
   "metadata": {},
   "source": [
    "<h2>Forest Feature Selection: ExtraTreesClassifier & RandomForestClassifier</h2>"
   ]
  },
  {
   "cell_type": "code",
   "execution_count": 14,
   "metadata": {
    "collapsed": false
   },
   "outputs": [],
   "source": [
    "women_men = data[fc.all_space].copy()"
   ]
  },
  {
   "cell_type": "code",
   "execution_count": 15,
   "metadata": {
    "collapsed": false
   },
   "outputs": [],
   "source": [
    "women_men.dropna(axis = 0, how = 'any', inplace = True)"
   ]
  },
  {
   "cell_type": "markdown",
   "metadata": {},
   "source": [
    "<h4>Both Genders</h4>"
   ]
  },
  {
   "cell_type": "code",
   "execution_count": 16,
   "metadata": {
    "collapsed": false
   },
   "outputs": [],
   "source": [
    "target_df = women_men['dec'].copy()\n",
    "input_df = women_men[fc.feature_space].copy()"
   ]
  },
  {
   "cell_type": "code",
   "execution_count": 17,
   "metadata": {
    "collapsed": false,
    "scrolled": true
   },
   "outputs": [
    {
     "name": "stdout",
     "output_type": "stream",
     "text": [
      "ExtraTreesClassifier \t\t\t\tRandomForestClassifier\n",
      "Old Space:  (4767, 77) \t\t\t\tOld Space: (4767, 77)\n",
      "New Space:  (4767L, 22L) \t\t\t\tNew Space: (4767L, 18L)\n",
      "1 | (0.14090287439798246, 'like') \t\t\t1 | (0.15013219843025571, 'like')\n",
      "2 | (0.035426615868321201, 'prob') \t\t\t2 | (0.051806606451013072, 'intel')\n",
      "3 | (0.027959386209353738, 'attr') \t\t\t3 | (0.045203293116446552, 'attr')\n",
      "4 | (0.027322028009490011, 'sinc') \t\t\t4 | (0.035415608819452798, 'amb')\n",
      "5 | (0.02606742401167314, 'intel') \t\t\t5 | (0.029698254984769589, 'sinc')\n",
      "6 | (0.021872618803974505, 'amb') \t\t\t6 | (0.029570636117514759, 'shar')\n",
      "7 | (0.021814982990162327, 'shar') \t\t\t7 | (0.027922849938728889, 'prob')\n",
      "8 | (0.020346643879573321, 'fun') \t\t\t8 | (0.02097332539641323, 'fun')\n",
      "9 | (0.016695645258752688, 'prob_o') \t\t\t9 | (0.019144597390846653, 'pid')\n",
      "10 | (0.016374651751902902, 'attr_o') \t\t\t10 | (0.017523658068946273, 'sinc_o')\n",
      "11 | (0.015502346014165317, 'like_o') \t\t\t11 | (0.017493756190282653, 'attr_o')\n",
      "12 | (0.014744656947368585, 'pf_o_sha') \t\t\t12 | (0.015917707256430175, 'attr3_1')\n",
      "13 | (0.014659067361269897, 'order') \t\t\t13 | (0.015445733452383922, 'amb_o')\n",
      "14 | (0.014313693630007066, 'sinc_o') \t\t\t14 | (0.015373778337322942, 'fun_o')\n",
      "15 | (0.013941708582023898, 'pid') \t\t\t15 | (0.014643077206412846, 'shar_o')\n",
      "16 | (0.013794283371624777, 'int_corr') \t\t\t16 | (0.014533015846706196, 'int_corr')\n",
      "17 | (0.013558477834965004, 'age_o') \t\t\t17 | (0.013754298590609249, 'iid')\n",
      "18 | (0.013454466522728567, 'pf_o_fun') \t\t\t18 | (0.013448714335301069, 'zipcode')\n",
      "19 | (0.013447701625751268, 'pf_o_amb') \t\t\t19 | (0.012924984874582357, 'sinc2_1')\n",
      "20 | (0.013213996891505722, 'shar_o') \t\t\t20 | (0.012884134654260249, 'prob_o')\n",
      "21 | (0.013204155872749498, 'pf_o_sin') \t\t\t21 | (0.012636654351439625, 'pf_o_att')\n",
      "22 | (0.013143869116865469, 'amb_o') \t\t\t22 | (0.012489385133258537, 'intel_o')\n",
      "23 | (0.012800033579163071, 'intel_o') \t\t\t23 | (0.01215101713180463, 'intel2_1')\n",
      "24 | (0.012672223487367277, 'fun_o') \t\t\t24 | (0.01155637892477494, 'order')\n",
      "25 | (0.012256558248562392, 'pf_o_int') \t\t\t25 | (0.011275799660351405, 'intel3_1')\n",
      "26 | (0.012122955230289559, 'pf_o_att') \t\t\t26 | (0.010901543906476878, 'attr2_1')\n",
      "27 | (0.010761871441185945, 'zipcode') \t\t\t27 | (0.010649894828087814, 'pf_o_sha')\n",
      "28 | (0.01039988266553191, 'race_o') \t\t\t28 | (0.010182691732570163, 'pf_o_fun')\n",
      "29 | (0.010188574578396555, 'yoga') \t\t\t29 | (0.010070680768633985, 'imprace')\n",
      "30 | (0.010133456374464393, 'samerace') \t\t\t30 | (0.0099040122581513755, 'age_o')\n",
      "31 | (0.0099106695174886687, 'imprace') \t\t\t31 | (0.0097475264563082857, 'shar1_1')\n",
      "32 | (0.0098748088936322937, 'exercise') \t\t\t32 | (0.0097210776771494943, 'sinc3_1')\n",
      "33 | (0.0098672613243303009, 'sinc2_1') \t\t\t33 | (0.0095874334951902111, 'pf_o_sin')\n",
      "34 | (0.0098161313815753239, 'amb1_1') \t\t\t34 | (0.0093426370391518024, 'amb3_1')\n",
      "35 | (0.009797125987392, 'intel2_1') \t\t\t35 | (0.0093390722918378945, 'yoga')\n",
      "36 | (0.0094579523649866333, 'gender') \t\t\t36 | (0.0088907048591131254, 'amb1_1')\n",
      "37 | (0.0093921793482809376, 'imprelig') \t\t\t37 | (0.0086275848820738452, 'pf_o_amb')\n",
      "38 | (0.0092555729666297226, 'attr2_1') \t\t\t38 | (0.0085854194100572993, 'amb2_1')\n",
      "39 | (0.0092037371895403002, 'tvsports') \t\t\t39 | (0.0081488148296817824, 'intel1_1')\n",
      "40 | (0.0090564640317420501, 'sports') \t\t\t40 | (0.0081150832092684831, 'attr1_1')\n",
      "41 | (0.008896196455967946, 'age') \t\t\t41 | (0.0080754264164306991, 'exphappy')\n",
      "42 | (0.0088683969269770357, 'attr3_1') \t\t\t42 | (0.0079180160057727815, 'fun1_1')\n",
      "43 | (0.0087059430654389466, 'gaming') \t\t\t43 | (0.0077551149379783456, 'music')\n",
      "44 | (0.0086224989991662872, 'fun1_1') \t\t\t44 | (0.0077536771686893321, 'like_o')\n",
      "45 | (0.0084950724193675938, 'movies') \t\t\t45 | (0.0077508487189092753, 'fun3_1')\n",
      "46 | (0.008467709880209881, 'intel3_1') \t\t\t46 | (0.0077452775048051621, 'movies')\n",
      "47 | (0.0084265221516608181, 'career_c') \t\t\t47 | (0.0077054832690137774, 'imprelig')\n",
      "48 | (0.0084189534725673046, 'iid') \t\t\t48 | (0.0076435638434960273, 'pf_o_int')\n",
      "49 | (0.0083259456403597838, 'date') \t\t\t49 | (0.0074382661469838086, 'theater')\n",
      "50 | (0.0082455513925843455, 'concerts') \t\t\t50 | (0.007427452498244785, 'fun2_1')\n",
      "51 | (0.0081824847173367962, 'tv') \t\t\t51 | (0.0073758343365655215, 'exercise')\n",
      "52 | (0.0081221086397589189, 'shar1_1') \t\t\t52 | (0.0072290631616926835, 'sinc1_1')\n",
      "53 | (0.0081077142215065061, 'met') \t\t\t53 | (0.0072090463411402031, 'hiking')\n",
      "54 | (0.0081015123659824214, 'race') \t\t\t54 | (0.0070911437444257739, 'art')\n",
      "55 | (0.0080762058090375448, 'museums') \t\t\t55 | (0.0068519553899417203, 'shopping')\n",
      "56 | (0.0079953901086540664, 'dining') \t\t\t56 | (0.0068294570196782301, 'tvsports')\n",
      "57 | (0.007974210290996266, 'goal') \t\t\t57 | (0.0067395091148914456, 'concerts')\n",
      "58 | (0.0079597846991160733, 'shopping') \t\t\t58 | (0.0066996303817767151, 'shar2_1')\n",
      "59 | (0.0079431806629440514, 'field_cd') \t\t\t59 | (0.006488981721445815, 'career_c')\n",
      "60 | (0.0078938480429849474, 'clubbing') \t\t\t60 | (0.0063352958587597485, 'clubbing')\n",
      "61 | (0.0078588368236706414, 'art') \t\t\t61 | (0.0062677008133490445, 'gaming')\n",
      "62 | (0.0078499417660120967, 'go_out') \t\t\t62 | (0.0062554090452290852, 'age')\n",
      "63 | (0.0078411353736103639, 'amb2_1') \t\t\t63 | (0.0058326240048724737, 'field_cd')\n",
      "64 | (0.0078079260573976818, 'music') \t\t\t64 | (0.0057692276835562221, 'dining')\n",
      "65 | (0.0077744427952510659, 'theater') \t\t\t65 | (0.0055694836467204845, 'sports')\n",
      "66 | (0.0077368413699809759, 'reading') \t\t\t66 | (0.0055693825414623891, 'museums')\n",
      "67 | (0.0077063681195700048, 'fun2_1') \t\t\t67 | (0.0055483934341393802, 'date')\n",
      "68 | (0.0076919104513014907, 'sinc3_1') \t\t\t68 | (0.0053086335685314625, 'tv')\n",
      "69 | (0.0076377669360673996, 'attr1_1') \t\t\t69 | (0.0051775862609379506, 'go_out')\n",
      "70 | (0.0076256081581992357, 'exphappy') \t\t\t70 | (0.0050273129143047716, 'race_o')\n",
      "71 | (0.0075827658018360038, 'shar2_1') \t\t\t71 | (0.0047840473390035549, 'reading')\n",
      "72 | (0.0073358876346979272, 'intel1_1') \t\t\t72 | (0.0039833949912629748, 'race')\n",
      "73 | (0.0072888809882303424, 'hiking') \t\t\t73 | (0.0039307724826415759, 'gender')\n",
      "74 | (0.0070682289114217534, 'sinc1_1') \t\t\t74 | (0.0032966632591713506, 'goal')\n",
      "75 | (0.0070304351118501366, 'fun3_1') \t\t\t75 | (0.0023955121977764435, 'met')\n",
      "76 | (0.006969162912229647, 'amb3_1') \t\t\t76 | (0.0022725697798431149, 'samerace')\n",
      "77 | (0.0046358772632849937, 'met_o') \t\t\t77 | (0.0012146001524950256, 'met_o')\n"
     ]
    }
   ],
   "source": [
    "fc.forests(input_df, target_df)"
   ]
  },
  {
   "cell_type": "markdown",
   "metadata": {},
   "source": [
    "<h4>Feature Selection: SelectKBest, F-Classifier</h4>"
   ]
  },
  {
   "cell_type": "code",
   "execution_count": 18,
   "metadata": {
    "collapsed": false,
    "scrolled": true
   },
   "outputs": [
    {
     "name": "stdout",
     "output_type": "stream",
     "text": [
      "1 (1798.0233114108228, 'like', 0.0)\n",
      "2 (494.08763501835841, 'intel', 3.1001980447685445e-104)\n",
      "3 (492.10055596115774, 'prob', 7.6419373453067022e-104)\n",
      "4 (346.79407749817926, 'attr', 9.0106759855585969e-75)\n",
      "5 (271.61105988880803, 'shar', 2.1651863001025901e-59)\n",
      "6 (245.69708452431934, 'sinc', 4.9364782584994002e-54)\n",
      "7 (225.47865730817472, 'amb', 7.844643665280404e-50)\n",
      "8 (179.27438437812117, 'fun', 3.6838462837283036e-40)\n",
      "9 (111.82571973414429, 'prob_o', 7.5299416054991148e-26)\n",
      "10 (94.722460231871921, 'attr_o', 3.5200374326961384e-22)\n",
      "11 (67.54356844348122, 'gender', 2.6306081290131098e-16)\n",
      "12 (66.080081478821128, 'intel2_1', 5.4703140680530944e-16)\n",
      "13 (56.190932639131972, 'imprace', 7.796470873488828e-14)\n",
      "14 (54.190116184694581, 'exphappy', 2.1326311856960049e-13)\n",
      "15 (40.454027065282006, 'imprelig', 2.2015774916634326e-10)\n",
      "16 (39.441404274423775, 'attr2_1', 3.6813473330526517e-10)\n",
      "17 (37.093155757081412, 'gaming', 1.2146837336982053e-09)\n",
      "18 (36.267462970053529, 'exercise', 1.8492917002221045e-09)\n",
      "19 (28.22879504623328, 'sinc2_1', 1.1270032531757295e-07)\n",
      "20 (27.713847861890333, 'pf_o_sin', 1.4683226292503634e-07)\n",
      "21 (26.998965824345067, 'pf_o_sha', 2.120596739432554e-07)\n",
      "22 (22.466974196643307, 'met_o', 2.200154295396411e-06)\n",
      "23 (20.856445137736294, 'intel3_1', 5.075055042764477e-06)\n",
      "24 (19.150906200989706, 'race_o', 1.2336304116431172e-05)\n",
      "25 (16.454275530314728, 'sinc_o', 5.0634426072011321e-05)\n",
      "26 (14.194275176239733, 'intel_o', 0.00016686238829209671)\n",
      "27 (13.19737957075092, 'attr3_1', 0.00028329198645622825)\n",
      "28 (13.1373343504539, 'dining', 0.00029249063957728584)\n",
      "29 (11.174178197788825, 'pf_o_amb', 0.00083583267706991554)\n",
      "30 (10.784334665863025, 'amb1_1', 0.0010310171965748273)\n",
      "31 (9.9759368409299274, 'yoga', 0.0015959070206104239)\n",
      "32 (9.0289452097299456, 'sinc1_1', 0.0026712096353362414)\n",
      "33 (8.8638594849421182, 'samerace', 0.0029233574374630694)\n",
      "34 (8.632369341229273, 'pf_o_fun', 0.0033182541667560036)\n",
      "35 (8.3911768317984432, 'go_out', 0.0037876393796649698)\n",
      "36 (8.1571870516624134, 'age_o', 0.0043076412457020525)\n",
      "37 (7.9854207989747099, 'amb2_1', 0.004735183846163101)\n",
      "38 (7.3936244902436599, 'sports', 0.0065692622699284244)\n",
      "39 (7.0383391900598573, 'shar1_1', 0.0080047632350226574)\n",
      "40 (6.6989721633224848, 'pf_o_att', 0.0096761503114420819)\n",
      "41 (6.2076272350988342, 'field_cd', 0.012753855263457873)\n",
      "42 (5.9605701646488676, 'shopping', 0.014665448551133711)\n",
      "43 (5.9001642593819499, 'movies', 0.015176208763839872)\n",
      "44 (4.3471689719199924, 'amb_o', 0.03712362475628754)\n",
      "45 (4.0332254004835528, 'race', 0.044668900673336454)\n",
      "46 (3.8708336201085478, 'concerts', 0.049190031134316463)\n",
      "47 (3.4906399453922234, 'date', 0.061778044487174714)\n",
      "48 (3.1729216899427479, 'attr1_1', 0.074932084231897414)\n",
      "49 (2.9836227014417487, 'fun1_1', 0.08417561710060667)\n",
      "50 (2.7545043477432585, 'tv', 0.097046671330334192)\n",
      "51 (2.639952627933821, 'fun2_1', 0.10427278778130165)\n",
      "52 (2.4850906676380338, 'like_o', 0.11499610825953643)\n",
      "53 (2.3390745250772813, 'shar_o', 0.12623086726606772)\n",
      "54 (1.9369775632410817, 'sinc3_1', 0.16406204206385949)\n",
      "55 (1.8984336303774803, 'career_c', 0.16831845221467795)\n",
      "56 (1.6873945080433597, 'theater', 0.19400763884387559)\n",
      "57 (1.6717160564448428, 'pid', 0.1960915243619244)\n",
      "58 (1.5162558007870146, 'hiking', 0.21824775179714567)\n",
      "59 (1.4277732542729273, 'clubbing', 0.23218765794276602)\n",
      "60 (1.346563498398567, 'art', 0.24593792501860506)\n",
      "61 (1.1820545414054384, 'shar2_1', 0.27699312013173433)\n",
      "62 (1.1676884160302863, 'fun_o', 0.27993140647852144)\n",
      "63 (0.99849775316053113, 'intel1_1', 0.31772502087195487)\n",
      "64 (0.67736666368632703, 'goal', 0.41053616742164212)\n",
      "65 (0.58892650655496515, 'fun3_1', 0.4428725556941544)\n",
      "66 (0.34045290236221709, 'reading', 0.55959553023941944)\n",
      "67 (0.28101928842908058, 'iid', 0.59605861641746705)\n",
      "68 (0.2341204781216206, 'age', 0.62850748084812658)\n",
      "69 (0.15742317971642344, 'tvsports', 0.69155786700669286)\n",
      "70 (0.15017726579258861, 'pf_o_int', 0.69838332285935234)\n",
      "71 (0.12109992608893058, 'music', 0.7278599511948014)\n",
      "72 (0.089575459354235221, 'met', 0.76473061927450325)\n",
      "73 (0.077882982846589816, 'zipcode', 0.78019920458331582)\n",
      "74 (0.044325609624774776, 'museums', 0.83325798441239385)\n",
      "75 (0.040419684635830351, 'order', 0.84067081593983117)\n",
      "76 (0.033223379744327042, 'int_corr', 0.85537638404048788)\n",
      "77 (0.019222918292189806, 'amb3_1', 0.88973516624090454)\n"
     ]
    }
   ],
   "source": [
    "from sklearn.feature_selection import SelectKBest\n",
    "from sklearn.feature_selection import f_classif\n",
    "kBest = SelectKBest(f_classif, k = 'all')\n",
    "kBest.fit_transform(input_df, target_df)\n",
    "counter = 0\n",
    "k_Best_features = [(j, i, k) for i, j, k in zip(input_df.keys(), kBest.scores_, kBest.pvalues_)]\n",
    "k_Best_features.sort()\n",
    "k_Best_features.reverse()\n",
    "counter = 0\n",
    "for i in k_Best_features:\n",
    "    counter += 1\n",
    "    print counter, i"
   ]
  },
  {
   "cell_type": "code",
   "execution_count": 19,
   "metadata": {
    "collapsed": false
   },
   "outputs": [
    {
     "name": "stdout",
     "output_type": "stream",
     "text": [
      "['like', 'intel', 'prob', 'attr', 'shar', 'sinc', 'amb', 'fun']\n"
     ]
    }
   ],
   "source": [
    "features_selected = ['like', 'intel', 'prob', 'attr', 'shar', 'sinc', 'amb', 'fun']\n",
    "print features_selected"
   ]
  },
  {
   "cell_type": "code",
   "execution_count": 20,
   "metadata": {
    "collapsed": false
   },
   "outputs": [
    {
     "name": "stdout",
     "output_type": "stream",
     "text": [
      "1 ) Explained Ratio:  [ 0.99999973]\n",
      "2 ) Explained Ratio:  [  9.99999727e-01   2.71874246e-07]\n",
      "3 ) Explained Ratio:  [  9.99999727e-01   2.71874246e-07   9.34362793e-10]\n",
      "4 ) Explained Ratio:  [  9.99999727e-01   2.71874246e-07   9.34362793e-10   1.51257589e-10]\n",
      "5 ) Explained Ratio:  [  9.99999727e-01   2.71874246e-07   9.34362793e-10   1.51257589e-10\n",
      "   8.82111543e-11]\n",
      "6 ) Explained Ratio:  [  9.99999727e-01   2.71874246e-07   9.34362793e-10   1.51257589e-10\n",
      "   8.82111543e-11   6.36113795e-11]\n",
      "7 ) Explained Ratio:  [  9.99999727e-01   2.71874246e-07   9.34362793e-10   1.51257589e-10\n",
      "   8.82111543e-11   6.36113795e-11   5.16141714e-11]\n",
      "8 ) Explained Ratio:  [  9.99999727e-01   2.71874246e-07   9.34362793e-10   1.51257589e-10\n",
      "   8.82111543e-11   6.36113795e-11   5.16141714e-11   3.94793702e-11]\n",
      "9 ) Explained Ratio:  [  9.99999727e-01   2.71874246e-07   9.34362793e-10   1.51257589e-10\n",
      "   8.82111543e-11   6.36113795e-11   5.16141714e-11   3.94793702e-11\n",
      "   1.16681410e-11]\n",
      "10 ) Explained Ratio:  [  9.99999727e-01   2.71874246e-07   9.34362793e-10   1.51257589e-10\n",
      "   8.82111543e-11   6.36113795e-11   5.16141714e-11   3.94793702e-11\n",
      "   1.16681410e-11   9.85221560e-12]\n",
      "11 ) Explained Ratio:  [  9.99999727e-01   2.71874246e-07   9.34362793e-10   1.51257589e-10\n",
      "   8.82111543e-11   6.36113795e-11   5.16141714e-11   3.94793702e-11\n",
      "   1.16681410e-11   9.85221560e-12   8.40980540e-12]\n",
      "12 ) Explained Ratio:  [  9.99999727e-01   2.71874246e-07   9.34362793e-10   1.51257589e-10\n",
      "   8.82111543e-11   6.36113795e-11   5.16141714e-11   3.94793702e-11\n",
      "   1.16681410e-11   9.85221560e-12   8.40980540e-12   7.38590219e-12]\n",
      "13 ) Explained Ratio:  [  9.99999727e-01   2.71874246e-07   9.34362793e-10   1.51257589e-10\n",
      "   8.82111543e-11   6.36113795e-11   5.16141714e-11   3.94793702e-11\n",
      "   1.16681410e-11   9.85221560e-12   8.40980540e-12   7.38590219e-12\n",
      "   4.69433776e-12]\n",
      "14 ) Explained Ratio:  [  9.99999727e-01   2.71874246e-07   9.34362793e-10   1.51257589e-10\n",
      "   8.82111543e-11   6.36113795e-11   5.16141714e-11   3.94793702e-11\n",
      "   1.16681410e-11   9.85221560e-12   8.40980540e-12   7.38590219e-12\n",
      "   4.69433776e-12   3.32439313e-12]\n",
      "15 ) Explained Ratio:  [  9.99999727e-01   2.71874246e-07   9.34362793e-10   1.51257589e-10\n",
      "   8.82111543e-11   6.36113795e-11   5.16141714e-11   3.94793702e-11\n",
      "   1.16681410e-11   9.85221560e-12   8.40980540e-12   7.38590219e-12\n",
      "   4.69433776e-12   3.32439313e-12   1.07664609e-12]\n",
      "16 ) Explained Ratio:  [  9.99999727e-01   2.71874246e-07   9.34362793e-10   1.51257589e-10\n",
      "   8.82111543e-11   6.36113795e-11   5.16141714e-11   3.94793702e-11\n",
      "   1.16681410e-11   9.85221560e-12   8.40980540e-12   7.38590219e-12\n",
      "   4.69433776e-12   3.32439313e-12   1.07664609e-12   1.06138161e-12]\n",
      "17 ) Explained Ratio:  [  9.99999727e-01   2.71874246e-07   9.34362793e-10   1.51257589e-10\n",
      "   8.82111543e-11   6.36113795e-11   5.16141714e-11   3.94793702e-11\n",
      "   1.16681410e-11   9.85221560e-12   8.40980540e-12   7.38590219e-12\n",
      "   4.69433776e-12   3.32439313e-12   1.07664609e-12   1.06138161e-12\n",
      "   9.02224979e-13]\n",
      "18 ) Explained Ratio:  [  9.99999727e-01   2.71874246e-07   9.34362793e-10   1.51257589e-10\n",
      "   8.82111543e-11   6.36113795e-11   5.16141714e-11   3.94793702e-11\n",
      "   1.16681410e-11   9.85221560e-12   8.40980540e-12   7.38590219e-12\n",
      "   4.69433776e-12   3.32439313e-12   1.07664609e-12   1.06138161e-12\n",
      "   9.02224979e-13   7.48452124e-13]\n",
      "19 ) Explained Ratio:  [  9.99999727e-01   2.71874246e-07   9.34362793e-10   1.51257589e-10\n",
      "   8.82111543e-11   6.36113795e-11   5.16141714e-11   3.94793702e-11\n",
      "   1.16681410e-11   9.85221560e-12   8.40980540e-12   7.38590219e-12\n",
      "   4.69433776e-12   3.32439313e-12   1.07664609e-12   1.06138161e-12\n",
      "   9.02224979e-13   7.48452124e-13   5.20763273e-13]\n",
      "20 ) Explained Ratio:  [  9.99999727e-01   2.71874246e-07   9.34362793e-10   1.51257589e-10\n",
      "   8.82111543e-11   6.36113795e-11   5.16141714e-11   3.94793702e-11\n",
      "   1.16681410e-11   9.85221560e-12   8.40980540e-12   7.38590219e-12\n",
      "   4.69433776e-12   3.32439313e-12   1.07664609e-12   1.06138161e-12\n",
      "   9.02224979e-13   7.48452124e-13   5.20763273e-13   4.51526580e-13]\n",
      "21 ) Explained Ratio:  [  9.99999727e-01   2.71874246e-07   9.34362793e-10   1.51257589e-10\n",
      "   8.82111543e-11   6.36113795e-11   5.16141714e-11   3.94793702e-11\n",
      "   1.16681410e-11   9.85221560e-12   8.40980540e-12   7.38590219e-12\n",
      "   4.69433776e-12   3.32439313e-12   1.07664609e-12   1.06138161e-12\n",
      "   9.02224979e-13   7.48452124e-13   5.20763273e-13   4.51526580e-13\n",
      "   4.30853083e-13]\n",
      "22 ) Explained Ratio:  [  9.99999727e-01   2.71874246e-07   9.34362793e-10   1.51257589e-10\n",
      "   8.82111543e-11   6.36113795e-11   5.16141714e-11   3.94793702e-11\n",
      "   1.16681410e-11   9.85221560e-12   8.40980540e-12   7.38590219e-12\n",
      "   4.69433776e-12   3.32439313e-12   1.07664609e-12   1.06138161e-12\n",
      "   9.02224979e-13   7.48452124e-13   5.20763273e-13   4.51526580e-13\n",
      "   4.30853083e-13   3.96788678e-13]\n",
      "23 ) Explained Ratio:  [  9.99999727e-01   2.71874246e-07   9.34362793e-10   1.51257589e-10\n",
      "   8.82111543e-11   6.36113795e-11   5.16141714e-11   3.94793702e-11\n",
      "   1.16681410e-11   9.85221560e-12   8.40980540e-12   7.38590219e-12\n",
      "   4.69433776e-12   3.32439313e-12   1.07664609e-12   1.06138161e-12\n",
      "   9.02224979e-13   7.48452124e-13   5.20763273e-13   4.51526580e-13\n",
      "   4.30853083e-13   3.96788678e-13   3.65696932e-13]\n",
      "24 ) Explained Ratio:  [  9.99999727e-01   2.71874246e-07   9.34362793e-10   1.51257589e-10\n",
      "   8.82111543e-11   6.36113795e-11   5.16141714e-11   3.94793702e-11\n",
      "   1.16681410e-11   9.85221560e-12   8.40980540e-12   7.38590219e-12\n",
      "   4.69433776e-12   3.32439313e-12   1.07664609e-12   1.06138161e-12\n",
      "   9.02224979e-13   7.48452124e-13   5.20763273e-13   4.51526580e-13\n",
      "   4.30853083e-13   3.96788678e-13   3.65696932e-13   3.27063958e-13]\n",
      "25 ) Explained Ratio:  [  9.99999727e-01   2.71874246e-07   9.34362793e-10   1.51257589e-10\n",
      "   8.82111543e-11   6.36113795e-11   5.16141714e-11   3.94793702e-11\n",
      "   1.16681410e-11   9.85221560e-12   8.40980540e-12   7.38590219e-12\n",
      "   4.69433776e-12   3.32439313e-12   1.07664609e-12   1.06138161e-12\n",
      "   9.02224979e-13   7.48452124e-13   5.20763273e-13   4.51526580e-13\n",
      "   4.30853083e-13   3.96788678e-13   3.65696932e-13   3.27063958e-13\n",
      "   3.12319983e-13]\n",
      "26 ) Explained Ratio:  [  9.99999727e-01   2.71874246e-07   9.34362793e-10   1.51257589e-10\n",
      "   8.82111543e-11   6.36113795e-11   5.16141714e-11   3.94793702e-11\n",
      "   1.16681410e-11   9.85221560e-12   8.40980540e-12   7.38590219e-12\n",
      "   4.69433776e-12   3.32439313e-12   1.07664609e-12   1.06138161e-12\n",
      "   9.02224979e-13   7.48452124e-13   5.20763273e-13   4.51526580e-13\n",
      "   4.30853083e-13   3.96788678e-13   3.65696932e-13   3.27063958e-13\n",
      "   3.12319983e-13   3.01656691e-13]\n",
      "27 ) Explained Ratio:  [  9.99999727e-01   2.71874246e-07   9.34362793e-10   1.51257589e-10\n",
      "   8.82111543e-11   6.36113795e-11   5.16141714e-11   3.94793702e-11\n",
      "   1.16681410e-11   9.85221560e-12   8.40980540e-12   7.38590219e-12\n",
      "   4.69433776e-12   3.32439313e-12   1.07664609e-12   1.06138161e-12\n",
      "   9.02224979e-13   7.48452124e-13   5.20763273e-13   4.51526580e-13\n",
      "   4.30853083e-13   3.96788678e-13   3.65696932e-13   3.27063958e-13\n",
      "   3.12319983e-13   3.01656691e-13   2.91877136e-13]\n",
      "28 ) Explained Ratio:  [  9.99999727e-01   2.71874246e-07   9.34362793e-10   1.51257589e-10\n",
      "   8.82111543e-11   6.36113795e-11   5.16141714e-11   3.94793702e-11\n",
      "   1.16681410e-11   9.85221560e-12   8.40980540e-12   7.38590219e-12\n",
      "   4.69433776e-12   3.32439313e-12   1.07664609e-12   1.06138161e-12\n",
      "   9.02224979e-13   7.48452124e-13   5.20763273e-13   4.51526580e-13\n",
      "   4.30853083e-13   3.96788678e-13   3.65696932e-13   3.27063958e-13\n",
      "   3.12319983e-13   3.01656691e-13   2.91877136e-13   2.64279060e-13]\n",
      "29 ) Explained Ratio:  [  9.99999727e-01   2.71874246e-07   9.34362793e-10   1.51257589e-10\n",
      "   8.82111543e-11   6.36113795e-11   5.16141714e-11   3.94793702e-11\n",
      "   1.16681410e-11   9.85221560e-12   8.40980540e-12   7.38590219e-12\n",
      "   4.69433776e-12   3.32439313e-12   1.07664609e-12   1.06138161e-12\n",
      "   9.02224979e-13   7.48452124e-13   5.20763273e-13   4.51526580e-13\n",
      "   4.30853083e-13   3.96788678e-13   3.65696932e-13   3.27063958e-13\n",
      "   3.12319983e-13   3.01656691e-13   2.91877136e-13   2.64279060e-13\n",
      "   2.50361190e-13]\n",
      "30 ) Explained Ratio:  [  9.99999727e-01   2.71874246e-07   9.34362793e-10   1.51257589e-10\n",
      "   8.82111543e-11   6.36113795e-11   5.16141714e-11   3.94793702e-11\n",
      "   1.16681410e-11   9.85221560e-12   8.40980540e-12   7.38590219e-12\n",
      "   4.69433776e-12   3.32439313e-12   1.07664609e-12   1.06138161e-12\n",
      "   9.02224979e-13   7.48452124e-13   5.20763273e-13   4.51526580e-13\n",
      "   4.30853083e-13   3.96788678e-13   3.65696932e-13   3.27063958e-13\n",
      "   3.12319983e-13   3.01656691e-13   2.91877136e-13   2.64279060e-13\n",
      "   2.50361190e-13   2.40612012e-13]\n",
      "31 ) Explained Ratio:  [  9.99999727e-01   2.71874246e-07   9.34362793e-10   1.51257589e-10\n",
      "   8.82111543e-11   6.36113795e-11   5.16141714e-11   3.94793702e-11\n",
      "   1.16681410e-11   9.85221560e-12   8.40980540e-12   7.38590219e-12\n",
      "   4.69433776e-12   3.32439313e-12   1.07664609e-12   1.06138161e-12\n",
      "   9.02224979e-13   7.48452124e-13   5.20763273e-13   4.51526580e-13\n",
      "   4.30853083e-13   3.96788678e-13   3.65696932e-13   3.27063958e-13\n",
      "   3.12319983e-13   3.01656691e-13   2.91877136e-13   2.64279060e-13\n",
      "   2.50361190e-13   2.40612012e-13   2.33057995e-13]\n",
      "32 ) Explained Ratio:  [  9.99999727e-01   2.71874246e-07   9.34362793e-10   1.51257589e-10\n",
      "   8.82111543e-11   6.36113795e-11   5.16141714e-11   3.94793702e-11\n",
      "   1.16681410e-11   9.85221560e-12   8.40980540e-12   7.38590219e-12\n",
      "   4.69433776e-12   3.32439313e-12   1.07664609e-12   1.06138161e-12\n",
      "   9.02224979e-13   7.48452124e-13   5.20763273e-13   4.51526580e-13\n",
      "   4.30853083e-13   3.96788678e-13   3.65696932e-13   3.27063958e-13\n",
      "   3.12319983e-13   3.01656691e-13   2.91877136e-13   2.64279060e-13\n",
      "   2.50361190e-13   2.40612012e-13   2.33057995e-13   2.19296480e-13]\n",
      "33 ) Explained Ratio:  [  9.99999727e-01   2.71874246e-07   9.34362793e-10   1.51257589e-10\n",
      "   8.82111543e-11   6.36113795e-11   5.16141714e-11   3.94793702e-11\n",
      "   1.16681410e-11   9.85221560e-12   8.40980540e-12   7.38590219e-12\n",
      "   4.69433776e-12   3.32439313e-12   1.07664609e-12   1.06138161e-12\n",
      "   9.02224979e-13   7.48452124e-13   5.20763273e-13   4.51526580e-13\n",
      "   4.30853083e-13   3.96788678e-13   3.65696932e-13   3.27063958e-13\n",
      "   3.12319983e-13   3.01656691e-13   2.91877136e-13   2.64279060e-13\n",
      "   2.50361190e-13   2.40612012e-13   2.33057995e-13   2.19296480e-13\n",
      "   1.98452066e-13]\n",
      "34 ) Explained Ratio:  [  9.99999727e-01   2.71874246e-07   9.34362793e-10   1.51257589e-10\n",
      "   8.82111543e-11   6.36113795e-11   5.16141714e-11   3.94793702e-11\n",
      "   1.16681410e-11   9.85221560e-12   8.40980540e-12   7.38590219e-12\n",
      "   4.69433776e-12   3.32439313e-12   1.07664609e-12   1.06138161e-12\n",
      "   9.02224979e-13   7.48452124e-13   5.20763273e-13   4.51526580e-13\n",
      "   4.30853083e-13   3.96788678e-13   3.65696932e-13   3.27063958e-13\n",
      "   3.12319983e-13   3.01656691e-13   2.91877136e-13   2.64279060e-13\n",
      "   2.50361190e-13   2.40612012e-13   2.33057995e-13   2.19296480e-13\n",
      "   1.98452066e-13   1.85394078e-13]\n",
      "35 ) Explained Ratio:  [  9.99999727e-01   2.71874246e-07   9.34362793e-10   1.51257589e-10\n",
      "   8.82111543e-11   6.36113795e-11   5.16141714e-11   3.94793702e-11\n",
      "   1.16681410e-11   9.85221560e-12   8.40980540e-12   7.38590219e-12\n",
      "   4.69433776e-12   3.32439313e-12   1.07664609e-12   1.06138161e-12\n",
      "   9.02224979e-13   7.48452124e-13   5.20763273e-13   4.51526580e-13\n",
      "   4.30853083e-13   3.96788678e-13   3.65696932e-13   3.27063958e-13\n",
      "   3.12319983e-13   3.01656691e-13   2.91877136e-13   2.64279060e-13\n",
      "   2.50361190e-13   2.40612012e-13   2.33057995e-13   2.19296480e-13\n",
      "   1.98452066e-13   1.85394078e-13   1.79118031e-13]\n",
      "36 ) Explained Ratio:  [  9.99999727e-01   2.71874246e-07   9.34362793e-10   1.51257589e-10\n",
      "   8.82111543e-11   6.36113795e-11   5.16141714e-11   3.94793702e-11\n",
      "   1.16681410e-11   9.85221560e-12   8.40980540e-12   7.38590219e-12\n",
      "   4.69433776e-12   3.32439313e-12   1.07664609e-12   1.06138161e-12\n",
      "   9.02224979e-13   7.48452124e-13   5.20763273e-13   4.51526580e-13\n",
      "   4.30853083e-13   3.96788678e-13   3.65696932e-13   3.27063958e-13\n",
      "   3.12319983e-13   3.01656691e-13   2.91877136e-13   2.64279060e-13\n",
      "   2.50361190e-13   2.40612012e-13   2.33057995e-13   2.19296480e-13\n",
      "   1.98452066e-13   1.85394078e-13   1.79118031e-13   1.58183196e-13]\n",
      "37 ) Explained Ratio:  [  9.99999727e-01   2.71874246e-07   9.34362793e-10   1.51257589e-10\n",
      "   8.82111543e-11   6.36113795e-11   5.16141714e-11   3.94793702e-11\n",
      "   1.16681410e-11   9.85221560e-12   8.40980540e-12   7.38590219e-12\n",
      "   4.69433776e-12   3.32439313e-12   1.07664609e-12   1.06138161e-12\n",
      "   9.02224979e-13   7.48452124e-13   5.20763273e-13   4.51526580e-13\n",
      "   4.30853083e-13   3.96788678e-13   3.65696932e-13   3.27063958e-13\n",
      "   3.12319983e-13   3.01656691e-13   2.91877136e-13   2.64279060e-13\n",
      "   2.50361190e-13   2.40612012e-13   2.33057995e-13   2.19296480e-13\n",
      "   1.98452066e-13   1.85394078e-13   1.79118031e-13   1.58183196e-13\n",
      "   1.44905367e-13]\n",
      "38 ) Explained Ratio:  [  9.99999727e-01   2.71874246e-07   9.34362793e-10   1.51257589e-10\n",
      "   8.82111543e-11   6.36113795e-11   5.16141714e-11   3.94793702e-11\n",
      "   1.16681410e-11   9.85221560e-12   8.40980540e-12   7.38590219e-12\n",
      "   4.69433776e-12   3.32439313e-12   1.07664609e-12   1.06138161e-12\n",
      "   9.02224979e-13   7.48452124e-13   5.20763273e-13   4.51526580e-13\n",
      "   4.30853083e-13   3.96788678e-13   3.65696932e-13   3.27063958e-13\n",
      "   3.12319983e-13   3.01656691e-13   2.91877136e-13   2.64279060e-13\n",
      "   2.50361190e-13   2.40612012e-13   2.33057995e-13   2.19296480e-13\n",
      "   1.98452066e-13   1.85394078e-13   1.79118031e-13   1.58183196e-13\n",
      "   1.44905367e-13   1.34771752e-13]\n",
      "39 ) Explained Ratio:  [  9.99999727e-01   2.71874246e-07   9.34362793e-10   1.51257589e-10\n",
      "   8.82111543e-11   6.36113795e-11   5.16141714e-11   3.94793702e-11\n",
      "   1.16681410e-11   9.85221560e-12   8.40980540e-12   7.38590219e-12\n",
      "   4.69433776e-12   3.32439313e-12   1.07664609e-12   1.06138161e-12\n",
      "   9.02224979e-13   7.48452124e-13   5.20763273e-13   4.51526580e-13\n",
      "   4.30853083e-13   3.96788678e-13   3.65696932e-13   3.27063958e-13\n",
      "   3.12319983e-13   3.01656691e-13   2.91877136e-13   2.64279060e-13\n",
      "   2.50361190e-13   2.40612012e-13   2.33057995e-13   2.19296480e-13\n",
      "   1.98452066e-13   1.85394078e-13   1.79118031e-13   1.58183196e-13\n",
      "   1.44905367e-13   1.34771752e-13   1.26251438e-13]\n",
      "40 ) Explained Ratio:  [  9.99999727e-01   2.71874246e-07   9.34362793e-10   1.51257589e-10\n",
      "   8.82111543e-11   6.36113795e-11   5.16141714e-11   3.94793702e-11\n",
      "   1.16681410e-11   9.85221560e-12   8.40980540e-12   7.38590219e-12\n",
      "   4.69433776e-12   3.32439313e-12   1.07664609e-12   1.06138161e-12\n",
      "   9.02224979e-13   7.48452124e-13   5.20763273e-13   4.51526580e-13\n",
      "   4.30853083e-13   3.96788678e-13   3.65696932e-13   3.27063958e-13\n",
      "   3.12319983e-13   3.01656691e-13   2.91877136e-13   2.64279060e-13\n",
      "   2.50361190e-13   2.40612012e-13   2.33057995e-13   2.19296480e-13\n",
      "   1.98452066e-13   1.85394078e-13   1.79118031e-13   1.58183196e-13\n",
      "   1.44905367e-13   1.34771752e-13   1.26251438e-13   1.22816513e-13]\n",
      "41 ) Explained Ratio:  [  9.99999727e-01   2.71874246e-07   9.34362793e-10   1.51257589e-10\n",
      "   8.82111543e-11   6.36113795e-11   5.16141714e-11   3.94793702e-11\n",
      "   1.16681410e-11   9.85221560e-12   8.40980540e-12   7.38590219e-12\n",
      "   4.69433776e-12   3.32439313e-12   1.07664609e-12   1.06138161e-12\n",
      "   9.02224979e-13   7.48452124e-13   5.20763273e-13   4.51526580e-13\n",
      "   4.30853083e-13   3.96788678e-13   3.65696932e-13   3.27063958e-13\n",
      "   3.12319983e-13   3.01656691e-13   2.91877136e-13   2.64279060e-13\n",
      "   2.50361190e-13   2.40612012e-13   2.33057995e-13   2.19296480e-13\n",
      "   1.98452066e-13   1.85394078e-13   1.79118031e-13   1.58183196e-13\n",
      "   1.44905367e-13   1.34771752e-13   1.26251438e-13   1.22816513e-13\n",
      "   1.14205437e-13]\n",
      "42 ) Explained Ratio:  [  9.99999727e-01   2.71874246e-07   9.34362793e-10   1.51257589e-10\n",
      "   8.82111543e-11   6.36113795e-11   5.16141714e-11   3.94793702e-11\n",
      "   1.16681410e-11   9.85221560e-12   8.40980540e-12   7.38590219e-12\n",
      "   4.69433776e-12   3.32439313e-12   1.07664609e-12   1.06138161e-12\n",
      "   9.02224979e-13   7.48452124e-13   5.20763273e-13   4.51526580e-13\n",
      "   4.30853083e-13   3.96788678e-13   3.65696932e-13   3.27063958e-13\n",
      "   3.12319983e-13   3.01656691e-13   2.91877136e-13   2.64279060e-13\n",
      "   2.50361190e-13   2.40612012e-13   2.33057995e-13   2.19296480e-13\n",
      "   1.98452066e-13   1.85394078e-13   1.79118031e-13   1.58183196e-13\n",
      "   1.44905367e-13   1.34771752e-13   1.26251438e-13   1.22816513e-13\n",
      "   1.14205437e-13   1.09405109e-13]\n",
      "43 ) Explained Ratio:  [  9.99999727e-01   2.71874246e-07   9.34362793e-10   1.51257589e-10\n",
      "   8.82111543e-11   6.36113795e-11   5.16141714e-11   3.94793702e-11\n",
      "   1.16681410e-11   9.85221560e-12   8.40980540e-12   7.38590219e-12\n",
      "   4.69433776e-12   3.32439313e-12   1.07664609e-12   1.06138161e-12\n",
      "   9.02224979e-13   7.48452124e-13   5.20763273e-13   4.51526580e-13\n",
      "   4.30853083e-13   3.96788678e-13   3.65696932e-13   3.27063958e-13\n",
      "   3.12319983e-13   3.01656691e-13   2.91877136e-13   2.64279060e-13\n",
      "   2.50361190e-13   2.40612012e-13   2.33057995e-13   2.19296480e-13\n",
      "   1.98452066e-13   1.85394078e-13   1.79118031e-13   1.58183196e-13\n",
      "   1.44905367e-13   1.34771752e-13   1.26251438e-13   1.22816513e-13\n",
      "   1.14205437e-13   1.09405109e-13   1.05543994e-13]\n",
      "44 ) Explained Ratio:  [  9.99999727e-01   2.71874246e-07   9.34362793e-10   1.51257589e-10\n",
      "   8.82111543e-11   6.36113795e-11   5.16141714e-11   3.94793702e-11\n",
      "   1.16681410e-11   9.85221560e-12   8.40980540e-12   7.38590219e-12\n",
      "   4.69433776e-12   3.32439313e-12   1.07664609e-12   1.06138161e-12\n",
      "   9.02224979e-13   7.48452124e-13   5.20763273e-13   4.51526580e-13\n",
      "   4.30853083e-13   3.96788678e-13   3.65696932e-13   3.27063958e-13\n",
      "   3.12319983e-13   3.01656691e-13   2.91877136e-13   2.64279060e-13\n",
      "   2.50361190e-13   2.40612012e-13   2.33057995e-13   2.19296480e-13\n",
      "   1.98452066e-13   1.85394078e-13   1.79118031e-13   1.58183196e-13\n",
      "   1.44905367e-13   1.34771752e-13   1.26251438e-13   1.22816513e-13\n",
      "   1.14205437e-13   1.09405109e-13   1.05543994e-13   1.00445005e-13]\n",
      "45 ) Explained Ratio:  [  9.99999727e-01   2.71874246e-07   9.34362793e-10   1.51257589e-10\n",
      "   8.82111543e-11   6.36113795e-11   5.16141714e-11   3.94793702e-11\n",
      "   1.16681410e-11   9.85221560e-12   8.40980540e-12   7.38590219e-12\n",
      "   4.69433776e-12   3.32439313e-12   1.07664609e-12   1.06138161e-12\n",
      "   9.02224979e-13   7.48452124e-13   5.20763273e-13   4.51526580e-13\n",
      "   4.30853083e-13   3.96788678e-13   3.65696932e-13   3.27063958e-13\n",
      "   3.12319983e-13   3.01656691e-13   2.91877136e-13   2.64279060e-13\n",
      "   2.50361190e-13   2.40612012e-13   2.33057995e-13   2.19296480e-13\n",
      "   1.98452066e-13   1.85394078e-13   1.79118031e-13   1.58183196e-13\n",
      "   1.44905367e-13   1.34771752e-13   1.26251438e-13   1.22816513e-13\n",
      "   1.14205437e-13   1.09405109e-13   1.05543994e-13   1.00445005e-13\n",
      "   9.81121230e-14]\n",
      "46 ) Explained Ratio:  [  9.99999727e-01   2.71874246e-07   9.34362793e-10   1.51257589e-10\n",
      "   8.82111543e-11   6.36113795e-11   5.16141714e-11   3.94793702e-11\n",
      "   1.16681410e-11   9.85221560e-12   8.40980540e-12   7.38590219e-12\n",
      "   4.69433776e-12   3.32439313e-12   1.07664609e-12   1.06138161e-12\n",
      "   9.02224979e-13   7.48452124e-13   5.20763273e-13   4.51526580e-13\n",
      "   4.30853083e-13   3.96788678e-13   3.65696932e-13   3.27063958e-13\n",
      "   3.12319983e-13   3.01656691e-13   2.91877136e-13   2.64279060e-13\n",
      "   2.50361190e-13   2.40612012e-13   2.33057995e-13   2.19296480e-13\n",
      "   1.98452066e-13   1.85394078e-13   1.79118031e-13   1.58183196e-13\n",
      "   1.44905367e-13   1.34771752e-13   1.26251438e-13   1.22816513e-13\n",
      "   1.14205437e-13   1.09405109e-13   1.05543994e-13   1.00445005e-13\n",
      "   9.81121230e-14   9.51684667e-14]\n",
      "47 ) Explained Ratio:  [  9.99999727e-01   2.71874246e-07   9.34362793e-10   1.51257589e-10\n",
      "   8.82111543e-11   6.36113795e-11   5.16141714e-11   3.94793702e-11\n",
      "   1.16681410e-11   9.85221560e-12   8.40980540e-12   7.38590219e-12\n",
      "   4.69433776e-12   3.32439313e-12   1.07664609e-12   1.06138161e-12\n",
      "   9.02224979e-13   7.48452124e-13   5.20763273e-13   4.51526580e-13\n",
      "   4.30853083e-13   3.96788678e-13   3.65696932e-13   3.27063958e-13\n",
      "   3.12319983e-13   3.01656691e-13   2.91877136e-13   2.64279060e-13\n",
      "   2.50361190e-13   2.40612012e-13   2.33057995e-13   2.19296480e-13\n",
      "   1.98452066e-13   1.85394078e-13   1.79118031e-13   1.58183196e-13\n",
      "   1.44905367e-13   1.34771752e-13   1.26251438e-13   1.22816513e-13\n",
      "   1.14205437e-13   1.09405109e-13   1.05543994e-13   1.00445005e-13\n",
      "   9.81121230e-14   9.51684667e-14   9.24062312e-14]\n",
      "48 ) Explained Ratio:  [  9.99999727e-01   2.71874246e-07   9.34362793e-10   1.51257589e-10\n",
      "   8.82111543e-11   6.36113795e-11   5.16141714e-11   3.94793702e-11\n",
      "   1.16681410e-11   9.85221560e-12   8.40980540e-12   7.38590219e-12\n",
      "   4.69433776e-12   3.32439313e-12   1.07664609e-12   1.06138161e-12\n",
      "   9.02224979e-13   7.48452124e-13   5.20763273e-13   4.51526580e-13\n",
      "   4.30853083e-13   3.96788678e-13   3.65696932e-13   3.27063958e-13\n",
      "   3.12319983e-13   3.01656691e-13   2.91877136e-13   2.64279060e-13\n",
      "   2.50361190e-13   2.40612012e-13   2.33057995e-13   2.19296480e-13\n",
      "   1.98452066e-13   1.85394078e-13   1.79118031e-13   1.58183196e-13\n",
      "   1.44905367e-13   1.34771752e-13   1.26251438e-13   1.22816513e-13\n",
      "   1.14205437e-13   1.09405109e-13   1.05543994e-13   1.00445005e-13\n",
      "   9.81121230e-14   9.51684667e-14   9.24062312e-14   9.15338267e-14]\n",
      "49 ) Explained Ratio:  [  9.99999727e-01   2.71874246e-07   9.34362793e-10   1.51257589e-10\n",
      "   8.82111543e-11   6.36113795e-11   5.16141714e-11   3.94793702e-11\n",
      "   1.16681410e-11   9.85221560e-12   8.40980540e-12   7.38590219e-12\n",
      "   4.69433776e-12   3.32439313e-12   1.07664609e-12   1.06138161e-12\n",
      "   9.02224979e-13   7.48452124e-13   5.20763273e-13   4.51526580e-13\n",
      "   4.30853083e-13   3.96788678e-13   3.65696932e-13   3.27063958e-13\n",
      "   3.12319983e-13   3.01656691e-13   2.91877136e-13   2.64279060e-13\n",
      "   2.50361190e-13   2.40612012e-13   2.33057995e-13   2.19296480e-13\n",
      "   1.98452066e-13   1.85394078e-13   1.79118031e-13   1.58183196e-13\n",
      "   1.44905367e-13   1.34771752e-13   1.26251438e-13   1.22816513e-13\n",
      "   1.14205437e-13   1.09405109e-13   1.05543994e-13   1.00445005e-13\n",
      "   9.81121230e-14   9.51684667e-14   9.24062312e-14   9.15338267e-14\n",
      "   8.61805525e-14]\n",
      "50 ) Explained Ratio:  [  9.99999727e-01   2.71874246e-07   9.34362793e-10   1.51257589e-10\n",
      "   8.82111543e-11   6.36113795e-11   5.16141714e-11   3.94793702e-11\n",
      "   1.16681410e-11   9.85221560e-12   8.40980540e-12   7.38590219e-12\n",
      "   4.69433776e-12   3.32439313e-12   1.07664609e-12   1.06138161e-12\n",
      "   9.02224979e-13   7.48452124e-13   5.20763273e-13   4.51526580e-13\n",
      "   4.30853083e-13   3.96788678e-13   3.65696932e-13   3.27063958e-13\n",
      "   3.12319983e-13   3.01656691e-13   2.91877136e-13   2.64279060e-13\n",
      "   2.50361190e-13   2.40612012e-13   2.33057995e-13   2.19296480e-13\n",
      "   1.98452066e-13   1.85394078e-13   1.79118031e-13   1.58183196e-13\n",
      "   1.44905367e-13   1.34771752e-13   1.26251438e-13   1.22816513e-13\n",
      "   1.14205437e-13   1.09405109e-13   1.05543994e-13   1.00445005e-13\n",
      "   9.81121230e-14   9.51684667e-14   9.24062312e-14   9.15338267e-14\n",
      "   8.61805525e-14   8.11143063e-14]\n",
      "51 ) Explained Ratio:  [  9.99999727e-01   2.71874246e-07   9.34362793e-10   1.51257589e-10\n",
      "   8.82111543e-11   6.36113795e-11   5.16141714e-11   3.94793702e-11\n",
      "   1.16681410e-11   9.85221560e-12   8.40980540e-12   7.38590219e-12\n",
      "   4.69433776e-12   3.32439313e-12   1.07664609e-12   1.06138161e-12\n",
      "   9.02224979e-13   7.48452124e-13   5.20763273e-13   4.51526580e-13\n",
      "   4.30853083e-13   3.96788678e-13   3.65696932e-13   3.27063958e-13\n",
      "   3.12319983e-13   3.01656691e-13   2.91877136e-13   2.64279060e-13\n",
      "   2.50361190e-13   2.40612012e-13   2.33057995e-13   2.19296480e-13\n",
      "   1.98452066e-13   1.85394078e-13   1.79118031e-13   1.58183196e-13\n",
      "   1.44905367e-13   1.34771752e-13   1.26251438e-13   1.22816513e-13\n",
      "   1.14205437e-13   1.09405109e-13   1.05543994e-13   1.00445005e-13\n",
      "   9.81121230e-14   9.51684667e-14   9.24062312e-14   9.15338267e-14\n",
      "   8.61805525e-14   8.11143063e-14   7.85471558e-14]\n",
      "52 ) Explained Ratio:  [  9.99999727e-01   2.71874246e-07   9.34362793e-10   1.51257589e-10\n",
      "   8.82111543e-11   6.36113795e-11   5.16141714e-11   3.94793702e-11\n",
      "   1.16681410e-11   9.85221560e-12   8.40980540e-12   7.38590219e-12\n",
      "   4.69433776e-12   3.32439313e-12   1.07664609e-12   1.06138161e-12\n",
      "   9.02224979e-13   7.48452124e-13   5.20763273e-13   4.51526580e-13\n",
      "   4.30853083e-13   3.96788678e-13   3.65696932e-13   3.27063958e-13\n",
      "   3.12319983e-13   3.01656691e-13   2.91877136e-13   2.64279060e-13\n",
      "   2.50361190e-13   2.40612012e-13   2.33057995e-13   2.19296480e-13\n",
      "   1.98452066e-13   1.85394078e-13   1.79118031e-13   1.58183196e-13\n",
      "   1.44905367e-13   1.34771752e-13   1.26251438e-13   1.22816513e-13\n",
      "   1.14205437e-13   1.09405109e-13   1.05543994e-13   1.00445005e-13\n",
      "   9.81121230e-14   9.51684667e-14   9.24062312e-14   9.15338267e-14\n",
      "   8.61805525e-14   8.11143063e-14   7.85471558e-14   7.68300886e-14]\n",
      "53 ) Explained Ratio:  [  9.99999727e-01   2.71874246e-07   9.34362793e-10   1.51257589e-10\n",
      "   8.82111543e-11   6.36113795e-11   5.16141714e-11   3.94793702e-11\n",
      "   1.16681410e-11   9.85221560e-12   8.40980540e-12   7.38590219e-12\n",
      "   4.69433776e-12   3.32439313e-12   1.07664609e-12   1.06138161e-12\n",
      "   9.02224979e-13   7.48452124e-13   5.20763273e-13   4.51526580e-13\n",
      "   4.30853083e-13   3.96788678e-13   3.65696932e-13   3.27063958e-13\n",
      "   3.12319983e-13   3.01656691e-13   2.91877136e-13   2.64279060e-13\n",
      "   2.50361190e-13   2.40612012e-13   2.33057995e-13   2.19296480e-13\n",
      "   1.98452066e-13   1.85394078e-13   1.79118031e-13   1.58183196e-13\n",
      "   1.44905367e-13   1.34771752e-13   1.26251438e-13   1.22816513e-13\n",
      "   1.14205437e-13   1.09405109e-13   1.05543994e-13   1.00445005e-13\n",
      "   9.81121230e-14   9.51684667e-14   9.24062312e-14   9.15338267e-14\n",
      "   8.61805525e-14   8.11143063e-14   7.85471558e-14   7.68300886e-14\n",
      "   7.00404254e-14]\n",
      "54 ) Explained Ratio:  [  9.99999727e-01   2.71874246e-07   9.34362793e-10   1.51257589e-10\n",
      "   8.82111543e-11   6.36113795e-11   5.16141714e-11   3.94793702e-11\n",
      "   1.16681410e-11   9.85221560e-12   8.40980540e-12   7.38590219e-12\n",
      "   4.69433776e-12   3.32439313e-12   1.07664609e-12   1.06138161e-12\n",
      "   9.02224979e-13   7.48452124e-13   5.20763273e-13   4.51526580e-13\n",
      "   4.30853083e-13   3.96788678e-13   3.65696932e-13   3.27063958e-13\n",
      "   3.12319983e-13   3.01656691e-13   2.91877136e-13   2.64279060e-13\n",
      "   2.50361190e-13   2.40612012e-13   2.33057995e-13   2.19296480e-13\n",
      "   1.98452066e-13   1.85394078e-13   1.79118031e-13   1.58183196e-13\n",
      "   1.44905367e-13   1.34771752e-13   1.26251438e-13   1.22816513e-13\n",
      "   1.14205437e-13   1.09405109e-13   1.05543994e-13   1.00445005e-13\n",
      "   9.81121230e-14   9.51684667e-14   9.24062312e-14   9.15338267e-14\n",
      "   8.61805525e-14   8.11143063e-14   7.85471558e-14   7.68300886e-14\n",
      "   7.00404254e-14   6.35794472e-14]\n",
      "55 ) Explained Ratio:  [  9.99999727e-01   2.71874246e-07   9.34362793e-10   1.51257589e-10\n",
      "   8.82111543e-11   6.36113795e-11   5.16141714e-11   3.94793702e-11\n",
      "   1.16681410e-11   9.85221560e-12   8.40980540e-12   7.38590219e-12\n",
      "   4.69433776e-12   3.32439313e-12   1.07664609e-12   1.06138161e-12\n",
      "   9.02224979e-13   7.48452124e-13   5.20763273e-13   4.51526580e-13\n",
      "   4.30853083e-13   3.96788678e-13   3.65696932e-13   3.27063958e-13\n",
      "   3.12319983e-13   3.01656691e-13   2.91877136e-13   2.64279060e-13\n",
      "   2.50361190e-13   2.40612012e-13   2.33057995e-13   2.19296480e-13\n",
      "   1.98452066e-13   1.85394078e-13   1.79118031e-13   1.58183196e-13\n",
      "   1.44905367e-13   1.34771752e-13   1.26251438e-13   1.22816513e-13\n",
      "   1.14205437e-13   1.09405109e-13   1.05543994e-13   1.00445005e-13\n",
      "   9.81121230e-14   9.51684667e-14   9.24062312e-14   9.15338267e-14\n",
      "   8.61805525e-14   8.11143063e-14   7.85471558e-14   7.68300886e-14\n",
      "   7.00404254e-14   6.35794472e-14   5.81832495e-14]\n",
      "56 ) Explained Ratio:  [  9.99999727e-01   2.71874246e-07   9.34362793e-10   1.51257589e-10\n",
      "   8.82111543e-11   6.36113795e-11   5.16141714e-11   3.94793702e-11\n",
      "   1.16681410e-11   9.85221560e-12   8.40980540e-12   7.38590219e-12\n",
      "   4.69433776e-12   3.32439313e-12   1.07664609e-12   1.06138161e-12\n",
      "   9.02224979e-13   7.48452124e-13   5.20763273e-13   4.51526580e-13\n",
      "   4.30853083e-13   3.96788678e-13   3.65696932e-13   3.27063958e-13\n",
      "   3.12319983e-13   3.01656691e-13   2.91877136e-13   2.64279060e-13\n",
      "   2.50361190e-13   2.40612012e-13   2.33057995e-13   2.19296480e-13\n",
      "   1.98452066e-13   1.85394078e-13   1.79118031e-13   1.58183196e-13\n",
      "   1.44905367e-13   1.34771752e-13   1.26251438e-13   1.22816513e-13\n",
      "   1.14205437e-13   1.09405109e-13   1.05543994e-13   1.00445005e-13\n",
      "   9.81121230e-14   9.51684667e-14   9.24062312e-14   9.15338267e-14\n",
      "   8.61805525e-14   8.11143063e-14   7.85471558e-14   7.68300886e-14\n",
      "   7.00404254e-14   6.35794472e-14   5.81832495e-14   5.54664529e-14]\n",
      "57 ) Explained Ratio:  [  9.99999727e-01   2.71874246e-07   9.34362793e-10   1.51257589e-10\n",
      "   8.82111543e-11   6.36113795e-11   5.16141714e-11   3.94793702e-11\n",
      "   1.16681410e-11   9.85221560e-12   8.40980540e-12   7.38590219e-12\n",
      "   4.69433776e-12   3.32439313e-12   1.07664609e-12   1.06138161e-12\n",
      "   9.02224979e-13   7.48452124e-13   5.20763273e-13   4.51526580e-13\n",
      "   4.30853083e-13   3.96788678e-13   3.65696932e-13   3.27063958e-13\n",
      "   3.12319983e-13   3.01656691e-13   2.91877136e-13   2.64279060e-13\n",
      "   2.50361190e-13   2.40612012e-13   2.33057995e-13   2.19296480e-13\n",
      "   1.98452066e-13   1.85394078e-13   1.79118031e-13   1.58183196e-13\n",
      "   1.44905367e-13   1.34771752e-13   1.26251438e-13   1.22816513e-13\n",
      "   1.14205437e-13   1.09405109e-13   1.05543994e-13   1.00445005e-13\n",
      "   9.81121230e-14   9.51684667e-14   9.24062312e-14   9.15338267e-14\n",
      "   8.61805525e-14   8.11143063e-14   7.85471558e-14   7.68300886e-14\n",
      "   7.00404254e-14   6.35794472e-14   5.81832495e-14   5.54664529e-14\n",
      "   5.23560947e-14]\n",
      "58 ) Explained Ratio:  [  9.99999727e-01   2.71874246e-07   9.34362793e-10   1.51257589e-10\n",
      "   8.82111543e-11   6.36113795e-11   5.16141714e-11   3.94793702e-11\n",
      "   1.16681410e-11   9.85221560e-12   8.40980540e-12   7.38590219e-12\n",
      "   4.69433776e-12   3.32439313e-12   1.07664609e-12   1.06138161e-12\n",
      "   9.02224979e-13   7.48452124e-13   5.20763273e-13   4.51526580e-13\n",
      "   4.30853083e-13   3.96788678e-13   3.65696932e-13   3.27063958e-13\n",
      "   3.12319983e-13   3.01656691e-13   2.91877136e-13   2.64279060e-13\n",
      "   2.50361190e-13   2.40612012e-13   2.33057995e-13   2.19296480e-13\n",
      "   1.98452066e-13   1.85394078e-13   1.79118031e-13   1.58183196e-13\n",
      "   1.44905367e-13   1.34771752e-13   1.26251438e-13   1.22816513e-13\n",
      "   1.14205437e-13   1.09405109e-13   1.05543994e-13   1.00445005e-13\n",
      "   9.81121230e-14   9.51684667e-14   9.24062312e-14   9.15338267e-14\n",
      "   8.61805525e-14   8.11143063e-14   7.85471558e-14   7.68300886e-14\n",
      "   7.00404254e-14   6.35794472e-14   5.81832495e-14   5.54664529e-14\n",
      "   5.23560947e-14   4.28537575e-14]\n",
      "59 ) Explained Ratio:  [  9.99999727e-01   2.71874246e-07   9.34362793e-10   1.51257589e-10\n",
      "   8.82111543e-11   6.36113795e-11   5.16141714e-11   3.94793702e-11\n",
      "   1.16681410e-11   9.85221560e-12   8.40980540e-12   7.38590219e-12\n",
      "   4.69433776e-12   3.32439313e-12   1.07664609e-12   1.06138161e-12\n",
      "   9.02224979e-13   7.48452124e-13   5.20763273e-13   4.51526580e-13\n",
      "   4.30853083e-13   3.96788678e-13   3.65696932e-13   3.27063958e-13\n",
      "   3.12319983e-13   3.01656691e-13   2.91877136e-13   2.64279060e-13\n",
      "   2.50361190e-13   2.40612012e-13   2.33057995e-13   2.19296480e-13\n",
      "   1.98452066e-13   1.85394078e-13   1.79118031e-13   1.58183196e-13\n",
      "   1.44905367e-13   1.34771752e-13   1.26251438e-13   1.22816513e-13\n",
      "   1.14205437e-13   1.09405109e-13   1.05543994e-13   1.00445005e-13\n",
      "   9.81121230e-14   9.51684667e-14   9.24062312e-14   9.15338267e-14\n",
      "   8.61805525e-14   8.11143063e-14   7.85471558e-14   7.68300886e-14\n",
      "   7.00404254e-14   6.35794472e-14   5.81832495e-14   5.54664529e-14\n",
      "   5.23560947e-14   4.28537575e-14   4.00939220e-14]\n",
      "60 ) Explained Ratio:  [  9.99999727e-01   2.71874246e-07   9.34362793e-10   1.51257589e-10\n",
      "   8.82111543e-11   6.36113795e-11   5.16141714e-11   3.94793702e-11\n",
      "   1.16681410e-11   9.85221560e-12   8.40980540e-12   7.38590219e-12\n",
      "   4.69433776e-12   3.32439313e-12   1.07664609e-12   1.06138161e-12\n",
      "   9.02224979e-13   7.48452124e-13   5.20763273e-13   4.51526580e-13\n",
      "   4.30853083e-13   3.96788678e-13   3.65696932e-13   3.27063958e-13\n",
      "   3.12319983e-13   3.01656691e-13   2.91877136e-13   2.64279060e-13\n",
      "   2.50361190e-13   2.40612012e-13   2.33057995e-13   2.19296480e-13\n",
      "   1.98452066e-13   1.85394078e-13   1.79118031e-13   1.58183196e-13\n",
      "   1.44905367e-13   1.34771752e-13   1.26251438e-13   1.22816513e-13\n",
      "   1.14205437e-13   1.09405109e-13   1.05543994e-13   1.00445005e-13\n",
      "   9.81121230e-14   9.51684667e-14   9.24062312e-14   9.15338267e-14\n",
      "   8.61805525e-14   8.11143063e-14   7.85471558e-14   7.68300886e-14\n",
      "   7.00404254e-14   6.35794472e-14   5.81832495e-14   5.54664529e-14\n",
      "   5.23560947e-14   4.28537575e-14   4.00939220e-14   3.58054836e-14]\n",
      "61 ) Explained Ratio:  [  9.99999727e-01   2.71874246e-07   9.34362793e-10   1.51257589e-10\n",
      "   8.82111543e-11   6.36113795e-11   5.16141714e-11   3.94793702e-11\n",
      "   1.16681410e-11   9.85221560e-12   8.40980540e-12   7.38590219e-12\n",
      "   4.69433776e-12   3.32439313e-12   1.07664609e-12   1.06138161e-12\n",
      "   9.02224979e-13   7.48452124e-13   5.20763273e-13   4.51526580e-13\n",
      "   4.30853083e-13   3.96788678e-13   3.65696932e-13   3.27063958e-13\n",
      "   3.12319983e-13   3.01656691e-13   2.91877136e-13   2.64279060e-13\n",
      "   2.50361190e-13   2.40612012e-13   2.33057995e-13   2.19296480e-13\n",
      "   1.98452066e-13   1.85394078e-13   1.79118031e-13   1.58183196e-13\n",
      "   1.44905367e-13   1.34771752e-13   1.26251438e-13   1.22816513e-13\n",
      "   1.14205437e-13   1.09405109e-13   1.05543994e-13   1.00445005e-13\n",
      "   9.81121230e-14   9.51684667e-14   9.24062312e-14   9.15338267e-14\n",
      "   8.61805525e-14   8.11143063e-14   7.85471558e-14   7.68300886e-14\n",
      "   7.00404254e-14   6.35794472e-14   5.81832495e-14   5.54664529e-14\n",
      "   5.23560947e-14   4.28537575e-14   4.00939220e-14   3.58054836e-14\n",
      "   3.43207583e-14]\n",
      "62 ) Explained Ratio:  [  9.99999727e-01   2.71874246e-07   9.34362793e-10   1.51257589e-10\n",
      "   8.82111543e-11   6.36113795e-11   5.16141714e-11   3.94793702e-11\n",
      "   1.16681410e-11   9.85221560e-12   8.40980540e-12   7.38590219e-12\n",
      "   4.69433776e-12   3.32439313e-12   1.07664609e-12   1.06138161e-12\n",
      "   9.02224979e-13   7.48452124e-13   5.20763273e-13   4.51526580e-13\n",
      "   4.30853083e-13   3.96788678e-13   3.65696932e-13   3.27063958e-13\n",
      "   3.12319983e-13   3.01656691e-13   2.91877136e-13   2.64279060e-13\n",
      "   2.50361190e-13   2.40612012e-13   2.33057995e-13   2.19296480e-13\n",
      "   1.98452066e-13   1.85394078e-13   1.79118031e-13   1.58183196e-13\n",
      "   1.44905367e-13   1.34771752e-13   1.26251438e-13   1.22816513e-13\n",
      "   1.14205437e-13   1.09405109e-13   1.05543994e-13   1.00445005e-13\n",
      "   9.81121230e-14   9.51684667e-14   9.24062312e-14   9.15338267e-14\n",
      "   8.61805525e-14   8.11143063e-14   7.85471558e-14   7.68300886e-14\n",
      "   7.00404254e-14   6.35794472e-14   5.81832495e-14   5.54664529e-14\n",
      "   5.23560947e-14   4.28537575e-14   4.00939220e-14   3.58054836e-14\n",
      "   3.43207583e-14   3.08636088e-14]\n",
      "63 ) Explained Ratio:  [  9.99999727e-01   2.71874246e-07   9.34362793e-10   1.51257589e-10\n",
      "   8.82111543e-11   6.36113795e-11   5.16141714e-11   3.94793702e-11\n",
      "   1.16681410e-11   9.85221560e-12   8.40980540e-12   7.38590219e-12\n",
      "   4.69433776e-12   3.32439313e-12   1.07664609e-12   1.06138161e-12\n",
      "   9.02224979e-13   7.48452124e-13   5.20763273e-13   4.51526580e-13\n",
      "   4.30853083e-13   3.96788678e-13   3.65696932e-13   3.27063958e-13\n",
      "   3.12319983e-13   3.01656691e-13   2.91877136e-13   2.64279060e-13\n",
      "   2.50361190e-13   2.40612012e-13   2.33057995e-13   2.19296480e-13\n",
      "   1.98452066e-13   1.85394078e-13   1.79118031e-13   1.58183196e-13\n",
      "   1.44905367e-13   1.34771752e-13   1.26251438e-13   1.22816513e-13\n",
      "   1.14205437e-13   1.09405109e-13   1.05543994e-13   1.00445005e-13\n",
      "   9.81121230e-14   9.51684667e-14   9.24062312e-14   9.15338267e-14\n",
      "   8.61805525e-14   8.11143063e-14   7.85471558e-14   7.68300886e-14\n",
      "   7.00404254e-14   6.35794472e-14   5.81832495e-14   5.54664529e-14\n",
      "   5.23560947e-14   4.28537575e-14   4.00939220e-14   3.58054836e-14\n",
      "   3.43207583e-14   3.08636088e-14   2.97497753e-14]\n",
      "64 ) Explained Ratio:  [  9.99999727e-01   2.71874246e-07   9.34362793e-10   1.51257589e-10\n",
      "   8.82111543e-11   6.36113795e-11   5.16141714e-11   3.94793702e-11\n",
      "   1.16681410e-11   9.85221560e-12   8.40980540e-12   7.38590219e-12\n",
      "   4.69433776e-12   3.32439313e-12   1.07664609e-12   1.06138161e-12\n",
      "   9.02224979e-13   7.48452124e-13   5.20763273e-13   4.51526580e-13\n",
      "   4.30853083e-13   3.96788678e-13   3.65696932e-13   3.27063958e-13\n",
      "   3.12319983e-13   3.01656691e-13   2.91877136e-13   2.64279060e-13\n",
      "   2.50361190e-13   2.40612012e-13   2.33057995e-13   2.19296480e-13\n",
      "   1.98452066e-13   1.85394078e-13   1.79118031e-13   1.58183196e-13\n",
      "   1.44905367e-13   1.34771752e-13   1.26251438e-13   1.22816513e-13\n",
      "   1.14205437e-13   1.09405109e-13   1.05543994e-13   1.00445005e-13\n",
      "   9.81121230e-14   9.51684667e-14   9.24062312e-14   9.15338267e-14\n",
      "   8.61805525e-14   8.11143063e-14   7.85471558e-14   7.68300886e-14\n",
      "   7.00404254e-14   6.35794472e-14   5.81832495e-14   5.54664529e-14\n",
      "   5.23560947e-14   4.28537575e-14   4.00939220e-14   3.58054836e-14\n",
      "   3.43207583e-14   3.08636088e-14   2.97497753e-14   2.08489466e-14]\n",
      "65 ) Explained Ratio:  [  9.99999727e-01   2.71874246e-07   9.34362793e-10   1.51257589e-10\n",
      "   8.82111543e-11   6.36113795e-11   5.16141714e-11   3.94793702e-11\n",
      "   1.16681410e-11   9.85221560e-12   8.40980540e-12   7.38590219e-12\n",
      "   4.69433776e-12   3.32439313e-12   1.07664609e-12   1.06138161e-12\n",
      "   9.02224979e-13   7.48452124e-13   5.20763273e-13   4.51526580e-13\n",
      "   4.30853083e-13   3.96788678e-13   3.65696932e-13   3.27063958e-13\n",
      "   3.12319983e-13   3.01656691e-13   2.91877136e-13   2.64279060e-13\n",
      "   2.50361190e-13   2.40612012e-13   2.33057995e-13   2.19296480e-13\n",
      "   1.98452066e-13   1.85394078e-13   1.79118031e-13   1.58183196e-13\n",
      "   1.44905367e-13   1.34771752e-13   1.26251438e-13   1.22816513e-13\n",
      "   1.14205437e-13   1.09405109e-13   1.05543994e-13   1.00445005e-13\n",
      "   9.81121230e-14   9.51684667e-14   9.24062312e-14   9.15338267e-14\n",
      "   8.61805525e-14   8.11143063e-14   7.85471558e-14   7.68300886e-14\n",
      "   7.00404254e-14   6.35794472e-14   5.81832495e-14   5.54664529e-14\n",
      "   5.23560947e-14   4.28537575e-14   4.00939220e-14   3.58054836e-14\n",
      "   3.43207583e-14   3.08636088e-14   2.97497753e-14   2.08489466e-14\n",
      "   2.04599130e-14]\n",
      "66 ) Explained Ratio:  [  9.99999727e-01   2.71874246e-07   9.34362793e-10   1.51257589e-10\n",
      "   8.82111543e-11   6.36113795e-11   5.16141714e-11   3.94793702e-11\n",
      "   1.16681410e-11   9.85221560e-12   8.40980540e-12   7.38590219e-12\n",
      "   4.69433776e-12   3.32439313e-12   1.07664609e-12   1.06138161e-12\n",
      "   9.02224979e-13   7.48452124e-13   5.20763273e-13   4.51526580e-13\n",
      "   4.30853083e-13   3.96788678e-13   3.65696932e-13   3.27063958e-13\n",
      "   3.12319983e-13   3.01656691e-13   2.91877136e-13   2.64279060e-13\n",
      "   2.50361190e-13   2.40612012e-13   2.33057995e-13   2.19296480e-13\n",
      "   1.98452066e-13   1.85394078e-13   1.79118031e-13   1.58183196e-13\n",
      "   1.44905367e-13   1.34771752e-13   1.26251438e-13   1.22816513e-13\n",
      "   1.14205437e-13   1.09405109e-13   1.05543994e-13   1.00445005e-13\n",
      "   9.81121230e-14   9.51684667e-14   9.24062312e-14   9.15338267e-14\n",
      "   8.61805525e-14   8.11143063e-14   7.85471558e-14   7.68300886e-14\n",
      "   7.00404254e-14   6.35794472e-14   5.81832495e-14   5.54664529e-14\n",
      "   5.23560947e-14   4.28537575e-14   4.00939220e-14   3.58054836e-14\n",
      "   3.43207583e-14   3.08636088e-14   2.97497753e-14   2.08489466e-14\n",
      "   2.04599130e-14   1.61039721e-14]\n",
      "67 ) Explained Ratio:  [  9.99999727e-01   2.71874246e-07   9.34362793e-10   1.51257589e-10\n",
      "   8.82111543e-11   6.36113795e-11   5.16141714e-11   3.94793702e-11\n",
      "   1.16681410e-11   9.85221560e-12   8.40980540e-12   7.38590219e-12\n",
      "   4.69433776e-12   3.32439313e-12   1.07664609e-12   1.06138161e-12\n",
      "   9.02224979e-13   7.48452124e-13   5.20763273e-13   4.51526580e-13\n",
      "   4.30853083e-13   3.96788678e-13   3.65696932e-13   3.27063958e-13\n",
      "   3.12319983e-13   3.01656691e-13   2.91877136e-13   2.64279060e-13\n",
      "   2.50361190e-13   2.40612012e-13   2.33057995e-13   2.19296480e-13\n",
      "   1.98452066e-13   1.85394078e-13   1.79118031e-13   1.58183196e-13\n",
      "   1.44905367e-13   1.34771752e-13   1.26251438e-13   1.22816513e-13\n",
      "   1.14205437e-13   1.09405109e-13   1.05543994e-13   1.00445005e-13\n",
      "   9.81121230e-14   9.51684667e-14   9.24062312e-14   9.15338267e-14\n",
      "   8.61805525e-14   8.11143063e-14   7.85471558e-14   7.68300886e-14\n",
      "   7.00404254e-14   6.35794472e-14   5.81832495e-14   5.54664529e-14\n",
      "   5.23560947e-14   4.28537575e-14   4.00939220e-14   3.58054836e-14\n",
      "   3.43207583e-14   3.08636088e-14   2.97497753e-14   2.08489466e-14\n",
      "   2.04599130e-14   1.61039721e-14   1.52599088e-14]\n",
      "68 ) Explained Ratio:  [  9.99999727e-01   2.71874246e-07   9.34362793e-10   1.51257589e-10\n",
      "   8.82111543e-11   6.36113795e-11   5.16141714e-11   3.94793702e-11\n",
      "   1.16681410e-11   9.85221560e-12   8.40980540e-12   7.38590219e-12\n",
      "   4.69433776e-12   3.32439313e-12   1.07664609e-12   1.06138161e-12\n",
      "   9.02224979e-13   7.48452124e-13   5.20763273e-13   4.51526580e-13\n",
      "   4.30853083e-13   3.96788678e-13   3.65696932e-13   3.27063958e-13\n",
      "   3.12319983e-13   3.01656691e-13   2.91877136e-13   2.64279060e-13\n",
      "   2.50361190e-13   2.40612012e-13   2.33057995e-13   2.19296480e-13\n",
      "   1.98452066e-13   1.85394078e-13   1.79118031e-13   1.58183196e-13\n",
      "   1.44905367e-13   1.34771752e-13   1.26251438e-13   1.22816513e-13\n",
      "   1.14205437e-13   1.09405109e-13   1.05543994e-13   1.00445005e-13\n",
      "   9.81121230e-14   9.51684667e-14   9.24062312e-14   9.15338267e-14\n",
      "   8.61805525e-14   8.11143063e-14   7.85471558e-14   7.68300886e-14\n",
      "   7.00404254e-14   6.35794472e-14   5.81832495e-14   5.54664529e-14\n",
      "   5.23560947e-14   4.28537575e-14   4.00939220e-14   3.58054836e-14\n",
      "   3.43207583e-14   3.08636088e-14   2.97497753e-14   2.08489466e-14\n",
      "   2.04599130e-14   1.61039721e-14   1.52599088e-14   8.79071363e-15]\n",
      "69 ) Explained Ratio:  [  9.99999727e-01   2.71874246e-07   9.34362793e-10   1.51257589e-10\n",
      "   8.82111543e-11   6.36113795e-11   5.16141714e-11   3.94793702e-11\n",
      "   1.16681410e-11   9.85221560e-12   8.40980540e-12   7.38590219e-12\n",
      "   4.69433776e-12   3.32439313e-12   1.07664609e-12   1.06138161e-12\n",
      "   9.02224979e-13   7.48452124e-13   5.20763273e-13   4.51526580e-13\n",
      "   4.30853083e-13   3.96788678e-13   3.65696932e-13   3.27063958e-13\n",
      "   3.12319983e-13   3.01656691e-13   2.91877136e-13   2.64279060e-13\n",
      "   2.50361190e-13   2.40612012e-13   2.33057995e-13   2.19296480e-13\n",
      "   1.98452066e-13   1.85394078e-13   1.79118031e-13   1.58183196e-13\n",
      "   1.44905367e-13   1.34771752e-13   1.26251438e-13   1.22816513e-13\n",
      "   1.14205437e-13   1.09405109e-13   1.05543994e-13   1.00445005e-13\n",
      "   9.81121230e-14   9.51684667e-14   9.24062312e-14   9.15338267e-14\n",
      "   8.61805525e-14   8.11143063e-14   7.85471558e-14   7.68300886e-14\n",
      "   7.00404254e-14   6.35794472e-14   5.81832495e-14   5.54664529e-14\n",
      "   5.23560947e-14   4.28537575e-14   4.00939220e-14   3.58054836e-14\n",
      "   3.43207583e-14   3.08636088e-14   2.97497753e-14   2.08489466e-14\n",
      "   2.04599130e-14   1.61039721e-14   1.52599088e-14   8.79071363e-15\n",
      "   7.95450113e-15]\n",
      "70 ) Explained Ratio:  [  9.99999727e-01   2.71874246e-07   9.34362793e-10   1.51257589e-10\n",
      "   8.82111543e-11   6.36113795e-11   5.16141714e-11   3.94793702e-11\n",
      "   1.16681410e-11   9.85221560e-12   8.40980540e-12   7.38590219e-12\n",
      "   4.69433776e-12   3.32439313e-12   1.07664609e-12   1.06138161e-12\n",
      "   9.02224979e-13   7.48452124e-13   5.20763273e-13   4.51526580e-13\n",
      "   4.30853083e-13   3.96788678e-13   3.65696932e-13   3.27063958e-13\n",
      "   3.12319983e-13   3.01656691e-13   2.91877136e-13   2.64279060e-13\n",
      "   2.50361190e-13   2.40612012e-13   2.33057995e-13   2.19296480e-13\n",
      "   1.98452066e-13   1.85394078e-13   1.79118031e-13   1.58183196e-13\n",
      "   1.44905367e-13   1.34771752e-13   1.26251438e-13   1.22816513e-13\n",
      "   1.14205437e-13   1.09405109e-13   1.05543994e-13   1.00445005e-13\n",
      "   9.81121230e-14   9.51684667e-14   9.24062312e-14   9.15338267e-14\n",
      "   8.61805525e-14   8.11143063e-14   7.85471558e-14   7.68300886e-14\n",
      "   7.00404254e-14   6.35794472e-14   5.81832495e-14   5.54664529e-14\n",
      "   5.23560947e-14   4.28537575e-14   4.00939220e-14   3.58054836e-14\n",
      "   3.43207583e-14   3.08636088e-14   2.97497753e-14   2.08489466e-14\n",
      "   2.04599130e-14   1.61039721e-14   1.52599088e-14   8.79071363e-15\n",
      "   7.95450113e-15   6.30662237e-15]\n",
      "71 ) Explained Ratio:  [  9.99999727e-01   2.71874246e-07   9.34362793e-10   1.51257589e-10\n",
      "   8.82111543e-11   6.36113795e-11   5.16141714e-11   3.94793702e-11\n",
      "   1.16681410e-11   9.85221560e-12   8.40980540e-12   7.38590219e-12\n",
      "   4.69433776e-12   3.32439313e-12   1.07664609e-12   1.06138161e-12\n",
      "   9.02224979e-13   7.48452124e-13   5.20763273e-13   4.51526580e-13\n",
      "   4.30853083e-13   3.96788678e-13   3.65696932e-13   3.27063958e-13\n",
      "   3.12319983e-13   3.01656691e-13   2.91877136e-13   2.64279060e-13\n",
      "   2.50361190e-13   2.40612012e-13   2.33057995e-13   2.19296480e-13\n",
      "   1.98452066e-13   1.85394078e-13   1.79118031e-13   1.58183196e-13\n",
      "   1.44905367e-13   1.34771752e-13   1.26251438e-13   1.22816513e-13\n",
      "   1.14205437e-13   1.09405109e-13   1.05543994e-13   1.00445005e-13\n",
      "   9.81121230e-14   9.51684667e-14   9.24062312e-14   9.15338267e-14\n",
      "   8.61805525e-14   8.11143063e-14   7.85471558e-14   7.68300886e-14\n",
      "   7.00404254e-14   6.35794472e-14   5.81832495e-14   5.54664529e-14\n",
      "   5.23560947e-14   4.28537575e-14   4.00939220e-14   3.58054836e-14\n",
      "   3.43207583e-14   3.08636088e-14   2.97497753e-14   2.08489466e-14\n",
      "   2.04599130e-14   1.61039721e-14   1.52599088e-14   8.79071363e-15\n",
      "   7.95450113e-15   6.30662237e-15   6.08808521e-15]\n",
      "72 ) Explained Ratio:  [  9.99999727e-01   2.71874246e-07   9.34362793e-10   1.51257589e-10\n",
      "   8.82111543e-11   6.36113795e-11   5.16141714e-11   3.94793702e-11\n",
      "   1.16681410e-11   9.85221560e-12   8.40980540e-12   7.38590219e-12\n",
      "   4.69433776e-12   3.32439313e-12   1.07664609e-12   1.06138161e-12\n",
      "   9.02224979e-13   7.48452124e-13   5.20763273e-13   4.51526580e-13\n",
      "   4.30853083e-13   3.96788678e-13   3.65696932e-13   3.27063958e-13\n",
      "   3.12319983e-13   3.01656691e-13   2.91877136e-13   2.64279060e-13\n",
      "   2.50361190e-13   2.40612012e-13   2.33057995e-13   2.19296480e-13\n",
      "   1.98452066e-13   1.85394078e-13   1.79118031e-13   1.58183196e-13\n",
      "   1.44905367e-13   1.34771752e-13   1.26251438e-13   1.22816513e-13\n",
      "   1.14205437e-13   1.09405109e-13   1.05543994e-13   1.00445005e-13\n",
      "   9.81121230e-14   9.51684667e-14   9.24062312e-14   9.15338267e-14\n",
      "   8.61805525e-14   8.11143063e-14   7.85471558e-14   7.68300886e-14\n",
      "   7.00404254e-14   6.35794472e-14   5.81832495e-14   5.54664529e-14\n",
      "   5.23560947e-14   4.28537575e-14   4.00939220e-14   3.58054836e-14\n",
      "   3.43207583e-14   3.08636088e-14   2.97497753e-14   2.08489466e-14\n",
      "   2.04599130e-14   1.61039721e-14   1.52599088e-14   8.79071363e-15\n",
      "   7.95450113e-15   6.30662237e-15   6.08808521e-15   1.20388678e-15]\n",
      "73 ) Explained Ratio:  [  9.99999727e-01   2.71874246e-07   9.34362793e-10   1.51257589e-10\n",
      "   8.82111543e-11   6.36113795e-11   5.16141714e-11   3.94793702e-11\n",
      "   1.16681410e-11   9.85221560e-12   8.40980540e-12   7.38590219e-12\n",
      "   4.69433776e-12   3.32439313e-12   1.07664609e-12   1.06138161e-12\n",
      "   9.02224979e-13   7.48452124e-13   5.20763273e-13   4.51526580e-13\n",
      "   4.30853083e-13   3.96788678e-13   3.65696932e-13   3.27063958e-13\n",
      "   3.12319983e-13   3.01656691e-13   2.91877136e-13   2.64279060e-13\n",
      "   2.50361190e-13   2.40612012e-13   2.33057995e-13   2.19296480e-13\n",
      "   1.98452066e-13   1.85394078e-13   1.79118031e-13   1.58183196e-13\n",
      "   1.44905367e-13   1.34771752e-13   1.26251438e-13   1.22816513e-13\n",
      "   1.14205437e-13   1.09405109e-13   1.05543994e-13   1.00445005e-13\n",
      "   9.81121230e-14   9.51684667e-14   9.24062312e-14   9.15338267e-14\n",
      "   8.61805525e-14   8.11143063e-14   7.85471558e-14   7.68300886e-14\n",
      "   7.00404254e-14   6.35794472e-14   5.81832495e-14   5.54664529e-14\n",
      "   5.23560947e-14   4.28537575e-14   4.00939220e-14   3.58054836e-14\n",
      "   3.43207583e-14   3.08636088e-14   2.97497753e-14   2.08489466e-14\n",
      "   2.04599130e-14   1.61039721e-14   1.52599088e-14   8.79071363e-15\n",
      "   7.95450113e-15   6.30662237e-15   6.08808521e-15   1.20388678e-15\n",
      "   9.96924544e-33]\n",
      "74 ) Explained Ratio:  [  9.99999727e-01   2.71874246e-07   9.34362793e-10   1.51257589e-10\n",
      "   8.82111543e-11   6.36113795e-11   5.16141714e-11   3.94793702e-11\n",
      "   1.16681410e-11   9.85221560e-12   8.40980540e-12   7.38590219e-12\n",
      "   4.69433776e-12   3.32439313e-12   1.07664609e-12   1.06138161e-12\n",
      "   9.02224979e-13   7.48452124e-13   5.20763273e-13   4.51526580e-13\n",
      "   4.30853083e-13   3.96788678e-13   3.65696932e-13   3.27063958e-13\n",
      "   3.12319983e-13   3.01656691e-13   2.91877136e-13   2.64279060e-13\n",
      "   2.50361190e-13   2.40612012e-13   2.33057995e-13   2.19296480e-13\n",
      "   1.98452066e-13   1.85394078e-13   1.79118031e-13   1.58183196e-13\n",
      "   1.44905367e-13   1.34771752e-13   1.26251438e-13   1.22816513e-13\n",
      "   1.14205437e-13   1.09405109e-13   1.05543994e-13   1.00445005e-13\n",
      "   9.81121230e-14   9.51684667e-14   9.24062312e-14   9.15338267e-14\n",
      "   8.61805525e-14   8.11143063e-14   7.85471558e-14   7.68300886e-14\n",
      "   7.00404254e-14   6.35794472e-14   5.81832495e-14   5.54664529e-14\n",
      "   5.23560947e-14   4.28537575e-14   4.00939220e-14   3.58054836e-14\n",
      "   3.43207583e-14   3.08636088e-14   2.97497753e-14   2.08489466e-14\n",
      "   2.04599130e-14   1.61039721e-14   1.52599088e-14   8.79071363e-15\n",
      "   7.95450113e-15   6.30662237e-15   6.08808521e-15   1.20388678e-15\n",
      "   9.96924544e-33   9.96924544e-33]\n",
      "75 ) Explained Ratio:  [  9.99999727e-01   2.71874246e-07   9.34362793e-10   1.51257589e-10\n",
      "   8.82111543e-11   6.36113795e-11   5.16141714e-11   3.94793702e-11\n",
      "   1.16681410e-11   9.85221560e-12   8.40980540e-12   7.38590219e-12\n",
      "   4.69433776e-12   3.32439313e-12   1.07664609e-12   1.06138161e-12\n",
      "   9.02224979e-13   7.48452124e-13   5.20763273e-13   4.51526580e-13\n",
      "   4.30853083e-13   3.96788678e-13   3.65696932e-13   3.27063958e-13\n",
      "   3.12319983e-13   3.01656691e-13   2.91877136e-13   2.64279060e-13\n",
      "   2.50361190e-13   2.40612012e-13   2.33057995e-13   2.19296480e-13\n",
      "   1.98452066e-13   1.85394078e-13   1.79118031e-13   1.58183196e-13\n",
      "   1.44905367e-13   1.34771752e-13   1.26251438e-13   1.22816513e-13\n",
      "   1.14205437e-13   1.09405109e-13   1.05543994e-13   1.00445005e-13\n",
      "   9.81121230e-14   9.51684667e-14   9.24062312e-14   9.15338267e-14\n",
      "   8.61805525e-14   8.11143063e-14   7.85471558e-14   7.68300886e-14\n",
      "   7.00404254e-14   6.35794472e-14   5.81832495e-14   5.54664529e-14\n",
      "   5.23560947e-14   4.28537575e-14   4.00939220e-14   3.58054836e-14\n",
      "   3.43207583e-14   3.08636088e-14   2.97497753e-14   2.08489466e-14\n",
      "   2.04599130e-14   1.61039721e-14   1.52599088e-14   8.79071363e-15\n",
      "   7.95450113e-15   6.30662237e-15   6.08808521e-15   1.20388678e-15\n",
      "   9.96924544e-33   9.96924544e-33   9.96924544e-33]\n",
      "76 ) Explained Ratio:  [  9.99999727e-01   2.71874246e-07   9.34362793e-10   1.51257589e-10\n",
      "   8.82111543e-11   6.36113795e-11   5.16141714e-11   3.94793702e-11\n",
      "   1.16681410e-11   9.85221560e-12   8.40980540e-12   7.38590219e-12\n",
      "   4.69433776e-12   3.32439313e-12   1.07664609e-12   1.06138161e-12\n",
      "   9.02224979e-13   7.48452124e-13   5.20763273e-13   4.51526580e-13\n",
      "   4.30853083e-13   3.96788678e-13   3.65696932e-13   3.27063958e-13\n",
      "   3.12319983e-13   3.01656691e-13   2.91877136e-13   2.64279060e-13\n",
      "   2.50361190e-13   2.40612012e-13   2.33057995e-13   2.19296480e-13\n",
      "   1.98452066e-13   1.85394078e-13   1.79118031e-13   1.58183196e-13\n",
      "   1.44905367e-13   1.34771752e-13   1.26251438e-13   1.22816513e-13\n",
      "   1.14205437e-13   1.09405109e-13   1.05543994e-13   1.00445005e-13\n",
      "   9.81121230e-14   9.51684667e-14   9.24062312e-14   9.15338267e-14\n",
      "   8.61805525e-14   8.11143063e-14   7.85471558e-14   7.68300886e-14\n",
      "   7.00404254e-14   6.35794472e-14   5.81832495e-14   5.54664529e-14\n",
      "   5.23560947e-14   4.28537575e-14   4.00939220e-14   3.58054836e-14\n",
      "   3.43207583e-14   3.08636088e-14   2.97497753e-14   2.08489466e-14\n",
      "   2.04599130e-14   1.61039721e-14   1.52599088e-14   8.79071363e-15\n",
      "   7.95450113e-15   6.30662237e-15   6.08808521e-15   1.20388678e-15\n",
      "   9.96924544e-33   9.96924544e-33   9.96924544e-33   9.96924544e-33]\n",
      "77 ) Explained Ratio:  [  9.99999727e-01   2.71874246e-07   9.34362793e-10   1.51257589e-10\n",
      "   8.82111543e-11   6.36113795e-11   5.16141714e-11   3.94793702e-11\n",
      "   1.16681410e-11   9.85221560e-12   8.40980540e-12   7.38590219e-12\n",
      "   4.69433776e-12   3.32439313e-12   1.07664609e-12   1.06138161e-12\n",
      "   9.02224979e-13   7.48452124e-13   5.20763273e-13   4.51526580e-13\n",
      "   4.30853083e-13   3.96788678e-13   3.65696932e-13   3.27063958e-13\n",
      "   3.12319983e-13   3.01656691e-13   2.91877136e-13   2.64279060e-13\n",
      "   2.50361190e-13   2.40612012e-13   2.33057995e-13   2.19296480e-13\n",
      "   1.98452066e-13   1.85394078e-13   1.79118031e-13   1.58183196e-13\n",
      "   1.44905367e-13   1.34771752e-13   1.26251438e-13   1.22816513e-13\n",
      "   1.14205437e-13   1.09405109e-13   1.05543994e-13   1.00445005e-13\n",
      "   9.81121230e-14   9.51684667e-14   9.24062312e-14   9.15338267e-14\n",
      "   8.61805525e-14   8.11143063e-14   7.85471558e-14   7.68300886e-14\n",
      "   7.00404254e-14   6.35794472e-14   5.81832495e-14   5.54664529e-14\n",
      "   5.23560947e-14   4.28537575e-14   4.00939220e-14   3.58054836e-14\n",
      "   3.43207583e-14   3.08636088e-14   2.97497753e-14   2.08489466e-14\n",
      "   2.04599130e-14   1.61039721e-14   1.52599088e-14   8.79071363e-15\n",
      "   7.95450113e-15   6.30662237e-15   6.08808521e-15   1.20388678e-15\n",
      "   9.96924544e-33   9.96924544e-33   9.96924544e-33   9.96924544e-33\n",
      "   9.96924540e-33]\n"
     ]
    }
   ],
   "source": [
    "from sklearn.decomposition import PCA\n",
    "for i in range(1, 78):\n",
    "    pca = PCA(n_components = i)\n",
    "    pca.fit(input_df)\n",
    "    print str(i) ,')' , \n",
    "    #print 'Components:', pca.components_\n",
    "    #print 'Explained Variance:', pca.explained_variance_ \n",
    "    print 'Explained Ratio: ', pca.explained_variance_ratio_"
   ]
  },
  {
   "cell_type": "markdown",
   "metadata": {},
   "source": [
    "<h2>Create Matched People DataFrame</h2>"
   ]
  },
  {
   "cell_type": "code",
   "execution_count": 21,
   "metadata": {
    "collapsed": false,
    "deletable": true,
    "editable": true
   },
   "outputs": [],
   "source": [
    "#people_matched = data[data['match'] == 1].copy()\n",
    "#people_matched.drop_duplicates(subset = 'iid', keep = 'first', inplace = True)\n",
    "#display(people_matched)"
   ]
  },
  {
   "cell_type": "markdown",
   "metadata": {},
   "source": [
    "<h2>Exploring Matches</h2>"
   ]
  },
  {
   "cell_type": "code",
   "execution_count": 22,
   "metadata": {
    "collapsed": false
   },
   "outputs": [],
   "source": [
    "#people_matched[['iid', 'gender', 'dec'] + fc.features_of_attraction + fc.preferences_of_attraction + ['dec_o', 'pid', 'goal', 'int_corr', 'match']]"
   ]
  },
  {
   "cell_type": "markdown",
   "metadata": {
    "deletable": true,
    "editable": true
   },
   "source": [
    "<h4>Get Index for 'iid' for non-matches</h4>"
   ]
  },
  {
   "cell_type": "code",
   "execution_count": 23,
   "metadata": {
    "collapsed": false
   },
   "outputs": [],
   "source": [
    "#number = [int(i) for i in people_matched['iid']]\n",
    "#not_ever_matched = [i for i in range(1,553) if i not in number]\n",
    "#print not_ever_matched"
   ]
  },
  {
   "cell_type": "code",
   "execution_count": 24,
   "metadata": {
    "collapsed": false
   },
   "outputs": [],
   "source": [
    "#people_not_matched = data[data['iid'].isin(not_ever_matched)].copy()"
   ]
  },
  {
   "cell_type": "markdown",
   "metadata": {},
   "source": [
    "<h2>Exploring Non-Matches</h2>"
   ]
  },
  {
   "cell_type": "code",
   "execution_count": 25,
   "metadata": {
    "collapsed": false
   },
   "outputs": [],
   "source": [
    "#people_not_matched[['iid', 'gender', 'dec'] + fc.features_of_attraction + fc.preferences_of_attraction + ['dec_o', 'pid', 'goal', 'int_corr', 'match']]"
   ]
  },
  {
   "cell_type": "markdown",
   "metadata": {},
   "source": [
    "<h4>Non-Matched Females: Graphs</h4>"
   ]
  },
  {
   "cell_type": "code",
   "execution_count": 26,
   "metadata": {
    "collapsed": false
   },
   "outputs": [],
   "source": [
    "#fc.dating_attributes_vs_time(data = people_not_matched, gender = 0)"
   ]
  },
  {
   "cell_type": "markdown",
   "metadata": {},
   "source": [
    "<h4>Non-Matched Males: Graphs</h4>"
   ]
  },
  {
   "cell_type": "code",
   "execution_count": 27,
   "metadata": {
    "collapsed": false
   },
   "outputs": [],
   "source": [
    "#fc.dating_attributes_vs_time(data = people_not_matched, gender = 1)"
   ]
  },
  {
   "cell_type": "code",
   "execution_count": null,
   "metadata": {
    "collapsed": false
   },
   "outputs": [],
   "source": []
  }
 ],
 "metadata": {
  "kernelspec": {
   "display_name": "Python 2",
   "language": "python",
   "name": "python2"
  },
  "language_info": {
   "codemirror_mode": {
    "name": "ipython",
    "version": 2
   },
   "file_extension": ".py",
   "mimetype": "text/x-python",
   "name": "python",
   "nbconvert_exporter": "python",
   "pygments_lexer": "ipython2",
   "version": "2.7.12"
  }
 },
 "nbformat": 4,
 "nbformat_minor": 0
}
