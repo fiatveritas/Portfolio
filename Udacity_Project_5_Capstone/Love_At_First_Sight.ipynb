{
 "cells": [
  {
   "cell_type": "markdown",
   "metadata": {
    "deletable": true,
    "editable": true
   },
   "source": [
    "<h1>Speed Dating: Who to Date Long Term</h1>"
   ]
  },
  {
   "cell_type": "markdown",
   "metadata": {
    "deletable": true,
    "editable": true
   },
   "source": [
    "What influences love at first sight? (Or, at least, love in the first four minutes?) This dataset was compiled by Columbia Business School professors Ray Fisman and Sheena Iyengar for their paper Gender Differences in Mate Selection: Evidence From a Speed Dating Experiment.<br>\n",
    "\n",
    "Data was gathered from participants in experimental speed dating events from 2002-2004. During the events, the attendees would have a four minute \"first date\" with every other participant of the opposite sex. At the end of their four minutes, participants were asked if they would like to see their date again. They were also asked to rate their date on six attributes: Attractiveness, Sincerity, Intelligence, Fun, Ambition, and Shared Interests.<br>\n",
    "\n",
    "The dataset also includes questionnaire data gathered from participants at different points in the process. These fields include: demographics, dating habits, self-perception across key attributes, beliefs on what others find valuable in a mate, and lifestyle information. See the Speed Dating Data Key document below for details.<br>\n",
    "\n",
    "For more analysis from Iyengar and Fisman, read Racial Preferences in Dating.<br>\n",
    "\n",
    "Data Exploration Ideas<br>\n",
    "\n",
    "What are the least desirable attributes in a male partner? Does this differ for female partners?<br>\n",
    "How important do people think attractiveness is in potential mate selection vs. its real impact?<br>\n",
    "Are shared interests more important than a shared racial background?<br>\n",
    "Can people accurately predict their own perceived value in the dating market?<br>\n",
    "In terms of getting a second date, is it better to be someone's first speed date of the night or their last?"
   ]
  },
  {
   "cell_type": "markdown",
   "metadata": {},
   "source": [
    "<h2>Import Libraries</h2>"
   ]
  },
  {
   "cell_type": "code",
   "execution_count": 1,
   "metadata": {
    "collapsed": false,
    "deletable": true,
    "editable": true
   },
   "outputs": [
    {
     "name": "stdout",
     "output_type": "stream",
     "text": [
      "pandas version is 0.18.0.\n",
      "numpy version is 1.10.4.\n",
      "scikit-learn version is 0.17.1.\n",
      "seaborn version is 0.7.1.\n",
      "matplotlib version is 1.5.1.\n"
     ]
    }
   ],
   "source": [
    "import pandas as pd\n",
    "import numpy as np\n",
    "import sklearn\n",
    "import seaborn as sns\n",
    "import matplotlib\n",
    "import matplotlib.pyplot as plt\n",
    "from IPython.display import display\n",
    "%matplotlib inline\n",
    "pd.set_option('display.max_columns', None)\n",
    "#pd.set_option('display.max_rows', None)\n",
    "\n",
    "print('pandas version is {}.'.format(pd.__version__))\n",
    "print('numpy version is {}.'.format(np.__version__))\n",
    "print('scikit-learn version is {}.'.format(sklearn.__version__))\n",
    "print('seaborn version is {}.'.format(sns.__version__))\n",
    "print('matplotlib version is {}.'.format(matplotlib.__version__))\n"
   ]
  },
  {
   "cell_type": "code",
   "execution_count": 2,
   "metadata": {
    "collapsed": false,
    "deletable": true,
    "editable": true
   },
   "outputs": [
    {
     "name": "stdout",
     "output_type": "stream",
     "text": [
      "This set has 8378 data points and 195 features.\n"
     ]
    }
   ],
   "source": [
    "data = pd.read_csv(\"Speed Dating Data.csv\")\n",
    "print \"This set has {} data points and {} features.\".format(*data.shape)"
   ]
  },
  {
   "cell_type": "markdown",
   "metadata": {
    "deletable": true,
    "editable": true
   },
   "source": [
    "<h1>Data Exploration</h1>"
   ]
  },
  {
   "cell_type": "markdown",
   "metadata": {},
   "source": [
    "<h4>Samples for each Feature</h4>"
   ]
  },
  {
   "cell_type": "code",
   "execution_count": 3,
   "metadata": {
    "collapsed": false
   },
   "outputs": [
    {
     "name": "stdout",
     "output_type": "stream",
     "text": [
      "\tiid 8378 \t\tid 8377 \t\tgender 8378 \t\tidg 8378 \t\tcondtn 8378 \t\twave 8378 \t\tround 8378 \t\tposition 8378 \t\tpositin1 6532 \t\torder 8378 \t\tpartner 8378 \t\tpid 8368 \t\tmatch 8378 \t\tint_corr 8220 \t\tsamerace 8378 \t\tage_o 8274 \t\trace_o 8305 \t\tpf_o_att 8289 \t\tpf_o_sin 8289 \t\tpf_o_int 8289 \t\tpf_o_fun 8280 \t\tpf_o_amb 8271 \t\tpf_o_sha 8249 \t\tdec_o 8378 \t\tattr_o 8166 \t\tsinc_o 8091 \t\tintel_o 8072 \t\tfun_o 8018 \t\tamb_o 7656 \t\tshar_o 7302 \t\tlike_o 8128 \t\tprob_o 8060 \t\tmet_o 7993 \t\tage 8283 \t\tfield 8315 \t\tfield_cd 8296 \t\tundergra 4914 \t\tmn_sat 3133 \t\ttuition 3583 \t\trace 8315 \t\timprace 8299 \t\timprelig 8299 \t\tfrom 8299 \t\tzipcode 7314 \t\tincome 4279 \t\tgoal 8299 \t\tdate 8281 \t\tgo_out 8299 \t\tcareer 8289 \t\tcareer_c 8240 \t\tsports 8299 \t\ttvsports 8299 \t\texercise 8299 \t\tdining 8299 \t\tmuseums 8299 \t\tart 8299 \t\thiking 8299 \t\tgaming 8299 \t\tclubbing 8299 \t\treading 8299 \t\ttv 8299 \t\ttheater 8299 \t\tmovies 8299 \t\tconcerts 8299 \t\tmusic 8299 \t\tshopping 8299 \t\tyoga 8299 \t\texphappy 8277 \t\texpnum 1800 \t\tattr1_1 8299 \t\tsinc1_1 8299 \t\tintel1_1 8299 \t\tfun1_1 8289 \t\tamb1_1 8279 \t\tshar1_1 8257 \t\tattr4_1 6489 \t\tsinc4_1 6489 \t\tintel4_1 6489 \t\tfun4_1 6489 \t\tamb4_1 6489 \t\tshar4_1 6467 \t\tattr2_1 8299 \t\tsinc2_1 8299 \t\tintel2_1 8299 \t\tfun2_1 8299 \t\tamb2_1 8289 \t\tshar2_1 8289 \t\tattr3_1 8273 \t\tsinc3_1 8273 \t\tfun3_1 8273 \t\tintel3_1 8273 \t\tamb3_1 8273 \t\tattr5_1 4906 \t\tsinc5_1 4906 \t\tintel5_1 4906 \t\tfun5_1 4906 \t\tamb5_1 4906 \t\tdec 8378 \t\tattr 8176 \t\tsinc 8101 \t\tintel 8082 \t\tfun 8028 \t\tamb 7666 \t\tshar 7311 \t\tlike 8138 \t\tprob 8069 \t\tmet 8003 \t\tmatch_es 7205 \t\tattr1_s 4096 \t\tsinc1_s 4096 \t\tintel1_s 4096 \t\tfun1_s 4096 \t\tamb1_s 4096 \t\tshar1_s 4096 \t\tattr3_s 4000 \t\tsinc3_s 4000 \t\tintel3_s 4000 \t\tfun3_s 4000 \t\tamb3_s 4000 \t\tsatis_2 7463 \t\tlength 7463 \t\tnumdat_2 7433 \t\tattr7_2 1984 \t\tsinc7_2 1955 \t\tintel7_2 1984 \t\tfun7_2 1984 \t\tamb7_2 1955 \t\tshar7_2 1974 \t\tattr1_2 7445 \t\tsinc1_2 7463 \t\tintel1_2 7463 \t\tfun1_2 7463 \t\tamb1_2 7463 \t\tshar1_2 7463 \t\tattr4_2 5775 \t\tsinc4_2 5775 \t\tintel4_2 5775 \t\tfun4_2 5775 \t\tamb4_2 5775 \t\tshar4_2 5775 \t\tattr2_2 5775 \t\tsinc2_2 5775 \t\tintel2_2 5775 \t\tfun2_2 5775 \t\tamb2_2 5775 \t\tshar2_2 5775 \t\tattr3_2 7463 \t\tsinc3_2 7463 \t\tintel3_2 7463 \t\tfun3_2 7463 \t\tamb3_2 7463 \t\tattr5_2 4377 \t\tsinc5_2 4377 \t\tintel5_2 4377 \t\tfun5_2 4377 \t\tamb5_2 4377 \t\tyou_call 3974 \t\tthem_cal 3974 \t\tdate_3 3974 \t\tnumdat_3 1496 \t\tnum_in_3 668 \t\tattr1_3 3974 \t\tsinc1_3 3974 \t\tintel1_3 3974 \t\tfun1_3 3974 \t\tamb1_3 3974 \t\tshar1_3 3974 \t\tattr7_3 2016 \t\tsinc7_3 2016 \t\tintel7_3 2016 \t\tfun7_3 2016 \t\tamb7_3 2016 \t\tshar7_3 2016 \t\tattr4_3 2959 \t\tsinc4_3 2959 \t\tintel4_3 2959 \t\tfun4_3 2959 \t\tamb4_3 2959 \t\tshar4_3 2959 \t\tattr2_3 2959 \t\tsinc2_3 2959 \t\tintel2_3 2959 \t\tfun2_3 2959 \t\tamb2_3 2959 \t\tshar2_3 2016 \t\tattr3_3 3974 \t\tsinc3_3 3974 \t\tintel3_3 3974 \t\tfun3_3 3974 \t\tamb3_3 3974 \t\tattr5_3 2016 \t\tsinc5_3 2016 \t\tintel5_3 2016 \t\tfun5_3 2016 \t\tamb5_3 2016 \t"
     ]
    }
   ],
   "source": [
    "import features_creator as fc #importing feature names made in file features_creator.py\n",
    "fc.count_samples_in_features(data)#count samples for each feature"
   ]
  },
  {
   "cell_type": "markdown",
   "metadata": {},
   "source": [
    "<h4>Features Space of interest (with most samples avalaible)</h4>"
   ]
  },
  {
   "cell_type": "code",
   "execution_count": 4,
   "metadata": {
    "collapsed": false
   },
   "outputs": [
    {
     "name": "stdout",
     "output_type": "stream",
     "text": [
      "\tiid 8378 \t\tgender 8378 \t\torder 8378 \t\tpid 8368 \t\tmatch 8378 \t\tint_corr 8220 \t\tsamerace 8378 \t\tage_o 8274 \t\trace_o 8305 \t\tpf_o_att 8289 \t\tpf_o_sin 8289 \t\tpf_o_int 8289 \t\tpf_o_fun 8280 \t\tpf_o_amb 8271 \t\tpf_o_sha 8249 \t\tdec_o 8378 \t\tattr_o 8166 \t\tsinc_o 8091 \t\tintel_o 8072 \t\tfun_o 8018 \t\tamb_o 7656 \t\tshar_o 7302 \t\tlike_o 8128 \t\tprob_o 8060 \t\tmet_o 7993 \t\tage 8283 \t\tfield_cd 8296 \t\trace 8315 \t\timprace 8299 \t\timprelig 8299 \t\tzipcode 7314 \t\tgoal 8299 \t\tdate 8281 \t\tgo_out 8299 \t\tcareer_c 8240 \t\tsports 8299 \t\ttvsports 8299 \t\texercise 8299 \t\tdining 8299 \t\tmuseums 8299 \t\tart 8299 \t\thiking 8299 \t\tgaming 8299 \t\tclubbing 8299 \t\treading 8299 \t\ttv 8299 \t\ttheater 8299 \t\tmovies 8299 \t\tconcerts 8299 \t\tmusic 8299 \t\tshopping 8299 \t\tyoga 8299 \t\texphappy 8277 \t\tattr1_1 8299 \t\tsinc1_1 8299 \t\tintel1_1 8299 \t\tfun1_1 8289 \t\tamb1_1 8279 \t\tshar1_1 8257 \t\tattr2_1 8299 \t\tsinc2_1 8299 \t\tintel2_1 8299 \t\tfun2_1 8299 \t\tamb2_1 8289 \t\tshar2_1 8289 \t\tattr3_1 8273 \t\tsinc3_1 8273 \t\tfun3_1 8273 \t\tintel3_1 8273 \t\tamb3_1 8273 \t\tdec 8378 \t\tattr 8176 \t\tsinc 8101 \t\tintel 8082 \t\tfun 8028 \t\tamb 7666 \t\tshar 7311 \t\tlike 8138 \t\tprob 8069 \t\tmet 8003 \t"
     ]
    }
   ],
   "source": [
    "for i, j in zip(data.keys(), data.count()):\n",
    "        if i in fc.all_space:\n",
    "            print '\\t', i, j, '\\t',"
   ]
  },
  {
   "cell_type": "markdown",
   "metadata": {},
   "source": [
    "<h4>Features not Selected</h4>"
   ]
  },
  {
   "cell_type": "code",
   "execution_count": 5,
   "metadata": {
    "collapsed": false
   },
   "outputs": [
    {
     "name": "stdout",
     "output_type": "stream",
     "text": [
      "\tid 8377 \t\tidg 8378 \t\tcondtn 8378 \t\twave 8378 \t\tround 8378 \t\tposition 8378 \t\tpositin1 6532 \t\tpartner 8378 \t\tfield 8315 \t\tundergra 4914 \t\tmn_sat 3133 \t\ttuition 3583 \t\tfrom 8299 \t\tincome 4279 \t\tcareer 8289 \t\texpnum 1800 \t\tattr4_1 6489 \t\tsinc4_1 6489 \t\tintel4_1 6489 \t\tfun4_1 6489 \t\tamb4_1 6489 \t\tshar4_1 6467 \t\tattr5_1 4906 \t\tsinc5_1 4906 \t\tintel5_1 4906 \t\tfun5_1 4906 \t\tamb5_1 4906 \t\tmatch_es 7205 \t\tattr1_s 4096 \t\tsinc1_s 4096 \t\tintel1_s 4096 \t\tfun1_s 4096 \t\tamb1_s 4096 \t\tshar1_s 4096 \t\tattr3_s 4000 \t\tsinc3_s 4000 \t\tintel3_s 4000 \t\tfun3_s 4000 \t\tamb3_s 4000 \t\tsatis_2 7463 \t\tlength 7463 \t\tnumdat_2 7433 \t\tattr7_2 1984 \t\tsinc7_2 1955 \t\tintel7_2 1984 \t\tfun7_2 1984 \t\tamb7_2 1955 \t\tshar7_2 1974 \t\tattr1_2 7445 \t\tsinc1_2 7463 \t\tintel1_2 7463 \t\tfun1_2 7463 \t\tamb1_2 7463 \t\tshar1_2 7463 \t\tattr4_2 5775 \t\tsinc4_2 5775 \t\tintel4_2 5775 \t\tfun4_2 5775 \t\tamb4_2 5775 \t\tshar4_2 5775 \t\tattr2_2 5775 \t\tsinc2_2 5775 \t\tintel2_2 5775 \t\tfun2_2 5775 \t\tamb2_2 5775 \t\tshar2_2 5775 \t\tattr3_2 7463 \t\tsinc3_2 7463 \t\tintel3_2 7463 \t\tfun3_2 7463 \t\tamb3_2 7463 \t\tattr5_2 4377 \t\tsinc5_2 4377 \t\tintel5_2 4377 \t\tfun5_2 4377 \t\tamb5_2 4377 \t\tyou_call 3974 \t\tthem_cal 3974 \t\tdate_3 3974 \t\tnumdat_3 1496 \t\tnum_in_3 668 \t\tattr1_3 3974 \t\tsinc1_3 3974 \t\tintel1_3 3974 \t\tfun1_3 3974 \t\tamb1_3 3974 \t\tshar1_3 3974 \t\tattr7_3 2016 \t\tsinc7_3 2016 \t\tintel7_3 2016 \t\tfun7_3 2016 \t\tamb7_3 2016 \t\tshar7_3 2016 \t\tattr4_3 2959 \t\tsinc4_3 2959 \t\tintel4_3 2959 \t\tfun4_3 2959 \t\tamb4_3 2959 \t\tshar4_3 2959 \t\tattr2_3 2959 \t\tsinc2_3 2959 \t\tintel2_3 2959 \t\tfun2_3 2959 \t\tamb2_3 2959 \t\tshar2_3 2016 \t\tattr3_3 3974 \t\tsinc3_3 3974 \t\tintel3_3 3974 \t\tfun3_3 3974 \t\tamb3_3 3974 \t\tattr5_3 2016 \t\tsinc5_3 2016 \t\tintel5_3 2016 \t\tfun5_3 2016 \t\tamb5_3 2016 \t"
     ]
    }
   ],
   "source": [
    "for i, j in zip(data.keys(), data.count()):\n",
    "        if i not in fc.all_space:\n",
    "            print '\\t', i, j, '\\t',"
   ]
  },
  {
   "cell_type": "markdown",
   "metadata": {},
   "source": [
    "<h4>Scale Numerical features between 0 & 1</h4>"
   ]
  },
  {
   "cell_type": "code",
   "execution_count": 6,
   "metadata": {
    "collapsed": false,
    "deletable": true,
    "editable": true
   },
   "outputs": [],
   "source": [
    "fc.likert_scale_question_3(data)#likert scale from 0 - 10. Some samples were at rating 12. this function brings rating of 12 down to ratings to 10\n",
    "fc.scale_majority_of_features(data)#this function scales most features between 0 - 1\n",
    "fc.scale_exphappy(data)\n",
    "fc.scale_question_4(data)#different waves were at different scales. all scaled repectively between 0 - 1 in this function call\n",
    "fc.convert_income_to_float(data)#income was imported as string this call converts strings to float\n",
    "fc.convert_tuition_to_float(data)#ditto, tuition was imported as strings and are converted to float\n",
    "fc.zipcode_to_float(data)\n",
    "fc.sat_to_float(data)#this function converts sat scores to float"
   ]
  },
  {
   "cell_type": "markdown",
   "metadata": {},
   "source": [
    "<h4>Outlier Detection: Turkey's Method</h4>"
   ]
  },
  {
   "cell_type": "code",
   "execution_count": 7,
   "metadata": {
    "collapsed": false,
    "scrolled": false
   },
   "outputs": [
    {
     "name": "stdout",
     "output_type": "stream",
     "text": [
      "[8203, 8209, 8219, 8359, 312, 313, 314, 315, 316, 317, 318, 319, 320, 321, 322, 323, 324, 325, 326, 327, 8204, 739, 828, 829, 830, 831, 832, 833, 834, 835, 836, 837, 838, 839, 840, 841, 842, 843, 844, 845, 846, 847, 911, 920, 921, 951, 961, 981, 1001, 8218, 1695, 1715, 1765, 1785, 1795, 1805, 1825, 1835, 1839, 1841, 1845, 1866, 1867, 1868, 1869, 1870, 8208, 8271, 8220, 8207, 4861, 5004, 5005, 5006, 5007, 5008, 5009, 5010, 5011, 5012, 5013, 5014, 5015, 5016, 5017, 5018, 5019, 5020, 5021, 5022, 5023, 5032, 5035, 5054, 8217, 5074, 5076, 5096, 5114, 5115, 5116, 5117, 5118, 5119, 5120, 5121, 5122, 5123, 5124, 5125, 5126, 5127, 5128, 5129, 5130, 5131, 5138, 5139, 5176, 5246, 5247, 5284, 5295, 5296, 5299, 5302, 5303, 5305, 5306, 5310, 5311, 5320, 5334, 5352, 5355, 5375, 5378, 5388, 5419, 5439, 5481, 5482, 5499, 5510, 5516, 5530, 5536, 5542, 5544, 5552, 5558, 5559, 5560, 5579, 5583, 5604, 5619, 5625, 5639, 5643, 5666, 5689, 5706, 5719, 5739, 5746, 5765, 5784, 5822, 5936, 6031, 6069, 6122, 6123, 6124, 6126, 6132, 6137, 6139, 6392, 6393, 6394, 6395, 6396, 6397, 6398, 6399, 6400, 6401, 6402, 6403, 6404, 6405, 6406, 6407, 6408, 6409, 7420, 7422, 7438, 7446, 7468, 7483, 7485, 7493, 7497, 7508, 7534, 7556, 7578, 7588, 7591, 7594, 7597, 7599, 7642, 7650, 7667, 7754, 8344, 8235, 7776, 7798, 7820, 7834, 7835, 7946, 8012, 8027, 8051, 8067, 8078, 8095, 8114, 8118, 8144, 8158, 8188]\n"
     ]
    }
   ],
   "source": [
    "index_to_be_removed = fc.outlier_detection(data[fc.feature_space[10:72]]) #these indices span at least 15  features as outliers\n",
    "print index_to_be_removed\n",
    "data.drop(data.index[index_to_be_removed], inplace = True)"
   ]
  },
  {
   "cell_type": "markdown",
   "metadata": {},
   "source": [
    "<h4>Correlation Heat Map</h4>"
   ]
  },
  {
   "cell_type": "code",
   "execution_count": 8,
   "metadata": {
    "collapsed": false
   },
   "outputs": [
    {
     "data": {
      "image/png": "[encoded data removed]",
      "text/plain": [
       "<matplotlib.figure.Figure at 0xa35b7f0>"
      ]
     },
     "metadata": {},
     "output_type": "display_data"
    }
   ],
   "source": [
    "fc.make_corr(data[fc.feature_space])"
   ]
  },
  {
   "cell_type": "markdown",
   "metadata": {},
   "source": [
    "<h2>Unique Profiles</h2>"
   ]
  },
  {
   "cell_type": "code",
   "execution_count": 9,
   "metadata": {
    "collapsed": false,
    "deletable": true,
    "editable": true
   },
   "outputs": [],
   "source": [
    "#unique = data.copy()\n",
    "#unique.drop_duplicates(subset = 'iid', keep = 'first', inplace = True)"
   ]
  },
  {
   "cell_type": "markdown",
   "metadata": {},
   "source": [
    "<h4>Stats and Frequency Charts for Females</h4>"
   ]
  },
  {
   "cell_type": "code",
   "execution_count": 10,
   "metadata": {
    "collapsed": false,
    "deletable": true,
    "editable": true
   },
   "outputs": [],
   "source": [
    "#fc.dating_attributes_vs_time_describe(data = unique, gender = 0)"
   ]
  },
  {
   "cell_type": "code",
   "execution_count": 11,
   "metadata": {
    "collapsed": false
   },
   "outputs": [],
   "source": [
    "#fc.dating_attributes_vs_time_hist(data = unique, gender = 0)"
   ]
  },
  {
   "cell_type": "markdown",
   "metadata": {},
   "source": [
    "<h4>Stats and Frequency Charts for Males</h4>"
   ]
  },
  {
   "cell_type": "code",
   "execution_count": 12,
   "metadata": {
    "collapsed": false
   },
   "outputs": [],
   "source": [
    "#fc.dating_attributes_vs_time_describe(data = unique, gender = 1)"
   ]
  },
  {
   "cell_type": "code",
   "execution_count": 13,
   "metadata": {
    "collapsed": false
   },
   "outputs": [],
   "source": [
    "#fc.dating_attributes_vs_time_hist(data = unique, gender = 1)"
   ]
  },
  {
   "cell_type": "markdown",
   "metadata": {},
   "source": [
    "<h2>Create Matched People DataFrame</h2>"
   ]
  },
  {
   "cell_type": "code",
   "execution_count": 14,
   "metadata": {
    "collapsed": false,
    "deletable": true,
    "editable": true
   },
   "outputs": [],
   "source": [
    "#people_matched = data[data['match'] == 1].copy()\n",
    "#people_matched.drop_duplicates(subset = 'iid', keep = 'first', inplace = True)\n",
    "#display(people_matched)"
   ]
  },
  {
   "cell_type": "markdown",
   "metadata": {},
   "source": [
    "<h2>Exploring Matches</h2>"
   ]
  },
  {
   "cell_type": "code",
   "execution_count": 15,
   "metadata": {
    "collapsed": false
   },
   "outputs": [],
   "source": [
    "#people_matched[['iid', 'gender', 'dec'] + fc.features_of_attraction + fc.preferences_of_attraction + ['dec_o', 'pid', 'goal', 'int_corr', 'match']]"
   ]
  },
  {
   "cell_type": "markdown",
   "metadata": {
    "deletable": true,
    "editable": true
   },
   "source": [
    "<h4>Get Index for 'iid' for non-matches</h4>"
   ]
  },
  {
   "cell_type": "code",
   "execution_count": 16,
   "metadata": {
    "collapsed": false
   },
   "outputs": [],
   "source": [
    "#number = [int(i) for i in people_matched['iid']]\n",
    "#not_ever_matched = [i for i in range(1,553) if i not in number]\n",
    "#print not_ever_matched"
   ]
  },
  {
   "cell_type": "code",
   "execution_count": 17,
   "metadata": {
    "collapsed": false
   },
   "outputs": [],
   "source": [
    "#people_not_matched = data[data['iid'].isin(not_ever_matched)].copy()"
   ]
  },
  {
   "cell_type": "markdown",
   "metadata": {},
   "source": [
    "<h2>Exploring Non-Matches</h2>"
   ]
  },
  {
   "cell_type": "code",
   "execution_count": 18,
   "metadata": {
    "collapsed": false
   },
   "outputs": [],
   "source": [
    "#people_not_matched[['iid', 'gender', 'dec'] + fc.features_of_attraction + fc.preferences_of_attraction + ['dec_o', 'pid', 'goal', 'int_corr', 'match']]"
   ]
  },
  {
   "cell_type": "markdown",
   "metadata": {},
   "source": [
    "<h4>Non-Matched Females: Graphs</h4>"
   ]
  },
  {
   "cell_type": "code",
   "execution_count": 19,
   "metadata": {
    "collapsed": false
   },
   "outputs": [],
   "source": [
    "#fc.dating_attributes_vs_time(data = people_not_matched, gender = 0)"
   ]
  },
  {
   "cell_type": "markdown",
   "metadata": {},
   "source": [
    "<h4>Non-Matched Males: Graphs</h4>"
   ]
  },
  {
   "cell_type": "code",
   "execution_count": 20,
   "metadata": {
    "collapsed": false
   },
   "outputs": [],
   "source": [
    "#fc.dating_attributes_vs_time(data = people_not_matched, gender = 1)"
   ]
  },
  {
   "cell_type": "markdown",
   "metadata": {},
   "source": [
    "<h2>Dating Attributes as a function of Time: Distributing 100pts</h2>"
   ]
  },
  {
   "cell_type": "markdown",
   "metadata": {},
   "source": [
    "<h4>Female Attributes</h4>"
   ]
  },
  {
   "cell_type": "code",
   "execution_count": 21,
   "metadata": {
    "collapsed": false
   },
   "outputs": [],
   "source": [
    "#fc.dating_attributes_vs_time_describe(unique[(unique['wave'] >= 6) & (unique['wave']<= 11)], 0)"
   ]
  },
  {
   "cell_type": "markdown",
   "metadata": {},
   "source": [
    "<h4>Male Attributes</h4>"
   ]
  },
  {
   "cell_type": "code",
   "execution_count": 22,
   "metadata": {
    "collapsed": true
   },
   "outputs": [],
   "source": [
    "#fc.dating_attributes_vs_time_describe(unique[(unique['wave'] >= 6) & (unique['wave']<= 11)], 1)"
   ]
  },
  {
   "cell_type": "markdown",
   "metadata": {},
   "source": [
    "<h2>Dating Attributes as a function of Time: Likert Scale</h2>"
   ]
  },
  {
   "cell_type": "markdown",
   "metadata": {},
   "source": [
    "<h4>Female Attributes</h4>"
   ]
  },
  {
   "cell_type": "code",
   "execution_count": 23,
   "metadata": {
    "collapsed": false
   },
   "outputs": [],
   "source": [
    "#fc.dating_attributes_vs_time_describe(unique[(unique['wave'] >= 15) & (unique['wave']<= 20)], 0)"
   ]
  },
  {
   "cell_type": "markdown",
   "metadata": {},
   "source": [
    "<h4>Male Attributes</h4>"
   ]
  },
  {
   "cell_type": "code",
   "execution_count": 24,
   "metadata": {
    "collapsed": true
   },
   "outputs": [],
   "source": [
    "#fc.dating_attributes_vs_time_describe(unique[(unique['wave'] >= 15) & (unique['wave']<= 20)], 1)"
   ]
  },
  {
   "cell_type": "markdown",
   "metadata": {},
   "source": [
    "<h2>ExtraTreeClassifier: Ensemble Learning</h2>"
   ]
  },
  {
   "cell_type": "code",
   "execution_count": 25,
   "metadata": {
    "collapsed": false
   },
   "outputs": [],
   "source": [
    "women_men = data[fc.all_space].copy()"
   ]
  },
  {
   "cell_type": "code",
   "execution_count": 26,
   "metadata": {
    "collapsed": false
   },
   "outputs": [],
   "source": [
    "women_men.dropna(axis = 0, how = 'any', inplace = True)"
   ]
  },
  {
   "cell_type": "markdown",
   "metadata": {},
   "source": [
    "<h3>Both Genders</h3>"
   ]
  },
  {
   "cell_type": "code",
   "execution_count": 27,
   "metadata": {
    "collapsed": false
   },
   "outputs": [],
   "source": [
    "target_df = women_men['dec'].copy()\n",
    "input_df = women_men[fc.feature_space].copy()"
   ]
  },
  {
   "cell_type": "markdown",
   "metadata": {},
   "source": [
    "<h3>ExtraTreeClassifier: Ensemble Learning</h3>"
   ]
  },
  {
   "cell_type": "code",
   "execution_count": 28,
   "metadata": {
    "collapsed": false
   },
   "outputs": [
    {
     "name": "stdout",
     "output_type": "stream",
     "text": [
      "Old Space is (number of samples, number of features) (4771, 77)\n",
      "New Space is (number of samples, number of features) (4771L, 10L)\n"
     ]
    }
   ],
   "source": [
    "from sklearn.ensemble import ExtraTreesClassifier\n",
    "from sklearn.feature_selection import SelectFromModel\n",
    "clf = ExtraTreesClassifier(random_state = 0)\n",
    "clf = clf.fit(input_df, target_df)\n",
    "model = SelectFromModel(clf, prefit=True)\n",
    "input_df_new = model.transform(input_df)\n",
    "original_space = input_df.shape\n",
    "new_space_ETC = input_df_new.shape\n",
    "print 'Old Space is (number of samples, number of features)', input_df.shape\n",
    "print 'New Space is (number of samples, number of features)', input_df_new.shape"
   ]
  },
  {
   "cell_type": "markdown",
   "metadata": {},
   "source": [
    "<h4>Pair and rank Features of Important</h4>"
   ]
  },
  {
   "cell_type": "code",
   "execution_count": 29,
   "metadata": {
    "collapsed": false,
    "scrolled": false
   },
   "outputs": [],
   "source": [
    "tuple_holder = [(j, i) for i, j in zip(fc.feature_space, clf.feature_importances_)]\n",
    "tuple_holder.sort()\n",
    "tuple_holder.reverse()"
   ]
  },
  {
   "cell_type": "code",
   "execution_count": 30,
   "metadata": {
    "collapsed": false
   },
   "outputs": [],
   "source": [
    "#for i, j in fc.data_cleaner.iteritems():\n",
    "#    print i, j, '\\n'\n",
    "#for i, j in fc.master_list.items():\n",
    "#    print i, j, '\\n'\n",
    "#print 'clean_up_1', '\\n', fc.clean_up_1, '\\n'\n",
    "#print 'clean_up_2', '\\n', fc.clean_up_2, '\\n'\n",
    "#print 'clean_up_3', '\\n', fc.clean_up_3, '\\n'\n",
    "#print 'clean_up_4', '\\n', fc.clean_up_4, '\\n'\n",
    "#print 'clean_up_5', '\\n', fc.clean_up_5, '\\n'\n",
    "#print 'features_of_attraction', '\\n', fc.features_of_attraction, '\\n'\n",
    "#print 'actual_decisions', '\\n', fc.actual_decisions, '\\n'\n",
    "#print 'preferences_of_attraction', '\\n', fc.preferences_of_attraction, '\\n'\n",
    "#print 'rating_by_partner_features', '\\n', fc.rating_by_partner_features, '\\n'\n",
    "#print 'halfway_questions', '\\n', fc.halfway_questions, '\\n'\n",
    "#print 'interests', '\\n', fc.interests, '\\n'\n",
    "#print 'list_of_lists', '\\n', fc.list_of_lists, '\\n'\n",
    "#print 'feature_space', '\\n', fc.feature_space, '\\n'\n",
    "#print 'all_space', '\\n', fc.all_space, '\\n'\n",
    "#print 'all columns in dataset', '\\n'\n",
    "#for i in data.keys():\n",
    "#    print i,\n",
    "to_drop = [i for i in data.keys() if i not in fc.all_space]\n",
    "#print '\\n'*2, 'to_drop', '\\n', to_drop, '\\n'"
   ]
  },
  {
   "cell_type": "code",
   "execution_count": 31,
   "metadata": {
    "collapsed": false
   },
   "outputs": [
    {
     "name": "stdout",
     "output_type": "stream",
     "text": [
      "Old Space is (number of samples, number of features) (4771, 77)\n",
      "New Space is (number of samples, number of features) (4771L, 15L)\n"
     ]
    }
   ],
   "source": [
    "from sklearn.ensemble import RandomForestClassifier\n",
    "clf = RandomForestClassifier(random_state = 0)\n",
    "clf = clf.fit(input_df, target_df)\n",
    "model = SelectFromModel(clf, prefit=True)\n",
    "input_df_new = model.transform(input_df)\n",
    "new_space_RFC = input_df_new.shape\n",
    "print 'Old Space is (number of samples, number of features)', input_df.shape\n",
    "print 'New Space is (number of samples, number of features)', input_df_new.shape"
   ]
  },
  {
   "cell_type": "code",
   "execution_count": 32,
   "metadata": {
    "collapsed": false
   },
   "outputs": [],
   "source": [
    "tuple_holder_2 = [(j, i) for i, j in zip(fc.feature_space, clf.feature_importances_)]\n",
    "tuple_holder_2.sort()\n",
    "tuple_holder_2.reverse()"
   ]
  },
  {
   "cell_type": "code",
   "execution_count": 33,
   "metadata": {
    "collapsed": false
   },
   "outputs": [
    {
     "name": "stdout",
     "output_type": "stream",
     "text": [
      "ExtraTreesClassifier \t\t\t\t\tRandomForestClassifier\n",
      "Old Space:  (4771, 77) \t\t\t\t\tOld Space: (4771, 77)\n",
      "New Space:  (4771L, 10L) \t\t\t\t\tNew Space: (4771L, 15L)\n",
      "1 | (0.12882382678942111, 'like') \t\t\t\t1 | (0.11724475135736463, 'like')\n",
      "2 | (0.078144079726549881, 'attr') \t\t\t\t2 | (0.092432363715555743, 'attr')\n",
      "3 | (0.043185689352665479, 'fun') \t\t\t\t3 | (0.047901693889207606, 'shar')\n",
      "4 | (0.041582792248598642, 'shar') \t\t\t\t4 | (0.039385055068462217, 'fun')\n",
      "5 | (0.020972228880790249, 'prob') \t\t\t\t5 | (0.030460896801508153, 'prob')\n",
      "6 | (0.018125884318822356, 'sinc') \t\t\t\t6 | (0.020904912460982642, 'pid')\n",
      "7 | (0.016617523170761445, 'intel') \t\t\t\t7 | (0.019911463937780146, 'intel')\n",
      "8 | (0.014886321936302235, 'prob_o') \t\t\t\t8 | (0.017299475006498637, 'prob_o')\n",
      "9 | (0.013351503064923725, 'age_o') \t\t\t\t9 | (0.014845146618526405, 'int_corr')\n",
      "10 | (0.013109440784277459, 'pf_o_sin') \t\t\t\t10 | (0.014800145931557674, 'order')\n",
      "11 | (0.012361255819250096, 'pid') \t\t\t\t11 | (0.014270641347391167, 'attr2_1')\n",
      "12 | (0.012203646667007878, 'order') \t\t\t\t12 | (0.014143675355043763, 'iid')\n",
      "13 | (0.012176894533936805, 'attr_o') \t\t\t\t13 | (0.013963402896931761, 'zipcode')\n",
      "14 | (0.012176229839552079, 'fun_o') \t\t\t\t14 | (0.013463629499109991, 'pf_o_sha')\n",
      "15 | (0.011989580745138079, 'pf_o_sha') \t\t\t\t15 | (0.013024966390654303, 'amb')\n",
      "16 | (0.011805805925417986, 'int_corr') \t\t\t\t16 | (0.012813953528303206, 'age_o')\n",
      "17 | (0.01180332870694246, 'pf_o_fun') \t\t\t\t17 | (0.01245244990912203, 'sinc')\n",
      "18 | (0.011698884120041874, 'amb_o') \t\t\t\t18 | (0.012271825447190556, 'pf_o_sin')\n",
      "19 | (0.011681616684078869, 'like_o') \t\t\t\t19 | (0.01209126547277419, 'shar_o')\n",
      "20 | (0.011636623188161352, 'sinc_o') \t\t\t\t20 | (0.012037014091040374, 'attr_o')\n",
      "21 | (0.011540929869636654, 'imprace') \t\t\t\t21 | (0.011718154620580299, 'pf_o_fun')\n",
      "22 | (0.011522702296077009, 'amb') \t\t\t\t22 | (0.011667903313619587, 'sinc1_1')\n",
      "23 | (0.01131068472518371, 'intel_o') \t\t\t\t23 | (0.011061389346488308, 'amb_o')\n",
      "24 | (0.011276954108210354, 'shar1_1') \t\t\t\t24 | (0.010855050502676008, 'imprace')\n",
      "25 | (0.011162179331310407, 'pf_o_amb') \t\t\t\t25 | (0.010770592368423487, 'fun2_1')\n",
      "26 | (0.010906974675672695, 'yoga') \t\t\t\t26 | (0.010747340764101507, 'intel1_1')\n",
      "27 | (0.010371708650490415, 'pf_o_att') \t\t\t\t27 | (0.01040182556749474, 'pf_o_att')\n",
      "28 | (0.01035990066040419, 'shar_o') \t\t\t\t28 | (0.01039496525528784, 'sinc2_1')\n",
      "29 | (0.010144653826218715, 'fun3_1') \t\t\t\t29 | (0.010256538950510178, 'pf_o_int')\n",
      "30 | (0.0099740297354787479, 'pf_o_int') \t\t\t\t30 | (0.010175556315814949, 'shar2_1')\n",
      "31 | (0.0099427143907848022, 'race_o') \t\t\t\t31 | (0.01015072594062898, 'fun_o')\n",
      "32 | (0.0098065475372526752, 'exercise') \t\t\t\t32 | (0.0098617413758422708, 'age')\n",
      "33 | (0.0095018353690057393, 'sinc2_1') \t\t\t\t33 | (0.0098303086152374923, 'shopping')\n",
      "34 | (0.0094842832500628797, 'fun1_1') \t\t\t\t34 | (0.0097406111961850731, 'intel2_1')\n",
      "35 | (0.0092807389252842452, 'intel2_1') \t\t\t\t35 | (0.0096901225776476786, 'amb1_1')\n",
      "36 | (0.0092449614507353027, 'amb1_1') \t\t\t\t36 | (0.0096524092043208699, 'gaming')\n",
      "37 | (0.0092419144916494646, 'fun2_1') \t\t\t\t37 | (0.0096383748284313477, 'imprelig')\n",
      "38 | (0.009185384055591916, 'race') \t\t\t\t38 | (0.0094661051861300062, 'theater')\n",
      "39 | (0.0091597110134785439, 'gender') \t\t\t\t39 | (0.0093671117935580292, 'reading')\n",
      "40 | (0.0089906994937625842, 'exphappy') \t\t\t\t40 | (0.009275748472814373, 'exercise')\n",
      "41 | (0.0089460342004308944, 'hiking') \t\t\t\t41 | (0.0090445772434869058, 'like_o')\n",
      "42 | (0.0087992666394031884, 'concerts') \t\t\t\t42 | (0.0090307905864026906, 'pf_o_amb')\n",
      "43 | (0.0087381765736776855, 'iid') \t\t\t\t43 | (0.008949549070132819, 'amb3_1')\n",
      "44 | (0.0086772272319406204, 'intel1_1') \t\t\t\t44 | (0.0089181054233097301, 'movies')\n",
      "45 | (0.0086641930905485554, 'sinc3_1') \t\t\t\t45 | (0.0086846880641992426, 'fun1_1')\n",
      "46 | (0.0086449378588685857, 'tv') \t\t\t\t46 | (0.0085937208161400384, 'clubbing')\n",
      "47 | (0.0085753233486131984, 'attr2_1') \t\t\t\t47 | (0.0085480510275468113, 'shar1_1')\n",
      "48 | (0.0085668317667999851, 'amb3_1') \t\t\t\t48 | (0.0084714820327502945, 'career_c')\n",
      "49 | (0.0085006096475269011, 'tvsports') \t\t\t\t49 | (0.008360129892662934, 'tvsports')\n",
      "50 | (0.0084411133563254501, 'museums') \t\t\t\t50 | (0.008183993211381007, 'tv')\n",
      "51 | (0.0084009228495600108, 'zipcode') \t\t\t\t51 | (0.0081384303306912369, 'sports')\n",
      "52 | (0.0083834683797114999, 'attr3_1') \t\t\t\t52 | (0.0080126351114021745, 'dining')\n",
      "53 | (0.0083599266533989844, 'imprelig') \t\t\t\t53 | (0.0078252759443053158, 'concerts')\n",
      "54 | (0.0083515589059987919, 'dining') \t\t\t\t54 | (0.0076889039785103504, 'amb2_1')\n",
      "55 | (0.0082800969527018573, 'go_out') \t\t\t\t55 | (0.0076037080159245263, 'yoga')\n",
      "56 | (0.0082187884645439444, 'gaming') \t\t\t\t56 | (0.0075839852551319916, 'art')\n",
      "57 | (0.0081026405977485082, 'clubbing') \t\t\t\t57 | (0.0075682034603303553, 'attr3_1')\n",
      "58 | (0.0080568781686873227, 'theater') \t\t\t\t58 | (0.007483649586036689, 'attr1_1')\n",
      "59 | (0.0080010238687372587, 'samerace') \t\t\t\t59 | (0.0074797181600674834, 'sinc_o')\n",
      "60 | (0.0079669369791129947, 'date') \t\t\t\t60 | (0.0071344163017204544, 'hiking')\n",
      "61 | (0.007885428503620253, 'sinc1_1') \t\t\t\t61 | (0.006635525160427572, 'sinc3_1')\n",
      "62 | (0.0078257536950850221, 'sports') \t\t\t\t62 | (0.0065977785598475124, 'intel_o')\n",
      "63 | (0.007767419234086523, 'movies') \t\t\t\t63 | (0.0065816567609263965, 'music')\n",
      "64 | (0.0076878063058663567, 'shar2_1') \t\t\t\t64 | (0.0062539085497865052, 'exphappy')\n",
      "65 | (0.0076023041330230802, 'age') \t\t\t\t65 | (0.0061450569280792709, 'fun3_1')\n",
      "66 | (0.0075059947762415756, 'career_c') \t\t\t\t66 | (0.0060021120462350388, 'field_cd')\n",
      "67 | (0.0075017864531796308, 'art') \t\t\t\t67 | (0.0059969263373709459, 'go_out')\n",
      "68 | (0.0073820356407121408, 'shopping') \t\t\t\t68 | (0.0059497849941132896, 'goal')\n",
      "69 | (0.0073135966242910706, 'field_cd') \t\t\t\t69 | (0.0055593404279650222, 'race_o')\n",
      "70 | (0.0071954019565276753, 'amb2_1') \t\t\t\t70 | (0.0050255472839286133, 'gender')\n",
      "71 | (0.0071074516036752997, 'music') \t\t\t\t71 | (0.0046830132027157771, 'date')\n",
      "72 | (0.007003387281605389, 'reading') \t\t\t\t72 | (0.0043781937897326897, 'museums')\n",
      "73 | (0.0069925971478045886, 'intel3_1') \t\t\t\t73 | (0.0043046909169781218, 'intel3_1')\n",
      "74 | (0.0069435489234110845, 'attr1_1') \t\t\t\t74 | (0.0041017089545425751, 'race')\n",
      "75 | (0.0069395812730432107, 'met') \t\t\t\t75 | (0.0029094008913879434, 'met')\n",
      "76 | (0.0058089908757823806, 'goal') \t\t\t\t76 | (0.002878945178794745, 'samerace')\n",
      "77 | (0.00411829567877734, 'met_o') \t\t\t\t77 | (0.0022510915842366658, 'met_o')\n"
     ]
    }
   ],
   "source": [
    "rank_number = 0\n",
    "print 'ExtraTreesClassifier', '\\t'*5, 'RandomForestClassifier'\n",
    "print 'Old Space: ', original_space, '\\t'*5, 'Old Space:', original_space\n",
    "print 'New Space: ', new_space_ETC, '\\t'*5, 'New Space:', new_space_RFC\n",
    "for i, j in zip(tuple_holder, tuple_holder_2):\n",
    "    rank_number += 1\n",
    "    print rank_number, '|', i, '\\t'*4, rank_number, '|', j"
   ]
  }
 ],
 "metadata": {
  "kernelspec": {
   "display_name": "Python 2",
   "language": "python",
   "name": "python2"
  },
  "language_info": {
   "codemirror_mode": {
    "name": "ipython",
    "version": 2
   },
   "file_extension": ".py",
   "mimetype": "text/x-python",
   "name": "python",
   "nbconvert_exporter": "python",
   "pygments_lexer": "ipython2",
   "version": "2.7.12"
  }
 },
 "nbformat": 4,
 "nbformat_minor": 0
}
