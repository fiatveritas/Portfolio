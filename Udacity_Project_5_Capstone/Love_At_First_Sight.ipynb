{
 "cells": [
  {
   "cell_type": "markdown",
   "metadata": {
    "deletable": true,
    "editable": true
   },
   "source": [
    "<h1>Speed Dating: Who to Date Long Term</h1>"
   ]
  },
  {
   "cell_type": "markdown",
   "metadata": {
    "deletable": true,
    "editable": true
   },
   "source": [
    "What influences love at first sight? (Or, at least, love in the first four minutes?) This dataset was compiled by Columbia Business School professors Ray Fisman and Sheena Iyengar for their paper Gender Differences in Mate Selection: Evidence From a Speed Dating Experiment.<br>\n",
    "\n",
    "Data was gathered from participants in experimental speed dating events from 2002-2004. During the events, the attendees would have a four minute \"first date\" with every other participant of the opposite sex. At the end of their four minutes, participants were asked if they would like to see their date again. They were also asked to rate their date on six attributes: Attractiveness, Sincerity, Intelligence, Fun, Ambition, and Shared Interests.<br>\n",
    "\n",
    "The dataset also includes questionnaire data gathered from participants at different points in the process. These fields include: demographics, dating habits, self-perception across key attributes, beliefs on what others find valuable in a mate, and lifestyle information. See the Speed Dating Data Key document below for details.<br>\n",
    "\n",
    "For more analysis from Iyengar and Fisman, read Racial Preferences in Dating.<br>\n",
    "\n",
    "Data Exploration Ideas<br>\n",
    "\n",
    "What are the least desirable attributes in a male partner? Does this differ for female partners?<br>\n",
    "How important do people think attractiveness is in potential mate selection vs. its real impact?<br>\n",
    "Are shared interests more important than a shared racial background?<br>\n",
    "Can people accurately predict their own perceived value in the dating market?<br>\n",
    "In terms of getting a second date, is it better to be someone's first speed date of the night or their last?"
   ]
  },
  {
   "cell_type": "code",
   "execution_count": 1,
   "metadata": {
    "collapsed": false,
    "deletable": true,
    "editable": true
   },
   "outputs": [
    {
     "name": "stdout",
     "output_type": "stream",
     "text": [
      "pandas version is 0.18.0.\n",
      "numpy version is 1.10.4.\n",
      "scikit-learn version is 0.17.1.\n"
     ]
    }
   ],
   "source": [
    "import pandas as pd\n",
    "import numpy as np\n",
    "import sklearn\n",
    "from IPython.display import display\n",
    "%matplotlib inline\n",
    "\n",
    "print('pandas version is {}.'.format(pd.__version__))\n",
    "print('numpy version is {}.'.format(np.__version__))\n",
    "print('scikit-learn version is {}.'.format(sklearn.__version__))"
   ]
  },
  {
   "cell_type": "code",
   "execution_count": 2,
   "metadata": {
    "collapsed": false,
    "deletable": true,
    "editable": true
   },
   "outputs": [
    {
     "name": "stdout",
     "output_type": "stream",
     "text": [
      "This set has 8378 data points and 195 features.\n"
     ]
    }
   ],
   "source": [
    "data = pd.read_csv(\"Speed Dating Data.csv\")\n",
    "print \"This set has {} data points and {} features.\".format(*data.shape)"
   ]
  },
  {
   "cell_type": "markdown",
   "metadata": {
    "deletable": true,
    "editable": true
   },
   "source": [
    "<h1>Data Exploration</h1>"
   ]
  },
  {
   "cell_type": "code",
   "execution_count": 3,
   "metadata": {
    "collapsed": false,
    "deletable": true,
    "editable": true
   },
   "outputs": [],
   "source": [
    "import features_creator as fc #importing feature names made in file features_creator.py"
   ]
  },
  {
   "cell_type": "code",
   "execution_count": 4,
   "metadata": {
    "collapsed": false,
    "deletable": true,
    "editable": true
   },
   "outputs": [],
   "source": [
    "unique = data.copy()\n",
    "unique.drop_duplicates(subset = 'iid', keep = 'first', inplace = True)"
   ]
  },
  {
   "cell_type": "code",
   "execution_count": 5,
   "metadata": {
    "collapsed": false,
    "deletable": true,
    "editable": true
   },
   "outputs": [],
   "source": [
    "#for i in fc.clean_up_2:\n",
    "#    unique[i].replace(to_replace = 12.0, value = 10.0, inplace = True)"
   ]
  },
  {
   "cell_type": "code",
   "execution_count": 6,
   "metadata": {
    "collapsed": false,
    "deletable": true,
    "editable": true
   },
   "outputs": [],
   "source": [
    "#unique[fc.clean_up_2].describe()"
   ]
  },
  {
   "cell_type": "code",
   "execution_count": 7,
   "metadata": {
    "collapsed": false,
    "deletable": true,
    "editable": true
   },
   "outputs": [],
   "source": [
    "#for i, j in fc.master_list.iteritems():\n",
    "#    stuff = pd.DataFrame(data = unique, columns = ['iid', 'wave', 'gender'] + j)\n",
    "#    new_frame = stuff[stuff['gender'] == 0].copy()\n",
    "#    new_frame.drop(labels = ['iid', 'gender', 'wave'], axis = 1, inplace = True)\n",
    "#    for i in new_frame.columns:\n",
    "#        new_frame[i] = (new_frame[i] - new_frame[i].min()) / (new_frame[i].max() - new_frame[i].min())\n",
    "    #display(new_frame.describe())\n",
    "    #new_frame.hist(bins = 10, figsize = (15, 5))"
   ]
  },
  {
   "cell_type": "code",
   "execution_count": 8,
   "metadata": {
    "collapsed": false,
    "deletable": true,
    "editable": true
   },
   "outputs": [],
   "source": [
    "people_matched = data[data['match'] == 1].copy()\n",
    "people_matched.drop_duplicates(subset = 'iid', keep = 'first', inplace = True)\n",
    "for i in fc.clean_up_2:\n",
    "    people_matched[i].replace(to_replace = 12.0, value = 10.0, inplace = True)\n",
    "#display(people_matched)"
   ]
  },
  {
   "cell_type": "markdown",
   "metadata": {
    "deletable": true,
    "editable": true
   },
   "source": [
    "<h1>Code Commented out</h1>"
   ]
  },
  {
   "cell_type": "code",
   "execution_count": 13,
   "metadata": {
    "collapsed": false
   },
   "outputs": [],
   "source": [
    "not_ever_matched = []\n",
    "number = []\n",
    "for i in people_matched['iid']:\n",
    "    number.append(int(i))\n",
    "for i in range(1, 553):\n",
    "    if i not in number:\n",
    "        not_ever_matched.append(i)"
   ]
  },
  {
   "cell_type": "code",
   "execution_count": 14,
   "metadata": {
    "collapsed": false
   },
   "outputs": [
    {
     "name": "stdout",
     "output_type": "stream",
     "text": [
      "3 11 21 24 25 26 32 33 40 41 42 54 59 65 68 72 73 88 96 101 111 118 121 123 124 131 133 139 143 145 158 170 177 182 189 198 203 204 209 216 222 234 236 247 249 254 255 257 262 267 272 278 286 287 295 298 302 314 318 320 321 327 329 331 334 347 405 418 425 427 430 440 443 444 451 454 455 457 459 461 463 465 466 477 479 483 487 497 498 502 503 506 514 517 519 520 525 527 528 543\n"
     ]
    }
   ],
   "source": [
    "for i in not_ever_matched:\n",
    "    print i,\n",
    "#not_ever_matched = np.int64(not_ever_matched)"
   ]
  },
  {
   "cell_type": "markdown",
   "metadata": {},
   "source": [
    "<h1>Features</h1>"
   ]
  },
  {
   "cell_type": "code",
   "execution_count": null,
   "metadata": {
    "collapsed": false
   },
   "outputs": [],
   "source": [
    "for i, j in fc.data_cleaner.iteritems():\n",
    "    print i, j, '\\n'\n",
    "for i, j in fc.master_list.items():\n",
    "    print i, j, '\\n'\n",
    "print 'clean_up_1', '\\n', fc.clean_up_1, '\\n'\n",
    "print 'clean_up_2', '\\n', fc.clean_up_2, '\\n'\n",
    "print 'clean_up_3', '\\n', fc.clean_up_3, '\\n'\n",
    "print 'clean_up_4', '\\n', fc.clean_up_4, '\\n'\n",
    "print 'clean_up_5', '\\n', fc.clean_up_5, '\\n'"
   ]
  }
 ],
 "metadata": {
  "kernelspec": {
   "display_name": "Python 2",
   "language": "python",
   "name": "python2"
  },
  "language_info": {
   "codemirror_mode": {
    "name": "ipython",
    "version": 2
   },
   "file_extension": ".py",
   "mimetype": "text/x-python",
   "name": "python",
   "nbconvert_exporter": "python",
   "pygments_lexer": "ipython2",
   "version": "2.7.12"
  }
 },
 "nbformat": 4,
 "nbformat_minor": 0
}
