{
 "cells": [
  {
   "cell_type": "markdown",
   "metadata": {},
   "source": [
    "<h1>Speed Dating: Who to Date Long Term</h1>"
   ]
  },
  {
   "cell_type": "markdown",
   "metadata": {},
   "source": [
    "What influences love at first sight? (Or, at least, love in the first four minutes?) This dataset was compiled by Columbia Business School professors Ray Fisman and Sheena Iyengar for their paper Gender Differences in Mate Selection: Evidence From a Speed Dating Experiment.<br>\n",
    "\n",
    "Data was gathered from participants in experimental speed dating events from 2002-2004. During the events, the attendees would have a four minute \"first date\" with every other participant of the opposite sex. At the end of their four minutes, participants were asked if they would like to see their date again. They were also asked to rate their date on six attributes: Attractiveness, Sincerity, Intelligence, Fun, Ambition, and Shared Interests.<br>\n",
    "\n",
    "The dataset also includes questionnaire data gathered from participants at different points in the process. These fields include: demographics, dating habits, self-perception across key attributes, beliefs on what others find valuable in a mate, and lifestyle information. See the Speed Dating Data Key document below for details.<br>\n",
    "\n",
    "For more analysis from Iyengar and Fisman, read Racial Preferences in Dating.<br>\n",
    "\n",
    "Data Exploration Ideas<br>\n",
    "\n",
    "What are the least desirable attributes in a male partner? Does this differ for female partners?<br>\n",
    "How important do people think attractiveness is in potential mate selection vs. its real impact?<br>\n",
    "Are shared interests more important than a shared racial background?<br>\n",
    "Can people accurately predict their own perceived value in the dating market?<br>\n",
    "In terms of getting a second date, is it better to be someone's first speed date of the night or their last?"
   ]
  },
  {
   "cell_type": "code",
   "execution_count": 1,
   "metadata": {
    "collapsed": false
   },
   "outputs": [
    {
     "name": "stdout",
     "output_type": "stream",
     "text": [
      "pandas version is 0.18.0.\n",
      "numpy version is 1.10.4.\n",
      "scikit-learn version is 0.17.1.\n"
     ]
    }
   ],
   "source": [
    "import pandas as pd\n",
    "import numpy as np\n",
    "import sklearn\n",
    "from IPython.display import display\n",
    "%matplotlib inline\n",
    "\n",
    "print('pandas version is {}.'.format(pd.__version__))\n",
    "print('numpy version is {}.'.format(np.__version__))\n",
    "print('scikit-learn version is {}.'.format(sklearn.__version__))"
   ]
  },
  {
   "cell_type": "code",
   "execution_count": 2,
   "metadata": {
    "collapsed": false
   },
   "outputs": [
    {
     "name": "stdout",
     "output_type": "stream",
     "text": [
      "This set has 8378 data points and 195 features.\n"
     ]
    }
   ],
   "source": [
    "data = pd.read_csv(\"Speed Dating Data.csv\")\n",
    "print \"This set has {} data points and {} features.\".format(*data.shape)"
   ]
  },
  {
   "cell_type": "markdown",
   "metadata": {},
   "source": [
    "<h1>Data Exploration</h1>"
   ]
  },
  {
   "cell_type": "code",
   "execution_count": 3,
   "metadata": {
    "collapsed": false
   },
   "outputs": [],
   "source": [
    "import features_creator as fc"
   ]
  },
  {
   "cell_type": "code",
   "execution_count": 4,
   "metadata": {
    "collapsed": false
   },
   "outputs": [
    {
     "name": "stdout",
     "output_type": "stream",
     "text": [
      "first_round ['attr1_1', 'sinc1_1', 'intel1_1', 'fun1_1', 'amb1_1', 'shar1_1', 'attr2_1', 'sinc2_1', 'intel2_1', 'fun2_1', 'amb2_1', 'shar2_1', 'attr3_1', 'sinc3_1', 'intel3_1', 'fun3_1', 'amb3_1', 'attr4_1', 'sinc4_1', 'intel4_1', 'fun4_1', 'amb4_1', 'shar4_1', 'attr5_1', 'sinc5_1', 'intel5_1', 'fun5_1', 'amb5_1'] \n",
      "\n",
      "second_round ['attr1_2', 'sinc1_2', 'intel1_2', 'fun1_2', 'amb1_2', 'shar1_2', 'attr2_2', 'sinc2_2', 'intel2_2', 'fun2_2', 'amb2_2', 'shar2_2', 'attr3_2', 'sinc3_2', 'intel3_2', 'fun3_2', 'amb3_2', 'attr4_2', 'sinc4_2', 'intel4_2', 'fun4_2', 'amb4_2', 'shar4_2', 'attr5_2', 'sinc5_2', 'intel5_2', 'fun5_2', 'amb5_2'] \n",
      "\n",
      "third_round ['attr1_3', 'sinc1_3', 'intel1_3', 'fun1_3', 'amb1_3', 'shar1_3', 'attr2_3', 'sinc2_3', 'intel2_3', 'fun2_3', 'amb2_3', 'shar2_3', 'attr3_3', 'sinc3_3', 'intel3_3', 'fun3_3', 'amb3_3', 'attr4_3', 'sinc4_3', 'intel4_3', 'fun4_3', 'amb4_3', 'shar4_3', 'attr5_3', 'sinc5_3', 'intel5_3', 'fun5_3', 'amb5_3'] \n",
      "\n"
     ]
    }
   ],
   "source": [
    "for i, j in fc.data_cleaner.iteritems():\n",
    "    print i, j, '\\n'"
   ]
  },
  {
   "cell_type": "code",
   "execution_count": 5,
   "metadata": {
    "collapsed": false
   },
   "outputs": [
    {
     "name": "stdout",
     "output_type": "stream",
     "text": [
      "how_you_measure_attr ['attr3_1', 'attr3_2', 'attr3_3']\n",
      "you_think_most_want_fun ['fun4_1', 'fun4_2', 'fun4_3']\n",
      "you_think_opposite_wants_attr ['attr2_1', 'attr2_2', 'attr2_3']\n",
      "you_think_opposite_wants_intel ['intel2_1', 'intel2_2', 'intel2_3']\n",
      "you_think_most_want_sinc ['sinc4_1', 'sinc4_2', 'sinc4_3']\n",
      "you_think_opposite_wants_shar ['shar2_1', 'shar2_2', 'shar2_3']\n",
      "what_you_want_attr ['attr1_1', 'attr1_2', 'attr1_3']\n",
      "you_think_they_rate_you_amb ['amb5_1', 'amb5_2', 'amb5_3']\n",
      "how_you_measure_intel ['intel3_1', 'intel3_2', 'intel3_3']\n",
      "you_think_they_rate_you_sinc ['sinc5_1', 'sinc5_2', 'sinc5_3']\n",
      "how_you_measure_amb ['amb3_1', 'amb3_2', 'amb3_3']\n",
      "you_think_they_rate_you_fun ['fun5_1', 'fun5_2', 'fun5_3']\n",
      "how_you_measure_fun ['fun3_1', 'fun3_2', 'fun3_3']\n",
      "you_think_opposite_wants_sinc ['sinc2_1', 'sinc2_2', 'sinc2_3']\n",
      "what_you_want_intel ['intel1_1', 'intel1_2', 'intel1_3']\n",
      "what_you_want_shar ['shar1_1', 'shar1_2', 'shar1_3']\n",
      "you_think_most_want_attr ['attr4_1', 'attr4_2', 'attr4_3']\n",
      "how_you_measure_sinc ['sinc3_1', 'sinc3_2', 'sinc3_3']\n",
      "what_you_want_amb ['amb1_1', 'amb1_2', 'amb1_3']\n",
      "you_think_they_rate_you_intel ['intel5_1', 'intel5_2', 'intel5_3']\n",
      "what_you_want_fun ['fun1_1', 'fun1_2', 'fun1_3']\n",
      "you_think_most_want_intel ['intel4_1', 'intel4_2', 'intel4_3']\n",
      "you_think_they_rate_you_attr ['attr5_1', 'attr5_2', 'attr5_3']\n",
      "you_think_most_want_shar ['shar4_1', 'shar4_2', 'shar4_3']\n",
      "you_think_opposite_wants_amb ['amb2_1', 'amb2_2', 'amb2_3']\n",
      "what_you_want_sinc ['sinc1_1', 'sinc1_2', 'sinc1_3']\n",
      "you_think_opposite_wants_fun ['fun2_1', 'fun2_2', 'fun2_3']\n",
      "you_think_most_want_amb ['amb4_1', 'amb4_2', 'amb4_3']\n"
     ]
    }
   ],
   "source": [
    "for i, j in fc.master_list.iteritems():\n",
    "    print i, j"
   ]
  },
  {
   "cell_type": "code",
   "execution_count": 6,
   "metadata": {
    "collapsed": false
   },
   "outputs": [
    {
     "name": "stdout",
     "output_type": "stream",
     "text": [
      "['attr1_1', 'sinc1_1', 'intel1_1', 'fun1_1', 'amb1_1', 'shar1_1', 'attr1_2', 'sinc1_2', 'intel1_2', 'fun1_2', 'amb1_2', 'shar1_2', 'attr1_3', 'sinc1_3', 'intel1_3', 'fun1_3', 'amb1_3', 'shar1_3', 'attr2_1', 'sinc2_1', 'intel2_1', 'fun2_1', 'amb2_1', 'shar2_1'] \n",
      "\n",
      "['attr3_1', 'sinc3_1', 'intel3_1', 'fun3_1', 'amb3_1', 'attr3_2', 'sinc3_2', 'intel3_2', 'fun3_2', 'amb3_2', 'attr3_3', 'sinc3_3', 'intel3_3', 'fun3_3', 'amb3_3'] \n",
      "\n",
      "['attr5_1', 'sinc5_1', 'intel5_1', 'fun5_1', 'amb5_1', 'attr5_2', 'sinc5_2', 'intel5_2', 'fun5_2', 'amb5_2', 'attr5_3', 'sinc5_3', 'intel5_3', 'fun5_3', 'amb5_3'] \n",
      "\n",
      "['attr4_1', 'sinc4_1', 'intel4_1', 'fun4_1', 'amb4_1', 'shar4_1', 'attr4_2', 'sinc4_2', 'intel4_2', 'fun4_2', 'amb4_2', 'shar4_2', 'attr4_3', 'sinc4_3', 'intel4_3', 'fun4_3', 'amb4_3', 'shar4_3', 'attr2_3', 'sinc2_3', 'intel2_3', 'fun2_3', 'amb2_3', 'shar2_3'] \n",
      "\n",
      "['attr2_2', 'sinc2_2', 'intel2_2', 'fun2_2', 'amb2_2', 'shar2_2'] \n",
      "\n"
     ]
    }
   ],
   "source": [
    "print fc.clean_up_1, '\\n'\n",
    "print fc.clean_up_2, '\\n'\n",
    "print fc.clean_up_3, '\\n'\n",
    "print fc.clean_up_4, '\\n'\n",
    "print fc.clean_up_5, '\\n'"
   ]
  },
  {
   "cell_type": "code",
   "execution_count": 7,
   "metadata": {
    "collapsed": false
   },
   "outputs": [],
   "source": [
    "for i, j in fc.master_list.iteritems():\n",
    "    stuff = pd.DataFrame(data = data, columns = ['iid', 'wave', 'gender'] + j)\n",
    "    stuff.drop_duplicates(subset = 'iid', keep = 'first', inplace = True)\n",
    "    new_frame = stuff[stuff['gender'] == 0].copy()\n",
    "    new_frame.drop(labels = ['iid', 'gender', 'wave'], axis = 1, inplace = True)\n",
    "    for i in new_frame.columns:\n",
    "        new_frame[i] = (new_frame[i] - new_frame[i].min()) / (new_frame[i].max() - new_frame[i].min())\n",
    "    #display(new_frame.describe())\n",
    "    #new_frame.hist(bins = 10, figsize = (15, 5))"
   ]
  },
  {
   "cell_type": "code",
   "execution_count": 8,
   "metadata": {
    "collapsed": false
   },
   "outputs": [],
   "source": [
    "unique = data.copy()\n",
    "unique.drop_duplicates(subset = 'iid', keep = 'first', inplace = True)"
   ]
  },
  {
   "cell_type": "code",
   "execution_count": 9,
   "metadata": {
    "collapsed": false
   },
   "outputs": [
    {
     "name": "stderr",
     "output_type": "stream",
     "text": [
      "C:\\Users\\Henry\\Anaconda2\\lib\\site-packages\\ipykernel\\__main__.py:1: SettingWithCopyWarning: \n",
      "A value is trying to be set on a copy of a slice from a DataFrame\n",
      "\n",
      "See the caveats in the documentation: http://pandas.pydata.org/pandas-docs/stable/indexing.html#indexing-view-versus-copy\n",
      "  if __name__ == '__main__':\n"
     ]
    }
   ],
   "source": [
    "unique[fc.clean_up_3].replace(to_replace = 12, value = 10, inplace = True)"
   ]
  },
  {
   "cell_type": "code",
   "execution_count": 10,
   "metadata": {
    "collapsed": false
   },
   "outputs": [
    {
     "data": {
      "text/html": [
       "<div>\n",
       "<table border=\"1\" class=\"dataframe\">\n",
       "  <thead>\n",
       "    <tr style=\"text-align: right;\">\n",
       "      <th></th>\n",
       "      <th>attr5_1</th>\n",
       "      <th>sinc5_1</th>\n",
       "      <th>intel5_1</th>\n",
       "      <th>fun5_1</th>\n",
       "      <th>amb5_1</th>\n",
       "      <th>attr5_2</th>\n",
       "      <th>sinc5_2</th>\n",
       "      <th>intel5_2</th>\n",
       "      <th>fun5_2</th>\n",
       "      <th>amb5_2</th>\n",
       "      <th>attr5_3</th>\n",
       "      <th>sinc5_3</th>\n",
       "      <th>intel5_3</th>\n",
       "      <th>fun5_3</th>\n",
       "      <th>amb5_3</th>\n",
       "    </tr>\n",
       "  </thead>\n",
       "  <tbody>\n",
       "    <tr>\n",
       "      <th>count</th>\n",
       "      <td>314.000000</td>\n",
       "      <td>314.000000</td>\n",
       "      <td>314.000000</td>\n",
       "      <td>314.000000</td>\n",
       "      <td>314.000000</td>\n",
       "      <td>277.000000</td>\n",
       "      <td>277.000000</td>\n",
       "      <td>277.000000</td>\n",
       "      <td>277.000000</td>\n",
       "      <td>277.000000</td>\n",
       "      <td>131.000000</td>\n",
       "      <td>131.000000</td>\n",
       "      <td>131.000000</td>\n",
       "      <td>131.000000</td>\n",
       "      <td>131.000000</td>\n",
       "    </tr>\n",
       "    <tr>\n",
       "      <th>mean</th>\n",
       "      <td>6.929936</td>\n",
       "      <td>7.933121</td>\n",
       "      <td>8.257962</td>\n",
       "      <td>7.385350</td>\n",
       "      <td>7.601911</td>\n",
       "      <td>6.823105</td>\n",
       "      <td>7.429603</td>\n",
       "      <td>7.837545</td>\n",
       "      <td>7.259928</td>\n",
       "      <td>7.324910</td>\n",
       "      <td>6.793893</td>\n",
       "      <td>7.633588</td>\n",
       "      <td>7.931298</td>\n",
       "      <td>7.091603</td>\n",
       "      <td>6.954198</td>\n",
       "    </tr>\n",
       "    <tr>\n",
       "      <th>std</th>\n",
       "      <td>1.506597</td>\n",
       "      <td>1.643649</td>\n",
       "      <td>1.330528</td>\n",
       "      <td>1.796671</td>\n",
       "      <td>1.822156</td>\n",
       "      <td>1.383563</td>\n",
       "      <td>1.594689</td>\n",
       "      <td>1.284932</td>\n",
       "      <td>1.621063</td>\n",
       "      <td>1.544929</td>\n",
       "      <td>1.522738</td>\n",
       "      <td>1.530239</td>\n",
       "      <td>1.387809</td>\n",
       "      <td>1.661558</td>\n",
       "      <td>1.826567</td>\n",
       "    </tr>\n",
       "    <tr>\n",
       "      <th>min</th>\n",
       "      <td>2.000000</td>\n",
       "      <td>1.000000</td>\n",
       "      <td>3.000000</td>\n",
       "      <td>2.000000</td>\n",
       "      <td>1.000000</td>\n",
       "      <td>2.000000</td>\n",
       "      <td>2.000000</td>\n",
       "      <td>2.000000</td>\n",
       "      <td>2.000000</td>\n",
       "      <td>2.000000</td>\n",
       "      <td>2.000000</td>\n",
       "      <td>2.000000</td>\n",
       "      <td>4.000000</td>\n",
       "      <td>1.000000</td>\n",
       "      <td>1.000000</td>\n",
       "    </tr>\n",
       "    <tr>\n",
       "      <th>25%</th>\n",
       "      <td>6.000000</td>\n",
       "      <td>7.000000</td>\n",
       "      <td>8.000000</td>\n",
       "      <td>6.000000</td>\n",
       "      <td>7.000000</td>\n",
       "      <td>6.000000</td>\n",
       "      <td>7.000000</td>\n",
       "      <td>7.000000</td>\n",
       "      <td>6.000000</td>\n",
       "      <td>6.000000</td>\n",
       "      <td>6.000000</td>\n",
       "      <td>7.000000</td>\n",
       "      <td>7.000000</td>\n",
       "      <td>6.000000</td>\n",
       "      <td>6.000000</td>\n",
       "    </tr>\n",
       "    <tr>\n",
       "      <th>50%</th>\n",
       "      <td>7.000000</td>\n",
       "      <td>8.000000</td>\n",
       "      <td>8.000000</td>\n",
       "      <td>8.000000</td>\n",
       "      <td>8.000000</td>\n",
       "      <td>7.000000</td>\n",
       "      <td>8.000000</td>\n",
       "      <td>8.000000</td>\n",
       "      <td>7.000000</td>\n",
       "      <td>7.000000</td>\n",
       "      <td>7.000000</td>\n",
       "      <td>8.000000</td>\n",
       "      <td>8.000000</td>\n",
       "      <td>7.000000</td>\n",
       "      <td>7.000000</td>\n",
       "    </tr>\n",
       "    <tr>\n",
       "      <th>75%</th>\n",
       "      <td>8.000000</td>\n",
       "      <td>9.000000</td>\n",
       "      <td>9.000000</td>\n",
       "      <td>9.000000</td>\n",
       "      <td>9.000000</td>\n",
       "      <td>8.000000</td>\n",
       "      <td>8.000000</td>\n",
       "      <td>9.000000</td>\n",
       "      <td>8.000000</td>\n",
       "      <td>8.000000</td>\n",
       "      <td>8.000000</td>\n",
       "      <td>9.000000</td>\n",
       "      <td>9.000000</td>\n",
       "      <td>8.000000</td>\n",
       "      <td>8.000000</td>\n",
       "    </tr>\n",
       "    <tr>\n",
       "      <th>max</th>\n",
       "      <td>10.000000</td>\n",
       "      <td>10.000000</td>\n",
       "      <td>10.000000</td>\n",
       "      <td>10.000000</td>\n",
       "      <td>10.000000</td>\n",
       "      <td>10.000000</td>\n",
       "      <td>10.000000</td>\n",
       "      <td>10.000000</td>\n",
       "      <td>10.000000</td>\n",
       "      <td>10.000000</td>\n",
       "      <td>10.000000</td>\n",
       "      <td>10.000000</td>\n",
       "      <td>10.000000</td>\n",
       "      <td>10.000000</td>\n",
       "      <td>10.000000</td>\n",
       "    </tr>\n",
       "  </tbody>\n",
       "</table>\n",
       "</div>"
      ],
      "text/plain": [
       "          attr5_1     sinc5_1    intel5_1      fun5_1      amb5_1     attr5_2  \\\n",
       "count  314.000000  314.000000  314.000000  314.000000  314.000000  277.000000   \n",
       "mean     6.929936    7.933121    8.257962    7.385350    7.601911    6.823105   \n",
       "std      1.506597    1.643649    1.330528    1.796671    1.822156    1.383563   \n",
       "min      2.000000    1.000000    3.000000    2.000000    1.000000    2.000000   \n",
       "25%      6.000000    7.000000    8.000000    6.000000    7.000000    6.000000   \n",
       "50%      7.000000    8.000000    8.000000    8.000000    8.000000    7.000000   \n",
       "75%      8.000000    9.000000    9.000000    9.000000    9.000000    8.000000   \n",
       "max     10.000000   10.000000   10.000000   10.000000   10.000000   10.000000   \n",
       "\n",
       "          sinc5_2    intel5_2      fun5_2      amb5_2     attr5_3     sinc5_3  \\\n",
       "count  277.000000  277.000000  277.000000  277.000000  131.000000  131.000000   \n",
       "mean     7.429603    7.837545    7.259928    7.324910    6.793893    7.633588   \n",
       "std      1.594689    1.284932    1.621063    1.544929    1.522738    1.530239   \n",
       "min      2.000000    2.000000    2.000000    2.000000    2.000000    2.000000   \n",
       "25%      7.000000    7.000000    6.000000    6.000000    6.000000    7.000000   \n",
       "50%      8.000000    8.000000    7.000000    7.000000    7.000000    8.000000   \n",
       "75%      8.000000    9.000000    8.000000    8.000000    8.000000    9.000000   \n",
       "max     10.000000   10.000000   10.000000   10.000000   10.000000   10.000000   \n",
       "\n",
       "         intel5_3      fun5_3      amb5_3  \n",
       "count  131.000000  131.000000  131.000000  \n",
       "mean     7.931298    7.091603    6.954198  \n",
       "std      1.387809    1.661558    1.826567  \n",
       "min      4.000000    1.000000    1.000000  \n",
       "25%      7.000000    6.000000    6.000000  \n",
       "50%      8.000000    7.000000    7.000000  \n",
       "75%      9.000000    8.000000    8.000000  \n",
       "max     10.000000   10.000000   10.000000  "
      ]
     },
     "execution_count": 10,
     "metadata": {},
     "output_type": "execute_result"
    }
   ],
   "source": [
    "unique[fc.clean_up_3].describe()"
   ]
  },
  {
   "cell_type": "markdown",
   "metadata": {},
   "source": [
    "<h1>Code Commented out</h1>"
   ]
  },
  {
   "cell_type": "code",
   "execution_count": 11,
   "metadata": {
    "collapsed": false
   },
   "outputs": [
    {
     "data": {
      "text/plain": [
       "\"unique[ ( unique ['attr1_1'] + unique['sinc1_1'] + unique['intel1_1'] + unique['fun1_1'] + unique['amb1_1'] +  unique['shar1_1'] < 100) | \\n       (unique ['attr1_1'] + unique['sinc1_1'] + unique['intel1_1'] + unique['fun1_1'] + unique['amb1_1'] +  unique['shar1_1'] > 100)][\\n    ['iid', 'wave','gender','attr1_1', 'sinc1_1', 'intel1_1', 'fun1_1', 'amb1_1', 'shar1_1']]\""
      ]
     },
     "execution_count": 11,
     "metadata": {},
     "output_type": "execute_result"
    }
   ],
   "source": [
    "\"\"\"unique[ ( unique ['attr1_1'] + unique['sinc1_1'] + unique['intel1_1'] + unique['fun1_1'] + unique['amb1_1'] +  unique['shar1_1'] < 100) | \n",
    "       (unique ['attr1_1'] + unique['sinc1_1'] + unique['intel1_1'] + unique['fun1_1'] + unique['amb1_1'] +  unique['shar1_1'] > 100)][\n",
    "    ['iid', 'wave','gender','attr1_1', 'sinc1_1', 'intel1_1', 'fun1_1', 'amb1_1', 'shar1_1']]\"\"\""
   ]
  }
 ],
 "metadata": {
  "kernelspec": {
   "display_name": "Python 2",
   "language": "python",
   "name": "python2"
  },
  "language_info": {
   "codemirror_mode": {
    "name": "ipython",
    "version": 2
   },
   "file_extension": ".py",
   "mimetype": "text/x-python",
   "name": "python",
   "nbconvert_exporter": "python",
   "pygments_lexer": "ipython2",
   "version": "2.7.12"
  }
 },
 "nbformat": 4,
 "nbformat_minor": 0
}
