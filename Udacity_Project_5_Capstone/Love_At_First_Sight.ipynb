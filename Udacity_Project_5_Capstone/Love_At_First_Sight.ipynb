{
 "cells": [
  {
   "cell_type": "markdown",
   "metadata": {},
   "source": [
    "<h1>Speed Dating: Who to Date Long Term</h1>"
   ]
  },
  {
   "cell_type": "markdown",
   "metadata": {},
   "source": [
    "What influences love at first sight? (Or, at least, love in the first four minutes?) This dataset was compiled by Columbia Business School professors Ray Fisman and Sheena Iyengar for their paper Gender Differences in Mate Selection: Evidence From a Speed Dating Experiment.<br>\n",
    "\n",
    "Data was gathered from participants in experimental speed dating events from 2002-2004. During the events, the attendees would have a four minute \"first date\" with every other participant of the opposite sex. At the end of their four minutes, participants were asked if they would like to see their date again. They were also asked to rate their date on six attributes: Attractiveness, Sincerity, Intelligence, Fun, Ambition, and Shared Interests.<br>\n",
    "\n",
    "The dataset also includes questionnaire data gathered from participants at different points in the process. These fields include: demographics, dating habits, self-perception across key attributes, beliefs on what others find valuable in a mate, and lifestyle information. See the Speed Dating Data Key document below for details.<br>\n",
    "\n",
    "For more analysis from Iyengar and Fisman, read Racial Preferences in Dating.<br>\n",
    "\n",
    "Data Exploration Ideas<br>\n",
    "\n",
    "What are the least desirable attributes in a male partner? Does this differ for female partners?<br>\n",
    "How important do people think attractiveness is in potential mate selection vs. its real impact?<br>\n",
    "Are shared interests more important than a shared racial background?<br>\n",
    "Can people accurately predict their own perceived value in the dating market?<br>\n",
    "In terms of getting a second date, is it better to be someone's first speed date of the night or their last?"
   ]
  },
  {
   "cell_type": "code",
   "execution_count": null,
   "metadata": {
    "collapsed": false
   },
   "outputs": [],
   "source": [
    "import pandas as pd\n",
    "import numpy as np\n",
    "import sklearn\n",
    "from IPython.display import display\n",
    "%matplotlib inline\n",
    "\n",
    "print('pandas version is {}.'.format(pd.__version__))\n",
    "print('numpy version is {}.'.format(np.__version__))\n",
    "print('scikit-learn version is {}.'.format(sklearn.__version__))"
   ]
  },
  {
   "cell_type": "code",
   "execution_count": null,
   "metadata": {
    "collapsed": false
   },
   "outputs": [],
   "source": [
    "data = pd.read_csv(\"Speed Dating Data.csv\")\n",
    "print \"This set has {} data points and {} features.\".format(*data.shape)"
   ]
  },
  {
   "cell_type": "markdown",
   "metadata": {},
   "source": [
    "<h6>Initialize features to explore what Women and Men look for in a partner.</h6>"
   ]
  },
  {
   "cell_type": "code",
   "execution_count": null,
   "metadata": {
    "collapsed": false
   },
   "outputs": [],
   "source": [
    "features = [\"attr1_\", \"sinc1_\", \"intel1_\", \"fun1_\", \"amb1_\", \"shar1_\"]#general feature set will append number at end\n",
    "of_the_day = [j + str(i) for i in range(1,2) for j in features]#feature set for desired traits at start of event waves 1 - 5 & waves 10 - 21\n",
    "half_way = [j + 's' for j in features]#feature set for desired traits half way through event waves 6 - 9\n",
    "a_day_after = [j + str(i) for i in range(2,3) for j in features]#feature set for desired traits day after the event\n",
    "three_weeks_after = [j + str(i) for i in range(3,4) for j in features]#feature set for desired traits 3 - 4 weeks after the event\n",
    "you_looking_for = ['iid', 'wave', 'gender']#exploratory features\n",
    "listing_of_features = [of_the_day, half_way, a_day_after, three_weeks_after]\n",
    "for i in listing_of_features:\n",
    "    for j in i:\n",
    "        you_looking_for.append(j)"
   ]
  },
  {
   "cell_type": "code",
   "execution_count": null,
   "metadata": {
    "collapsed": false
   },
   "outputs": [],
   "source": [
    "stuff = pd.DataFrame(data = data, columns = you_looking_for)\n",
    "unique_iid = stuff.copy()\n",
    "unique_iid.drop_duplicates(keep = 'first', inplace = True)\n",
    "self_perception_of_the_day_starting = pd.DataFrame(data = unique_iid, columns = you_looking_for[0:9])"
   ]
  },
  {
   "cell_type": "markdown",
   "metadata": {},
   "source": [
    "<h6>This block looks at what both Women and Men look for in an ideal partner at the beginning of the event. Statistics include both genders.</h6>"
   ]
  },
  {
   "cell_type": "code",
   "execution_count": null,
   "metadata": {
    "collapsed": false
   },
   "outputs": [],
   "source": [
    "waves_men_women = self_perception_of_the_day_starting.copy()\n",
    "waves_men_women.fillna(value = 0, inplace = True)\n",
    "new_waves_men_women = waves_men_women.drop(['iid', 'wave', 'gender'], axis = 1)\n",
    "#new_waves_men_women.describe()"
   ]
  },
  {
   "cell_type": "markdown",
   "metadata": {},
   "source": [
    "<h6>This block looks at what Women look for in an ideal partner at the beginning of the event.</h6>"
   ]
  },
  {
   "cell_type": "code",
   "execution_count": null,
   "metadata": {
    "collapsed": false
   },
   "outputs": [],
   "source": [
    "#women_at_start = waves_men_women[waves_men_women['gender'] == 0]\n",
    "women_at_start = waves_men_women.copy()\n",
    "women_at_start = women_at_start[women_at_start['gender'] == 0]\n",
    "women_at_start.drop(['iid', 'wave', 'gender'], axis = 1, inplace = True)\n",
    "women_at_start.describe()"
   ]
  },
  {
   "cell_type": "markdown",
   "metadata": {},
   "source": [
    "<h6>This block looks at what Men look for in an ideal partner at the beginning of the event.</h6>"
   ]
  },
  {
   "cell_type": "code",
   "execution_count": null,
   "metadata": {
    "collapsed": false
   },
   "outputs": [],
   "source": [
    "men_at_start = waves_men_women.copy()\n",
    "men_at_start = men_at_start[men_at_start['gender'] == 1]\n",
    "men_at_start.drop(['iid', 'wave', 'gender'], axis = 1, inplace = True)\n",
    "#men_at_start.describe()"
   ]
  },
  {
   "cell_type": "markdown",
   "metadata": {},
   "source": [
    "<h6>This block looks at what Women and Men look for in an ideal partner halfway through the Speed Dating event.</h6>"
   ]
  },
  {
   "cell_type": "code",
   "execution_count": null,
   "metadata": {
    "collapsed": false
   },
   "outputs": [],
   "source": [
    "waves_6_9 = unique_iid.copy()\n",
    "waves_6_9 = waves_6_9[~((waves_6_9['wave'] < 6 ) | (waves_6_9['wave'] > 17))]\n",
    "waves_6_9 = waves_6_9[(waves_6_9['wave'] < 12) | (waves_6_9['wave'] > 14)]\n",
    "waves_6_9 = waves_6_9[[\"iid\", \"wave\", \"gender\", \"attr1_s\", \"sinc1_s\", \"intel1_s\", \"fun1_s\", \"amb1_s\", \"shar1_s\"]]\n",
    "waves_6_9.fillna(value = 0, inplace = True)\n",
    "waves_6_9_both_genders = waves_6_9.copy()\n",
    "waves_6_9_both_genders.drop(['iid', 'wave', 'gender'], axis = 1, inplace = True)\n",
    "#waves_6_9_both_genders.describe()"
   ]
  },
  {
   "cell_type": "markdown",
   "metadata": {},
   "source": [
    "<h6>This block looks at what Women look for in an ideal partner halfway through the Speed Dating event.</h6>"
   ]
  },
  {
   "cell_type": "code",
   "execution_count": null,
   "metadata": {
    "collapsed": false
   },
   "outputs": [],
   "source": [
    "waves_6_9_women = waves_6_9.copy()\n",
    "waves_6_9_women = waves_6_9_women[waves_6_9_women['gender'] == 0]\n",
    "waves_6_9_women.drop(['iid', 'wave', 'gender'], axis = 1, inplace = True)\n",
    "#waves_6_9_women.describe()"
   ]
  },
  {
   "cell_type": "markdown",
   "metadata": {},
   "source": [
    "<h6>This block looks at what Men look for in an ideal partner halfway through the Speed Dating event.</h6>"
   ]
  },
  {
   "cell_type": "code",
   "execution_count": null,
   "metadata": {
    "collapsed": false
   },
   "outputs": [],
   "source": [
    "waves_6_9_men = waves_6_9.copy()\n",
    "waves_6_9_men = waves_6_9_men[waves_6_9_men['gender'] == 1]\n",
    "waves_6_9_men.drop(['iid', 'wave', 'gender'], axis = 1, inplace = True)\n",
    "#waves_6_9_men.describe()"
   ]
  },
  {
   "cell_type": "markdown",
   "metadata": {},
   "source": [
    "<h6>This block looks at what Women and Men look for in an ideal partner one day after the Speed Dating event.</h6>"
   ]
  },
  {
   "cell_type": "code",
   "execution_count": null,
   "metadata": {
    "collapsed": false
   },
   "outputs": [],
   "source": [
    "waves_men_women_day_after = pd.DataFrame(unique_iid, \n",
    "                                           columns = [\"iid\", \"wave\", \"gender\", \"attr1_2\", \"sinc1_2\", \"intel1_2\", \"fun1_2\", \"amb1_2\", \"shar1_2\"])\n",
    "waves_men_women_day_after.dropna(inplace = True)\n",
    "both_genders_day_after = waves_men_women_day_after.copy()\n",
    "both_genders_day_after.drop([\"iid\", \"wave\", \"gender\"], axis = 1, inplace = True)\n",
    "#both_genders_day_after.describe()"
   ]
  },
  {
   "cell_type": "markdown",
   "metadata": {},
   "source": [
    "<h6>This block looks at what Women look for in an ideal partner one day after the Speed Dating event.</h6>"
   ]
  },
  {
   "cell_type": "code",
   "execution_count": null,
   "metadata": {
    "collapsed": false
   },
   "outputs": [],
   "source": [
    "women_day_after = waves_men_women_day_after.copy()\n",
    "women_day_after = women_day_after[women_day_after['gender'] == 0]\n",
    "women_day_after.drop([\"iid\", \"wave\", \"gender\"], axis = 1, inplace = True)\n",
    "#women_day_after.describe()"
   ]
  },
  {
   "cell_type": "markdown",
   "metadata": {},
   "source": [
    "<h6>This block looks at what Men look for in an ideal partner one day after the Speed Dating event.</h6>"
   ]
  },
  {
   "cell_type": "code",
   "execution_count": null,
   "metadata": {
    "collapsed": false
   },
   "outputs": [],
   "source": [
    "men_day_after = waves_men_women_day_after.copy()\n",
    "men_day_after = men_day_after[men_day_after['gender'] == 1]\n",
    "men_day_after\n",
    "men_day_after.drop([\"iid\", \"wave\", \"gender\"], axis = 1, inplace = True)\n",
    "#men_day_after.describe()"
   ]
  },
  {
   "cell_type": "markdown",
   "metadata": {},
   "source": [
    "<h6>This block looks at what Women and Men look for in an ideal partner 3 - 4 weeks after the Speed Dating event.</h6>"
   ]
  },
  {
   "cell_type": "code",
   "execution_count": null,
   "metadata": {
    "collapsed": false
   },
   "outputs": [],
   "source": [
    "waves_men_women_weeks_after = pd.DataFrame(unique_iid, \n",
    "                                           columns = [\"iid\", \"wave\", \"gender\", \"attr1_3\", \"sinc1_3\", \"intel1_3\", \"fun1_3\", \"amb1_3\", \"shar1_3\"])\n",
    "waves_men_women_weeks_after.dropna(inplace = True)\n",
    "both_genders_weeks_after = pd.DataFrame(waves_men_women_weeks_after, \n",
    "                                       columns = [\"iid\", \"wave\", \"gender\", \"attr1_3\", \"sinc1_3\", \"intel1_3\", \"fun1_3\", \"amb1_3\", \"shar1_3\"])\n",
    "both_genders_weeks_after.drop([\"iid\", \"wave\", \"gender\"], axis = 1, inplace = True)\n",
    "#both_genders_weeks_after.describe()"
   ]
  },
  {
   "cell_type": "markdown",
   "metadata": {},
   "source": [
    "<h6>This block looks at what Women look for in an ideal partner 3 - 4 weeks after the Speed Dating event.</h6>"
   ]
  },
  {
   "cell_type": "code",
   "execution_count": null,
   "metadata": {
    "collapsed": false
   },
   "outputs": [],
   "source": [
    "women_weeks_after = waves_men_women_weeks_after.copy()\n",
    "women_weeks_after = women_weeks_after[women_weeks_after['gender'] == 0]\n",
    "women_weeks_after.drop([\"iid\", \"wave\", \"gender\"], axis = 1, inplace = True)\n",
    "#women_weeks_after.describe()"
   ]
  },
  {
   "cell_type": "markdown",
   "metadata": {},
   "source": [
    "<h6>This block looks at what Men look for in an ideal partner 3 - 4 weeks after the Speed Dating event.</h6>"
   ]
  },
  {
   "cell_type": "code",
   "execution_count": null,
   "metadata": {
    "collapsed": false
   },
   "outputs": [],
   "source": [
    "men_weeks_after = waves_men_women_weeks_after.copy()\n",
    "men_weeks_after = men_weeks_after[men_weeks_after['gender'] == 1]\n",
    "men_weeks_after.drop([\"iid\", \"wave\", \"gender\"], axis = 1, inplace = True)\n",
    "#men_weeks_after.describe()"
   ]
  },
  {
   "cell_type": "markdown",
   "metadata": {},
   "source": [
    "<h6>This block looks at how both Women and Men rate themselves, respectively, at the start of the Speed Dating event.</h6>"
   ]
  },
  {
   "cell_type": "code",
   "execution_count": null,
   "metadata": {
    "collapsed": false
   },
   "outputs": [],
   "source": [
    "self_perceived = [\"iid\", \"gender\", \"wave\", \"attr3_1\", \"sinc3_1\", \"fun3_1\", \"intel3_1\", \"amb3_1\",\n",
    "                  \"attr3_s\", \"sinc3_s\", \"intel3_s\", \"fun3_s\", \"amb3_s\", \n",
    "                  \"attr3_2\", \"sinc3_2\", \"intel3_2\", \"fun3_2\", \"amb3_2\", \n",
    "                  \"attr3_3\", \"sinc3_3\", \"intel3_3\", \"fun3_3\", \"amb3_3\"]\n",
    "self_rating = pd.DataFrame(data = data, columns = self_perceived)\n",
    "self_rating.drop_duplicates(keep = 'first', inplace = True)"
   ]
  },
  {
   "cell_type": "code",
   "execution_count": null,
   "metadata": {
    "collapsed": false
   },
   "outputs": [],
   "source": [
    "self_rating_on_the_day = self_rating.copy()\n",
    "self_rating_on_the_day.drop(self_rating_on_the_day.columns[8:], axis = 1, inplace = True)\n",
    "self_rating_on_the_day.fillna(value = 1, inplace = True)\n",
    "self_rating_on_the_day_both = self_rating_on_the_day.copy()\n",
    "self_rating_on_the_day_both.drop(['iid', 'wave', 'gender'], axis = 1, inplace = True)\n",
    "#self_rating_on_the_day_both.describe()"
   ]
  },
  {
   "cell_type": "markdown",
   "metadata": {},
   "source": [
    "This block looks at how Women rate themselves at the start of the Speed Dating event."
   ]
  },
  {
   "cell_type": "code",
   "execution_count": null,
   "metadata": {
    "collapsed": false
   },
   "outputs": [],
   "source": [
    "self_rating_on_the_day_women = self_rating_on_the_day.copy()\n",
    "self_rating_on_the_day_women = self_rating_on_the_day_women[self_rating_on_the_day_women['gender'] == 0]\n",
    "self_rating_on_the_day_women.drop(['iid', 'wave', 'gender'], axis = 1, inplace = True)\n",
    "#self_rating_on_the_day_women.describe()"
   ]
  },
  {
   "cell_type": "markdown",
   "metadata": {},
   "source": [
    "This block looks at how Men rate themselves at the start of the Speed Dating event."
   ]
  },
  {
   "cell_type": "code",
   "execution_count": null,
   "metadata": {
    "collapsed": false
   },
   "outputs": [],
   "source": [
    "self_rating_on_the_day_men = self_rating_on_the_day.copy()\n",
    "self_rating_on_the_day_men = self_rating_on_the_day_men[self_rating_on_the_day_men['gender'] == 1]\n",
    "self_rating_on_the_day_men.drop(['iid', 'wave', 'gender'], axis = 1, inplace = True)\n",
    "#self_rating_on_the_day_men.describe()"
   ]
  },
  {
   "cell_type": "markdown",
   "metadata": {},
   "source": [
    "<h6>This block looks at how both how Women and Men rate themselves halfway through the Speed Dating event.</h6>"
   ]
  },
  {
   "cell_type": "code",
   "execution_count": null,
   "metadata": {
    "collapsed": false
   },
   "outputs": [],
   "source": [
    "self_rating_half_way = self_rating.copy()\n",
    "self_rating_half_way.drop(self_rating_half_way.columns[3:8], axis = 1, inplace = True)\n",
    "self_rating_half_way.drop(self_rating_half_way.columns[8:], axis = 1, inplace = True)\n",
    "self_rating_half_way.dropna(inplace = True)"
   ]
  },
  {
   "cell_type": "code",
   "execution_count": null,
   "metadata": {
    "collapsed": false
   },
   "outputs": [],
   "source": [
    "self_rating_half_way_both = self_rating_half_way.copy()\n",
    "self_rating_half_way_both.drop(['iid', 'wave', 'gender'], axis = 1, inplace = True)\n",
    "#self_rating_half_way_both.describe()"
   ]
  },
  {
   "cell_type": "markdown",
   "metadata": {},
   "source": [
    "<h6>This block looks at how Women rate themselves half through the Speed Dating event.</h6>"
   ]
  },
  {
   "cell_type": "code",
   "execution_count": null,
   "metadata": {
    "collapsed": false
   },
   "outputs": [],
   "source": [
    "self_rating_half_way_women = self_rating_half_way.copy()\n",
    "self_rating_half_way_women = self_rating_half_way_women[self_rating_half_way_women['gender'] == 0]\n",
    "self_rating_half_way_women.drop(['iid', 'wave', 'gender'], axis = 1, inplace = True)\n",
    "#self_rating_half_way_women.describe()"
   ]
  },
  {
   "cell_type": "markdown",
   "metadata": {},
   "source": [
    "<h6>This block looks at how Men rate themselves half way through the Speed Dating event.</h6>"
   ]
  },
  {
   "cell_type": "code",
   "execution_count": null,
   "metadata": {
    "collapsed": false
   },
   "outputs": [],
   "source": [
    "self_rating_half_way_men = self_rating_half_way.copy()\n",
    "self_rating_half_way_men = self_rating_half_way_men[self_rating_half_way_men['gender'] == 1]\n",
    "self_rating_half_way_men.drop(['iid', 'wave', 'gender'], axis = 1, inplace = True)\n",
    "#self_rating_half_way_men.describe()"
   ]
  },
  {
   "cell_type": "markdown",
   "metadata": {},
   "source": [
    "<h6>This block looks at how both how Women and Men rate themselves a day after the Speed Dating event.</h6>"
   ]
  },
  {
   "cell_type": "code",
   "execution_count": null,
   "metadata": {
    "collapsed": false
   },
   "outputs": [],
   "source": [
    "self_rating_day_after = self_rating.copy()\n",
    "self_rating_day_after.drop(self_rating_day_after.columns[3:13], axis = 1, inplace = True)\n",
    "self_rating_day_after.drop(self_rating_day_after.columns[8:], axis = 1, inplace = True)\n",
    "self_rating_day_after.dropna(inplace = True)"
   ]
  },
  {
   "cell_type": "code",
   "execution_count": null,
   "metadata": {
    "collapsed": false
   },
   "outputs": [],
   "source": [
    "self_rating_day_after_both = self_rating_day_after.copy()\n",
    "self_rating_day_after_both.drop(['iid', 'wave', 'gender'], axis = 1, inplace = True)\n",
    "#self_rating_day_after_both.describe()"
   ]
  },
  {
   "cell_type": "markdown",
   "metadata": {},
   "source": [
    "<h6>This block looks at how Women rate themselves a day after the Speed Dating event.</h6>"
   ]
  },
  {
   "cell_type": "code",
   "execution_count": null,
   "metadata": {
    "collapsed": false
   },
   "outputs": [],
   "source": [
    "self_rating_day_after_women = self_rating_day_after.copy()\n",
    "self_rating_day_after_women = self_rating_day_after_women[self_rating_day_after_women['gender'] == 0]\n",
    "self_rating_day_after_women.drop(['iid', 'wave', 'gender'], axis = 1, inplace = True)\n",
    "#self_rating_day_after_women.describe()"
   ]
  },
  {
   "cell_type": "markdown",
   "metadata": {},
   "source": [
    "<h6>This block looks at how Men rate themselves a day after the Speed Dating event.</h6>"
   ]
  },
  {
   "cell_type": "code",
   "execution_count": null,
   "metadata": {
    "collapsed": false
   },
   "outputs": [],
   "source": [
    "self_rating_day_after_men = self_rating_day_after.copy()\n",
    "self_rating_day_after_men = self_rating_day_after_men[self_rating_day_after_men['gender'] == 1]\n",
    "self_rating_day_after_men.drop(['iid', 'wave', 'gender'], axis = 1, inplace = True)\n",
    "#self_rating_day_after_men.describe()"
   ]
  },
  {
   "cell_type": "markdown",
   "metadata": {},
   "source": [
    "<h6>This block looks at how Women and Men rate themselves 3 - 4 weeks after the Speed Dating event.</h6>"
   ]
  },
  {
   "cell_type": "code",
   "execution_count": null,
   "metadata": {
    "collapsed": false
   },
   "outputs": [],
   "source": [
    "self_rating_weeks_after = self_rating.copy()\n",
    "self_rating_weeks_after.drop(self_rating_weeks_after.columns[3:18], axis = 1, inplace = True)\n",
    "self_rating_weeks_after.dropna(inplace = True)"
   ]
  },
  {
   "cell_type": "code",
   "execution_count": null,
   "metadata": {
    "collapsed": false
   },
   "outputs": [],
   "source": [
    "self_rating_weeks_after_both = self_rating_weeks_after.copy()\n",
    "self_rating_weeks_after_both.drop(['iid', 'wave', 'gender'], axis = 1, inplace = True)\n",
    "self_rating_weeks_after_both.replace(to_replace = 12, value = 10, inplace = True, axis = 1)\n",
    "#self_rating_weeks_after_both.describe()"
   ]
  },
  {
   "cell_type": "markdown",
   "metadata": {},
   "source": [
    "<h6>This block looks at how Women rate themselves 3 - 4 weeks after the Speed Dating event.</h6>"
   ]
  },
  {
   "cell_type": "code",
   "execution_count": null,
   "metadata": {
    "collapsed": false
   },
   "outputs": [],
   "source": [
    "self_rating_weeks_after_women = self_rating_weeks_after.copy()\n",
    "self_rating_weeks_after_women = self_rating_weeks_after_women[self_rating_weeks_after_women['gender'] == 0]\n",
    "self_rating_weeks_after_women.drop(['iid', 'wave', 'gender'], axis = 1, inplace = True)\n",
    "self_rating_weeks_after_women.replace(to_replace = 12, value = 10, inplace = True, axis = 1)\n",
    "#self_rating_weeks_after_women.describe()"
   ]
  },
  {
   "cell_type": "markdown",
   "metadata": {},
   "source": [
    "<h6>This block looks at how Men rate themselves 3 - 4 weeks after the Speed Dating event.</h6>"
   ]
  },
  {
   "cell_type": "code",
   "execution_count": null,
   "metadata": {
    "collapsed": false
   },
   "outputs": [],
   "source": [
    "self_rating_weeks_after_men = self_rating_weeks_after.copy()\n",
    "self_rating_weeks_after_men = self_rating_weeks_after_men[self_rating_weeks_after_men['gender'] == 1]\n",
    "self_rating_weeks_after_men.drop(['iid', 'wave', 'gender'], axis = 1, inplace = True)\n",
    "self_rating_weeks_after_men.replace(to_replace = 12, value = 10, inplace = True, axis = 1)\n",
    "#self_rating_weeks_after_men.describe()"
   ]
  },
  {
   "cell_type": "markdown",
   "metadata": {},
   "source": [
    "<h1>Data Exploration</h1>"
   ]
  },
  {
   "cell_type": "code",
   "execution_count": null,
   "metadata": {
    "collapsed": false
   },
   "outputs": [],
   "source": [
    "attr_for_hist = ['attr3_1', 'attr3_s', 'attr3_2', 'attr3_3']\n",
    "stuff_for_attr_hist = pd.DataFrame(data = {'attr3_1': self_rating_on_the_day_women['attr3_1'], 'attr3_s' : self_rating_half_way_women['attr3_s'], \n",
    "                                           'attr3_2': self_rating_day_after_women['attr3_2'],\n",
    "                                          'attr3_3': self_rating_weeks_after_women['attr3_3']}, columns = attr_for_hist)\n",
    "#stuff_for_attr_hist.plot.hist(stacked = False, bins = 10, figsize = (15, 5), alpha = .25)\n",
    "#stuff_for_attr_hist.hist(stacked = True, bins = 10, figsize = (15, 5))\n",
    "#stuff_for_attr_hist.describe()"
   ]
  },
  {
   "cell_type": "code",
   "execution_count": null,
   "metadata": {
    "collapsed": false
   },
   "outputs": [],
   "source": [
    "sinc_for_hist = ['sinc3_1', 'sinc3_s', 'sinc3_2', 'sinc3_3']\n",
    "stuff_for_sinc_hist = pd.DataFrame(data = {'sinc3_1': self_rating_on_the_day_women['sinc3_1'], 'sinc3_s' : self_rating_half_way_women['sinc3_s'], \n",
    "                                           'sinc3_2': self_rating_day_after_women['sinc3_2'],\n",
    "                                          'sinc3_3': self_rating_weeks_after_women['sinc3_3']}, columns = sinc_for_hist)\n",
    "#stuff_for_sinc_hist.plot.hist(stacked = True, bins = 10, figsize = (15, 5))\n",
    "#stuff_for_sinc_hist.hist(stacked = True, bins = 10, figsize = (15, 5))\n",
    "#stuff_for_sinc_hist.describe()"
   ]
  },
  {
   "cell_type": "code",
   "execution_count": null,
   "metadata": {
    "collapsed": false
   },
   "outputs": [],
   "source": [
    "intel_for_hist = ['intel3_1', 'intel3_s', 'intel3_2', 'intel3_3']\n",
    "stuff_for_intel_hist = pd.DataFrame(data = {'intel3_1': self_rating_on_the_day_women['intel3_1'], 'intel3_s' : self_rating_half_way_women['intel3_s'], \n",
    "                                           'intel3_2': self_rating_day_after_women['intel3_2'],\n",
    "                                          'intel3_3': self_rating_weeks_after_women['intel3_3']}, columns = intel_for_hist)\n",
    "#stuff_for_intel_hist.plot.hist(stacked = False, bins = 10, figsize = (15, 5), alpha =.25)\n",
    "#stuff_for_intel_hist.hist(stacked = True, bins = 10, figsize = (15, 5))\n",
    "#stuff_for_intel_hist.describe()"
   ]
  },
  {
   "cell_type": "code",
   "execution_count": null,
   "metadata": {
    "collapsed": false
   },
   "outputs": [],
   "source": [
    "fun_for_hist = ['fun1_1', 'fun1_s', 'fun1_2', 'fun1_3']\n",
    "stuff_for_fun_hist = pd.DataFrame(data = {'fun1_1': women_at_start['fun1_1'], 'fun1_s' : waves_6_9_women['fun1_s'], 'fun1_2': women_day_after['fun1_2'],\n",
    "                                          'fun1_3': women_weeks_after['fun1_3']}, columns = fun_for_hist)\n",
    "#stuff_for_fun_hist.plot.hist(stacked = False, bins = 10, figsize = (15, 5), alpha = .25)\n",
    "#stuff_for_fun_hist.hist(stacked = True, bins = 10, figsize = (15, 5))\n",
    "#stuff_for_fun_hist.describe()"
   ]
  },
  {
   "cell_type": "code",
   "execution_count": null,
   "metadata": {
    "collapsed": false
   },
   "outputs": [],
   "source": [
    "amb_for_hist = ['amb1_1', 'amb1_s', 'amb1_2', 'amb1_3']\n",
    "stuff_for_amb_hist = pd.DataFrame(data = {'amb1_1': women_at_start['amb1_1'], 'amb1_s' : waves_6_9_women['amb1_s'], 'amb1_2': women_day_after['amb1_2'],\n",
    "                                          'amb1_3': women_weeks_after['amb1_3']}, columns = amb_for_hist)\n",
    "#stuff_for_amb_hist.plot.hist(stacked = True, bins = 10, figsize = (15, 5))\n",
    "#stuff_for_amb_hist.hist(stacked = True, bins = 10, figsize = (15, 5))\n",
    "#stuff_for_amb_hist.describe()"
   ]
  },
  {
   "cell_type": "code",
   "execution_count": null,
   "metadata": {
    "collapsed": false
   },
   "outputs": [],
   "source": [
    "shar_for_hist = ['shar1_1', 'shar1_s', 'shar1_2', 'shar1_3']\n",
    "stuff_for_shar_hist = pd.DataFrame(data = {'shar1_1': women_at_start['shar1_1'], 'shar1_s' : waves_6_9_women['shar1_s'], 'shar1_2': women_day_after['shar1_2'],\n",
    "                                          'shar1_3': women_weeks_after['shar1_3']}, columns = shar_for_hist)\n",
    "#stuff_for_shar_hist.plot.hist(stacked = True, bins = 10, figsize = (15, 5))\n",
    "#stuff_for_shar_hist.hist(stacked = True, bins = 10, figsize = (15, 5))\n",
    "#stuff_for_shar_hist.describe()"
   ]
  },
  {
   "cell_type": "code",
   "execution_count": null,
   "metadata": {
    "collapsed": false
   },
   "outputs": [],
   "source": [
    "import features_creator as fc\n",
    "for i, j in fc.data_cleaner.iteritems():\n",
    "    print i, j\n",
    "for i, j in fc.master_list.iteritems():\n",
    "    print i, j"
   ]
  },
  {
   "cell_type": "code",
   "execution_count": 1,
   "metadata": {
    "collapsed": false
   },
   "outputs": [
    {
     "name": "stdout",
     "output_type": "stream",
     "text": [
      "pandas version is 0.18.0.\n",
      "numpy version is 1.10.4.\n",
      "scikit-learn version is 0.17.1.\n",
      "This set has 8378 data points and 195 features.\n"
     ]
    }
   ],
   "source": [
    "import pandas as pd\n",
    "import numpy as np\n",
    "import sklearn\n",
    "from IPython.display import display\n",
    "%matplotlib inline\n",
    "\n",
    "import features_creator as fc #myfile, I imported this for the columns\n",
    "\n",
    "print('pandas version is {}.'.format(pd.__version__))\n",
    "print('numpy version is {}.'.format(np.__version__))\n",
    "print('scikit-learn version is {}.'.format(sklearn.__version__))\n",
    "\n",
    "data = pd.read_csv(\"Speed Dating Data.csv\")\n",
    "print \"This set has {} data points and {} features.\".format(*data.shape)\n",
    "\n",
    "for i, j in fc.master_list.iteritems():\n",
    "    stuff = pd.DataFrame(data = data, columns = ['iid', 'wave', 'gender'] + j)\n",
    "    stuff.drop_duplicates(subset = 'iid', keep = 'first', inplace = True)\n",
    "    new_frame = stuff[stuff['gender'] == 0].copy()\n",
    "    new_frame.drop(labels = ['iid', 'gender', 'wave'], axis = 1, inplace = True)\n",
    "    for i in new_frame.columns:\n",
    "        new_frame[i] = (new_frame[i] - new_frame[i].min()) / (new_frame[i].max() - new_frame[i].min())\n",
    "    #display(new_frame.describe())\n",
    "    #new_frame.hist(bins = 10, figsize = (15, 5))"
   ]
  },
  {
   "cell_type": "code",
   "execution_count": 22,
   "metadata": {
    "collapsed": false
   },
   "outputs": [
    {
     "data": {
      "text/html": [
       "<div>\n",
       "<table border=\"1\" class=\"dataframe\">\n",
       "  <thead>\n",
       "    <tr style=\"text-align: right;\">\n",
       "      <th></th>\n",
       "      <th>iid</th>\n",
       "      <th>wave</th>\n",
       "      <th>gender</th>\n",
       "      <th>attr1_1</th>\n",
       "      <th>sinc1_1</th>\n",
       "      <th>intel1_1</th>\n",
       "      <th>fun1_1</th>\n",
       "      <th>amb1_1</th>\n",
       "      <th>shar1_1</th>\n",
       "    </tr>\n",
       "  </thead>\n",
       "  <tbody>\n",
       "    <tr>\n",
       "      <th>70</th>\n",
       "      <td>8</td>\n",
       "      <td>1</td>\n",
       "      <td>0</td>\n",
       "      <td>9.09</td>\n",
       "      <td>18.18</td>\n",
       "      <td>27.27</td>\n",
       "      <td>18.18</td>\n",
       "      <td>18.18</td>\n",
       "      <td>9.09</td>\n",
       "    </tr>\n",
       "    <tr>\n",
       "      <th>170</th>\n",
       "      <td>18</td>\n",
       "      <td>1</td>\n",
       "      <td>1</td>\n",
       "      <td>33.33</td>\n",
       "      <td>11.11</td>\n",
       "      <td>11.11</td>\n",
       "      <td>11.11</td>\n",
       "      <td>11.11</td>\n",
       "      <td>22.22</td>\n",
       "    </tr>\n",
       "    <tr>\n",
       "      <th>580</th>\n",
       "      <td>44</td>\n",
       "      <td>2</td>\n",
       "      <td>1</td>\n",
       "      <td>25.00</td>\n",
       "      <td>15.00</td>\n",
       "      <td>25.00</td>\n",
       "      <td>25.00</td>\n",
       "      <td>15.00</td>\n",
       "      <td>15.00</td>\n",
       "    </tr>\n",
       "    <tr>\n",
       "      <th>908</th>\n",
       "      <td>66</td>\n",
       "      <td>3</td>\n",
       "      <td>1</td>\n",
       "      <td>20.00</td>\n",
       "      <td>25.00</td>\n",
       "      <td>15.00</td>\n",
       "      <td>15.00</td>\n",
       "      <td>53.00</td>\n",
       "      <td>20.00</td>\n",
       "    </tr>\n",
       "    <tr>\n",
       "      <th>918</th>\n",
       "      <td>67</td>\n",
       "      <td>3</td>\n",
       "      <td>1</td>\n",
       "      <td>20.00</td>\n",
       "      <td>15.00</td>\n",
       "      <td>20.00</td>\n",
       "      <td>20.00</td>\n",
       "      <td>5.00</td>\n",
       "      <td>10.00</td>\n",
       "    </tr>\n",
       "    <tr>\n",
       "      <th>928</th>\n",
       "      <td>68</td>\n",
       "      <td>3</td>\n",
       "      <td>1</td>\n",
       "      <td>21.00</td>\n",
       "      <td>17.00</td>\n",
       "      <td>22.00</td>\n",
       "      <td>20.00</td>\n",
       "      <td>8.00</td>\n",
       "      <td>13.00</td>\n",
       "    </tr>\n",
       "    <tr>\n",
       "      <th>1530</th>\n",
       "      <td>105</td>\n",
       "      <td>4</td>\n",
       "      <td>1</td>\n",
       "      <td>30.00</td>\n",
       "      <td>15.00</td>\n",
       "      <td>20.00</td>\n",
       "      <td>20.00</td>\n",
       "      <td>0.00</td>\n",
       "      <td>5.00</td>\n",
       "    </tr>\n",
       "    <tr>\n",
       "      <th>1846</th>\n",
       "      <td>132</td>\n",
       "      <td>6</td>\n",
       "      <td>0</td>\n",
       "      <td>16.67</td>\n",
       "      <td>16.67</td>\n",
       "      <td>16.67</td>\n",
       "      <td>16.67</td>\n",
       "      <td>16.67</td>\n",
       "      <td>16.67</td>\n",
       "    </tr>\n",
       "    <tr>\n",
       "      <th>1856</th>\n",
       "      <td>134</td>\n",
       "      <td>6</td>\n",
       "      <td>0</td>\n",
       "      <td>6.67</td>\n",
       "      <td>20.00</td>\n",
       "      <td>20.00</td>\n",
       "      <td>17.78</td>\n",
       "      <td>20.00</td>\n",
       "      <td>15.56</td>\n",
       "    </tr>\n",
       "    <tr>\n",
       "      <th>1861</th>\n",
       "      <td>135</td>\n",
       "      <td>6</td>\n",
       "      <td>0</td>\n",
       "      <td>18.18</td>\n",
       "      <td>22.73</td>\n",
       "      <td>18.18</td>\n",
       "      <td>13.64</td>\n",
       "      <td>13.64</td>\n",
       "      <td>13.64</td>\n",
       "    </tr>\n",
       "    <tr>\n",
       "      <th>1886</th>\n",
       "      <td>140</td>\n",
       "      <td>6</td>\n",
       "      <td>1</td>\n",
       "      <td>18.60</td>\n",
       "      <td>16.28</td>\n",
       "      <td>18.60</td>\n",
       "      <td>18.60</td>\n",
       "      <td>11.63</td>\n",
       "      <td>16.28</td>\n",
       "    </tr>\n",
       "    <tr>\n",
       "      <th>1896</th>\n",
       "      <td>142</td>\n",
       "      <td>7</td>\n",
       "      <td>0</td>\n",
       "      <td>14.29</td>\n",
       "      <td>14.29</td>\n",
       "      <td>21.43</td>\n",
       "      <td>21.43</td>\n",
       "      <td>19.05</td>\n",
       "      <td>9.52</td>\n",
       "    </tr>\n",
       "    <tr>\n",
       "      <th>1912</th>\n",
       "      <td>143</td>\n",
       "      <td>7</td>\n",
       "      <td>0</td>\n",
       "      <td>8.33</td>\n",
       "      <td>20.83</td>\n",
       "      <td>20.83</td>\n",
       "      <td>14.58</td>\n",
       "      <td>16.67</td>\n",
       "      <td>18.75</td>\n",
       "    </tr>\n",
       "    <tr>\n",
       "      <th>1944</th>\n",
       "      <td>145</td>\n",
       "      <td>7</td>\n",
       "      <td>0</td>\n",
       "      <td>11.36</td>\n",
       "      <td>18.18</td>\n",
       "      <td>22.73</td>\n",
       "      <td>18.18</td>\n",
       "      <td>11.36</td>\n",
       "      <td>18.18</td>\n",
       "    </tr>\n",
       "    <tr>\n",
       "      <th>2008</th>\n",
       "      <td>149</td>\n",
       "      <td>7</td>\n",
       "      <td>0</td>\n",
       "      <td>8.51</td>\n",
       "      <td>19.15</td>\n",
       "      <td>19.15</td>\n",
       "      <td>19.15</td>\n",
       "      <td>19.15</td>\n",
       "      <td>14.89</td>\n",
       "    </tr>\n",
       "    <tr>\n",
       "      <th>2040</th>\n",
       "      <td>151</td>\n",
       "      <td>7</td>\n",
       "      <td>0</td>\n",
       "      <td>14.55</td>\n",
       "      <td>16.36</td>\n",
       "      <td>18.18</td>\n",
       "      <td>18.18</td>\n",
       "      <td>16.36</td>\n",
       "      <td>16.36</td>\n",
       "    </tr>\n",
       "    <tr>\n",
       "      <th>2072</th>\n",
       "      <td>153</td>\n",
       "      <td>7</td>\n",
       "      <td>0</td>\n",
       "      <td>9.76</td>\n",
       "      <td>19.51</td>\n",
       "      <td>19.51</td>\n",
       "      <td>14.63</td>\n",
       "      <td>19.51</td>\n",
       "      <td>17.07</td>\n",
       "    </tr>\n",
       "    <tr>\n",
       "      <th>2136</th>\n",
       "      <td>157</td>\n",
       "      <td>7</td>\n",
       "      <td>0</td>\n",
       "      <td>14.29</td>\n",
       "      <td>16.33</td>\n",
       "      <td>16.33</td>\n",
       "      <td>18.37</td>\n",
       "      <td>18.37</td>\n",
       "      <td>16.33</td>\n",
       "    </tr>\n",
       "    <tr>\n",
       "      <th>2152</th>\n",
       "      <td>158</td>\n",
       "      <td>7</td>\n",
       "      <td>1</td>\n",
       "      <td>19.05</td>\n",
       "      <td>19.05</td>\n",
       "      <td>19.05</td>\n",
       "      <td>19.05</td>\n",
       "      <td>9.52</td>\n",
       "      <td>14.29</td>\n",
       "    </tr>\n",
       "    <tr>\n",
       "      <th>2168</th>\n",
       "      <td>159</td>\n",
       "      <td>7</td>\n",
       "      <td>1</td>\n",
       "      <td>15.91</td>\n",
       "      <td>20.45</td>\n",
       "      <td>20.45</td>\n",
       "      <td>20.45</td>\n",
       "      <td>11.36</td>\n",
       "      <td>11.36</td>\n",
       "    </tr>\n",
       "    <tr>\n",
       "      <th>2216</th>\n",
       "      <td>162</td>\n",
       "      <td>7</td>\n",
       "      <td>1</td>\n",
       "      <td>15.22</td>\n",
       "      <td>15.22</td>\n",
       "      <td>19.57</td>\n",
       "      <td>17.39</td>\n",
       "      <td>13.04</td>\n",
       "      <td>19.57</td>\n",
       "    </tr>\n",
       "    <tr>\n",
       "      <th>2248</th>\n",
       "      <td>164</td>\n",
       "      <td>7</td>\n",
       "      <td>1</td>\n",
       "      <td>20.51</td>\n",
       "      <td>23.08</td>\n",
       "      <td>20.51</td>\n",
       "      <td>17.95</td>\n",
       "      <td>2.56</td>\n",
       "      <td>15.38</td>\n",
       "    </tr>\n",
       "    <tr>\n",
       "      <th>2296</th>\n",
       "      <td>167</td>\n",
       "      <td>7</td>\n",
       "      <td>1</td>\n",
       "      <td>18.60</td>\n",
       "      <td>13.95</td>\n",
       "      <td>18.60</td>\n",
       "      <td>16.28</td>\n",
       "      <td>16.28</td>\n",
       "      <td>16.28</td>\n",
       "    </tr>\n",
       "    <tr>\n",
       "      <th>2312</th>\n",
       "      <td>168</td>\n",
       "      <td>7</td>\n",
       "      <td>1</td>\n",
       "      <td>11.11</td>\n",
       "      <td>17.78</td>\n",
       "      <td>17.78</td>\n",
       "      <td>17.78</td>\n",
       "      <td>17.78</td>\n",
       "      <td>17.78</td>\n",
       "    </tr>\n",
       "    <tr>\n",
       "      <th>2328</th>\n",
       "      <td>169</td>\n",
       "      <td>7</td>\n",
       "      <td>1</td>\n",
       "      <td>17.78</td>\n",
       "      <td>20.00</td>\n",
       "      <td>17.78</td>\n",
       "      <td>15.56</td>\n",
       "      <td>15.56</td>\n",
       "      <td>13.33</td>\n",
       "    </tr>\n",
       "    <tr>\n",
       "      <th>2344</th>\n",
       "      <td>170</td>\n",
       "      <td>7</td>\n",
       "      <td>1</td>\n",
       "      <td>16.28</td>\n",
       "      <td>20.93</td>\n",
       "      <td>18.60</td>\n",
       "      <td>18.60</td>\n",
       "      <td>13.95</td>\n",
       "      <td>11.63</td>\n",
       "    </tr>\n",
       "    <tr>\n",
       "      <th>2360</th>\n",
       "      <td>171</td>\n",
       "      <td>7</td>\n",
       "      <td>1</td>\n",
       "      <td>19.57</td>\n",
       "      <td>10.87</td>\n",
       "      <td>19.57</td>\n",
       "      <td>19.57</td>\n",
       "      <td>19.57</td>\n",
       "      <td>10.87</td>\n",
       "    </tr>\n",
       "    <tr>\n",
       "      <th>2376</th>\n",
       "      <td>172</td>\n",
       "      <td>7</td>\n",
       "      <td>1</td>\n",
       "      <td>17.78</td>\n",
       "      <td>17.78</td>\n",
       "      <td>22.22</td>\n",
       "      <td>20.00</td>\n",
       "      <td>15.56</td>\n",
       "      <td>6.67</td>\n",
       "    </tr>\n",
       "    <tr>\n",
       "      <th>2392</th>\n",
       "      <td>173</td>\n",
       "      <td>7</td>\n",
       "      <td>1</td>\n",
       "      <td>18.37</td>\n",
       "      <td>18.37</td>\n",
       "      <td>20.41</td>\n",
       "      <td>20.41</td>\n",
       "      <td>16.33</td>\n",
       "      <td>6.12</td>\n",
       "    </tr>\n",
       "    <tr>\n",
       "      <th>2408</th>\n",
       "      <td>174</td>\n",
       "      <td>8</td>\n",
       "      <td>0</td>\n",
       "      <td>9.52</td>\n",
       "      <td>23.81</td>\n",
       "      <td>16.67</td>\n",
       "      <td>16.67</td>\n",
       "      <td>16.67</td>\n",
       "      <td>16.67</td>\n",
       "    </tr>\n",
       "    <tr>\n",
       "      <th>...</th>\n",
       "      <td>...</td>\n",
       "      <td>...</td>\n",
       "      <td>...</td>\n",
       "      <td>...</td>\n",
       "      <td>...</td>\n",
       "      <td>...</td>\n",
       "      <td>...</td>\n",
       "      <td>...</td>\n",
       "      <td>...</td>\n",
       "    </tr>\n",
       "    <tr>\n",
       "      <th>2688</th>\n",
       "      <td>198</td>\n",
       "      <td>9</td>\n",
       "      <td>0</td>\n",
       "      <td>15.38</td>\n",
       "      <td>19.23</td>\n",
       "      <td>17.31</td>\n",
       "      <td>19.23</td>\n",
       "      <td>9.62</td>\n",
       "      <td>19.23</td>\n",
       "    </tr>\n",
       "    <tr>\n",
       "      <th>2728</th>\n",
       "      <td>200</td>\n",
       "      <td>9</td>\n",
       "      <td>0</td>\n",
       "      <td>13.21</td>\n",
       "      <td>18.87</td>\n",
       "      <td>18.87</td>\n",
       "      <td>16.98</td>\n",
       "      <td>16.98</td>\n",
       "      <td>15.09</td>\n",
       "    </tr>\n",
       "    <tr>\n",
       "      <th>2768</th>\n",
       "      <td>202</td>\n",
       "      <td>9</td>\n",
       "      <td>0</td>\n",
       "      <td>15.38</td>\n",
       "      <td>19.23</td>\n",
       "      <td>19.23</td>\n",
       "      <td>19.23</td>\n",
       "      <td>15.38</td>\n",
       "      <td>11.54</td>\n",
       "    </tr>\n",
       "    <tr>\n",
       "      <th>2808</th>\n",
       "      <td>204</td>\n",
       "      <td>9</td>\n",
       "      <td>0</td>\n",
       "      <td>19.61</td>\n",
       "      <td>15.69</td>\n",
       "      <td>17.65</td>\n",
       "      <td>15.69</td>\n",
       "      <td>17.65</td>\n",
       "      <td>13.73</td>\n",
       "    </tr>\n",
       "    <tr>\n",
       "      <th>2888</th>\n",
       "      <td>208</td>\n",
       "      <td>9</td>\n",
       "      <td>0</td>\n",
       "      <td>11.54</td>\n",
       "      <td>13.46</td>\n",
       "      <td>19.23</td>\n",
       "      <td>19.23</td>\n",
       "      <td>19.23</td>\n",
       "      <td>17.31</td>\n",
       "    </tr>\n",
       "    <tr>\n",
       "      <th>2928</th>\n",
       "      <td>210</td>\n",
       "      <td>9</td>\n",
       "      <td>0</td>\n",
       "      <td>20.00</td>\n",
       "      <td>15.56</td>\n",
       "      <td>20.00</td>\n",
       "      <td>15.56</td>\n",
       "      <td>11.11</td>\n",
       "      <td>17.78</td>\n",
       "    </tr>\n",
       "    <tr>\n",
       "      <th>2948</th>\n",
       "      <td>211</td>\n",
       "      <td>9</td>\n",
       "      <td>0</td>\n",
       "      <td>16.36</td>\n",
       "      <td>16.36</td>\n",
       "      <td>18.18</td>\n",
       "      <td>18.18</td>\n",
       "      <td>16.36</td>\n",
       "      <td>14.55</td>\n",
       "    </tr>\n",
       "    <tr>\n",
       "      <th>2968</th>\n",
       "      <td>212</td>\n",
       "      <td>9</td>\n",
       "      <td>0</td>\n",
       "      <td>14.29</td>\n",
       "      <td>18.37</td>\n",
       "      <td>18.37</td>\n",
       "      <td>16.33</td>\n",
       "      <td>18.37</td>\n",
       "      <td>14.29</td>\n",
       "    </tr>\n",
       "    <tr>\n",
       "      <th>2988</th>\n",
       "      <td>213</td>\n",
       "      <td>9</td>\n",
       "      <td>0</td>\n",
       "      <td>15.52</td>\n",
       "      <td>17.24</td>\n",
       "      <td>17.24</td>\n",
       "      <td>17.24</td>\n",
       "      <td>17.24</td>\n",
       "      <td>15.52</td>\n",
       "    </tr>\n",
       "    <tr>\n",
       "      <th>3068</th>\n",
       "      <td>217</td>\n",
       "      <td>9</td>\n",
       "      <td>1</td>\n",
       "      <td>21.28</td>\n",
       "      <td>17.02</td>\n",
       "      <td>21.28</td>\n",
       "      <td>12.77</td>\n",
       "      <td>6.38</td>\n",
       "      <td>21.28</td>\n",
       "    </tr>\n",
       "    <tr>\n",
       "      <th>3128</th>\n",
       "      <td>220</td>\n",
       "      <td>9</td>\n",
       "      <td>1</td>\n",
       "      <td>16.67</td>\n",
       "      <td>16.67</td>\n",
       "      <td>16.67</td>\n",
       "      <td>16.67</td>\n",
       "      <td>14.81</td>\n",
       "      <td>18.52</td>\n",
       "    </tr>\n",
       "    <tr>\n",
       "      <th>3148</th>\n",
       "      <td>221</td>\n",
       "      <td>9</td>\n",
       "      <td>1</td>\n",
       "      <td>15.56</td>\n",
       "      <td>17.78</td>\n",
       "      <td>17.78</td>\n",
       "      <td>17.78</td>\n",
       "      <td>17.78</td>\n",
       "      <td>13.33</td>\n",
       "    </tr>\n",
       "    <tr>\n",
       "      <th>3188</th>\n",
       "      <td>223</td>\n",
       "      <td>9</td>\n",
       "      <td>1</td>\n",
       "      <td>17.39</td>\n",
       "      <td>17.39</td>\n",
       "      <td>19.57</td>\n",
       "      <td>19.57</td>\n",
       "      <td>10.87</td>\n",
       "      <td>15.22</td>\n",
       "    </tr>\n",
       "    <tr>\n",
       "      <th>3208</th>\n",
       "      <td>224</td>\n",
       "      <td>9</td>\n",
       "      <td>1</td>\n",
       "      <td>17.24</td>\n",
       "      <td>17.24</td>\n",
       "      <td>17.24</td>\n",
       "      <td>17.24</td>\n",
       "      <td>13.79</td>\n",
       "      <td>17.24</td>\n",
       "    </tr>\n",
       "    <tr>\n",
       "      <th>3228</th>\n",
       "      <td>225</td>\n",
       "      <td>9</td>\n",
       "      <td>1</td>\n",
       "      <td>14.71</td>\n",
       "      <td>14.71</td>\n",
       "      <td>14.71</td>\n",
       "      <td>14.71</td>\n",
       "      <td>20.59</td>\n",
       "      <td>20.59</td>\n",
       "    </tr>\n",
       "    <tr>\n",
       "      <th>3248</th>\n",
       "      <td>226</td>\n",
       "      <td>9</td>\n",
       "      <td>1</td>\n",
       "      <td>25.64</td>\n",
       "      <td>17.95</td>\n",
       "      <td>15.38</td>\n",
       "      <td>20.51</td>\n",
       "      <td>10.26</td>\n",
       "      <td>10.26</td>\n",
       "    </tr>\n",
       "    <tr>\n",
       "      <th>3288</th>\n",
       "      <td>228</td>\n",
       "      <td>9</td>\n",
       "      <td>1</td>\n",
       "      <td>13.51</td>\n",
       "      <td>18.92</td>\n",
       "      <td>21.62</td>\n",
       "      <td>13.51</td>\n",
       "      <td>13.51</td>\n",
       "      <td>18.92</td>\n",
       "    </tr>\n",
       "    <tr>\n",
       "      <th>3308</th>\n",
       "      <td>229</td>\n",
       "      <td>9</td>\n",
       "      <td>1</td>\n",
       "      <td>21.43</td>\n",
       "      <td>16.67</td>\n",
       "      <td>21.43</td>\n",
       "      <td>16.67</td>\n",
       "      <td>11.90</td>\n",
       "      <td>11.90</td>\n",
       "    </tr>\n",
       "    <tr>\n",
       "      <th>3328</th>\n",
       "      <td>230</td>\n",
       "      <td>9</td>\n",
       "      <td>1</td>\n",
       "      <td>23.81</td>\n",
       "      <td>23.81</td>\n",
       "      <td>23.81</td>\n",
       "      <td>23.81</td>\n",
       "      <td>2.38</td>\n",
       "      <td>2.38</td>\n",
       "    </tr>\n",
       "    <tr>\n",
       "      <th>3348</th>\n",
       "      <td>231</td>\n",
       "      <td>9</td>\n",
       "      <td>1</td>\n",
       "      <td>18.60</td>\n",
       "      <td>20.93</td>\n",
       "      <td>23.26</td>\n",
       "      <td>23.26</td>\n",
       "      <td>2.33</td>\n",
       "      <td>11.63</td>\n",
       "    </tr>\n",
       "    <tr>\n",
       "      <th>3368</th>\n",
       "      <td>232</td>\n",
       "      <td>9</td>\n",
       "      <td>1</td>\n",
       "      <td>17.78</td>\n",
       "      <td>17.78</td>\n",
       "      <td>17.78</td>\n",
       "      <td>17.78</td>\n",
       "      <td>13.33</td>\n",
       "      <td>15.56</td>\n",
       "    </tr>\n",
       "    <tr>\n",
       "      <th>3633</th>\n",
       "      <td>255</td>\n",
       "      <td>11</td>\n",
       "      <td>0</td>\n",
       "      <td>16.67</td>\n",
       "      <td>16.67</td>\n",
       "      <td>16.67</td>\n",
       "      <td>16.67</td>\n",
       "      <td>16.67</td>\n",
       "      <td>16.67</td>\n",
       "    </tr>\n",
       "    <tr>\n",
       "      <th>4746</th>\n",
       "      <td>315</td>\n",
       "      <td>12</td>\n",
       "      <td>1</td>\n",
       "      <td>6.67</td>\n",
       "      <td>19.05</td>\n",
       "      <td>42.86</td>\n",
       "      <td>9.52</td>\n",
       "      <td>14.29</td>\n",
       "      <td>7.62</td>\n",
       "    </tr>\n",
       "    <tr>\n",
       "      <th>5404</th>\n",
       "      <td>362</td>\n",
       "      <td>14</td>\n",
       "      <td>1</td>\n",
       "      <td>20.51</td>\n",
       "      <td>14.53</td>\n",
       "      <td>24.79</td>\n",
       "      <td>17.09</td>\n",
       "      <td>5.98</td>\n",
       "      <td>17.09</td>\n",
       "    </tr>\n",
       "    <tr>\n",
       "      <th>5464</th>\n",
       "      <td>365</td>\n",
       "      <td>14</td>\n",
       "      <td>1</td>\n",
       "      <td>31.58</td>\n",
       "      <td>10.53</td>\n",
       "      <td>15.79</td>\n",
       "      <td>21.05</td>\n",
       "      <td>10.53</td>\n",
       "      <td>10.53</td>\n",
       "    </tr>\n",
       "    <tr>\n",
       "      <th>6506</th>\n",
       "      <td>427</td>\n",
       "      <td>16</td>\n",
       "      <td>1</td>\n",
       "      <td>20.00</td>\n",
       "      <td>20.00</td>\n",
       "      <td>20.00</td>\n",
       "      <td>20.00</td>\n",
       "      <td>20.00</td>\n",
       "      <td>20.00</td>\n",
       "    </tr>\n",
       "    <tr>\n",
       "      <th>7221</th>\n",
       "      <td>489</td>\n",
       "      <td>19</td>\n",
       "      <td>1</td>\n",
       "      <td>20.00</td>\n",
       "      <td>10.00</td>\n",
       "      <td>20.00</td>\n",
       "      <td>20.00</td>\n",
       "      <td>20.00</td>\n",
       "      <td>0.00</td>\n",
       "    </tr>\n",
       "    <tr>\n",
       "      <th>7586</th>\n",
       "      <td>517</td>\n",
       "      <td>21</td>\n",
       "      <td>0</td>\n",
       "      <td>15.00</td>\n",
       "      <td>20.00</td>\n",
       "      <td>20.00</td>\n",
       "      <td>20.00</td>\n",
       "      <td>5.00</td>\n",
       "      <td>10.00</td>\n",
       "    </tr>\n",
       "    <tr>\n",
       "      <th>7608</th>\n",
       "      <td>518</td>\n",
       "      <td>21</td>\n",
       "      <td>0</td>\n",
       "      <td>20.00</td>\n",
       "      <td>25.00</td>\n",
       "      <td>25.00</td>\n",
       "      <td>30.00</td>\n",
       "      <td>5.00</td>\n",
       "      <td>5.00</td>\n",
       "    </tr>\n",
       "    <tr>\n",
       "      <th>7784</th>\n",
       "      <td>526</td>\n",
       "      <td>21</td>\n",
       "      <td>0</td>\n",
       "      <td>10.00</td>\n",
       "      <td>10.00</td>\n",
       "      <td>30.00</td>\n",
       "      <td>20.00</td>\n",
       "      <td>10.00</td>\n",
       "      <td>15.00</td>\n",
       "    </tr>\n",
       "  </tbody>\n",
       "</table>\n",
       "<p>75 rows × 9 columns</p>\n",
       "</div>"
      ],
      "text/plain": [
       "      iid  wave  gender  attr1_1  sinc1_1  intel1_1  fun1_1  amb1_1  shar1_1\n",
       "70      8     1       0     9.09    18.18     27.27   18.18   18.18     9.09\n",
       "170    18     1       1    33.33    11.11     11.11   11.11   11.11    22.22\n",
       "580    44     2       1    25.00    15.00     25.00   25.00   15.00    15.00\n",
       "908    66     3       1    20.00    25.00     15.00   15.00   53.00    20.00\n",
       "918    67     3       1    20.00    15.00     20.00   20.00    5.00    10.00\n",
       "928    68     3       1    21.00    17.00     22.00   20.00    8.00    13.00\n",
       "1530  105     4       1    30.00    15.00     20.00   20.00    0.00     5.00\n",
       "1846  132     6       0    16.67    16.67     16.67   16.67   16.67    16.67\n",
       "1856  134     6       0     6.67    20.00     20.00   17.78   20.00    15.56\n",
       "1861  135     6       0    18.18    22.73     18.18   13.64   13.64    13.64\n",
       "1886  140     6       1    18.60    16.28     18.60   18.60   11.63    16.28\n",
       "1896  142     7       0    14.29    14.29     21.43   21.43   19.05     9.52\n",
       "1912  143     7       0     8.33    20.83     20.83   14.58   16.67    18.75\n",
       "1944  145     7       0    11.36    18.18     22.73   18.18   11.36    18.18\n",
       "2008  149     7       0     8.51    19.15     19.15   19.15   19.15    14.89\n",
       "2040  151     7       0    14.55    16.36     18.18   18.18   16.36    16.36\n",
       "2072  153     7       0     9.76    19.51     19.51   14.63   19.51    17.07\n",
       "2136  157     7       0    14.29    16.33     16.33   18.37   18.37    16.33\n",
       "2152  158     7       1    19.05    19.05     19.05   19.05    9.52    14.29\n",
       "2168  159     7       1    15.91    20.45     20.45   20.45   11.36    11.36\n",
       "2216  162     7       1    15.22    15.22     19.57   17.39   13.04    19.57\n",
       "2248  164     7       1    20.51    23.08     20.51   17.95    2.56    15.38\n",
       "2296  167     7       1    18.60    13.95     18.60   16.28   16.28    16.28\n",
       "2312  168     7       1    11.11    17.78     17.78   17.78   17.78    17.78\n",
       "2328  169     7       1    17.78    20.00     17.78   15.56   15.56    13.33\n",
       "2344  170     7       1    16.28    20.93     18.60   18.60   13.95    11.63\n",
       "2360  171     7       1    19.57    10.87     19.57   19.57   19.57    10.87\n",
       "2376  172     7       1    17.78    17.78     22.22   20.00   15.56     6.67\n",
       "2392  173     7       1    18.37    18.37     20.41   20.41   16.33     6.12\n",
       "2408  174     8       0     9.52    23.81     16.67   16.67   16.67    16.67\n",
       "...   ...   ...     ...      ...      ...       ...     ...     ...      ...\n",
       "2688  198     9       0    15.38    19.23     17.31   19.23    9.62    19.23\n",
       "2728  200     9       0    13.21    18.87     18.87   16.98   16.98    15.09\n",
       "2768  202     9       0    15.38    19.23     19.23   19.23   15.38    11.54\n",
       "2808  204     9       0    19.61    15.69     17.65   15.69   17.65    13.73\n",
       "2888  208     9       0    11.54    13.46     19.23   19.23   19.23    17.31\n",
       "2928  210     9       0    20.00    15.56     20.00   15.56   11.11    17.78\n",
       "2948  211     9       0    16.36    16.36     18.18   18.18   16.36    14.55\n",
       "2968  212     9       0    14.29    18.37     18.37   16.33   18.37    14.29\n",
       "2988  213     9       0    15.52    17.24     17.24   17.24   17.24    15.52\n",
       "3068  217     9       1    21.28    17.02     21.28   12.77    6.38    21.28\n",
       "3128  220     9       1    16.67    16.67     16.67   16.67   14.81    18.52\n",
       "3148  221     9       1    15.56    17.78     17.78   17.78   17.78    13.33\n",
       "3188  223     9       1    17.39    17.39     19.57   19.57   10.87    15.22\n",
       "3208  224     9       1    17.24    17.24     17.24   17.24   13.79    17.24\n",
       "3228  225     9       1    14.71    14.71     14.71   14.71   20.59    20.59\n",
       "3248  226     9       1    25.64    17.95     15.38   20.51   10.26    10.26\n",
       "3288  228     9       1    13.51    18.92     21.62   13.51   13.51    18.92\n",
       "3308  229     9       1    21.43    16.67     21.43   16.67   11.90    11.90\n",
       "3328  230     9       1    23.81    23.81     23.81   23.81    2.38     2.38\n",
       "3348  231     9       1    18.60    20.93     23.26   23.26    2.33    11.63\n",
       "3368  232     9       1    17.78    17.78     17.78   17.78   13.33    15.56\n",
       "3633  255    11       0    16.67    16.67     16.67   16.67   16.67    16.67\n",
       "4746  315    12       1     6.67    19.05     42.86    9.52   14.29     7.62\n",
       "5404  362    14       1    20.51    14.53     24.79   17.09    5.98    17.09\n",
       "5464  365    14       1    31.58    10.53     15.79   21.05   10.53    10.53\n",
       "6506  427    16       1    20.00    20.00     20.00   20.00   20.00    20.00\n",
       "7221  489    19       1    20.00    10.00     20.00   20.00   20.00     0.00\n",
       "7586  517    21       0    15.00    20.00     20.00   20.00    5.00    10.00\n",
       "7608  518    21       0    20.00    25.00     25.00   30.00    5.00     5.00\n",
       "7784  526    21       0    10.00    10.00     30.00   20.00   10.00    15.00\n",
       "\n",
       "[75 rows x 9 columns]"
      ]
     },
     "execution_count": 22,
     "metadata": {},
     "output_type": "execute_result"
    }
   ],
   "source": [
    "unique = data.copy()\n",
    "unique.drop_duplicates(subset = 'iid', keep = 'first', inplace = True)\n",
    "unique[ ( unique ['attr1_1'] + unique['sinc1_1'] + unique['intel1_1'] + unique['fun1_1'] + unique['amb1_1'] +  unique['shar1_1'] < 100) | (unique ['attr1_1'] + unique['sinc1_1'] + unique['intel1_1'] + unique['fun1_1'] + unique['amb1_1'] +  unique['shar1_1'] > 100)][['iid', 'wave','gender','attr1_1', 'sinc1_1', 'intel1_1', 'fun1_1', 'amb1_1', 'shar1_1']]"
   ]
  }
 ],
 "metadata": {
  "kernelspec": {
   "display_name": "Python 2",
   "language": "python",
   "name": "python2"
  },
  "language_info": {
   "codemirror_mode": {
    "name": "ipython",
    "version": 2
   },
   "file_extension": ".py",
   "mimetype": "text/x-python",
   "name": "python",
   "nbconvert_exporter": "python",
   "pygments_lexer": "ipython2",
   "version": "2.7.12"
  }
 },
 "nbformat": 4,
 "nbformat_minor": 0
}
